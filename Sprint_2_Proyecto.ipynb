{
 "cells": [
  {
   "cell_type": "markdown",
   "id": "36e529cd",
   "metadata": {},
   "source": [
    "Todavía desempeñándote como miembro del equipo analítico, en el primer proyecto hemos sentado las bases para la \n",
    "segunda fase. ¡Hemos llegado! Ahora aplicarás técnicas avanzadas para extraer datos significativos, atendiendo a las \n",
    "crecientes necesidades del cliente.\n",
    "Como sabes, las empresas recopilan y almacenan datos de una forma particular. Store 1 quiere almacenar toda la \n",
    "información de sus clientes en una tabla.\n",
    "user_id\tuser_name\t    user_age\tpurchase_category\t            spending_per_category\n",
    "'32415'\t'mike', 'reed'\t32\t        'electronics', 'sport', 'books'\t    894, 213, 173\n",
    "'31980'\t'kate', 'morgan'24\t        'clothes', 'shoes'\t                439, 390\n",
    "En términos técnicos, una tabla es simplemente una lista anidada que contiene una sublista para cada usuario o \n",
    "usuaria.\n",
    "\n",
    "Store 1 ha creado una tabla de este tipo para sus usuarios. Está almacenada en la variable \"users\". Cada sublista contiene el ID del usuario, nombre y apellido, edad, categorías favoritas y el importe gastado en cada categoría.\n",
    "•\tuser_id: el identificador único para cada usuario.\n",
    "•\tuser_name: el nombre de usuario.\n",
    "•\tuser_age: la edad del usuario.\n",
    "•\tfav_categories: las categorías de artículos comprados por el usuario, como 'ELECTRONICS', 'SPORT', 'BOOKS', etc.\n",
    "•\ttotal_spendings: la lista de enteros que indican la cantidad gastada en cada una de sus categorías favoritas."
   ]
  },
  {
   "cell_type": "code",
   "execution_count": null,
   "id": "85f0253e",
   "metadata": {},
   "outputs": [],
   "source": [
    "users = [\n",
    "    ['32415', ' mike_reed ', 32.0, ['ELECTRONICS', 'SPORT', 'BOOKS'], [894, 213, 173]],\n",
    "    ['31980', 'kate morgan', 24.0, ['CLOTHES', 'BOOKS'], [439, 390]],\n",
    "    ['32156', ' john doe ', 37.0, ['ELECTRONICS', 'HOME', 'FOOD'], [459, 120, 99]],\n",
    "    ['32761', 'SAMANTHA SMITH', 29.0, ['CLOTHES', 'ELECTRONICS', 'BEAUTY'], [299, 679, 85]],\n",
    "    ['32984', 'David White', 41.0, ['BOOKS', 'HOME', 'SPORT'], [234, 329, 243]],\n",
    "    ['33001', 'emily brown', 26.0, ['BEAUTY', 'HOME', 'FOOD'], [213, 659, 79]],\n",
    "    ['33767', ' Maria Garcia', 33.0, ['CLOTHES', 'FOOD', 'BEAUTY'], [499, 189, 63]],\n",
    "    ['33912', 'JOSE MARTINEZ', 22.0, ['SPORT', 'ELECTRONICS', 'HOME'], [259, 549, 109]],\n",
    "    ['34009', 'lisa wilson ', 35.0, ['HOME', 'BOOKS', 'CLOTHES'], [329, 189, 329]],\n",
    "    ['34278', 'James Lee', 28.0, ['BEAUTY', 'CLOTHES', 'ELECTRONICS'], [189, 299, 579]],\n",
    "]"
   ]
  },
  {
   "cell_type": "markdown",
   "id": "f7151e4f",
   "metadata": {},
   "source": [
    "### Paso 1\n",
    "En la última tarea de la primera parte de este proyecto escribiste código para:\n",
    "1.\tEliminar todos los espacios iniciales y finales de los nombres, así como cualquier guion bajo.\n",
    "2.\tConvertir todas las edades en números enteros.\n",
    "3.\tSeparar todos los nombres y apellidos en una sublista.\n",
    "Hagámoslo ahora una función para que podamos usarla para fijar a cualquier cliente. Nombra a tu función clean_user. Debe recibir una lista con toda la información del cliente (user_info), así como dos enteros. Uno de ellos señala el índice del nombre del cliente y el otro es el índice de la edad del cliente en la lista. Debe devolver la lista limpia después de aplicar todos los cambios anteriores. Pruébala llamándola, pasándole la lista test_user[] y luego muéstrala en pantalla."
   ]
  },
  {
   "cell_type": "code",
   "execution_count": 1,
   "id": "c05be435",
   "metadata": {},
   "outputs": [
    {
     "name": "stdout",
     "output_type": "stream",
     "text": [
      "['32415', ['mike', 'reed'], 32, ['ELECTRONICS', 'SPORT', 'BOOKS'], [894, 213, 173]]\n"
     ]
    }
   ],
   "source": [
    "# define tu función aquí\n",
    "def clean_user(test_user, user_name_1, user_age_1):\n",
    "\n",
    "    # Paso 1: elimina del nombre espacios iniciales y finales, así como guiones\n",
    "    user_name_1 = test_user[1].strip()\n",
    "    user_name_1 = test_user[1].replace('_', ' ')\n",
    "    \n",
    "    # Paso 2: convierte la edad en entero\n",
    "    user_age_1 = int(test_user[2])\n",
    "\n",
    "    # Paso 3: separa el nombre y el apellido en una sublista\n",
    "    user_name_1 = user_name_1.split()\n",
    "\n",
    "    # Prepara la lista con la información completa del usuario\n",
    "    # Reemplaza el nombre y la edad originales con los datos limpios\n",
    "    user_info = [test_user]\n",
    "    user_info = [test_user[0], user_name_1, user_age_1, test_user[3], test_user[4]]\n",
    "    return user_info\n",
    "\n",
    "# Prueba la función\n",
    "test_user = ['32415', ' mike_reed ', 32.0, ['ELECTRONICS', 'SPORT', 'BOOKS'], [894, 213, 173]]\n",
    "name_index = 1\n",
    "age_index = 2\n",
    "\n",
    "# completa aquí el llamado de la función\n",
    "print(clean_user(test_user, test_user[1], test_user[2]))\n"
   ]
  },
  {
   "cell_type": "markdown",
   "id": "a5f7d409",
   "metadata": {},
   "source": [
    "### Paso 2\n",
    "Observa que todas las categorías favoritas están almacenadas en mayúsculas. Llena una nueva lista llamada fav_categories_low con las mismas categorías, pero en minúsculas, iterando sobre los valores en la lista fav_categories, modificándolos y luego añade los nuevos valores a la lista fav_categories_low. Como siempre, muestra el resultado final.\n"
   ]
  },
  {
   "cell_type": "code",
   "execution_count": 2,
   "id": "30aa636d",
   "metadata": {},
   "outputs": [
    {
     "name": "stdout",
     "output_type": "stream",
     "text": [
      "electronics\n",
      "sport\n",
      "books\n"
     ]
    }
   ],
   "source": [
    "fav_categories = ['ELECTRONICS', 'SPORT', 'BOOKS']\n",
    "fav_categories_low = []\n",
    "\n",
    "# escribe tu código aquí\n",
    "for category in fav_categories:\n",
    "    fav_categories_low = category.lower()\n",
    "    print(fav_categories_low)"
   ]
  },
  {
   "cell_type": "markdown",
   "id": "c22e0c71",
   "metadata": {},
   "source": [
    "### Paso 3\n",
    "Ahora hagamos lo mismo, pero para cada uno de los usuarios de la empresa. Llena una lista nueva llamada users_categories_low con los mismos usuarios, pero con sus categorías en minúsculas, iterando sobre los valores en la lista users, luego itera sobre los valores en user_categories, modificándolos, y después agrega los nuevos valores de usuarios a la lista users_categories_low. Como siempre, muestra el resultado final.\n"
   ]
  },
  {
   "cell_type": "code",
   "execution_count": null,
   "id": "f0c0a95b",
   "metadata": {},
   "outputs": [
    {
     "name": "stdout",
     "output_type": "stream",
     "text": [
      "['32415', ' mike_reed ', 32.0, ['electronics', 'sport', 'books'], [894, 213, 173]]\n",
      "['31980', 'kate morgan', 24.0, ['clothes', 'books'], [439, 390]]\n",
      "['32156', ' john doe ', 37.0, ['electronics', 'home', 'food'], [459, 120, 99]]\n",
      "['32761', 'SAMANTHA SMITH', 29.0, ['clothes', 'electronics', 'beauty'], [299, 679, 85]]\n",
      "['32984', 'David White', 41.0, ['books', 'home', 'sport'], [234, 329, 243]]\n",
      "['33001', 'emily brown', 26.0, ['beauty', 'home', 'food'], [213, 659, 79]]\n",
      "['33767', ' Maria Garcia', 33.0, ['clothes', 'food', 'beauty'], [499, 189, 63]]\n",
      "['33912', 'JOSE MARTINEZ', 22.0, ['sport', 'electronics', 'home'], [259, 549, 109]]\n",
      "['34009', 'lisa wilson ', 35.0, ['home', 'books', 'clothes'], [329, 189, 329]]\n",
      "['34278', 'James Lee', 28.0, ['beauty', 'clothes', 'electronics'], [189, 299, 579]]\n"
     ]
    }
   ],
   "source": [
    "users = [\n",
    "    ['32415', ' mike_reed ', 32.0, ['ELECTRONICS', 'SPORT', 'BOOKS'], [894, 213, 173]],\n",
    "    ['31980', 'kate morgan', 24.0, ['CLOTHES', 'BOOKS'], [439, 390]],\n",
    "    ['32156', ' john doe ', 37.0, ['ELECTRONICS', 'HOME', 'FOOD'], [459, 120, 99]],\n",
    "    ['32761', 'SAMANTHA SMITH', 29.0, ['CLOTHES', 'ELECTRONICS', 'BEAUTY'], [299, 679, 85]],\n",
    "    ['32984', 'David White', 41.0, ['BOOKS', 'HOME', 'SPORT'], [234, 329, 243]],\n",
    "    ['33001', 'emily brown', 26.0, ['BEAUTY', 'HOME', 'FOOD'], [213, 659, 79]],\n",
    "    ['33767', ' Maria Garcia', 33.0, ['CLOTHES', 'FOOD', 'BEAUTY'], [499, 189, 63]],\n",
    "    ['33912', 'JOSE MARTINEZ', 22.0, ['SPORT', 'ELECTRONICS', 'HOME'], [259, 549, 109]],\n",
    "    ['34009', 'lisa wilson ', 35.0, ['HOME', 'BOOKS', 'CLOTHES'], [329, 189, 329]],\n",
    "    ['34278', 'James Lee', 28.0, ['BEAUTY', 'CLOTHES', 'ELECTRONICS'], [189, 299, 579]],\n",
    "]\n",
    "\n",
    "users_category_low = []\n",
    "for user in users:\n",
    "    category_low = []\n",
    "    for category in user[3]:\n",
    "        category_low.append(category.lower())\n",
    "    user.pop(3)\n",
    "    user.insert(3, category_low)\n",
    "    users_category_low.append(user)\n",
    "\n",
    "for elemento in users_category_low:\n",
    "    print(elemento)\n"
   ]
  },
  {
   "cell_type": "markdown",
   "id": "18ab9c9e",
   "metadata": {},
   "source": [
    "### Paso 4\n",
    "Ahora, completemos el código de nuestra función clean_user para limpiar la categoría:\n",
    "1.\tAñade otro parámetro con el índice de categorías.\n",
    "2.\tPon todos los nombres en minúsculas antes de aplicar \"strip\" y \"replace\".\n",
    "Después, crea un bucle y aplica tu función a toda la lista de usuarios, agregando tus resultados a la lista users_clean. Después muéstralo"
   ]
  },
  {
   "cell_type": "code",
   "execution_count": null,
   "id": "51b5b3ea",
   "metadata": {},
   "outputs": [
    {
     "name": "stdout",
     "output_type": "stream",
     "text": [
      "['32415', ['mike', 'reed'], 32, ['electronics', 'sport', 'books'], [894, 213, 173]]\n",
      "['31980', ['kate', 'morgan'], 24, ['clothes', 'books'], [439, 390]]\n",
      "['32156', ['john', 'doe'], 37, ['electronics', 'home', 'food'], [459, 120, 99]]\n",
      "['32761', ['samantha', 'smith'], 29, ['clothes', 'electronics', 'beauty'], [299, 679, 85]]\n",
      "['32984', ['david', 'white'], 41, ['books', 'home', 'sport'], [234, 329, 243]]\n",
      "['33001', ['emily', 'brown'], 26, ['beauty', 'home', 'food'], [213, 659, 79]]\n",
      "['33767', ['maria', 'garcia'], 33, ['clothes', 'food', 'beauty'], [499, 189, 63]]\n",
      "['33912', ['jose', 'martinez'], 22, ['sport', 'electronics', 'home'], [259, 549, 109]]\n",
      "['34009', ['lisa', 'wilson'], 35, ['home', 'books', 'clothes'], [329, 189, 329]]\n",
      "['34278', ['james', 'lee'], 28, ['beauty', 'clothes', 'electronics'], [189, 299, 579]]\n"
     ]
    }
   ],
   "source": [
    "def clean_user(user_info, name_index, age_index, cat_index):\n",
    "\n",
    "  # Paso 1: pon todo en minúsculas y elimina del nombre espacios iniciales y finales, así como guiones\n",
    "    user_name_1 = user[1].lower() # escribe tu código aquí\n",
    "    user_name_1 = user_name_1.strip()\n",
    "    user_name_1 = user_name_1.replace('_', ' ')\n",
    "    \n",
    "  # Paso 2: convierte la edad en entero\n",
    "    user_age_1 = int(user[2])# escribe tu código aquí\n",
    "\n",
    "  # Paso 3: separa el nombre y el apellido en una sublista\n",
    "    user_name_1 = user_name_1.split() # escribe tu código aquí\n",
    "\n",
    "  # Paso 4: separa el nombre y el apellido en una sublista\n",
    "    categories_low = []\n",
    "    for category in user[3]:# escribe tu código aquí\n",
    "        categories_low.append(category.lower())\n",
    "\n",
    "  # Prepara la lista con la información completa del usuario\n",
    "  # Reemplaza el nombre y la edad originales con los datos limpios\n",
    "  # escribe tu código aquí\n",
    "    user_info = [user]\n",
    "    user_info = [user[0], user_name_1, user_age_1, categories_low, user[4]]\n",
    "\n",
    "    return user_info\n",
    "\n",
    "\n",
    "users = [\n",
    "    ['32415', ' mike_reed ', 32.0, ['ELECTRONICS', 'SPORT', 'BOOKS'], [894, 213, 173]],\n",
    "    ['31980', 'kate morgan', 24.0, ['CLOTHES', 'BOOKS'], [439, 390]],\n",
    "    ['32156', ' john doe ', 37.0, ['ELECTRONICS', 'HOME', 'FOOD'], [459, 120, 99]],\n",
    "    ['32761', 'SAMANTHA SMITH', 29.0, ['CLOTHES', 'ELECTRONICS', 'BEAUTY'], [299, 679, 85]],\n",
    "    ['32984', 'David White', 41.0, ['BOOKS', 'HOME', 'SPORT'], [234, 329, 243]],\n",
    "    ['33001', 'emily brown', 26.0, ['BEAUTY', 'HOME', 'FOOD'], [213, 659, 79]],\n",
    "    ['33767', ' Maria Garcia', 33.0, ['CLOTHES', 'FOOD', 'BEAUTY'], [499, 189, 63]],\n",
    "    ['33912', 'JOSE MARTINEZ', 22.0, ['SPORT', 'ELECTRONICS', 'HOME'], [259, 549, 109]],\n",
    "    ['34009', 'lisa wilson ', 35.0, ['HOME', 'BOOKS', 'CLOTHES'], [329, 189, 329]],\n",
    "    ['34278', 'James Lee', 28.0, ['BEAUTY', 'CLOTHES', 'ELECTRONICS'], [189, 299, 579]],\n",
    "]\n",
    "\n",
    "name_index = 1\n",
    "age_index = 2\n",
    "cat_index = 3\n",
    "users_cleaned = []\n",
    "\n",
    "for user in users: # escribe tu código aquí\n",
    "    user_cleaned = clean_user(user, user[1], user[2], user[3]) # escribe tu código aquí\n",
    "    users_cleaned.append(user_cleaned)  # escribe tu código aquí\n",
    "\n",
    "for elemento in users_cleaned:\n",
    "    print(elemento)"
   ]
  },
  {
   "cell_type": "markdown",
   "id": "0aca3f96",
   "metadata": {},
   "source": [
    "### Paso 5\n",
    "La empresa desea conocer sus ingresos totales y te pide que proporciones este valor. Para calcular los ingresos de la empresa, sigue estos pasos:\n",
    "1.\tUtiliza for para iterar sobre la lista users.\n",
    "2.\tExtrae la lista de gastos de cada usuario y suma los valores.\n",
    "3.\tActualiza el valor de los ingresos con el total de cada usuario.\n",
    "Así obtendrás los ingresos totales de la empresa que mostrarás en la pantalla al final."
   ]
  },
  {
   "cell_type": "code",
   "execution_count": 8,
   "id": "2539244d",
   "metadata": {},
   "outputs": [
    {
     "name": "stdout",
     "output_type": "stream",
     "text": [
      "9189\n"
     ]
    }
   ],
   "source": [
    "users = [['32415', ['mike', 'reed'], 32, ['electronics', 'sport', 'books'], [894, 213, 173]],\n",
    "         ['31980', ['kate', 'morgan'], 24, ['clothes', 'books'], [439, 390]],\n",
    "         ['32156', ['john', 'doe'], 37, ['electronics', 'home', 'food'], [459, 120, 99]],\n",
    "         ['32761', ['samantha', 'smith'], 29, ['clothes', 'electronics', 'beauty'], [299, 679, 85]],\n",
    "         ['32984', ['david', 'white'], 41, ['books', 'home', 'sport'], [234, 329, 243]],\n",
    "         ['33001', ['emily', 'brown'], 26, ['beauty', 'home', 'food'], [213, 659, 79]],\n",
    "         ['33767', ['maria', 'garcia'], 33, ['clothes', 'food', 'beauty'], [499, 189, 63]],\n",
    "         ['33912', ['jose', 'martinez'], 22, ['sport', 'electronics', 'home'], [259, 549, 109]],\n",
    "         ['34009', ['lisa', 'wilson'], 35, ['home', 'books', 'clothes'], [329, 189, 329]],\n",
    "         ['34278', ['james', 'lee'], 28, ['beauty', 'clothes', 'electronics'], [189, 299, 579]]]\n",
    "\n",
    "revenue = 0\n",
    "\n",
    "for user in users:\n",
    "    # escribe tu código aquí\n",
    "    spending_list = user[4]\n",
    "    total_spending = sum(spending_list) \n",
    "    revenue += total_spending\n",
    "\n",
    "print(revenue)"
   ]
  },
  {
   "cell_type": "markdown",
   "id": "0fc46584",
   "metadata": {},
   "source": [
    "### Paso 6\n",
    "La empresa quiere ofrecer descuentos a sus clientes leales. Los clientes que realizan compras por un importe total mayor a $1500 se consideran leales y recibirán un descuento.\n",
    "Nuestro objetivo es crear un bucle while que compruebe el importe total gastado y se detenga al alcanzarlo. Para simular nuevas compras, la variable new_purchase genera un número entre 30 y 80 en cada iteración del bucle. Esto representa la cantidad de dinero gastada en una nueva compra y es lo que debes agregar al total.\n",
    "Una vez que se alcance el importe objetivo y se termine el bucle while, se mostrará la cantidad final.\n"
   ]
  },
  {
   "cell_type": "code",
   "execution_count": 9,
   "id": "ca0a223e",
   "metadata": {},
   "outputs": [
    {
     "name": "stdout",
     "output_type": "stream",
     "text": [
      "1550\n"
     ]
    }
   ],
   "source": [
    "from random import randint\n",
    "\n",
    "total_amount_spent = 1280\n",
    "target_amount = 1500\n",
    "\n",
    "while total_amount_spent < target_amount: # escribe tu código aquí\n",
    "    new_purchase = randint(30, 80) # generamos un número aleatorio de 30 a 80\n",
    "    total_amount_spent += new_purchase # escribe tu código aquí\n",
    "\n",
    "print(total_amount_spent)"
   ]
  },
  {
   "cell_type": "markdown",
   "id": "9371fb7d",
   "metadata": {},
   "source": [
    "### Paso 7\n",
    "Recorre la lista de usuarios que te hemos proporcionado y muestra los nombres de los clientes menores de 30 años."
   ]
  },
  {
   "cell_type": "code",
   "execution_count": 10,
   "id": "38f31eb5",
   "metadata": {},
   "outputs": [
    {
     "name": "stdout",
     "output_type": "stream",
     "text": [
      "kate\n",
      "samantha\n",
      "emily\n",
      "jose\n",
      "james\n"
     ]
    }
   ],
   "source": [
    "users = [['32415', ['mike', 'reed'], 32, ['electronics', 'sport', 'books'], [894, 213, 173]],\n",
    "         ['31980', ['kate', 'morgan'], 24, ['clothes', 'books'], [439, 390]],\n",
    "         ['32156', ['john', 'doe'], 37, ['electronics', 'home', 'food'], [459, 120, 99]],\n",
    "         ['32761', ['samantha', 'smith'], 29, ['clothes', 'electronics', 'beauty'], [299, 679, 85]],\n",
    "         ['32984', ['david', 'white'], 41, ['books', 'home', 'sport'], [234, 329, 243]],\n",
    "         ['33001', ['emily', 'brown'], 26, ['beauty', 'home', 'food'], [213, 659, 79]],\n",
    "         ['33767', ['maria', 'garcia'], 33, ['clothes', 'food', 'beauty'], [499, 189, 63]],\n",
    "         ['33912', ['jose', 'martinez'], 22, ['sport', 'electronics', 'home'], [259, 549, 109]],\n",
    "         ['34009', ['lisa', 'wilson'], 35, ['home', 'books', 'clothes'], [329, 189, 329]],\n",
    "         ['34278', ['james', 'lee'], 28, ['beauty', 'clothes', 'electronics'], [189, 299, 579]]]\n",
    "\n",
    "\n",
    "# escribe tu código aquí\n",
    "for user in users:\n",
    "    if user[2] < 30:\n",
    "        print(user[1][0])\n"
   ]
  },
  {
   "cell_type": "markdown",
   "id": "3c22cdfc",
   "metadata": {},
   "source": [
    "### Paso 8\n",
    "Mostremos en pantalla los nombres de los usuarios menores de 30 años que acumulan un gasto total superior a 1000 dólares.\n"
   ]
  },
  {
   "cell_type": "code",
   "execution_count": 11,
   "id": "212178a3",
   "metadata": {},
   "outputs": [
    {
     "name": "stdout",
     "output_type": "stream",
     "text": [
      "samantha\n",
      "james\n"
     ]
    }
   ],
   "source": [
    "users = [['32415', ['mike', 'reed'], 32, ['electronics', 'sport', 'books'], [894, 213, 173]],\n",
    "         ['31980', ['kate', 'morgan'], 24, ['clothes', 'books'], [439, 390]],\n",
    "         ['32156', ['john', 'doe'], 37, ['electronics', 'home', 'food'], [459, 120, 99]],\n",
    "         ['32761', ['samantha', 'smith'], 29, ['clothes', 'electronics', 'beauty'], [299, 679, 85]],\n",
    "         ['32984', ['david', 'white'], 41, ['books', 'home', 'sport'], [234, 329, 243]],\n",
    "         ['33001', ['emily', 'brown'], 26, ['beauty', 'home', 'food'], [213, 659, 79]],\n",
    "         ['33767', ['maria', 'garcia'], 33, ['clothes', 'food', 'beauty'], [499, 189, 63]],\n",
    "         ['33912', ['jose', 'martinez'], 22, ['sport', 'electronics', 'home'], [259, 549, 109]],\n",
    "         ['34009', ['lisa', 'wilson'], 35, ['home', 'books', 'clothes'], [329, 189, 329]],\n",
    "         ['34278', ['james', 'lee'], 28, ['beauty', 'clothes', 'electronics'], [189, 299, 579]]]\n",
    "\n",
    "# escribe tu código aquí\n",
    "total_spending = 0\n",
    "for user in users:\n",
    "    if user[2] < 30 and sum(user[4]) > 1000: \n",
    "         \n",
    "        print(user[1][0])\n"
   ]
  },
  {
   "cell_type": "markdown",
   "id": "8bf019fc",
   "metadata": {},
   "source": [
    "### Paso 9\n",
    "Ahora vamos a mostrar el nombre y la edad de todos los usuarios y todas las usuarias que han comprado ropa (\"clothes\"). Imprime el nombre y la edad en la misma declaración print.\n"
   ]
  },
  {
   "cell_type": "code",
   "execution_count": 12,
   "id": "36a0bd82",
   "metadata": {},
   "outputs": [
    {
     "name": "stdout",
     "output_type": "stream",
     "text": [
      "kate 24\n",
      "samantha 29\n",
      "maria 33\n",
      "lisa 35\n",
      "james 28\n"
     ]
    }
   ],
   "source": [
    "users = [['32415', ['mike', 'reed'], 32, ['electronics', 'sport', 'books'], [894, 213, 173]],\n",
    "         ['31980', ['kate', 'morgan'], 24, ['clothes', 'books'], [439, 390]],\n",
    "         ['32156', ['john', 'doe'], 37, ['electronics', 'home', 'food'], [459, 120, 99]],\n",
    "         ['32761', ['samantha', 'smith'], 29, ['clothes', 'electronics', 'beauty'], [299, 679, 85]],\n",
    "         ['32984', ['david', 'white'], 41, ['books', 'home', 'sport'], [234, 329, 243]],\n",
    "         ['33001', ['emily', 'brown'], 26, ['beauty', 'home', 'food'], [213, 659, 79]],\n",
    "         ['33767', ['maria', 'garcia'], 33, ['clothes', 'food', 'beauty'], [499, 189, 63]],\n",
    "         ['33912', ['jose', 'martinez'], 22, ['sport', 'electronics', 'home'], [259, 549, 109]],\n",
    "         ['34009', ['lisa', 'wilson'], 35, ['home', 'books', 'clothes'], [329, 189, 329]],\n",
    "         ['34278', ['james', 'lee'], 28, ['beauty', 'clothes', 'electronics'], [189, 299, 579]]]\n",
    "\n",
    "# escribe tu código aquí\n",
    "for user in users:\n",
    "    for clothes in user[3]:\n",
    "        if clothes == 'clothes':\n",
    "            print(user[1][0], user[2])\n"
   ]
  },
  {
   "cell_type": "markdown",
   "id": "0cb89e45",
   "metadata": {},
   "source": [
    "### Paso 10\n",
    "La dirección requiere de una función que proporcione información sobre los clientes, incluyendo sus nombres, edades y gasto total, filtrada por categorías específicas. Con base en fragmentos de código anteriores, crearemos una función llamada get_client_by_cat con las siguientes especificaciones:\n",
    "1.\tParámetros:\n",
    "\n",
    "•\tusers: una lista con los datos de los usuarios.\n",
    "\n",
    "•\tid_index: el índice donde está almacenado el ID del cliente en la lista de usuarios.\n",
    "\n",
    "•\tname_index: el índice donde está almacenado el nombre del cliente en la lista de usuarios.\n",
    "\n",
    "•\tage_index: el índice donde la edad del cliente está almacenada en la lista de usuarios.\n",
    "\n",
    "•\tcategory_index: el índice donde las categorías de compras del cliente están listadas.\n",
    "\n",
    "•\tamounts_index: el índice donde las cantidades gastadas en cada categoría están almacenadas.\n",
    "\n",
    "•\tfilter_category: un string que representa el nombre de la categoría para filtrar clientes.\n",
    "\n",
    "2.\tSalida:\n",
    "\n",
    "•\tLa función devuelve una lista de sublistas. Cada sublista contiene:\n",
    "\n",
    "•\tEl número ID del cliente.\n",
    "\n",
    "•\tUna sublista con el nombre y apellido del cliente.\n",
    "\n",
    "•\tLa edad del cliente.\n",
    "\n",
    "•\tUn entero que representa la cantidad total gastada por el cliente.\n",
    "\n",
    "Por ejemplo, si llamas a la función con los siguientes parámetros:\n",
    "get_client_by_cat([['32415', ['mike', 'reed'], 32, ['electronics', 'sport', 'books'], [894, 213, 173]]\n",
    "], 0, 1, 2, 3, 4, 'books')\n",
    "\n",
    "La salida será:\n",
    "[['32415', ['mike', 'reed'], 32, 1280]]\n",
    "\n",
    "Esta salida muestra que el cliente con el ID '32415', llamado Mike Reed, de 32 años, gastó un total de 1280 en la categoría 'books' y otras compras.\n",
    "Después de hacer tu función, llámala pasándole nuestra lista de usuarios, los índices adecuados y la categoría 'home' y muestra en pantalla la lista que resulta."
   ]
  },
  {
   "cell_type": "code",
   "execution_count": 4,
   "id": "a382523e",
   "metadata": {},
   "outputs": [
    {
     "name": "stdout",
     "output_type": "stream",
     "text": [
      "[['32156', ['john', 'doe'], 37, 678], ['32984', ['david', 'white'], 41, 806], ['33001', ['emily', 'brown'], 26, 951], ['33912', ['jose', 'martinez'], 22, 917], ['34009', ['lisa', 'wilson'], 35, 847]]\n"
     ]
    }
   ],
   "source": [
    "def get_client_by_cat(users, id_index, name_index, age_index, category_index, amounts_index, filter_category):\n",
    "    # escribe tu código aquí\n",
    "    filtered_by_cat = []\n",
    "    # total_spending = []\n",
    "    users_by_cat = []\n",
    "    for user in users:\n",
    "        for category in user[category_index]:\n",
    "            if category == filter_category:\n",
    "                total_spend = sum(user[amounts_index])\n",
    "                filtered_by_cat = [user[id_index], user[name_index], user[age_index], total_spend]\n",
    "                users_by_cat.append(filtered_by_cat)\n",
    "    return users_by_cat\n",
    "                \n",
    "# La lista de usuarios\n",
    "users = [\n",
    "    ['32415', ['mike', 'reed'], 32, ['electronics', 'sport', 'books'], [894, 213, 173]],\n",
    "    ['31980', ['kate', 'morgan'], 24, ['clothes', 'books'], [439, 390]],\n",
    "    ['32156', ['john', 'doe'], 37, ['electronics', 'home', 'food'], [459, 120, 99]],\n",
    "    ['32761', ['samantha', 'smith'], 29, ['clothes', 'electronics', 'beauty'], [299, 679, 85]],\n",
    "    ['32984', ['david', 'white'], 41, ['books', 'home', 'sport'], [234, 329, 243]],\n",
    "    ['33001', ['emily', 'brown'], 26, ['beauty', 'home', 'food'], [213, 659, 79]],\n",
    "    ['33767', ['maria', 'garcia'], 33, ['clothes', 'food', 'beauty'], [499, 189, 63]],\n",
    "    ['33912', ['jose', 'martinez'], 22, ['sport', 'electronics', 'home'], [259, 549, 109]],\n",
    "    ['34009', ['lisa', 'wilson'], 35, ['home', 'books', 'clothes'], [329, 189, 329]],\n",
    "    ['34278', ['james', 'lee'], 28, ['beauty', 'clothes', 'electronics'], [189, 299, 579]]\n",
    "]\n",
    "\n",
    "id_index = 0\n",
    "name_index = 1\n",
    "age_index =2\n",
    "category_index = 3\n",
    "amounts_index = 4\n",
    "filter_category = 'home'\n",
    "\n",
    "\n",
    "# Llama a la función con la categoría 'home'\n",
    "result = get_client_by_cat(users, id_index, name_index, age_index, category_index, amounts_index, filter_category)  # escribe tu código aquí\n",
    "\n",
    "# Muestra en pantalla la lista que resulta\n",
    "\n",
    "print(result)"
   ]
  },
  {
   "cell_type": "code",
   "execution_count": null,
   "id": "3ade5472",
   "metadata": {},
   "outputs": [],
   "source": []
  }
 ],
 "metadata": {
  "kernelspec": {
   "display_name": "Python 3",
   "language": "python",
   "name": "python3"
  },
  "language_info": {
   "codemirror_mode": {
    "name": "ipython",
    "version": 3
   },
   "file_extension": ".py",
   "mimetype": "text/x-python",
   "name": "python",
   "nbconvert_exporter": "python",
   "pygments_lexer": "ipython3",
   "version": "3.11.9"
  }
 },
 "nbformat": 4,
 "nbformat_minor": 5
}
