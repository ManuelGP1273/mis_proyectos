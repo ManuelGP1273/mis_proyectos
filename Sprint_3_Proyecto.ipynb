{
 "cells": [
  {
   "cell_type": "markdown",
   "id": "e4a3b250",
   "metadata": {},
   "source": [
    "### Déjame escuchar la música\n",
    "Contenido \n",
    "•\tIntroducción\n",
    "•\tEtapa 1. Descripción de los datos\n",
    "\tConclusiones\n",
    "•\tEtapa 2. Preprocesamiento de datos\n",
    "\t2.1 Estilo del encabezado\n",
    "\t2.2 Valores ausentes\n",
    "\t2.3 Duplicados\n",
    "\t2.4 Conclusiones\n",
    "•\tEtapa 3. Prueba de hipótesis\n",
    "\t3.1 Hipótesis 1: actividad de los usuarios y las usuarias en las dos ciudades\n",
    "•\tConclusiones\n"
   ]
  },
  {
   "cell_type": "markdown",
   "id": "b53fdeba",
   "metadata": {},
   "source": [
    "### Introducción <a id='intro'></a>\n",
    "Como analista de datos, tu trabajo consiste en analizar datos para extraer información valiosa y tomar decisiones basadas en ellos. Esto implica diferentes etapas, como la descripción general de los datos, el preprocesamiento y la prueba de hipótesis.\n",
    "\n",
    "Siempre que investigamos, necesitamos formular hipótesis que después podamos probar. A veces aceptamos estas hipótesis; otras veces, las rechazamos. Para tomar las decisiones correctas, una empresa debe ser capaz de entender si está haciendo las suposiciones correctas.\n",
    "\n",
    "En este proyecto, compararás las preferencias musicales de las ciudades de Springfield y Shelbyville. Estudiarás datos reales de transmisión de música online para probar la hipótesis a continuación y comparar el comportamiento de los usuarios y las usuarias de estas dos ciudades."
   ]
  },
  {
   "cell_type": "markdown",
   "id": "12436aa8",
   "metadata": {},
   "source": [
    "### Objetivo:\n",
    "Prueba la hipótesis:\n",
    "1. La actividad de los usuarios y las usuarias difiere según el día de la semana y dependiendo de la ciudad.\n",
    "\n",
    "\n",
    "### Etapas\n",
    "Los datos del comportamiento del usuario se almacenan en el archivo `/datasets/music_project_en.csv`. No hay ninguna información sobre la calidad de los datos, así que necesitarás examinarlos antes de probar la hipótesis.\n",
    "\n",
    "Primero, evaluarás la calidad de los datos y verás si los problemas son significativos. Entonces, durante el preprocesamiento de datos, tomarás en cuenta los problemas más críticos.\n",
    "\n",
    "Tu proyecto consistirá en tres etapas:\n",
    " 1. Descripción de los datos.\n",
    " 2. Preprocesamiento de datos.\n",
    " 3. Prueba de hipótesis.\n",
    "Volver a Contenidos\n"
   ]
  },
  {
   "cell_type": "markdown",
   "id": "368a525b",
   "metadata": {},
   "source": [
    "### 2  Etapa 1. Descripción de los datos \n",
    "Abre los datos y examínalos.\n",
    "Necesitarás pandas, así que impórtalo.\n"
   ]
  },
  {
   "cell_type": "code",
   "execution_count": 3,
   "id": "028cd8a8",
   "metadata": {},
   "outputs": [
    {
     "name": "stdout",
     "output_type": "stream",
     "text": [
      "     userID                        Track            artist   genre  \\\n",
      "0  FFB692EC            Kamigata To Boots  The Mass Missile    rock   \n",
      "1  55204538  Delayed Because of Accident  Andreas Rönnberg    rock   \n",
      "2    20EC38            Funiculì funiculà       Mario Lanza     pop   \n",
      "3  A3DD03C9        Dragons in the Sunset        Fire + Ice    folk   \n",
      "4  E2DC1FAE                  Soul People        Space Echo   dance   \n",
      "5  842029A1                       Chains          Obladaet  rusrap   \n",
      "6  4CB90AA5                         True      Roman Messer   dance   \n",
      "7  F03E1C1F             Feeling This Way   Polina Griffith   dance   \n",
      "8  8FA1D3BE                     L’estate       Julia Dalia  ruspop   \n",
      "9  E772D5C0                    Pessimist               NaN   dance   \n",
      "\n",
      "        City        time        Day  \n",
      "0  Shelbyville  20:28:33  Wednesday  \n",
      "1  Springfield  14:07:09     Friday  \n",
      "2  Shelbyville  20:58:07  Wednesday  \n",
      "3  Shelbyville  08:37:09     Monday  \n",
      "4  Springfield  08:34:34     Monday  \n",
      "5  Shelbyville  13:09:41     Friday  \n",
      "6  Springfield  13:00:07  Wednesday  \n",
      "7  Springfield  20:47:49  Wednesday  \n",
      "8  Springfield  09:17:40     Friday  \n",
      "9  Shelbyville  21:20:49  Wednesday  \n"
     ]
    }
   ],
   "source": [
    "# Importar pandas\n",
    "import pandas as pd\n",
    "\n",
    "# Lee el archivo music_project_en.csv de la carpeta /datasets/ y guárdalo en la variable df:\n",
    "# Leer el archivo y almacenarlo en df\n",
    "df = pd.read_csv('C:/Users/Usuario/Desktop/Triple Ten Data Analist/Proyecto Sprint 3/music_project_en.csv')\n",
    "# Muestra las 10 primeras filas de la tabla:\n",
    "print(df.head(10))\n"
   ]
  },
  {
   "cell_type": "code",
   "execution_count": 4,
   "id": "161a59f3",
   "metadata": {},
   "outputs": [
    {
     "name": "stdout",
     "output_type": "stream",
     "text": [
      "<class 'pandas.core.frame.DataFrame'>\n",
      "RangeIndex: 65079 entries, 0 to 65078\n",
      "Data columns (total 7 columns):\n",
      " #   Column    Non-Null Count  Dtype \n",
      "---  ------    --------------  ----- \n",
      " 0     userID  65079 non-null  object\n",
      " 1   Track     63736 non-null  object\n",
      " 2   artist    57512 non-null  object\n",
      " 3   genre     63881 non-null  object\n",
      " 4     City    65079 non-null  object\n",
      " 5   time      65079 non-null  object\n",
      " 6   Day       65079 non-null  object\n",
      "dtypes: object(7)\n",
      "memory usage: 3.5+ MB\n"
     ]
    }
   ],
   "source": [
    "# Obtén la información general sobre la tabla con un comando. \n",
    "# Conoces el método que muestra la información general que necesitamos.\n",
    "# Obtener la información general sobre nuestros datos\n",
    "df.info()"
   ]
  },
  {
   "cell_type": "markdown",
   "id": "50315401",
   "metadata": {},
   "source": [
    "Estas son nuestras observaciones sobre la tabla. Contiene siete columnas. Almacenan los mismos tipos de datos: object.\n",
    "Según la documentación:\n",
    "\n",
    "•\t' userID': identificador del usuario o la usuaria;\n",
    "\n",
    "•\t'Track': título de la canción;\n",
    "\n",
    "•\t'artist': nombre del artista;\n",
    "\n",
    "•\t'genre': género de la pista;\n",
    "\n",
    "•\t'City': ciudad del usuario o la usuaria;\n",
    "\n",
    "•\t'time': la hora exacta en la que se reprodujo la canción;\n",
    "\n",
    "•\t'Day': día de la semana.\n",
    "\n",
    "Podemos ver tres problemas con el estilo en los encabezados de la tabla:\n",
    "\n",
    "1.\tAlgunos encabezados están en mayúsculas, otros en minúsculas.\n",
    "\n",
    "2.\tHay espacios en algunos encabezados.\n",
    "\n",
    "3.\tel titulo de userID esta todo junto, al ser 2 palabras o mas se recomienda esten separadas por un guion bajo\n"
   ]
  },
  {
   "cell_type": "markdown",
   "id": "e0ad70ae",
   "metadata": {},
   "source": [
    "### 2.1  Escribe observaciones de tu parte. Estas son algunas de las preguntas que pueden ser útiles: \n",
    "1. ¿Qué tipo de datos tenemos a nuestra disposición en las filas? ¿Y cómo podemos entender lo que almacenan las columnas? Los titulos de las columnas dejan claro el contenido, posiblemente la columna time pudiera ser un problema sino tuvieramos acceso a la descripcion del contenido.\n",
    "2. ¿Hay suficientes datos para proporcionar respuestas a nuestra hipótesis o necesitamos más información? considero que existen los datos necesarios para proportionar respuesta a las hipotesis establecidas\n",
    "3. ¿Notaste algún problema en los datos, como valores ausentes, duplicados o tipos de datos incorrectos? existen valores ausentes en Track, Artist y genre, necesitamos hacer una consulta para duplicados y erroneos para determinar si estos existen y que tanto afectan la muestra.\n",
    "Volver a Contenidos\n"
   ]
  },
  {
   "cell_type": "markdown",
   "id": "c2018d08",
   "metadata": {},
   "source": [
    "### 3  Etapa 2. Preprocesamiento de datos \n",
    "El objetivo aquí es preparar los datos para que sean analizados. El primer paso es resolver cualquier problema con los encabezados. Luego podemos avanzar a los valores ausentes y duplicados. Empecemos.\n",
    "Corrige el formato en los encabezados de la tabla.\n"
   ]
  },
  {
   "cell_type": "code",
   "execution_count": 5,
   "id": "82ac8846",
   "metadata": {},
   "outputs": [
    {
     "name": "stdout",
     "output_type": "stream",
     "text": [
      "Index(['  userID', 'Track', 'artist', 'genre', '  City  ', 'time', 'Day'], dtype='object')\n"
     ]
    }
   ],
   "source": [
    "# 3.1  Estilo del encabezado \n",
    "# Muestra los encabezados de la tabla (los nombres de las columnas):\n",
    "\n",
    "column_names = df.columns\n",
    "print(column_names)\n"
   ]
  },
  {
   "cell_type": "markdown",
   "id": "3deebda2",
   "metadata": {},
   "source": [
    "### Cambia los encabezados de la tabla de acuerdo con las reglas del buen estilo:\n",
    "•\tTodos los caracteres deben ser minúsculas.\n",
    "\n",
    "•\tElimina los espacios.\n",
    "\n",
    "•\tSi el nombre tiene varias palabras, utiliza snake_case.\n",
    "\n",
    "Anteriormente, aprendiste acerca de la forma automática de cambiar el nombre de las columnas. Vamos a aplicarla ahora. Utiliza el bucle for para iterar sobre los nombres de las columnas y poner todos los caracteres en minúsculas. Cuando hayas terminado, vuelve a mostrar los encabezados de la tabla:\n"
   ]
  },
  {
   "cell_type": "code",
   "execution_count": 7,
   "id": "c218d407",
   "metadata": {},
   "outputs": [
    {
     "name": "stdout",
     "output_type": "stream",
     "text": [
      "Index(['  userid', 'track', 'artist', 'genre', '  city  ', 'time', 'day'], dtype='object')\n"
     ]
    }
   ],
   "source": [
    "# Bucle en los encabezados poniendo todo en minúsculas\n",
    "new_col_names = [] #Lista para los nombres optimizados\n",
    "for name_columns in df.columns: #bucle para corregir lo necesario en cada nombre de columna \n",
    "    name_lowered = name_columns.lower() #codigo para convertir a minisculas \n",
    "    new_col_names.append(name_lowered) #acumulando en la lista para aplicar al siguiente nombre\n",
    "    \n",
    "df.columns = new_col_names #introduciendo los nombres corregidos al data frame \n",
    "\n",
    "print(df.columns)"
   ]
  },
  {
   "cell_type": "code",
   "execution_count": null,
   "id": "fb8c4c6b",
   "metadata": {},
   "outputs": [
    {
     "name": "stdout",
     "output_type": "stream",
     "text": [
      "Index(['userid', 'track', 'artist', 'genre', 'city', 'time', 'day'], dtype='object')\n"
     ]
    }
   ],
   "source": [
    "# Ahora, utilizando el mismo método, elimina los espacios al principio y al final de los nombres de las columnas \n",
    "# e imprime los nombres de las columnas nuevamente:\n",
    "# Bucle en los encabezados eliminando los espacios\n",
    "names_no_spaces = [] #Lista para los nombres optimizados\n",
    "for name_columns in df.columns: #bucle para corregir lo necesario en cada nombre de columna \n",
    "    name_striped = name_columns.strip() #codigo para eliminasr espacios \n",
    "    names_no_spaces.append(name_striped) #acumulando en la lista para aplicar al siguiente nombre\n",
    "    \n",
    "df.columns = names_no_spaces #introduciendo los nombres corregidos al data frame \n",
    "\n",
    "print(df.columns)"
   ]
  },
  {
   "cell_type": "code",
   "execution_count": 9,
   "id": "76be721d",
   "metadata": {},
   "outputs": [
    {
     "name": "stdout",
     "output_type": "stream",
     "text": [
      "Index(['user_id', 'track', 'artist', 'genre', 'city', 'time', 'day'], dtype='object')\n"
     ]
    }
   ],
   "source": [
    "# Necesitamos aplicar la regla de snake_case a la columna userid. Debe ser user_id. Cambia el nombre de esta columna\n",
    "# y muestra los nombres de todas las columnas cuando hayas terminado.\n",
    "# Cambiar el nombre de la columna \"userid\"\n",
    "df.rename(columns={\n",
    "'userid': 'user_id', \n",
    "},inplace = True)\n",
    "\n",
    "# Mostrar las columnas para confirmar los cambios\n",
    "print(df.columns)"
   ]
  },
  {
   "cell_type": "code",
   "execution_count": 11,
   "id": "4857fbca",
   "metadata": {},
   "outputs": [
    {
     "name": "stdout",
     "output_type": "stream",
     "text": [
      "Index(['user_id', 'track', 'artist', 'genre', 'city', 'time', 'day'], dtype='object')\n"
     ]
    }
   ],
   "source": [
    "# Comprueba el resultado. Muestra los encabezados una vez más:\n",
    "print(df.columns)"
   ]
  },
  {
   "cell_type": "markdown",
   "id": "dfbad558",
   "metadata": {},
   "source": [
    "Volver a Contenidos"
   ]
  },
  {
   "cell_type": "markdown",
   "id": "9d4bf280",
   "metadata": {},
   "source": [
    "### 3.2  Valores ausentes "
   ]
  },
  {
   "cell_type": "code",
   "execution_count": 12,
   "id": "c4f6b3ce",
   "metadata": {},
   "outputs": [
    {
     "name": "stdout",
     "output_type": "stream",
     "text": [
      "user_id       0\n",
      "track      1343\n",
      "artist     7567\n",
      "genre      1198\n",
      "city          0\n",
      "time          0\n",
      "day           0\n",
      "dtype: int64\n"
     ]
    }
   ],
   "source": [
    "# Primero, encuentra el número de valores ausentes en la tabla. Debes utilizar dos métodos en una secuencia \n",
    "# para obtener el número de valores ausentes.\n",
    "# Calcular el número de valores ausentes\n",
    "print(df.isna().sum())"
   ]
  },
  {
   "cell_type": "markdown",
   "id": "ae58d828",
   "metadata": {},
   "source": [
    "No todos los valores ausentes afectan a la investigación. Por ejemplo, los valores ausentes en track y artist no son cruciales. Simplemente puedes reemplazarlos con valores predeterminados como el string 'unknown' (desconocido).\n",
    "Pero los valores ausentes en 'genre' pueden afectar la comparación entre las preferencias musicales de Springfield y Shelbyville. En la vida real, sería útil saber las razones por las cuales hay datos ausentes e intentar recuperarlos. Pero no tenemos esa oportunidad en este proyecto. Así que tendrás que:\n",
    "\n",
    "•\trellenar estos valores ausentes con un valor predeterminado;\n",
    "\n",
    "•\tevaluar cuánto podrían afectar los valores ausentes a tus cómputos;\n",
    "\n",
    "Reemplazar los valores ausentes en las columnas 'track', 'artist' y 'genre' con el string 'unknown'. Como mostramos anteriormente en las lecciones, la mejor forma de hacerlo es crear una lista que almacene los nombres de las columnas donde se necesita el reemplazo. Luego, utiliza esta lista e itera sobre las columnas donde se necesita el reemplazo haciendo el propio reemplazo.\n"
   ]
  },
  {
   "cell_type": "code",
   "execution_count": 15,
   "id": "0b622b7a",
   "metadata": {},
   "outputs": [],
   "source": [
    "# Bucle en los encabezados reemplazando los valores ausentes con 'unknown'\n",
    "columns_to_replace = ['track', 'artist', 'genre']\n",
    "for col in columns_to_replace:\n",
    "    #df[col].fillna('unknown', inplace=True)\n",
    "    df.fillna({col:'unknown'}, inplace=True) # este metodosustituye al de arriba en la version 3.0 de python "
   ]
  },
  {
   "cell_type": "code",
   "execution_count": 16,
   "id": "84353da4",
   "metadata": {},
   "outputs": [
    {
     "name": "stdout",
     "output_type": "stream",
     "text": [
      "user_id    0\n",
      "track      0\n",
      "artist     0\n",
      "genre      0\n",
      "city       0\n",
      "time       0\n",
      "day        0\n",
      "dtype: int64\n"
     ]
    }
   ],
   "source": [
    "# Contar valores ausentes\n",
    "print(df.isna().sum())"
   ]
  },
  {
   "cell_type": "markdown",
   "id": "0228fc15",
   "metadata": {},
   "source": [
    "Volver a Contenidos"
   ]
  },
  {
   "cell_type": "markdown",
   "id": "d3d04210",
   "metadata": {},
   "source": [
    "### 3.3  Duplicados \n",
    "Encuentra el número de duplicados explícitos en la tabla. Una vez más, debes aplicar dos métodos en una secuencia para obtener la cantidad de duplicados explícitos."
   ]
  },
  {
   "cell_type": "code",
   "execution_count": 17,
   "id": "0e59e9e3",
   "metadata": {},
   "outputs": [
    {
     "name": "stdout",
     "output_type": "stream",
     "text": [
      "3826\n"
     ]
    }
   ],
   "source": [
    "# Contar duplicados explícitos\n",
    "print(df.duplicated().sum())"
   ]
  },
  {
   "cell_type": "code",
   "execution_count": 18,
   "id": "57c76936",
   "metadata": {},
   "outputs": [
    {
     "name": "stdout",
     "output_type": "stream",
     "text": [
      "    user_id                        track            artist   genre  \\\n",
      "0  FFB692EC            Kamigata To Boots  The Mass Missile    rock   \n",
      "1  55204538  Delayed Because of Accident  Andreas Rönnberg    rock   \n",
      "2    20EC38            Funiculì funiculà       Mario Lanza     pop   \n",
      "3  A3DD03C9        Dragons in the Sunset        Fire + Ice    folk   \n",
      "4  E2DC1FAE                  Soul People        Space Echo   dance   \n",
      "5  842029A1                       Chains          Obladaet  rusrap   \n",
      "6  4CB90AA5                         True      Roman Messer   dance   \n",
      "7  F03E1C1F             Feeling This Way   Polina Griffith   dance   \n",
      "8  8FA1D3BE                     L’estate       Julia Dalia  ruspop   \n",
      "9  E772D5C0                    Pessimist           unknown   dance   \n",
      "\n",
      "          city      time        day  \n",
      "0  Shelbyville  20:28:33  Wednesday  \n",
      "1  Springfield  14:07:09     Friday  \n",
      "2  Shelbyville  20:58:07  Wednesday  \n",
      "3  Shelbyville  08:37:09     Monday  \n",
      "4  Springfield  08:34:34     Monday  \n",
      "5  Shelbyville  13:09:41     Friday  \n",
      "6  Springfield  13:00:07  Wednesday  \n",
      "7  Springfield  20:47:49  Wednesday  \n",
      "8  Springfield  09:17:40     Friday  \n",
      "9  Shelbyville  21:20:49  Wednesday  \n"
     ]
    }
   ],
   "source": [
    "# Ahora, elimina todos los duplicados. Para ello, llama al método que hace exactamente esto.\n",
    "# Eliminar duplicados explícitos\n",
    "df = df.drop_duplicates()\n",
    "print(df.head(10))\n"
   ]
  },
  {
   "cell_type": "code",
   "execution_count": 19,
   "id": "e732e60b",
   "metadata": {},
   "outputs": [
    {
     "name": "stdout",
     "output_type": "stream",
     "text": [
      "0\n"
     ]
    }
   ],
   "source": [
    "# Comprobemos ahora si eliminamos con éxito todos los duplicados. Cuenta los duplicados explícitos una vez más\n",
    "# para asegurarte de haberlos eliminado todos:\n",
    "# Comprobar de nuevo si hay duplicados\n",
    "\n",
    "print(df.duplicated().sum())"
   ]
  },
  {
   "cell_type": "markdown",
   "id": "29af24a7",
   "metadata": {},
   "source": [
    "Ahora queremos deshacernos de los duplicados implícitos en la columna genre. Por ejemplo, el nombre de un género se puede escribir de varias formas. Dichos errores también pueden afectar al resultado.\n",
    "Para hacerlo, primero mostremos una lista de nombres de género únicos, ordenados en orden alfabético. Para ello:\n",
    "\n",
    "•\tExtrae la columna genre del DataFrame.\n",
    "\n",
    "•\tLlama al método que devolverá todos los valores únicos en la columna extraída."
   ]
  },
  {
   "cell_type": "code",
   "execution_count": 20,
   "id": "53776671",
   "metadata": {},
   "outputs": [
    {
     "name": "stdout",
     "output_type": "stream",
     "text": [
      "['rock' 'pop' 'folk' 'dance' 'rusrap' 'ruspop' 'world' 'electronic'\n",
      " 'unknown' 'alternative' 'children' 'rnb' 'hip' 'jazz' 'postrock' 'latin'\n",
      " 'classical' 'metal' 'reggae' 'triphop' 'blues' 'instrumental' 'rusrock'\n",
      " 'dnb' 'türk' 'post' 'country' 'psychedelic' 'conjazz' 'indie'\n",
      " 'posthardcore' 'local' 'avantgarde' 'punk' 'videogame' 'techno' 'house'\n",
      " 'christmas' 'melodic' 'caucasian' 'reggaeton' 'soundtrack' 'singer' 'ska'\n",
      " 'salsa' 'ambient' 'film' 'western' 'rap' 'beats' \"hard'n'heavy\"\n",
      " 'progmetal' 'minimal' 'tropical' 'contemporary' 'new' 'soul' 'holiday'\n",
      " 'german' 'jpop' 'spiritual' 'urban' 'gospel' 'nujazz' 'folkmetal'\n",
      " 'trance' 'miscellaneous' 'anime' 'hardcore' 'progressive' 'korean'\n",
      " 'numetal' 'vocal' 'estrada' 'tango' 'loungeelectronic' 'classicmetal'\n",
      " 'dubstep' 'club' 'deep' 'southern' 'black' 'folkrock' 'fitness' 'french'\n",
      " 'disco' 'religious' 'hiphop' 'drum' 'extrememetal' 'türkçe'\n",
      " 'experimental' 'easy' 'metalcore' 'modern' 'argentinetango' 'old' 'swing'\n",
      " 'breaks' 'eurofolk' 'stonerrock' 'industrial' 'funk' 'middle' 'variété'\n",
      " 'other' 'adult' 'christian' 'thrash' 'gothic' 'international' 'muslim'\n",
      " 'relax' 'schlager' 'caribbean' 'nu' 'breakbeat' 'comedy' 'chill' 'newage'\n",
      " 'specialty' 'uzbek' 'k-pop' 'balkan' 'chinese' 'meditative' 'dub' 'power'\n",
      " 'death' 'grime' 'arabesk' 'romance' 'flamenco' 'leftfield' 'european'\n",
      " 'tech' 'newwave' 'dancehall' 'mpb' 'piano' 'top' 'bigroom' 'opera'\n",
      " 'celtic' 'tradjazz' 'acoustic' 'epicmetal' 'hip-hop' 'historisch'\n",
      " 'downbeat' 'downtempo' 'africa' 'audiobook' 'jewish' 'sängerportrait'\n",
      " 'deutschrock' 'eastern' 'action' 'future' 'electropop' 'folklore'\n",
      " 'bollywood' 'marschmusik' 'rnr' 'karaoke' 'indian' 'rancheras'\n",
      " 'afrikaans' 'rhythm' 'sound' 'deutschspr' 'trip' 'lovers' 'choral'\n",
      " 'dancepop' 'retro' 'smooth' 'mexican' 'brazilian' 'ïîï' 'mood' 'surf'\n",
      " 'gangsta' 'inspirational' 'idm' 'ethnic' 'bluegrass' 'broadway'\n",
      " 'animated' 'americana' 'karadeniz' 'rockabilly' 'colombian' 'self' 'hop'\n",
      " 'sertanejo' 'japanese' 'canzone' 'lounge' 'sport' 'ragga' 'traditional'\n",
      " 'gitarre' 'frankreich' 'emo' 'laiko' 'cantopop' 'glitch' 'documentary'\n",
      " 'oceania' 'popeurodance' 'dark' 'vi' 'grunge' 'hardstyle' 'samba'\n",
      " 'garage' 'art' 'folktronica' 'entehno' 'mediterranean' 'chamber' 'cuban'\n",
      " 'taraftar' 'gypsy' 'hardtechno' 'shoegazing' 'bossa' 'latino' 'worldbeat'\n",
      " 'malaysian' 'baile' 'ghazal' 'arabic' 'popelectronic' 'acid' 'kayokyoku'\n",
      " 'neoklassik' 'tribal' 'tanzorchester' 'native' 'independent' 'cantautori'\n",
      " 'handsup' 'punjabi' 'synthpop' 'rave' 'französisch' 'quebecois' 'speech'\n",
      " 'soulful' 'jam' 'ram' 'horror' 'orchestral' 'neue' 'roots' 'slow'\n",
      " 'jungle' 'indipop' 'axé' 'fado' 'showtunes' 'arena' 'irish' 'mandopop'\n",
      " 'forró' 'dirty' 'regional']\n"
     ]
    }
   ],
   "source": [
    "# Inspeccionar los nombres de géneros únicos\n",
    "print(df['genre'].unique())  #localizados 'hip' 'hiphop' 'hip-hop' 'hop'"
   ]
  },
  {
   "cell_type": "markdown",
   "id": "a04b668d",
   "metadata": {},
   "source": [
    "Busca en la lista para encontrar duplicados implícitos del género hiphop. Estos pueden ser nombres escritos incorrectamente o nombres alternativos para el mismo género.\n",
    "Verás los siguientes duplicados implícitos:\n",
    "\n",
    "•\thip\n",
    "\n",
    "•\thop\n",
    "\n",
    "•\thip-hop\n",
    "\n",
    "Para deshacerte de ellos, crea una función llamada replace_wrong_genres() con dos parámetros:\n",
    "\n",
    "•\twrong_genres=: esta es una lista que contiene todos los valores que necesitas reemplazar.\n",
    "\n",
    "•\tcorrect_genre=: este es un string que vas a utilizar como reemplazo.\n",
    "\n",
    "Como resultado, la función debería corregir los nombres en la columna 'genre' de la tabla df, es decir, remplazar cada valor de la lista wrong_genres por el valor en correct_genre.\n",
    "Dentro del cuerpo de la función, utiliza un bucle 'for' para iterar sobre la lista de géneros incorrectos, extrae la columna 'genre' y aplica el método replace para hacer correcciones.\n"
   ]
  },
  {
   "cell_type": "code",
   "execution_count": null,
   "id": "62389a12",
   "metadata": {},
   "outputs": [],
   "source": [
    "# Función para reemplazar duplicados implícitos\n",
    "def replace_wrong_genres(wrong_genres, correct_genre):\n",
    "    for wrong_genre in wrong_genres: #utiliza un bucle 'for' para iterar sobre la lista de géneros incorrectos, \n",
    "        #donde con el uso de una nueva variable estas transformado una lista en un string para poder usar el replace\n",
    "        df['genre'] = df['genre'].replace(wrong_genre, correct_genre) #extrae la columna 'genre' y aplica el método \n",
    "        # replace para hacer correcciones. mucho ojo con el formato que requieres en esta linea, para que recuerdes \n",
    "        # porque no salia, df['genre'] = df['genre'].replace()\n",
    "# lista con los valores a reemplazar la columna 'genre'\n",
    "wrong_genres = ['hip', 'hop', 'hip-hop']\n",
    "# lista con el valor correcto\n",
    "correct_genre = 'hiphop'"
   ]
  },
  {
   "cell_type": "code",
   "execution_count": 2,
   "id": "02282270",
   "metadata": {},
   "outputs": [
    {
     "ename": "NameError",
     "evalue": "name 'df' is not defined",
     "output_type": "error",
     "traceback": [
      "\u001b[31m---------------------------------------------------------------------------\u001b[39m",
      "\u001b[31mNameError\u001b[39m                                 Traceback (most recent call last)",
      "\u001b[36mCell\u001b[39m\u001b[36m \u001b[39m\u001b[32mIn[2]\u001b[39m\u001b[32m, line 8\u001b[39m\n\u001b[32m      1\u001b[39m \u001b[38;5;66;03m# Ahora, llama a replace_wrong_genres() y pásale tales argumentos para que retire los duplicados implícitos \u001b[39;00m\n\u001b[32m      2\u001b[39m \u001b[38;5;66;03m# (hip, hop y hip-hop) y los reemplace por hiphop:\u001b[39;00m\n\u001b[32m      3\u001b[39m \u001b[38;5;66;03m# Eliminar duplicados implícitos\u001b[39;00m\n\u001b[32m   (...)\u001b[39m\u001b[32m      6\u001b[39m \u001b[38;5;66;03m# 'genre' una vez más:\u001b[39;00m\n\u001b[32m      7\u001b[39m \u001b[38;5;66;03m# Comprobación de duplicados implícitos\u001b[39;00m\n\u001b[32m----> \u001b[39m\u001b[32m8\u001b[39m \u001b[38;5;28mprint\u001b[39m(\u001b[43mdf\u001b[49m[\u001b[33m'\u001b[39m\u001b[33mgenre\u001b[39m\u001b[33m'\u001b[39m].unique())\n",
      "\u001b[31mNameError\u001b[39m: name 'df' is not defined"
     ]
    }
   ],
   "source": [
    "# Ahora, llama a replace_wrong_genres() y pásale tales argumentos para que retire los duplicados implícitos \n",
    "# (hip, hop y hip-hop) y los reemplace por hiphop:\n",
    "# Eliminar duplicados implícitos\n",
    "# replace_wrong_genres(wrong_genres, correct_genre)\n",
    "# Asegúrate de que los nombres duplicados han sido eliminados. Muestra la lista de valores únicos de la columna \n",
    "# 'genre' una vez más:\n",
    "# Comprobación de duplicados implícitos\n",
    "print(df['genre'].unique())\n"
   ]
  },
  {
   "cell_type": "markdown",
   "id": "ad72cd09",
   "metadata": {},
   "source": [
    "Volver a Contenidos"
   ]
  },
  {
   "cell_type": "markdown",
   "id": "11a806ca",
   "metadata": {},
   "source": [
    "### 3.4  Tus observaciones \n",
    "Describe brevemente lo que has notado al analizar duplicados, cómo abordaste sus eliminaciones y qué resultados obtuviste. Hablando de los duplicados encontrados lo mas probable es que solo fueron errores al momento de asginarles el genero donde hacia falta una silaba o el uso de un guion de parte de quien los califica asi por costumbre. Por medio de una funcion y un bucle, se trabajo en la correcion de los mismos con el fin de obtener los resultados adecuados en la parte siguiente del trabajo\n",
    "\n",
    "Volver a Contenidos\n"
   ]
  },
  {
   "cell_type": "markdown",
   "id": "6f41ae76",
   "metadata": {},
   "source": [
    "### 4  Etapa 3. Prueba de hipótesis "
   ]
  },
  {
   "cell_type": "markdown",
   "id": "0d1422c7",
   "metadata": {},
   "source": [
    "#### 4.1  Hipótesis: comparar el comportamiento del usuario o la usuaria en las dos ciudades \n",
    "La hipótesis afirma que existen diferencias en la forma en que los usuarios y las usuarias de Springfield y Shelbyville consumen música. Para comprobar esto, usa los datos de tres días de la semana: lunes, miércoles y viernes.\n",
    "\n",
    "•\tAgrupa a los usuarios y las usuarias por ciudad.\n",
    "\n",
    "•\tCompara el número de canciones que cada grupo reprodujo el lunes, el miércoles y el viernes.\n",
    "\n",
    "Realiza cada cálculo por separado.\n",
    "El primer paso es evaluar la actividad del usuario en cada ciudad. Recuerda las etapas dividir-aplicar-combinar de las que hablamos anteriormente en la lección. Tu objetivo ahora es agrupar los datos por ciudad, aplicar el método apropiado para contar durante la etapa de aplicación y luego encontrar la cantidad de canciones reproducidas en cada grupo especificando la columna para obtener el recuento.\n",
    "\n",
    "A continuación se muestra un ejemplo de cómo debería verse el resultado final: df.groupby(by='....')['column'].method()  Realiza cada cálculo por separado.\n"
   ]
  },
  {
   "cell_type": "code",
   "execution_count": 5,
   "id": "6a6c115a",
   "metadata": {},
   "outputs": [
    {
     "ename": "NameError",
     "evalue": "name 'df' is not defined",
     "output_type": "error",
     "traceback": [
      "\u001b[31m---------------------------------------------------------------------------\u001b[39m",
      "\u001b[31mNameError\u001b[39m                                 Traceback (most recent call last)",
      "\u001b[36mCell\u001b[39m\u001b[36m \u001b[39m\u001b[32mIn[5]\u001b[39m\u001b[32m, line 1\u001b[39m\n\u001b[32m----> \u001b[39m\u001b[32m1\u001b[39m \u001b[43mdf\u001b[49m.head(\u001b[32m5\u001b[39m)\n",
      "\u001b[31mNameError\u001b[39m: name 'df' is not defined"
     ]
    }
   ],
   "source": [
    "df.head(5)"
   ]
  },
  {
   "cell_type": "code",
   "execution_count": 4,
   "id": "631ec3cf",
   "metadata": {},
   "outputs": [
    {
     "ename": "NameError",
     "evalue": "name 'df' is not defined",
     "output_type": "error",
     "traceback": [
      "\u001b[31m---------------------------------------------------------------------------\u001b[39m",
      "\u001b[31mNameError\u001b[39m                                 Traceback (most recent call last)",
      "\u001b[36mCell\u001b[39m\u001b[36m \u001b[39m\u001b[32mIn[4]\u001b[39m\u001b[32m, line 4\u001b[39m\n\u001b[32m      1\u001b[39m \u001b[38;5;66;03m# Para evaluar la actividad de los usuarios y las usuarias en cada ciudad, agrupa los datos por ciudad y encuentra\u001b[39;00m\n\u001b[32m      2\u001b[39m \u001b[38;5;66;03m# la cantidad de canciones reproducidas en cada grupo.\u001b[39;00m\n\u001b[32m      3\u001b[39m \u001b[38;5;66;03m# Contar las canciones reproducidas en cada ciudad\u001b[39;00m\n\u001b[32m----> \u001b[39m\u001b[32m4\u001b[39m city_groups = \u001b[43mdf\u001b[49m.groupby(\u001b[33m'\u001b[39m\u001b[33mcity\u001b[39m\u001b[33m'\u001b[39m)[\u001b[33m'\u001b[39m\u001b[33mcity\u001b[39m\u001b[33m'\u001b[39m].count()\n\u001b[32m      5\u001b[39m \u001b[38;5;28mprint\u001b[39m(city_groups)\n",
      "\u001b[31mNameError\u001b[39m: name 'df' is not defined"
     ]
    }
   ],
   "source": [
    "# Para evaluar la actividad de los usuarios y las usuarias en cada ciudad, agrupa los datos por ciudad y encuentra\n",
    "# la cantidad de canciones reproducidas en cada grupo.\n",
    "# Contar las canciones reproducidas en cada ciudad\n",
    "city_groups = df.groupby('city')['city'].count()\n",
    "print(city_groups)"
   ]
  },
  {
   "cell_type": "code",
   "execution_count": null,
   "id": "a85baf55",
   "metadata": {},
   "outputs": [],
   "source": []
  }
 ],
 "metadata": {
  "kernelspec": {
   "display_name": "Python 3",
   "language": "python",
   "name": "python3"
  },
  "language_info": {
   "codemirror_mode": {
    "name": "ipython",
    "version": 3
   },
   "file_extension": ".py",
   "mimetype": "text/x-python",
   "name": "python",
   "nbconvert_exporter": "python",
   "pygments_lexer": "ipython3",
   "version": "3.11.9"
  }
 },
 "nbformat": 4,
 "nbformat_minor": 5
}
