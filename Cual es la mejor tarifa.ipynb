{
 "cells": [
  {
   "cell_type": "markdown",
   "metadata": {
    "id": "3rYiDeEH0q0f"
   },
   "source": [
    "# ¿Cuál es la mejor tarifa?\n",
    "\n",
    "Trabajas como analista para el operador de telecomunicaciones Megaline. La empresa ofrece a sus clientes dos tarifas de prepago, Surf y Ultimate. El departamento comercial quiere saber cuál de las tarifas genera más ingresos para poder ajustar el presupuesto de publicidad.\n",
    "\n",
    "Vas a realizar un análisis preliminar de las tarifas basado en una selección de clientes relativamente pequeña. Tendrás los datos de 500 clientes de Megaline: quiénes son los clientes, de dónde son, qué tarifa usan, así como la cantidad de llamadas que hicieron y los mensajes de texto que enviaron en 2018. Tu trabajo es analizar el comportamiento de los clientes y determinar qué tarifa de prepago genera más ingresos."
   ]
  },
  {
   "cell_type": "markdown",
   "metadata": {
    "id": "VNddPNRQ0q0w"
   },
   "source": [
    "las acciones que planeas realizar.]\n",
    "    El proposito general del proyecto es verificar cual de los 2planes existentes de prepago, para los clientes, genera mas ingresos, para proporcionar al departamento de marketing el analisis adecuado de los datos y estos puedan diseñar las estrategias necesarias para aunmetar los ingresos para la empresa.\n",
    "    Para ello nesecito revisar las bases de datos porporcionadas, conocer de manera general su contenido, para implemetar los cambios, correcciones y/o eliminaciones o creacion de nueva informacion en base a los datos encontrados para poder procesar y analizar segun se requiera y poder proporcionar los datos necesarios para que la empresa se encargue de diseñar las estrategias necesarias par aumentar sus ingresos\n",
    "[Ten en cuenta que estudiar, modificar y analizar datos es un proceso iterativo. Es normal volver a los pasos anteriores y corregirlos/ampliarlos para permitir nuevos pasos.]"
   ]
  },
  {
   "cell_type": "markdown",
   "metadata": {
    "id": "MQi4IPy70q0y"
   },
   "source": [
    "## Inicialización"
   ]
  },
  {
   "cell_type": "code",
   "execution_count": 1,
   "metadata": {
    "id": "MtYIuBxu0q0z"
   },
   "outputs": [
    {
     "data": {
      "text/html": [
       "<div>\n",
       "<style scoped>\n",
       "    .dataframe tbody tr th:only-of-type {\n",
       "        vertical-align: middle;\n",
       "    }\n",
       "\n",
       "    .dataframe tbody tr th {\n",
       "        vertical-align: top;\n",
       "    }\n",
       "\n",
       "    .dataframe thead th {\n",
       "        text-align: right;\n",
       "    }\n",
       "</style>\n",
       "<table border=\"1\" class=\"dataframe\">\n",
       "  <thead>\n",
       "    <tr style=\"text-align: right;\">\n",
       "      <th></th>\n",
       "      <th>user_id</th>\n",
       "      <th>first_name</th>\n",
       "      <th>last_name</th>\n",
       "      <th>age</th>\n",
       "      <th>city</th>\n",
       "      <th>reg_date</th>\n",
       "      <th>plan</th>\n",
       "      <th>churn_date</th>\n",
       "    </tr>\n",
       "  </thead>\n",
       "  <tbody>\n",
       "    <tr>\n",
       "      <th>0</th>\n",
       "      <td>1000</td>\n",
       "      <td>Anamaria</td>\n",
       "      <td>Bauer</td>\n",
       "      <td>45</td>\n",
       "      <td>Atlanta-Sandy Springs-Roswell, GA MSA</td>\n",
       "      <td>2018-12-24</td>\n",
       "      <td>ultimate</td>\n",
       "      <td>NaN</td>\n",
       "    </tr>\n",
       "    <tr>\n",
       "      <th>1</th>\n",
       "      <td>1001</td>\n",
       "      <td>Mickey</td>\n",
       "      <td>Wilkerson</td>\n",
       "      <td>28</td>\n",
       "      <td>Seattle-Tacoma-Bellevue, WA MSA</td>\n",
       "      <td>2018-08-13</td>\n",
       "      <td>surf</td>\n",
       "      <td>NaN</td>\n",
       "    </tr>\n",
       "    <tr>\n",
       "      <th>2</th>\n",
       "      <td>1002</td>\n",
       "      <td>Carlee</td>\n",
       "      <td>Hoffman</td>\n",
       "      <td>36</td>\n",
       "      <td>Las Vegas-Henderson-Paradise, NV MSA</td>\n",
       "      <td>2018-10-21</td>\n",
       "      <td>surf</td>\n",
       "      <td>NaN</td>\n",
       "    </tr>\n",
       "    <tr>\n",
       "      <th>3</th>\n",
       "      <td>1003</td>\n",
       "      <td>Reynaldo</td>\n",
       "      <td>Jenkins</td>\n",
       "      <td>52</td>\n",
       "      <td>Tulsa, OK MSA</td>\n",
       "      <td>2018-01-28</td>\n",
       "      <td>surf</td>\n",
       "      <td>NaN</td>\n",
       "    </tr>\n",
       "    <tr>\n",
       "      <th>4</th>\n",
       "      <td>1004</td>\n",
       "      <td>Leonila</td>\n",
       "      <td>Thompson</td>\n",
       "      <td>40</td>\n",
       "      <td>Seattle-Tacoma-Bellevue, WA MSA</td>\n",
       "      <td>2018-05-23</td>\n",
       "      <td>surf</td>\n",
       "      <td>NaN</td>\n",
       "    </tr>\n",
       "    <tr>\n",
       "      <th>...</th>\n",
       "      <td>...</td>\n",
       "      <td>...</td>\n",
       "      <td>...</td>\n",
       "      <td>...</td>\n",
       "      <td>...</td>\n",
       "      <td>...</td>\n",
       "      <td>...</td>\n",
       "      <td>...</td>\n",
       "    </tr>\n",
       "    <tr>\n",
       "      <th>495</th>\n",
       "      <td>1495</td>\n",
       "      <td>Fidel</td>\n",
       "      <td>Sharpe</td>\n",
       "      <td>67</td>\n",
       "      <td>New York-Newark-Jersey City, NY-NJ-PA MSA</td>\n",
       "      <td>2018-09-04</td>\n",
       "      <td>surf</td>\n",
       "      <td>NaN</td>\n",
       "    </tr>\n",
       "    <tr>\n",
       "      <th>496</th>\n",
       "      <td>1496</td>\n",
       "      <td>Ariel</td>\n",
       "      <td>Shepherd</td>\n",
       "      <td>49</td>\n",
       "      <td>New Orleans-Metairie, LA MSA</td>\n",
       "      <td>2018-02-20</td>\n",
       "      <td>surf</td>\n",
       "      <td>NaN</td>\n",
       "    </tr>\n",
       "    <tr>\n",
       "      <th>497</th>\n",
       "      <td>1497</td>\n",
       "      <td>Donte</td>\n",
       "      <td>Barrera</td>\n",
       "      <td>49</td>\n",
       "      <td>Los Angeles-Long Beach-Anaheim, CA MSA</td>\n",
       "      <td>2018-12-10</td>\n",
       "      <td>ultimate</td>\n",
       "      <td>NaN</td>\n",
       "    </tr>\n",
       "    <tr>\n",
       "      <th>498</th>\n",
       "      <td>1498</td>\n",
       "      <td>Scot</td>\n",
       "      <td>Williamson</td>\n",
       "      <td>51</td>\n",
       "      <td>New York-Newark-Jersey City, NY-NJ-PA MSA</td>\n",
       "      <td>2018-02-04</td>\n",
       "      <td>surf</td>\n",
       "      <td>NaN</td>\n",
       "    </tr>\n",
       "    <tr>\n",
       "      <th>499</th>\n",
       "      <td>1499</td>\n",
       "      <td>Shena</td>\n",
       "      <td>Dickson</td>\n",
       "      <td>37</td>\n",
       "      <td>Orlando-Kissimmee-Sanford, FL MSA</td>\n",
       "      <td>2018-05-06</td>\n",
       "      <td>surf</td>\n",
       "      <td>NaN</td>\n",
       "    </tr>\n",
       "  </tbody>\n",
       "</table>\n",
       "<p>500 rows × 8 columns</p>\n",
       "</div>"
      ],
      "text/plain": [
       "     user_id first_name   last_name  age  \\\n",
       "0       1000   Anamaria       Bauer   45   \n",
       "1       1001     Mickey   Wilkerson   28   \n",
       "2       1002     Carlee     Hoffman   36   \n",
       "3       1003   Reynaldo     Jenkins   52   \n",
       "4       1004    Leonila    Thompson   40   \n",
       "..       ...        ...         ...  ...   \n",
       "495     1495      Fidel      Sharpe   67   \n",
       "496     1496      Ariel    Shepherd   49   \n",
       "497     1497      Donte     Barrera   49   \n",
       "498     1498       Scot  Williamson   51   \n",
       "499     1499      Shena     Dickson   37   \n",
       "\n",
       "                                          city    reg_date      plan  \\\n",
       "0        Atlanta-Sandy Springs-Roswell, GA MSA  2018-12-24  ultimate   \n",
       "1              Seattle-Tacoma-Bellevue, WA MSA  2018-08-13      surf   \n",
       "2         Las Vegas-Henderson-Paradise, NV MSA  2018-10-21      surf   \n",
       "3                                Tulsa, OK MSA  2018-01-28      surf   \n",
       "4              Seattle-Tacoma-Bellevue, WA MSA  2018-05-23      surf   \n",
       "..                                         ...         ...       ...   \n",
       "495  New York-Newark-Jersey City, NY-NJ-PA MSA  2018-09-04      surf   \n",
       "496               New Orleans-Metairie, LA MSA  2018-02-20      surf   \n",
       "497     Los Angeles-Long Beach-Anaheim, CA MSA  2018-12-10  ultimate   \n",
       "498  New York-Newark-Jersey City, NY-NJ-PA MSA  2018-02-04      surf   \n",
       "499          Orlando-Kissimmee-Sanford, FL MSA  2018-05-06      surf   \n",
       "\n",
       "    churn_date  \n",
       "0          NaN  \n",
       "1          NaN  \n",
       "2          NaN  \n",
       "3          NaN  \n",
       "4          NaN  \n",
       "..         ...  \n",
       "495        NaN  \n",
       "496        NaN  \n",
       "497        NaN  \n",
       "498        NaN  \n",
       "499        NaN  \n",
       "\n",
       "[500 rows x 8 columns]"
      ]
     },
     "execution_count": 1,
     "metadata": {},
     "output_type": "execute_result"
    }
   ],
   "source": [
    "# Cargar todas las librerías\n",
    "import pandas as pd\n",
    "pd.read_csv('/datasets/megaline_calls.csv')\n",
    "import pandas as pd\n",
    "pd.read_csv('/datasets/megaline_internet.csv')\n",
    "import pandas as pd\n",
    "pd.read_csv('/datasets/megaline_messages.csv')\n",
    "import pandas as pd\n",
    "pd.read_csv('/datasets/megaline_plans.csv')\n",
    "import pandas as pd\n",
    "pd.read_csv('/datasets/megaline_users.csv')"
   ]
  },
  {
   "cell_type": "markdown",
   "metadata": {
    "id": "4ysWWC5i0q00"
   },
   "source": [
    "## Cargar datos"
   ]
  },
  {
   "cell_type": "code",
   "execution_count": 2,
   "metadata": {
    "id": "CCqPW7rS0q01"
   },
   "outputs": [],
   "source": [
    "# Carga los archivos de datos en diferentes DataFrames\n",
    "import pandas as pd\n",
    "df_calls = pd.read_csv('/datasets/megaline_calls.csv')\n",
    "\n",
    "import pandas as pd\n",
    "df_internet = pd.read_csv('/datasets/megaline_internet.csv')\n",
    "\n",
    "import pandas as pd\n",
    "df_messages = pd.read_csv('/datasets/megaline_messages.csv')\n",
    "\n",
    "import pandas as pd\n",
    "df_plans = pd.read_csv('/datasets/megaline_plans.csv')\n",
    "\n",
    "import pandas as pd\n",
    "df_users = pd.read_csv('/datasets/megaline_users.csv')"
   ]
  },
  {
   "cell_type": "markdown",
   "metadata": {
    "id": "69qqoJ3r0q01"
   },
   "source": [
    "## Preparar los datos"
   ]
  },
  {
   "cell_type": "markdown",
   "metadata": {
    "id": "vUuZw80S0q01"
   },
   "source": [
    "[Los datos para este proyecto se dividen en varias tablas. Explora cada una para tener una comprensión inicial de los datos. Si es necesario, haz las correcciones requeridas en cada tabla.]"
   ]
  },
  {
   "cell_type": "code",
   "execution_count": 3,
   "metadata": {},
   "outputs": [
    {
     "name": "stdout",
     "output_type": "stream",
     "text": [
      "<class 'pandas.core.frame.DataFrame'>\n",
      "RangeIndex: 500 entries, 0 to 499\n",
      "Data columns (total 8 columns):\n",
      " #   Column      Non-Null Count  Dtype \n",
      "---  ------      --------------  ----- \n",
      " 0   user_id     500 non-null    int64 \n",
      " 1   first_name  500 non-null    object\n",
      " 2   last_name   500 non-null    object\n",
      " 3   age         500 non-null    int64 \n",
      " 4   city        500 non-null    object\n",
      " 5   reg_date    500 non-null    object\n",
      " 6   plan        500 non-null    object\n",
      " 7   churn_date  34 non-null     object\n",
      "dtypes: int64(2), object(6)\n",
      "memory usage: 31.4+ KB\n",
      "\n",
      "<class 'pandas.core.frame.DataFrame'>\n",
      "RangeIndex: 137735 entries, 0 to 137734\n",
      "Data columns (total 4 columns):\n",
      " #   Column     Non-Null Count   Dtype  \n",
      "---  ------     --------------   -----  \n",
      " 0   id         137735 non-null  object \n",
      " 1   user_id    137735 non-null  int64  \n",
      " 2   call_date  137735 non-null  object \n",
      " 3   duration   137735 non-null  float64\n",
      "dtypes: float64(1), int64(1), object(2)\n",
      "memory usage: 4.2+ MB\n",
      "\n",
      "<class 'pandas.core.frame.DataFrame'>\n",
      "RangeIndex: 76051 entries, 0 to 76050\n",
      "Data columns (total 3 columns):\n",
      " #   Column        Non-Null Count  Dtype \n",
      "---  ------        --------------  ----- \n",
      " 0   id            76051 non-null  object\n",
      " 1   user_id       76051 non-null  int64 \n",
      " 2   message_date  76051 non-null  object\n",
      "dtypes: int64(1), object(2)\n",
      "memory usage: 1.7+ MB\n",
      "\n",
      "<class 'pandas.core.frame.DataFrame'>\n",
      "RangeIndex: 104825 entries, 0 to 104824\n",
      "Data columns (total 4 columns):\n",
      " #   Column        Non-Null Count   Dtype  \n",
      "---  ------        --------------   -----  \n",
      " 0   id            104825 non-null  object \n",
      " 1   user_id       104825 non-null  int64  \n",
      " 2   session_date  104825 non-null  object \n",
      " 3   mb_used       104825 non-null  float64\n",
      "dtypes: float64(1), int64(1), object(2)\n",
      "memory usage: 3.2+ MB\n",
      "\n",
      "<class 'pandas.core.frame.DataFrame'>\n",
      "RangeIndex: 2 entries, 0 to 1\n",
      "Data columns (total 8 columns):\n",
      " #   Column                 Non-Null Count  Dtype  \n",
      "---  ------                 --------------  -----  \n",
      " 0   messages_included      2 non-null      int64  \n",
      " 1   mb_per_month_included  2 non-null      int64  \n",
      " 2   minutes_included       2 non-null      int64  \n",
      " 3   usd_monthly_pay        2 non-null      int64  \n",
      " 4   usd_per_gb             2 non-null      int64  \n",
      " 5   usd_per_message        2 non-null      float64\n",
      " 6   usd_per_minute         2 non-null      float64\n",
      " 7   plan_name              2 non-null      object \n",
      "dtypes: float64(2), int64(5), object(1)\n",
      "memory usage: 256.0+ bytes\n"
     ]
    }
   ],
   "source": [
    "df_users.info()\n",
    "print()\n",
    "df_calls.info()\n",
    "print()\n",
    "df_messages.info()\n",
    "print()\n",
    "df_internet.info()\n",
    "print()\n",
    "df_plans.info()"
   ]
  },
  {
   "cell_type": "code",
   "execution_count": 4,
   "metadata": {},
   "outputs": [
    {
     "name": "stdout",
     "output_type": "stream",
     "text": [
      "     user_id  first_name   last_name  age  \\\n",
      "246     1246      Stevie       Moran   69   \n",
      "363     1363      Sandee        Lott   33   \n",
      "441     1441      Piedad       Myers   23   \n",
      "414     1414  Georgianne     Herring   30   \n",
      "22      1022          Bo        Snow   73   \n",
      "..       ...         ...         ...  ...   \n",
      "495     1495       Fidel      Sharpe   67   \n",
      "496     1496       Ariel    Shepherd   49   \n",
      "497     1497       Donte     Barrera   49   \n",
      "498     1498        Scot  Williamson   51   \n",
      "499     1499       Shena     Dickson   37   \n",
      "\n",
      "                                          city    reg_date      plan  \\\n",
      "246    Tampa-St. Petersburg-Clearwater, FL MSA  2018-01-09  ultimate   \n",
      "363            Seattle-Tacoma-Bellevue, WA MSA  2018-01-05  ultimate   \n",
      "441      Atlanta-Sandy Springs-Roswell, GA MSA  2018-03-08  ultimate   \n",
      "414                     Urban Honolulu, HI MSA  2018-03-03      surf   \n",
      "22   New York-Newark-Jersey City, NY-NJ-PA MSA  2018-04-20      surf   \n",
      "..                                         ...         ...       ...   \n",
      "495  New York-Newark-Jersey City, NY-NJ-PA MSA  2018-09-04      surf   \n",
      "496               New Orleans-Metairie, LA MSA  2018-02-20      surf   \n",
      "497     Los Angeles-Long Beach-Anaheim, CA MSA  2018-12-10  ultimate   \n",
      "498  New York-Newark-Jersey City, NY-NJ-PA MSA  2018-02-04      surf   \n",
      "499          Orlando-Kissimmee-Sanford, FL MSA  2018-05-06      surf   \n",
      "\n",
      "     churn_date  \n",
      "246  2018-07-31  \n",
      "363  2018-08-16  \n",
      "441  2018-08-19  \n",
      "414  2018-09-01  \n",
      "22   2018-09-07  \n",
      "..          ...  \n",
      "495         NaN  \n",
      "496         NaN  \n",
      "497         NaN  \n",
      "498         NaN  \n",
      "499         NaN  \n",
      "\n",
      "[500 rows x 8 columns]\n"
     ]
    }
   ],
   "source": [
    "print(df_users.sort_values(by='churn_date'))"
   ]
  },
  {
   "cell_type": "markdown",
   "metadata": {
    "id": "ohBhimvH0q01"
   },
   "source": [
    "## Tarifas"
   ]
  },
  {
   "cell_type": "code",
   "execution_count": 5,
   "metadata": {
    "id": "GptqP3Q40q02"
   },
   "outputs": [
    {
     "name": "stdout",
     "output_type": "stream",
     "text": [
      "<class 'pandas.core.frame.DataFrame'>\n",
      "RangeIndex: 2 entries, 0 to 1\n",
      "Data columns (total 8 columns):\n",
      " #   Column                 Non-Null Count  Dtype  \n",
      "---  ------                 --------------  -----  \n",
      " 0   messages_included      2 non-null      int64  \n",
      " 1   mb_per_month_included  2 non-null      int64  \n",
      " 2   minutes_included       2 non-null      int64  \n",
      " 3   usd_monthly_pay        2 non-null      int64  \n",
      " 4   usd_per_gb             2 non-null      int64  \n",
      " 5   usd_per_message        2 non-null      float64\n",
      " 6   usd_per_minute         2 non-null      float64\n",
      " 7   plan_name              2 non-null      object \n",
      "dtypes: float64(2), int64(5), object(1)\n",
      "memory usage: 256.0+ bytes\n"
     ]
    }
   ],
   "source": [
    "# Imprime la información general/resumida sobre el DataFrame de las tarifas\n",
    "df_plans.info()"
   ]
  },
  {
   "cell_type": "code",
   "execution_count": 6,
   "metadata": {
    "id": "64xzjwL70q02"
   },
   "outputs": [
    {
     "name": "stdout",
     "output_type": "stream",
     "text": [
      "   messages_included  mb_per_month_included  minutes_included  \\\n",
      "0                 50                  15360               500   \n",
      "1               1000                  30720              3000   \n",
      "\n",
      "   usd_monthly_pay  usd_per_gb  usd_per_message  usd_per_minute plan_name  \n",
      "0               20          10             0.03            0.03      surf  \n",
      "1               70           7             0.01            0.01  ultimate  \n"
     ]
    }
   ],
   "source": [
    "# Imprime una muestra de los datos para las tarifas\n",
    "print(df_plans)"
   ]
  },
  {
   "cell_type": "markdown",
   "metadata": {
    "id": "mEc_3_hs0q02"
   },
   "source": [
    "[Describe lo que ves y observas en la información general y en la muestra de datos impresa para el precio de datos anterior. ¿Hay algún problema (tipos de datos no adecuados, datos ausentes, etc.) que pudieran necesitar investigación y cambios adicionales? ¿Cómo se puede arreglar?]\n",
    "en general la informacion parece completa en su mayoria, podriamos cambiar el user_id a object, ya que es un dato que no requiere de hacer operaciones, solo se encontraron valores nulos en el df de usuarios que habra que cambiar a desconocido o unknown, pues no hay forma de recuperar el dato real y un valor promedio no nos sirve en ese campo "
   ]
  },
  {
   "cell_type": "markdown",
   "metadata": {
    "id": "R3C05i1l0q03"
   },
   "source": [
    "## Corregir datos"
   ]
  },
  {
   "cell_type": "markdown",
   "metadata": {
    "id": "bIi8StZI0q03"
   },
   "source": [
    "[Corrige los problemas obvios con los datos basándote en las observaciones iniciales.]"
   ]
  },
  {
   "cell_type": "code",
   "execution_count": 7,
   "metadata": {
    "id": "Y7SVmjGn0q03"
   },
   "outputs": [
    {
     "name": "stdout",
     "output_type": "stream",
     "text": [
      "     user_id  first_name last_name  age  \\\n",
      "246     1246      Stevie     Moran   69   \n",
      "363     1363      Sandee      Lott   33   \n",
      "441     1441      Piedad     Myers   23   \n",
      "414     1414  Georgianne   Herring   30   \n",
      "22      1022          Bo      Snow   73   \n",
      "..       ...         ...       ...  ...   \n",
      "166     1166      Kaycee    Bryant   26   \n",
      "165     1165       Nigel     Huber   20   \n",
      "164     1164         Kam    Macias   31   \n",
      "132     1132      Edward   Roberts   39   \n",
      "499     1499       Shena   Dickson   37   \n",
      "\n",
      "                                                city    reg_date      plan  \\\n",
      "246          Tampa-St. Petersburg-Clearwater, FL MSA  2018-01-09  ultimate   \n",
      "363                  Seattle-Tacoma-Bellevue, WA MSA  2018-01-05  ultimate   \n",
      "441            Atlanta-Sandy Springs-Roswell, GA MSA  2018-03-08  ultimate   \n",
      "414                           Urban Honolulu, HI MSA  2018-03-03      surf   \n",
      "22         New York-Newark-Jersey City, NY-NJ-PA MSA  2018-04-20      surf   \n",
      "..                                               ...         ...       ...   \n",
      "166                Baltimore-Columbia-Towson, MD MSA  2018-05-07      surf   \n",
      "165  Philadelphia-Camden-Wilmington, PA-NJ-DE-MD MSA  2018-10-27      surf   \n",
      "164           Chicago-Naperville-Elgin, IL-IN-WI MSA  2018-02-17  ultimate   \n",
      "132           San Francisco-Oakland-Berkeley, CA MSA  2018-04-14  ultimate   \n",
      "499                Orlando-Kissimmee-Sanford, FL MSA  2018-05-06      surf   \n",
      "\n",
      "     churn_date  \n",
      "246  2018-07-31  \n",
      "363  2018-08-16  \n",
      "441  2018-08-19  \n",
      "414  2018-09-01  \n",
      "22   2018-09-07  \n",
      "..          ...  \n",
      "166     Unknown  \n",
      "165     Unknown  \n",
      "164     Unknown  \n",
      "132     Unknown  \n",
      "499     Unknown  \n",
      "\n",
      "[500 rows x 8 columns]\n"
     ]
    }
   ],
   "source": [
    "df_users['churn_date'] = df_users['churn_date'].fillna('Unknown')\n",
    "print(df_users.sort_values(by='churn_date'))"
   ]
  },
  {
   "cell_type": "markdown",
   "metadata": {
    "id": "LJir7bml0q03"
   },
   "source": [
    "## Enriquecer los datos"
   ]
  },
  {
   "cell_type": "markdown",
   "metadata": {
    "id": "eqADpCfg0q04"
   },
   "source": [
    "[Agrega factores adicionales a los datos si crees que pudieran ser útiles.]"
   ]
  },
  {
   "cell_type": "code",
   "execution_count": 8,
   "metadata": {
    "id": "gfcIEuXV0q04"
   },
   "outputs": [],
   "source": [
    "#Por lo menos al principio del proyecto no considero que se requiera de algo especial, si sale algo mas adelante lo hacemos aqui"
   ]
  },
  {
   "cell_type": "markdown",
   "metadata": {
    "id": "1n2X6WXf0q04"
   },
   "source": [
    "## Usuarios/as"
   ]
  },
  {
   "cell_type": "code",
   "execution_count": 9,
   "metadata": {
    "id": "2NgjWFqx0q05"
   },
   "outputs": [
    {
     "name": "stdout",
     "output_type": "stream",
     "text": [
      "<class 'pandas.core.frame.DataFrame'>\n",
      "RangeIndex: 500 entries, 0 to 499\n",
      "Data columns (total 8 columns):\n",
      " #   Column      Non-Null Count  Dtype \n",
      "---  ------      --------------  ----- \n",
      " 0   user_id     500 non-null    int64 \n",
      " 1   first_name  500 non-null    object\n",
      " 2   last_name   500 non-null    object\n",
      " 3   age         500 non-null    int64 \n",
      " 4   city        500 non-null    object\n",
      " 5   reg_date    500 non-null    object\n",
      " 6   plan        500 non-null    object\n",
      " 7   churn_date  500 non-null    object\n",
      "dtypes: int64(2), object(6)\n",
      "memory usage: 31.4+ KB\n"
     ]
    }
   ],
   "source": [
    "# Imprime la información general/resumida sobre el DataFrame de usuarios\n",
    "df_users.info()"
   ]
  },
  {
   "cell_type": "code",
   "execution_count": 10,
   "metadata": {
    "id": "1IN1L9uh0q05"
   },
   "outputs": [
    {
     "name": "stdout",
     "output_type": "stream",
     "text": [
      "   user_id first_name  last_name  age                                    city  \\\n",
      "0     1000   Anamaria      Bauer   45   Atlanta-Sandy Springs-Roswell, GA MSA   \n",
      "1     1001     Mickey  Wilkerson   28         Seattle-Tacoma-Bellevue, WA MSA   \n",
      "2     1002     Carlee    Hoffman   36    Las Vegas-Henderson-Paradise, NV MSA   \n",
      "3     1003   Reynaldo    Jenkins   52                           Tulsa, OK MSA   \n",
      "4     1004    Leonila   Thompson   40         Seattle-Tacoma-Bellevue, WA MSA   \n",
      "5     1005      Livia    Shields   31     Dallas-Fort Worth-Arlington, TX MSA   \n",
      "6     1006     Jesusa   Bradford   73  San Francisco-Oakland-Berkeley, CA MSA   \n",
      "7     1007    Eusebio      Welch   42           Grand Rapids-Kentwood, MI MSA   \n",
      "8     1008      Emely    Hoffman   53       Orlando-Kissimmee-Sanford, FL MSA   \n",
      "9     1009      Gerry     Little   19  San Jose-Sunnyvale-Santa Clara, CA MSA   \n",
      "\n",
      "     reg_date      plan  churn_date  \n",
      "0  2018-12-24  ultimate     Unknown  \n",
      "1  2018-08-13      surf     Unknown  \n",
      "2  2018-10-21      surf     Unknown  \n",
      "3  2018-01-28      surf     Unknown  \n",
      "4  2018-05-23      surf     Unknown  \n",
      "5  2018-11-29      surf     Unknown  \n",
      "6  2018-11-27  ultimate  2018-12-18  \n",
      "7  2018-07-11      surf     Unknown  \n",
      "8  2018-08-03  ultimate     Unknown  \n",
      "9  2018-04-22      surf     Unknown  \n"
     ]
    }
   ],
   "source": [
    "# Imprime una muestra de datos para usuarios\n",
    "print(df_users.head(10))"
   ]
  },
  {
   "cell_type": "markdown",
   "metadata": {
    "id": "dCZoUq4f0q06"
   },
   "source": [
    "[Describe lo que ves y observas en la información general y en la muestra de datos impresa para el precio de datos anterior. ¿Hay algún problema (tipos de datos no adecuados, datos ausentes, etc.) que pudieran necesitar investigación y cambios adicionales? ¿Cómo se puede arreglar?] Los cambios en esta base se realizaron con anterioridad, es la unica que contenia NaN no se requiere realizar ninguna correccion, las mayusculas al principio de cada nombre y apellido del cliente se pueden quedar como estan"
   ]
  },
  {
   "cell_type": "markdown",
   "metadata": {
    "id": "BX5FQh_I0q06"
   },
   "source": [
    "### Corregir los datos"
   ]
  },
  {
   "cell_type": "markdown",
   "metadata": {
    "id": "8OdKMwJv0q06"
   },
   "source": [
    "[Corrige los problemas obvios con los datos basándote en las observaciones iniciales.]"
   ]
  },
  {
   "cell_type": "code",
   "execution_count": 11,
   "metadata": {
    "id": "yUqX-K0C0q07"
   },
   "outputs": [],
   "source": [
    "# Se corrigio lo necesario con antelacion"
   ]
  },
  {
   "cell_type": "markdown",
   "metadata": {
    "id": "ycwuARJp0q07"
   },
   "source": [
    "### Enriquecer los datos"
   ]
  },
  {
   "cell_type": "markdown",
   "metadata": {
    "id": "96NIh4CJ0q08"
   },
   "source": [
    "[Agrega factores adicionales a los datos si crees que pudieran ser útiles.]"
   ]
  },
  {
   "cell_type": "code",
   "execution_count": 12,
   "metadata": {
    "id": "iq0AaBS90q08"
   },
   "outputs": [],
   "source": [
    "#Nada que agregar"
   ]
  },
  {
   "cell_type": "markdown",
   "metadata": {
    "id": "o7MeKCid0q08"
   },
   "source": [
    "## Llamadas"
   ]
  },
  {
   "cell_type": "code",
   "execution_count": 13,
   "metadata": {
    "id": "6dDlnoDm0q08"
   },
   "outputs": [
    {
     "name": "stdout",
     "output_type": "stream",
     "text": [
      "<class 'pandas.core.frame.DataFrame'>\n",
      "RangeIndex: 137735 entries, 0 to 137734\n",
      "Data columns (total 4 columns):\n",
      " #   Column     Non-Null Count   Dtype  \n",
      "---  ------     --------------   -----  \n",
      " 0   id         137735 non-null  object \n",
      " 1   user_id    137735 non-null  int64  \n",
      " 2   call_date  137735 non-null  object \n",
      " 3   duration   137735 non-null  float64\n",
      "dtypes: float64(1), int64(1), object(2)\n",
      "memory usage: 4.2+ MB\n"
     ]
    }
   ],
   "source": [
    "# Imprime la información general/resumida sobre el DataFrame de las llamadas\n",
    "df_calls.info()"
   ]
  },
  {
   "cell_type": "code",
   "execution_count": 14,
   "metadata": {
    "id": "kuh1vlNB0q09"
   },
   "outputs": [
    {
     "name": "stdout",
     "output_type": "stream",
     "text": [
      "           id  user_id   call_date  duration\n",
      "0     1000_93     1000  2018-12-27      8.52\n",
      "15   1000_842     1000  2018-12-27      5.85\n",
      "13   1000_778     1000  2018-12-28      3.29\n",
      "12   1000_735     1000  2018-12-29      1.70\n",
      "11   1000_705     1000  2018-12-31     12.78\n",
      "10   1000_693     1000  2018-12-31      4.31\n",
      "9    1000_544     1000  2018-12-26      4.40\n",
      "8    1000_530     1000  2018-12-28      5.77\n",
      "14   1000_826     1000  2018-12-26      9.96\n",
      "6    1000_510     1000  2018-12-27      5.75\n",
      "5    1000_388     1000  2018-12-31      2.20\n",
      "4    1000_380     1000  2018-12-30      4.22\n",
      "3    1000_309     1000  2018-12-28      5.76\n",
      "2    1000_247     1000  2018-12-27     14.48\n",
      "1    1000_145     1000  2018-12-27     13.66\n",
      "7    1000_521     1000  2018-12-28     14.18\n",
      "193  1001_345     1001  2018-12-29      1.70\n"
     ]
    }
   ],
   "source": [
    "# Imprime una muestra de datos para las llamadas\n",
    "print(df_calls.sort_values(by='user_id').head(17))"
   ]
  },
  {
   "cell_type": "markdown",
   "metadata": {
    "id": "DOAxYJSx0q09"
   },
   "source": [
    "[Describe lo que ves y observas en la información general y en la muestra de datos impresa para el precio de datos anterior. ¿Hay algún problema (tipos de datos no adecuados, datos ausentes, etc.) que pudieran necesitar investigación y cambios adicionales? ¿Cómo se puede arreglar?] Se nos ha indicado que el tiempo de las llamadas se redondea de segundos a minutos, asi una llamada sea de un segundo se cobra el minuto completo, por lo que el numero deberia ser un entero o no?"
   ]
  },
  {
   "cell_type": "markdown",
   "metadata": {
    "id": "S7hzxmbX0q0-"
   },
   "source": [
    "### Corregir los datos"
   ]
  },
  {
   "cell_type": "markdown",
   "metadata": {
    "id": "YxWyAjD20q0-"
   },
   "source": [
    "[Corrige los problemas obvios con los datos basándote en las observaciones iniciales.]"
   ]
  },
  {
   "cell_type": "code",
   "execution_count": 15,
   "metadata": {
    "id": "S2r8xA4f0q0-"
   },
   "outputs": [],
   "source": [
    "# Nada que corregir"
   ]
  },
  {
   "cell_type": "markdown",
   "metadata": {
    "id": "KrMgTrlG0q0_"
   },
   "source": [
    "### Enriquecer los datos"
   ]
  },
  {
   "cell_type": "markdown",
   "metadata": {
    "id": "a9MbmEvE0q0_"
   },
   "source": [
    "[Agrega factores adicionales a los datos si crees que pudieran ser útiles.]"
   ]
  },
  {
   "cell_type": "code",
   "execution_count": 16,
   "metadata": {
    "id": "iZ1avpA_0q0_"
   },
   "outputs": [
    {
     "name": "stdout",
     "output_type": "stream",
     "text": [
      "         id  user_id  call_date  duration  month\n",
      "0   1000_93     1000 2018-12-27         9     12\n",
      "1  1000_145     1000 2018-12-27        14     12\n",
      "2  1000_247     1000 2018-12-27        15     12\n",
      "3  1000_309     1000 2018-12-28         6     12\n",
      "4  1000_380     1000 2018-12-30         5     12\n",
      "5  1000_388     1000 2018-12-31         3     12\n",
      "6  1000_510     1000 2018-12-27         6     12\n",
      "7  1000_521     1000 2018-12-28        15     12\n",
      "8  1000_530     1000 2018-12-28         6     12\n",
      "9  1000_544     1000 2018-12-26         5     12\n"
     ]
    }
   ],
   "source": [
    "# Debido a que las llamadas se coobran y cuenta como minutos completos, asi sean de cualquier tiempo inferior a un minuto,\n",
    "# se aplicara redondeo hacia el minuto siguiente en cada llamada.\n",
    "import math\n",
    "import numpy as np\n",
    "df_calls['duration'] = df_calls['duration'].apply(math.ceil) # Redondea la columna 'df_calls' al entero superior\n",
    "df_calls['call_date'] = pd.to_datetime(df_calls['call_date'], format='%Y-%m-%d')\n",
    "df_calls['month'] = df_calls['call_date'].dt.month\n",
    "\n",
    "print(df_calls.head(10))"
   ]
  },
  {
   "cell_type": "markdown",
   "metadata": {
    "id": "mOUZSi180q0_"
   },
   "source": [
    "## Mensajes"
   ]
  },
  {
   "cell_type": "code",
   "execution_count": 17,
   "metadata": {
    "id": "R-bYJpdV0q1A"
   },
   "outputs": [
    {
     "name": "stdout",
     "output_type": "stream",
     "text": [
      "<class 'pandas.core.frame.DataFrame'>\n",
      "RangeIndex: 76051 entries, 0 to 76050\n",
      "Data columns (total 3 columns):\n",
      " #   Column        Non-Null Count  Dtype \n",
      "---  ------        --------------  ----- \n",
      " 0   id            76051 non-null  object\n",
      " 1   user_id       76051 non-null  int64 \n",
      " 2   message_date  76051 non-null  object\n",
      "dtypes: int64(1), object(2)\n",
      "memory usage: 1.7+ MB\n"
     ]
    }
   ],
   "source": [
    "# Imprime la información general/resumida sobre el DataFrame de los mensajes\n",
    "df_messages.info()"
   ]
  },
  {
   "cell_type": "code",
   "execution_count": 18,
   "metadata": {
    "id": "mCEl2iGE0q1A"
   },
   "outputs": [
    {
     "name": "stdout",
     "output_type": "stream",
     "text": [
      "           id  user_id message_date\n",
      "0    1000_125     1000   2018-12-27\n",
      "9    1000_525     1000   2018-12-28\n",
      "8    1000_502     1000   2018-12-27\n",
      "7    1000_413     1000   2018-12-31\n",
      "6    1000_386     1000   2018-12-30\n",
      "10   1000_567     1000   2018-12-25\n",
      "4    1000_255     1000   2018-12-26\n",
      "3    1000_251     1000   2018-12-27\n",
      "2    1000_223     1000   2018-12-31\n",
      "1    1000_160     1000   2018-12-31\n",
      "5    1000_346     1000   2018-12-29\n",
      "151  1001_297     1001   2018-12-18\n",
      "142  1001_274     1001   2018-09-01\n",
      "143  1001_275     1001   2018-09-15\n",
      "144  1001_279     1001   2018-12-25\n",
      "145  1001_281     1001   2018-12-15\n",
      "146  1001_284     1001   2018-10-11\n",
      "147  1001_290     1001   2018-10-15\n",
      "148  1001_291     1001   2018-10-19\n",
      "149  1001_294     1001   2018-09-29\n",
      "\n",
      "             id  user_id message_date\n",
      "76004   1497_47     1497   2018-12-19\n",
      "76005   1497_53     1497   2018-12-29\n",
      "76006   1497_68     1497   2018-12-21\n",
      "76007  1497_158     1497   2018-12-28\n",
      "76008  1497_163     1497   2018-12-11\n",
      "76010  1497_188     1497   2018-12-15\n",
      "76024  1497_371     1497   2018-12-11\n",
      "76011  1497_193     1497   2018-12-29\n",
      "76013  1497_228     1497   2018-12-28\n",
      "76014  1497_245     1497   2018-12-26\n",
      "76015  1497_271     1497   2018-12-29\n",
      "76016  1497_280     1497   2018-12-25\n",
      "76017  1497_304     1497   2018-12-11\n",
      "76018  1497_315     1497   2018-12-26\n",
      "76019  1497_317     1497   2018-12-17\n",
      "76020  1497_341     1497   2018-12-31\n",
      "76021  1497_360     1497   2018-12-20\n",
      "76022  1497_365     1497   2018-12-22\n",
      "76012  1497_223     1497   2018-12-15\n",
      "76050  1497_613     1497   2018-12-23\n"
     ]
    }
   ],
   "source": [
    "# Imprime una muestra de datos para los mensajes\n",
    "print(df_messages.sort_values(by='user_id').head(20))\n",
    "print()\n",
    "print(df_messages.sort_values(by='user_id').tail(20))"
   ]
  },
  {
   "cell_type": "markdown",
   "metadata": {
    "id": "04xDj7KH0q1A"
   },
   "source": [
    "[Describe lo que ves y observas en la información general y en la muestra de datos impresa para el precio de datos anterior. ¿Hay algún problema (tipos de datos no adecuados, datos ausentes, etc.) que pudieran necesitar investigación y cambios adicionales? ¿Cómo se puede arreglar?]   No se observa problema alguno en los datos"
   ]
  },
  {
   "cell_type": "markdown",
   "metadata": {
    "id": "Sprfak900q1B"
   },
   "source": [
    "### Corregir los datos"
   ]
  },
  {
   "cell_type": "markdown",
   "metadata": {
    "id": "eGw7d9j10q1B"
   },
   "source": [
    "[Corrige los problemas obvios con los datos basándote en las observaciones iniciales.]"
   ]
  },
  {
   "cell_type": "code",
   "execution_count": 19,
   "metadata": {
    "id": "vsllvkoa0q1B"
   },
   "outputs": [],
   "source": [
    "# No hay nada por corregir"
   ]
  },
  {
   "cell_type": "markdown",
   "metadata": {
    "id": "HvLid7iD0q1B"
   },
   "source": [
    "### Enriquecer los datos"
   ]
  },
  {
   "cell_type": "markdown",
   "metadata": {
    "id": "8nhPFKIe0q1C"
   },
   "source": [
    "[Agrega factores adicionales a los datos si crees que pudieran ser útiles.]"
   ]
  },
  {
   "cell_type": "code",
   "execution_count": 20,
   "metadata": {
    "id": "zYEXZac10q1C"
   },
   "outputs": [
    {
     "name": "stdout",
     "output_type": "stream",
     "text": [
      "         id  user_id message_date  month\n",
      "0  1000_125     1000   2018-12-27     12\n",
      "1  1000_160     1000   2018-12-31     12\n",
      "2  1000_223     1000   2018-12-31     12\n",
      "3  1000_251     1000   2018-12-27     12\n",
      "4  1000_255     1000   2018-12-26     12\n",
      "5  1000_346     1000   2018-12-29     12\n",
      "6  1000_386     1000   2018-12-30     12\n",
      "7  1000_413     1000   2018-12-31     12\n",
      "8  1000_502     1000   2018-12-27     12\n",
      "9  1000_525     1000   2018-12-28     12\n"
     ]
    }
   ],
   "source": [
    "df_messages['message_date'] = pd.to_datetime(df_messages['message_date'], format='%Y-%m-%d')\n",
    "df_messages['month'] = df_messages['message_date'].dt.month\n",
    "print(df_messages.head(10))"
   ]
  },
  {
   "cell_type": "markdown",
   "metadata": {
    "id": "bStkaxn40q1C"
   },
   "source": [
    "## Internet"
   ]
  },
  {
   "cell_type": "code",
   "execution_count": 21,
   "metadata": {
    "id": "e-Uz5qyn0q1C"
   },
   "outputs": [
    {
     "name": "stdout",
     "output_type": "stream",
     "text": [
      "<class 'pandas.core.frame.DataFrame'>\n",
      "RangeIndex: 104825 entries, 0 to 104824\n",
      "Data columns (total 4 columns):\n",
      " #   Column        Non-Null Count   Dtype  \n",
      "---  ------        --------------   -----  \n",
      " 0   id            104825 non-null  object \n",
      " 1   user_id       104825 non-null  int64  \n",
      " 2   session_date  104825 non-null  object \n",
      " 3   mb_used       104825 non-null  float64\n",
      "dtypes: float64(1), int64(1), object(2)\n",
      "memory usage: 3.2+ MB\n"
     ]
    }
   ],
   "source": [
    "# Imprime la información general/resumida sobre el DataFrame de internet\n",
    "df_internet.info()"
   ]
  },
  {
   "cell_type": "code",
   "execution_count": 22,
   "metadata": {
    "id": "9r3x_XLw0q1C"
   },
   "outputs": [
    {
     "name": "stdout",
     "output_type": "stream",
     "text": [
      "           id  user_id session_date  mb_used\n",
      "0     1000_13     1000   2018-12-29    89.86\n",
      "1    1000_204     1000   2018-12-31     0.00\n",
      "2    1000_379     1000   2018-12-28   660.40\n",
      "3    1000_413     1000   2018-12-26   270.99\n",
      "4    1000_442     1000   2018-12-27   880.22\n",
      "171  1001_313     1001   2018-12-12   235.50\n",
      "170  1001_312     1001   2018-09-24   494.72\n",
      "169  1001_311     1001   2018-11-15   172.14\n",
      "168  1001_310     1001   2018-11-01   342.59\n",
      "167  1001_308     1001   2018-12-24    51.38\n",
      "164  1001_305     1001   2018-10-18    41.70\n",
      "165  1001_306     1001   2018-12-08   276.47\n",
      "172  1001_314     1001   2018-12-29     0.00\n",
      "163  1001_304     1001   2018-09-09     0.00\n",
      "162  1001_302     1001   2018-10-08   782.36\n",
      "\n",
      "              id  user_id session_date  mb_used\n",
      "104685   1499_80     1499   2018-10-19     0.00\n",
      "104671   1499_66     1499   2018-12-25   520.75\n",
      "104673   1499_68     1499   2018-10-14   261.90\n",
      "104674   1499_69     1499   2018-10-05   377.66\n",
      "104675   1499_70     1499   2018-10-29   551.75\n",
      "104676   1499_71     1499   2018-10-16  1039.08\n",
      "104677   1499_72     1499   2018-10-15   179.32\n",
      "104678   1499_73     1499   2018-12-25     0.00\n",
      "104679   1499_74     1499   2018-09-22   578.40\n",
      "104680   1499_75     1499   2018-12-18   470.56\n",
      "104681   1499_76     1499   2018-12-07   108.75\n",
      "104682   1499_77     1499   2018-11-06   157.94\n",
      "104683   1499_78     1499   2018-11-27   250.10\n",
      "104672   1499_67     1499   2018-12-18     0.00\n",
      "104824  1499_219     1499   2018-12-24   758.31\n"
     ]
    }
   ],
   "source": [
    "# Imprime una muestra de datos para el tráfico de internet\n",
    "print(df_internet.sort_values(by='user_id').head(15))\n",
    "print()\n",
    "print(df_internet.sort_values(by='user_id').tail(15))"
   ]
  },
  {
   "cell_type": "markdown",
   "metadata": {
    "id": "EzOG5ik30q1D"
   },
   "source": [
    "[Describe lo que ves y observas en la información general y en la muestra de datos impresa para el precio de datos anterior. ¿Hay algún problema (tipos de datos no adecuados, datos ausentes, etc.) que pudieran necesitar investigación y cambios adicionales? ¿Cómo se puede arreglar?]    No se observan problemas en los datos"
   ]
  },
  {
   "cell_type": "markdown",
   "metadata": {
    "id": "yA0tkPFg0q1D"
   },
   "source": [
    "### Corregir los datos"
   ]
  },
  {
   "cell_type": "markdown",
   "metadata": {
    "id": "zlZMuIEK0q1D"
   },
   "source": [
    "[Corrige los problemas obvios con los datos basándote en las observaciones iniciales.]"
   ]
  },
  {
   "cell_type": "code",
   "execution_count": 23,
   "metadata": {
    "id": "zVeanzdd0q1E"
   },
   "outputs": [],
   "source": [
    "#no hay nada por corregir"
   ]
  },
  {
   "cell_type": "markdown",
   "metadata": {
    "id": "e8_mLF4a0q1E"
   },
   "source": [
    "### Enriquecer los datos"
   ]
  },
  {
   "cell_type": "markdown",
   "metadata": {
    "id": "xhNdn2tE0q1E"
   },
   "source": [
    "[Agrega factores adicionales a los datos si crees que pudieran ser útiles.]"
   ]
  },
  {
   "cell_type": "code",
   "execution_count": 24,
   "metadata": {
    "id": "ESiYPIEK0q1E"
   },
   "outputs": [
    {
     "name": "stdout",
     "output_type": "stream",
     "text": [
      "         id  user_id session_date  mb_used  month\n",
      "0   1000_13     1000   2018-12-29    89.86     12\n",
      "1  1000_204     1000   2018-12-31     0.00     12\n",
      "2  1000_379     1000   2018-12-28   660.40     12\n",
      "3  1000_413     1000   2018-12-26   270.99     12\n",
      "4  1000_442     1000   2018-12-27   880.22     12\n",
      "5    1001_0     1001   2018-08-24   284.68      8\n",
      "6    1001_3     1001   2018-12-09   656.04     12\n",
      "7    1001_4     1001   2018-11-04    16.97     11\n",
      "8   1001_10     1001   2018-11-27   135.18     11\n",
      "9   1001_15     1001   2018-12-13   761.92     12\n"
     ]
    }
   ],
   "source": [
    "df_internet['session_date'] = pd.to_datetime(df_internet['session_date'], format='%Y-%m-%d')\n",
    "df_internet['month'] = df_internet['session_date'].dt.month\n",
    "# df_internet['gb_used'] = df_internet['mb_used']/1000\n",
    "print(df_internet.head(10))"
   ]
  },
  {
   "cell_type": "markdown",
   "metadata": {
    "id": "3UA2cqIW0q1E"
   },
   "source": [
    "## Estudiar las condiciones de las tarifas"
   ]
  },
  {
   "cell_type": "markdown",
   "metadata": {
    "id": "T86Sqltq0q1F"
   },
   "source": [
    "[Es sumamente importante entender cómo funcionan las tarifas, cómo se les cobra a los usuarios en función de su plan de suscripción. Así que te sugerimos imprimir la información de la tarifa para ver una vez más sus condiciones.]"
   ]
  },
  {
   "cell_type": "code",
   "execution_count": 25,
   "metadata": {
    "id": "i409op8p0q1F",
    "scrolled": true
   },
   "outputs": [
    {
     "data": {
      "text/html": [
       "<div>\n",
       "<style scoped>\n",
       "    .dataframe tbody tr th:only-of-type {\n",
       "        vertical-align: middle;\n",
       "    }\n",
       "\n",
       "    .dataframe tbody tr th {\n",
       "        vertical-align: top;\n",
       "    }\n",
       "\n",
       "    .dataframe thead th {\n",
       "        text-align: right;\n",
       "    }\n",
       "</style>\n",
       "<table border=\"1\" class=\"dataframe\">\n",
       "  <thead>\n",
       "    <tr style=\"text-align: right;\">\n",
       "      <th></th>\n",
       "      <th>messages_included</th>\n",
       "      <th>mb_per_month_included</th>\n",
       "      <th>minutes_included</th>\n",
       "      <th>usd_monthly_pay</th>\n",
       "      <th>usd_per_gb</th>\n",
       "      <th>usd_per_message</th>\n",
       "      <th>usd_per_minute</th>\n",
       "      <th>plan_name</th>\n",
       "    </tr>\n",
       "  </thead>\n",
       "  <tbody>\n",
       "    <tr>\n",
       "      <th>0</th>\n",
       "      <td>50</td>\n",
       "      <td>15360</td>\n",
       "      <td>500</td>\n",
       "      <td>20</td>\n",
       "      <td>10</td>\n",
       "      <td>0.03</td>\n",
       "      <td>0.03</td>\n",
       "      <td>surf</td>\n",
       "    </tr>\n",
       "    <tr>\n",
       "      <th>1</th>\n",
       "      <td>1000</td>\n",
       "      <td>30720</td>\n",
       "      <td>3000</td>\n",
       "      <td>70</td>\n",
       "      <td>7</td>\n",
       "      <td>0.01</td>\n",
       "      <td>0.01</td>\n",
       "      <td>ultimate</td>\n",
       "    </tr>\n",
       "  </tbody>\n",
       "</table>\n",
       "</div>"
      ],
      "text/plain": [
       "   messages_included  mb_per_month_included  minutes_included  \\\n",
       "0                 50                  15360               500   \n",
       "1               1000                  30720              3000   \n",
       "\n",
       "   usd_monthly_pay  usd_per_gb  usd_per_message  usd_per_minute plan_name  \n",
       "0               20          10             0.03            0.03      surf  \n",
       "1               70           7             0.01            0.01  ultimate  "
      ]
     },
     "execution_count": 25,
     "metadata": {},
     "output_type": "execute_result"
    }
   ],
   "source": [
    "# Imprime las condiciones de la tarifa y asegúrate de que te quedan claras\n",
    "df_plans\n"
   ]
  },
  {
   "cell_type": "markdown",
   "metadata": {
    "id": "hMR1tP5d0q1F"
   },
   "source": [
    "## Agregar datos por usuario\n",
    "\n",
    "[Ahora que los datos están limpios, agrega los datos por usuario y por periodo para que solo haya un registro por usuario y por periodo. Esto facilitará mucho el análisis posterior.]"
   ]
  },
  {
   "cell_type": "code",
   "execution_count": 26,
   "metadata": {
    "id": "A332cedB0q1G"
   },
   "outputs": [
    {
     "name": "stdout",
     "output_type": "stream",
     "text": [
      "    user_id  month  period_calls\n",
      "0      1000     12            16\n",
      "1      1001      8            27\n",
      "2      1001      9            49\n",
      "3      1001     10            65\n",
      "4      1001     11            64\n",
      "5      1001     12            56\n",
      "6      1002     10            11\n",
      "7      1002     11            55\n",
      "8      1002     12            47\n",
      "9      1003     12           149\n",
      "10     1004      5            21\n",
      "11     1004      6            44\n",
      "12     1004      7            49\n",
      "13     1004      8            49\n",
      "14     1004      9            42\n"
     ]
    }
   ],
   "source": [
    "# Calcula el número de llamadas hechas por cada usuario al mes. Guarda el resultado.\n",
    "columns = ['user_id', 'month']\n",
    "df_num_calls = df_calls.groupby(columns)['id'].agg(['count']).reset_index()\n",
    "df_num_calls = df_num_calls.rename(columns={'count': 'period_calls'}) #plan_name\n",
    "print(df_num_calls.head(15))"
   ]
  },
  {
   "cell_type": "code",
   "execution_count": 27,
   "metadata": {
    "id": "aw2cmuql0q1G"
   },
   "outputs": [
    {
     "name": "stdout",
     "output_type": "stream",
     "text": [
      "    user_id  month  minutes_used\n",
      "0      1000     12           124\n",
      "1      1001      8           182\n",
      "2      1001      9           315\n",
      "3      1001     10           393\n",
      "4      1001     11           426\n",
      "5      1001     12           412\n",
      "6      1002     10            59\n",
      "7      1002     11           386\n",
      "8      1002     12           384\n",
      "9      1003     12          1104\n",
      "10     1004      5           193\n",
      "11     1004      6           275\n",
      "12     1004      7           381\n",
      "13     1004      8           354\n",
      "14     1004      9           301\n"
     ]
    }
   ],
   "source": [
    "# Calcula la cantidad de minutos usados por cada usuario al mes. Guarda el resultado.\n",
    "columns = ['user_id', 'month']\n",
    "df_used_minutes = df_calls.groupby(columns)['duration'].agg(['sum']).reset_index()\n",
    "df_used_minutes = df_used_minutes.rename(columns={'sum': 'minutes_used'})\n",
    "print(df_used_minutes.head(15))"
   ]
  },
  {
   "cell_type": "code",
   "execution_count": 28,
   "metadata": {
    "id": "CcQvNHn60q1G"
   },
   "outputs": [
    {
     "name": "stdout",
     "output_type": "stream",
     "text": [
      "    user_id  month  messages_sent\n",
      "0      1000     12             11\n",
      "1      1001      8             30\n",
      "2      1001      9             44\n",
      "3      1001     10             53\n",
      "4      1001     11             36\n",
      "5      1001     12             44\n",
      "6      1002     10             15\n",
      "7      1002     11             32\n",
      "8      1002     12             41\n",
      "9      1003     12             50\n",
      "10     1004      5              7\n",
      "11     1004      6             18\n",
      "12     1004      7             26\n",
      "13     1004      8             25\n",
      "14     1004      9             21\n"
     ]
    }
   ],
   "source": [
    "# Calcula el número de mensajes enviados por cada usuario al mes. Guarda el resultado.\n",
    "columns = ['user_id', 'month']\n",
    "df_messages_sent = df_messages.groupby(columns)['id'].agg(['count']).reset_index()\n",
    "df_messages_sent = df_messages_sent.rename(columns={'count': 'messages_sent'})\n",
    "print(df_messages_sent.head(15))"
   ]
  },
  {
   "cell_type": "code",
   "execution_count": 29,
   "metadata": {
    "id": "H1AqN2eG0q1H"
   },
   "outputs": [
    {
     "name": "stdout",
     "output_type": "stream",
     "text": [
      "    user_id  month   mb_used  gbytes\n",
      "0      1000     12   1901.47       2\n",
      "1      1001      8   6919.15       7\n",
      "2      1001      9  13314.82      14\n",
      "3      1001     10  22330.49      23\n",
      "4      1001     11  18504.30      19\n",
      "5      1001     12  19369.18      20\n",
      "6      1002     10   6552.01       7\n",
      "7      1002     11  19345.08      20\n",
      "8      1002     12  14396.24      15\n",
      "9      1003     12  27044.14      28\n",
      "10     1004      5   6547.21       7\n",
      "11     1004      6  20672.82      21\n",
      "12     1004      7  24516.62      25\n",
      "13     1004      8  27981.74      28\n",
      "14     1004      9  18852.72      19\n"
     ]
    }
   ],
   "source": [
    "# Calcula el volumen del tráfico de Internet usado por cada usuario al mes. Guarda el resultado.\n",
    "columns = ['user_id', 'month']\n",
    "df_used_mbytes = df_internet.groupby(columns)['mb_used'].agg(['sum']).reset_index()\n",
    "df_used_mbytes = df_used_mbytes.rename(columns={'sum': 'mb_used'})\n",
    "# Debido a que el consumo de internet por mes se cobra por gbytes completos, asi sobrepase el limite incluido en el plan por \n",
    "# cualquier cantidad de bytes, se aplicara redondeo hacia el gbyte siguiente en el consumo mensual.\n",
    "import math\n",
    "import numpy as np\n",
    "df_used_mbytes['gbytes'] = df_used_mbytes['mb_used']/1000  \n",
    "df_used_mbytes['gbytes'] = df_used_mbytes['gbytes'].apply(math.ceil) # Redondea la columna 'gbytes' al entero superior\n",
    "print(df_used_mbytes.head(15))"
   ]
  },
  {
   "cell_type": "markdown",
   "metadata": {
    "id": "VDfYXnj80q1H"
   },
   "source": [
    "[Junta los datos agregados en un DataFrame para que haya un registro que represente lo que consumió un usuario único en un mes determinado.]"
   ]
  },
  {
   "cell_type": "code",
   "execution_count": 30,
   "metadata": {},
   "outputs": [
    {
     "name": "stdout",
     "output_type": "stream",
     "text": [
      "   user_id  month  period_calls\n",
      "0     1000     12            16\n",
      "   user_id  month  minutes_used\n",
      "0     1000     12           124\n",
      "   user_id  month  messages_sent\n",
      "0     1000     12             11\n",
      "   user_id  month  mb_used  gbytes\n",
      "0     1000     12  1901.47       2\n"
     ]
    }
   ],
   "source": [
    "print(df_num_calls.head(1))\n",
    "print(df_used_minutes.head(1))\n",
    "print(df_messages_sent.head(1))\n",
    "print(df_used_mbytes.head(1))"
   ]
  },
  {
   "cell_type": "code",
   "execution_count": 31,
   "metadata": {
    "id": "FW99ykyf0q1H",
    "scrolled": true
   },
   "outputs": [
    {
     "name": "stdout",
     "output_type": "stream",
     "text": [
      "    user_id  month  period_calls  minutes_used  messages_sent   mb_used  \\\n",
      "0      1000     12            16           124             11   1901.47   \n",
      "1      1001      8            27           182             30   6919.15   \n",
      "2      1001      9            49           315             44  13314.82   \n",
      "3      1001     10            65           393             53  22330.49   \n",
      "4      1001     11            64           426             36  18504.30   \n",
      "5      1001     12            56           412             44  19369.18   \n",
      "6      1002     10            11            59             15   6552.01   \n",
      "7      1002     11            55           386             32  19345.08   \n",
      "8      1002     12            47           384             41  14396.24   \n",
      "9      1003     12           149          1104             50  27044.14   \n",
      "10     1004      5            21           193              7   6547.21   \n",
      "11     1004      6            44           275             18  20672.82   \n",
      "12     1004      7            49           381             26  24516.62   \n",
      "13     1004      8            49           354             25  27981.74   \n",
      "14     1004      9            42           301             21  18852.72   \n",
      "\n",
      "    gbytes  \n",
      "0        2  \n",
      "1        7  \n",
      "2       14  \n",
      "3       23  \n",
      "4       19  \n",
      "5       20  \n",
      "6        7  \n",
      "7       20  \n",
      "8       15  \n",
      "9       28  \n",
      "10       7  \n",
      "11      21  \n",
      "12      25  \n",
      "13      28  \n",
      "14      19  \n"
     ]
    }
   ],
   "source": [
    "# Fusiona los datos de llamadas, minutos, mensajes e Internet con base en user_id y month\n",
    "df_calls_minutes = pd.merge(df_num_calls, df_used_minutes, on=['user_id', 'month'], how='inner')\n",
    "df_messages_mbytes = pd.merge(df_messages_sent, df_used_mbytes, on=['user_id', 'month'], how='inner')\n",
    "df_total_consumption = pd.merge(df_calls_minutes, df_messages_mbytes, on=['user_id', 'month'], how='inner')\n",
    "print(df_total_consumption.head(15))"
   ]
  },
  {
   "cell_type": "code",
   "execution_count": 32,
   "metadata": {},
   "outputs": [
    {
     "data": {
      "text/html": [
       "<div>\n",
       "<style scoped>\n",
       "    .dataframe tbody tr th:only-of-type {\n",
       "        vertical-align: middle;\n",
       "    }\n",
       "\n",
       "    .dataframe tbody tr th {\n",
       "        vertical-align: top;\n",
       "    }\n",
       "\n",
       "    .dataframe thead th {\n",
       "        text-align: right;\n",
       "    }\n",
       "</style>\n",
       "<table border=\"1\" class=\"dataframe\">\n",
       "  <thead>\n",
       "    <tr style=\"text-align: right;\">\n",
       "      <th></th>\n",
       "      <th>user_id</th>\n",
       "      <th>month</th>\n",
       "      <th>period_calls</th>\n",
       "      <th>minutes_used</th>\n",
       "      <th>messages_sent</th>\n",
       "      <th>mb_used</th>\n",
       "      <th>gbytes</th>\n",
       "    </tr>\n",
       "  </thead>\n",
       "  <tbody>\n",
       "    <tr>\n",
       "      <th>0</th>\n",
       "      <td>1000</td>\n",
       "      <td>12</td>\n",
       "      <td>16</td>\n",
       "      <td>124</td>\n",
       "      <td>11</td>\n",
       "      <td>1901.47</td>\n",
       "      <td>2</td>\n",
       "    </tr>\n",
       "    <tr>\n",
       "      <th>1</th>\n",
       "      <td>1001</td>\n",
       "      <td>8</td>\n",
       "      <td>27</td>\n",
       "      <td>182</td>\n",
       "      <td>30</td>\n",
       "      <td>6919.15</td>\n",
       "      <td>7</td>\n",
       "    </tr>\n",
       "    <tr>\n",
       "      <th>2</th>\n",
       "      <td>1001</td>\n",
       "      <td>9</td>\n",
       "      <td>49</td>\n",
       "      <td>315</td>\n",
       "      <td>44</td>\n",
       "      <td>13314.82</td>\n",
       "      <td>14</td>\n",
       "    </tr>\n",
       "    <tr>\n",
       "      <th>3</th>\n",
       "      <td>1001</td>\n",
       "      <td>10</td>\n",
       "      <td>65</td>\n",
       "      <td>393</td>\n",
       "      <td>53</td>\n",
       "      <td>22330.49</td>\n",
       "      <td>23</td>\n",
       "    </tr>\n",
       "    <tr>\n",
       "      <th>4</th>\n",
       "      <td>1001</td>\n",
       "      <td>11</td>\n",
       "      <td>64</td>\n",
       "      <td>426</td>\n",
       "      <td>36</td>\n",
       "      <td>18504.30</td>\n",
       "      <td>19</td>\n",
       "    </tr>\n",
       "  </tbody>\n",
       "</table>\n",
       "</div>"
      ],
      "text/plain": [
       "   user_id  month  period_calls  minutes_used  messages_sent   mb_used  gbytes\n",
       "0     1000     12            16           124             11   1901.47       2\n",
       "1     1001      8            27           182             30   6919.15       7\n",
       "2     1001      9            49           315             44  13314.82      14\n",
       "3     1001     10            65           393             53  22330.49      23\n",
       "4     1001     11            64           426             36  18504.30      19"
      ]
     },
     "execution_count": 32,
     "metadata": {},
     "output_type": "execute_result"
    }
   ],
   "source": [
    "df_total_consumption.head()"
   ]
  },
  {
   "cell_type": "code",
   "execution_count": 33,
   "metadata": {
    "id": "0dNOXHag0q1H"
   },
   "outputs": [
    {
     "data": {
      "text/html": [
       "<div>\n",
       "<style scoped>\n",
       "    .dataframe tbody tr th:only-of-type {\n",
       "        vertical-align: middle;\n",
       "    }\n",
       "\n",
       "    .dataframe tbody tr th {\n",
       "        vertical-align: top;\n",
       "    }\n",
       "\n",
       "    .dataframe thead th {\n",
       "        text-align: right;\n",
       "    }\n",
       "</style>\n",
       "<table border=\"1\" class=\"dataframe\">\n",
       "  <thead>\n",
       "    <tr style=\"text-align: right;\">\n",
       "      <th></th>\n",
       "      <th>user_id</th>\n",
       "      <th>month</th>\n",
       "      <th>period_calls</th>\n",
       "      <th>minutes_used</th>\n",
       "      <th>messages_sent</th>\n",
       "      <th>mb_used</th>\n",
       "      <th>gbytes</th>\n",
       "      <th>plan_name</th>\n",
       "    </tr>\n",
       "  </thead>\n",
       "  <tbody>\n",
       "    <tr>\n",
       "      <th>0</th>\n",
       "      <td>1000</td>\n",
       "      <td>12</td>\n",
       "      <td>16</td>\n",
       "      <td>124</td>\n",
       "      <td>11</td>\n",
       "      <td>1901.47</td>\n",
       "      <td>2</td>\n",
       "      <td>ultimate</td>\n",
       "    </tr>\n",
       "    <tr>\n",
       "      <th>1</th>\n",
       "      <td>1001</td>\n",
       "      <td>8</td>\n",
       "      <td>27</td>\n",
       "      <td>182</td>\n",
       "      <td>30</td>\n",
       "      <td>6919.15</td>\n",
       "      <td>7</td>\n",
       "      <td>surf</td>\n",
       "    </tr>\n",
       "    <tr>\n",
       "      <th>2</th>\n",
       "      <td>1001</td>\n",
       "      <td>9</td>\n",
       "      <td>49</td>\n",
       "      <td>315</td>\n",
       "      <td>44</td>\n",
       "      <td>13314.82</td>\n",
       "      <td>14</td>\n",
       "      <td>surf</td>\n",
       "    </tr>\n",
       "    <tr>\n",
       "      <th>3</th>\n",
       "      <td>1001</td>\n",
       "      <td>10</td>\n",
       "      <td>65</td>\n",
       "      <td>393</td>\n",
       "      <td>53</td>\n",
       "      <td>22330.49</td>\n",
       "      <td>23</td>\n",
       "      <td>surf</td>\n",
       "    </tr>\n",
       "    <tr>\n",
       "      <th>4</th>\n",
       "      <td>1001</td>\n",
       "      <td>11</td>\n",
       "      <td>64</td>\n",
       "      <td>426</td>\n",
       "      <td>36</td>\n",
       "      <td>18504.30</td>\n",
       "      <td>19</td>\n",
       "      <td>surf</td>\n",
       "    </tr>\n",
       "  </tbody>\n",
       "</table>\n",
       "</div>"
      ],
      "text/plain": [
       "   user_id  month  period_calls  minutes_used  messages_sent   mb_used  \\\n",
       "0     1000     12            16           124             11   1901.47   \n",
       "1     1001      8            27           182             30   6919.15   \n",
       "2     1001      9            49           315             44  13314.82   \n",
       "3     1001     10            65           393             53  22330.49   \n",
       "4     1001     11            64           426             36  18504.30   \n",
       "\n",
       "   gbytes plan_name  \n",
       "0       2  ultimate  \n",
       "1       7      surf  \n",
       "2      14      surf  \n",
       "3      23      surf  \n",
       "4      19      surf  "
      ]
     },
     "execution_count": 33,
     "metadata": {},
     "output_type": "execute_result"
    }
   ],
   "source": [
    "# Añade la información de la tarifa\n",
    "df_users_a = df_users[['user_id', 'plan']]\n",
    "df_total_consumption = pd.merge(df_total_consumption, df_users_a, on=['user_id'], how='left')\n",
    "df_total_consumption = df_total_consumption.rename(columns={'plan': 'plan_name'})\n",
    "df_total_consumption.head()"
   ]
  },
  {
   "cell_type": "code",
   "execution_count": 34,
   "metadata": {},
   "outputs": [
    {
     "name": "stdout",
     "output_type": "stream",
     "text": [
      "      user_id  month  period_calls  minutes_used  messages_sent   mb_used  \\\n",
      "0        1000     12            16           124             11   1901.47   \n",
      "581      1001     10            65           393             53  22330.49   \n",
      "582      1001     11            64           426             36  18504.30   \n",
      "583      1001     12            56           412             44  19369.18   \n",
      "580      1001      9            49           315             44  13314.82   \n",
      "...       ...    ...           ...           ...            ...       ...   \n",
      "1755     1496      9            52           414             21  16389.27   \n",
      "1757     1496     11            39           308             13   8547.36   \n",
      "1754     1496      8            18           122              2   8605.66   \n",
      "1758     1496     12            40           294             11  16438.99   \n",
      "578      1497     12            54           300             50  11106.55   \n",
      "\n",
      "      gbytes plan_name  messages_included  mb_per_month_included  \\\n",
      "0          2  ultimate               1000                  30720   \n",
      "581       23      surf                 50                  15360   \n",
      "582       19      surf                 50                  15360   \n",
      "583       20      surf                 50                  15360   \n",
      "580       14      surf                 50                  15360   \n",
      "...      ...       ...                ...                    ...   \n",
      "1755      17      surf                 50                  15360   \n",
      "1757       9      surf                 50                  15360   \n",
      "1754       9      surf                 50                  15360   \n",
      "1758      17      surf                 50                  15360   \n",
      "578       12  ultimate               1000                  30720   \n",
      "\n",
      "      minutes_included  usd_monthly_pay  usd_per_gb  usd_per_message  \\\n",
      "0                 3000               70           7             0.01   \n",
      "581                500               20          10             0.03   \n",
      "582                500               20          10             0.03   \n",
      "583                500               20          10             0.03   \n",
      "580                500               20          10             0.03   \n",
      "...                ...              ...         ...              ...   \n",
      "1755               500               20          10             0.03   \n",
      "1757               500               20          10             0.03   \n",
      "1754               500               20          10             0.03   \n",
      "1758               500               20          10             0.03   \n",
      "578               3000               70           7             0.01   \n",
      "\n",
      "      usd_per_minute  \n",
      "0               0.01  \n",
      "581             0.03  \n",
      "582             0.03  \n",
      "583             0.03  \n",
      "580             0.03  \n",
      "...              ...  \n",
      "1755            0.03  \n",
      "1757            0.03  \n",
      "1754            0.03  \n",
      "1758            0.03  \n",
      "578             0.01  \n",
      "\n",
      "[1759 rows x 15 columns]\n",
      "\n",
      "<class 'pandas.core.frame.DataFrame'>\n",
      "Int64Index: 1759 entries, 0 to 1758\n",
      "Data columns (total 15 columns):\n",
      " #   Column                 Non-Null Count  Dtype  \n",
      "---  ------                 --------------  -----  \n",
      " 0   user_id                1759 non-null   int64  \n",
      " 1   month                  1759 non-null   int64  \n",
      " 2   period_calls           1759 non-null   int64  \n",
      " 3   minutes_used           1759 non-null   int64  \n",
      " 4   messages_sent          1759 non-null   int64  \n",
      " 5   mb_used                1759 non-null   float64\n",
      " 6   gbytes                 1759 non-null   int64  \n",
      " 7   plan_name              1759 non-null   object \n",
      " 8   messages_included      1759 non-null   int64  \n",
      " 9   mb_per_month_included  1759 non-null   int64  \n",
      " 10  minutes_included       1759 non-null   int64  \n",
      " 11  usd_monthly_pay        1759 non-null   int64  \n",
      " 12  usd_per_gb             1759 non-null   int64  \n",
      " 13  usd_per_message        1759 non-null   float64\n",
      " 14  usd_per_minute         1759 non-null   float64\n",
      "dtypes: float64(3), int64(11), object(1)\n",
      "memory usage: 219.9+ KB\n"
     ]
    }
   ],
   "source": [
    "df_total_consumption = pd.merge(df_total_consumption, df_plans, on=['plan_name'])\n",
    "print(df_total_consumption.sort_values(by='user_id'))\n",
    "print()\n",
    "df_total_consumption.info()"
   ]
  },
  {
   "cell_type": "markdown",
   "metadata": {
    "id": "1IwGo4wg0q1I"
   },
   "source": [
    "[Calcula los ingresos mensuales por usuario (resta el límite del paquete gratuito del número total de llamadas, mensajes de texto y datos; multiplica el resultado por el valor del plan de llamadas; añade la tarifa mensual en función del plan de llamadas). Nota: Dadas las condiciones del plan, ¡esto podría no ser tan trivial como un par de líneas! Así que no pasa nada si dedicas algo de tiempo a ello.]"
   ]
  },
  {
   "cell_type": "code",
   "execution_count": 35,
   "metadata": {
    "id": "5FGCf_c60q1I"
   },
   "outputs": [
    {
     "data": {
      "text/html": [
       "<div>\n",
       "<style scoped>\n",
       "    .dataframe tbody tr th:only-of-type {\n",
       "        vertical-align: middle;\n",
       "    }\n",
       "\n",
       "    .dataframe tbody tr th {\n",
       "        vertical-align: top;\n",
       "    }\n",
       "\n",
       "    .dataframe thead th {\n",
       "        text-align: right;\n",
       "    }\n",
       "</style>\n",
       "<table border=\"1\" class=\"dataframe\">\n",
       "  <thead>\n",
       "    <tr style=\"text-align: right;\">\n",
       "      <th></th>\n",
       "      <th>user_id</th>\n",
       "      <th>month</th>\n",
       "      <th>period_calls</th>\n",
       "      <th>minutes_used</th>\n",
       "      <th>messages_sent</th>\n",
       "      <th>mb_used</th>\n",
       "      <th>gbytes</th>\n",
       "      <th>plan_name</th>\n",
       "      <th>messages_included</th>\n",
       "      <th>mb_per_month_included</th>\n",
       "      <th>minutes_included</th>\n",
       "      <th>usd_monthly_pay</th>\n",
       "      <th>usd_per_gb</th>\n",
       "      <th>usd_per_message</th>\n",
       "      <th>usd_per_minute</th>\n",
       "      <th>total_income</th>\n",
       "    </tr>\n",
       "  </thead>\n",
       "  <tbody>\n",
       "    <tr>\n",
       "      <th>0</th>\n",
       "      <td>1000</td>\n",
       "      <td>12</td>\n",
       "      <td>16</td>\n",
       "      <td>124</td>\n",
       "      <td>11</td>\n",
       "      <td>1901.47</td>\n",
       "      <td>2</td>\n",
       "      <td>ultimate</td>\n",
       "      <td>1000</td>\n",
       "      <td>30720</td>\n",
       "      <td>3000</td>\n",
       "      <td>70</td>\n",
       "      <td>7</td>\n",
       "      <td>0.01</td>\n",
       "      <td>0.01</td>\n",
       "      <td>70.00</td>\n",
       "    </tr>\n",
       "    <tr>\n",
       "      <th>1</th>\n",
       "      <td>1006</td>\n",
       "      <td>11</td>\n",
       "      <td>2</td>\n",
       "      <td>10</td>\n",
       "      <td>15</td>\n",
       "      <td>2068.37</td>\n",
       "      <td>3</td>\n",
       "      <td>ultimate</td>\n",
       "      <td>1000</td>\n",
       "      <td>30720</td>\n",
       "      <td>3000</td>\n",
       "      <td>70</td>\n",
       "      <td>7</td>\n",
       "      <td>0.01</td>\n",
       "      <td>0.01</td>\n",
       "      <td>70.00</td>\n",
       "    </tr>\n",
       "    <tr>\n",
       "      <th>2</th>\n",
       "      <td>1006</td>\n",
       "      <td>12</td>\n",
       "      <td>9</td>\n",
       "      <td>59</td>\n",
       "      <td>139</td>\n",
       "      <td>32118.82</td>\n",
       "      <td>33</td>\n",
       "      <td>ultimate</td>\n",
       "      <td>1000</td>\n",
       "      <td>30720</td>\n",
       "      <td>3000</td>\n",
       "      <td>70</td>\n",
       "      <td>7</td>\n",
       "      <td>0.01</td>\n",
       "      <td>0.01</td>\n",
       "      <td>85.96</td>\n",
       "    </tr>\n",
       "    <tr>\n",
       "      <th>3</th>\n",
       "      <td>1008</td>\n",
       "      <td>10</td>\n",
       "      <td>71</td>\n",
       "      <td>476</td>\n",
       "      <td>21</td>\n",
       "      <td>17106.99</td>\n",
       "      <td>18</td>\n",
       "      <td>ultimate</td>\n",
       "      <td>1000</td>\n",
       "      <td>30720</td>\n",
       "      <td>3000</td>\n",
       "      <td>70</td>\n",
       "      <td>7</td>\n",
       "      <td>0.01</td>\n",
       "      <td>0.01</td>\n",
       "      <td>70.00</td>\n",
       "    </tr>\n",
       "    <tr>\n",
       "      <th>4</th>\n",
       "      <td>1008</td>\n",
       "      <td>11</td>\n",
       "      <td>63</td>\n",
       "      <td>446</td>\n",
       "      <td>37</td>\n",
       "      <td>23676.72</td>\n",
       "      <td>24</td>\n",
       "      <td>ultimate</td>\n",
       "      <td>1000</td>\n",
       "      <td>30720</td>\n",
       "      <td>3000</td>\n",
       "      <td>70</td>\n",
       "      <td>7</td>\n",
       "      <td>0.01</td>\n",
       "      <td>0.01</td>\n",
       "      <td>70.00</td>\n",
       "    </tr>\n",
       "    <tr>\n",
       "      <th>...</th>\n",
       "      <td>...</td>\n",
       "      <td>...</td>\n",
       "      <td>...</td>\n",
       "      <td>...</td>\n",
       "      <td>...</td>\n",
       "      <td>...</td>\n",
       "      <td>...</td>\n",
       "      <td>...</td>\n",
       "      <td>...</td>\n",
       "      <td>...</td>\n",
       "      <td>...</td>\n",
       "      <td>...</td>\n",
       "      <td>...</td>\n",
       "      <td>...</td>\n",
       "      <td>...</td>\n",
       "      <td>...</td>\n",
       "    </tr>\n",
       "    <tr>\n",
       "      <th>1754</th>\n",
       "      <td>1496</td>\n",
       "      <td>8</td>\n",
       "      <td>18</td>\n",
       "      <td>122</td>\n",
       "      <td>2</td>\n",
       "      <td>8605.66</td>\n",
       "      <td>9</td>\n",
       "      <td>surf</td>\n",
       "      <td>50</td>\n",
       "      <td>15360</td>\n",
       "      <td>500</td>\n",
       "      <td>20</td>\n",
       "      <td>10</td>\n",
       "      <td>0.03</td>\n",
       "      <td>0.03</td>\n",
       "      <td>20.00</td>\n",
       "    </tr>\n",
       "    <tr>\n",
       "      <th>1755</th>\n",
       "      <td>1496</td>\n",
       "      <td>9</td>\n",
       "      <td>52</td>\n",
       "      <td>414</td>\n",
       "      <td>21</td>\n",
       "      <td>16389.27</td>\n",
       "      <td>17</td>\n",
       "      <td>surf</td>\n",
       "      <td>50</td>\n",
       "      <td>15360</td>\n",
       "      <td>500</td>\n",
       "      <td>20</td>\n",
       "      <td>10</td>\n",
       "      <td>0.03</td>\n",
       "      <td>0.03</td>\n",
       "      <td>36.40</td>\n",
       "    </tr>\n",
       "    <tr>\n",
       "      <th>1756</th>\n",
       "      <td>1496</td>\n",
       "      <td>10</td>\n",
       "      <td>46</td>\n",
       "      <td>317</td>\n",
       "      <td>18</td>\n",
       "      <td>14287.36</td>\n",
       "      <td>15</td>\n",
       "      <td>surf</td>\n",
       "      <td>50</td>\n",
       "      <td>15360</td>\n",
       "      <td>500</td>\n",
       "      <td>20</td>\n",
       "      <td>10</td>\n",
       "      <td>0.03</td>\n",
       "      <td>0.03</td>\n",
       "      <td>20.00</td>\n",
       "    </tr>\n",
       "    <tr>\n",
       "      <th>1757</th>\n",
       "      <td>1496</td>\n",
       "      <td>11</td>\n",
       "      <td>39</td>\n",
       "      <td>308</td>\n",
       "      <td>13</td>\n",
       "      <td>8547.36</td>\n",
       "      <td>9</td>\n",
       "      <td>surf</td>\n",
       "      <td>50</td>\n",
       "      <td>15360</td>\n",
       "      <td>500</td>\n",
       "      <td>20</td>\n",
       "      <td>10</td>\n",
       "      <td>0.03</td>\n",
       "      <td>0.03</td>\n",
       "      <td>20.00</td>\n",
       "    </tr>\n",
       "    <tr>\n",
       "      <th>1758</th>\n",
       "      <td>1496</td>\n",
       "      <td>12</td>\n",
       "      <td>40</td>\n",
       "      <td>294</td>\n",
       "      <td>11</td>\n",
       "      <td>16438.99</td>\n",
       "      <td>17</td>\n",
       "      <td>surf</td>\n",
       "      <td>50</td>\n",
       "      <td>15360</td>\n",
       "      <td>500</td>\n",
       "      <td>20</td>\n",
       "      <td>10</td>\n",
       "      <td>0.03</td>\n",
       "      <td>0.03</td>\n",
       "      <td>36.40</td>\n",
       "    </tr>\n",
       "  </tbody>\n",
       "</table>\n",
       "<p>1759 rows × 16 columns</p>\n",
       "</div>"
      ],
      "text/plain": [
       "      user_id  month  period_calls  minutes_used  messages_sent   mb_used  \\\n",
       "0        1000     12            16           124             11   1901.47   \n",
       "1        1006     11             2            10             15   2068.37   \n",
       "2        1006     12             9            59            139  32118.82   \n",
       "3        1008     10            71           476             21  17106.99   \n",
       "4        1008     11            63           446             37  23676.72   \n",
       "...       ...    ...           ...           ...            ...       ...   \n",
       "1754     1496      8            18           122              2   8605.66   \n",
       "1755     1496      9            52           414             21  16389.27   \n",
       "1756     1496     10            46           317             18  14287.36   \n",
       "1757     1496     11            39           308             13   8547.36   \n",
       "1758     1496     12            40           294             11  16438.99   \n",
       "\n",
       "      gbytes plan_name  messages_included  mb_per_month_included  \\\n",
       "0          2  ultimate               1000                  30720   \n",
       "1          3  ultimate               1000                  30720   \n",
       "2         33  ultimate               1000                  30720   \n",
       "3         18  ultimate               1000                  30720   \n",
       "4         24  ultimate               1000                  30720   \n",
       "...      ...       ...                ...                    ...   \n",
       "1754       9      surf                 50                  15360   \n",
       "1755      17      surf                 50                  15360   \n",
       "1756      15      surf                 50                  15360   \n",
       "1757       9      surf                 50                  15360   \n",
       "1758      17      surf                 50                  15360   \n",
       "\n",
       "      minutes_included  usd_monthly_pay  usd_per_gb  usd_per_message  \\\n",
       "0                 3000               70           7             0.01   \n",
       "1                 3000               70           7             0.01   \n",
       "2                 3000               70           7             0.01   \n",
       "3                 3000               70           7             0.01   \n",
       "4                 3000               70           7             0.01   \n",
       "...                ...              ...         ...              ...   \n",
       "1754               500               20          10             0.03   \n",
       "1755               500               20          10             0.03   \n",
       "1756               500               20          10             0.03   \n",
       "1757               500               20          10             0.03   \n",
       "1758               500               20          10             0.03   \n",
       "\n",
       "      usd_per_minute  total_income  \n",
       "0               0.01         70.00  \n",
       "1               0.01         70.00  \n",
       "2               0.01         85.96  \n",
       "3               0.01         70.00  \n",
       "4               0.01         70.00  \n",
       "...              ...           ...  \n",
       "1754            0.03         20.00  \n",
       "1755            0.03         36.40  \n",
       "1756            0.03         20.00  \n",
       "1757            0.03         20.00  \n",
       "1758            0.03         36.40  \n",
       "\n",
       "[1759 rows x 16 columns]"
      ]
     },
     "execution_count": 35,
     "metadata": {},
     "output_type": "execute_result"
    }
   ],
   "source": [
    "# Calcula el ingreso mensual para cada usuario\n",
    "def calc_cons(df_total_consumption):\n",
    "    minutes_xtra = 0\n",
    "    messages_xtra = 0\n",
    "    mbytes_xtra = 0\n",
    "    cost_minutes_xtra = 0\n",
    "    cost_messages_xtra = 0\n",
    "    cost_mbytes_xtra = 0\n",
    "    total_income = 0\n",
    "    if df_total_consumption['minutes_used'] > df_total_consumption['minutes_included']:\n",
    "        minutes_xtra += df_total_consumption['minutes_used'] - df_total_consumption['minutes_included']\n",
    "    else:\n",
    "        minutes_xtra = 0\n",
    "    if df_total_consumption['messages_sent'] > df_total_consumption['messages_included']:\n",
    "        messages_xtra += df_total_consumption['messages_sent'] - df_total_consumption['messages_included']\n",
    "    else:\n",
    "        messages_xtra = 0\n",
    "    if df_total_consumption['mb_used'] > df_total_consumption['mb_per_month_included']:\n",
    "        mbytes_xtra += (df_total_consumption['gbytes']*1000) - df_total_consumption['mb_per_month_included']\n",
    "    else:\n",
    "        mbytes_xtra = 0\n",
    "    cost_minutes_xtra = minutes_xtra * df_total_consumption['usd_per_minute']\n",
    "    cost_messages_xtra = messages_xtra * df_total_consumption['usd_per_message']\n",
    "    cost_mbytes_xtra = (mbytes_xtra/1000) * df_total_consumption['usd_per_gb'] #convertimos los megabytes en gigabytes, ya que la tarifa es por gbytes\n",
    "    total_income += cost_minutes_xtra + cost_messages_xtra + cost_mbytes_xtra + df_total_consumption['usd_monthly_pay']\n",
    "    return total_income\n",
    "# Aplicar la función a cada fila del DataFrame\n",
    "df_total_consumption['total_income'] = df_total_consumption.apply(calc_cons, axis=1)\n",
    "df_total_consumption"
   ]
  },
  {
   "cell_type": "markdown",
   "metadata": {},
   "source": [
    "\n",
    "<div class=\"alert alert-block alert-success\">\n",
    "\n",
    "<b>Comentario del revisor</b> <a class=\"tocSkip\"></a><br>\n",
    "\n",
    "<b>Éxito</b> - ¡Excelente trabajo! Has logrado integrar múltiples fuentes de datos complejas (usuarios, llamadas, mensajes, internet y planes) en un único DataFrame de consumo mensual por usuario, aplicando un proceso de agregación claro, metódico y funcional. Todas las decisiones de transformación (como redondeo de minutos y GB, o la sustitución de nulos) están bien justificadas según las reglas del negocio. La función de cálculo de ingresos también está bien estructurada y refleja fielmente la lógica tarifaria. Esto proporciona una base sólida para el análisis posterior de rentabilidad por plan.\n",
    "\n",
    "Dos sugerencias para seguir fortaleciendo tu análisis:\n",
    "\n",
    "* Considera separar la función `calc_cons` en componentes auxiliares para facilitar pruebas y mantenimiento.\n",
    "* Podrías enriquecer el análisis final agregando visualizaciones comparativas por plan y mes (boxplots o líneas de tendencia), para facilitar la comunicación con stakeholders no técnicos.\n",
    "\n",
    "¡Muy bien logrado! Continúa con este nivel de detalle y claridad.\n",
    "\n",
    "</div>\n",
    "\n"
   ]
  },
  {
   "cell_type": "markdown",
   "metadata": {
    "id": "-jtyHzJb0q1I"
   },
   "source": [
    "## Estudia el comportamiento de usuario"
   ]
  },
  {
   "cell_type": "markdown",
   "metadata": {
    "id": "AxU3Y0N70q1J"
   },
   "source": [
    "[Calcula algunas estadísticas descriptivas para los datos agregados y fusionados que nos sean útiles y que muestren un panorama general captado por los datos. Dibuja gráficos útiles para facilitar la comprensión. Dado que la tarea principal es comparar las tarifas y decidir cuál es más rentable, las estadísticas y gráficas deben calcularse por tarifa.]\n",
    "\n",
    "[En los comentarios hallarás pistas relevantes para las llamadas, pero no las hay para los mensajes e Internet. Sin embargo, el principio del estudio estadístico que se aplica para ellos es el mismo que para las llamadas.]"
   ]
  },
  {
   "cell_type": "markdown",
   "metadata": {
    "id": "vtW4CJEe0q1J"
   },
   "source": [
    "### Llamadas"
   ]
  },
  {
   "cell_type": "code",
   "execution_count": 36,
   "metadata": {},
   "outputs": [
    {
     "data": {
      "text/html": [
       "<div>\n",
       "<style scoped>\n",
       "    .dataframe tbody tr th:only-of-type {\n",
       "        vertical-align: middle;\n",
       "    }\n",
       "\n",
       "    .dataframe tbody tr th {\n",
       "        vertical-align: top;\n",
       "    }\n",
       "\n",
       "    .dataframe thead th {\n",
       "        text-align: right;\n",
       "    }\n",
       "</style>\n",
       "<table border=\"1\" class=\"dataframe\">\n",
       "  <thead>\n",
       "    <tr style=\"text-align: right;\">\n",
       "      <th></th>\n",
       "      <th>user_id</th>\n",
       "      <th>month</th>\n",
       "      <th>period_calls</th>\n",
       "      <th>minutes_used</th>\n",
       "      <th>gbytes</th>\n",
       "      <th>plan_name</th>\n",
       "      <th>average_call</th>\n",
       "    </tr>\n",
       "  </thead>\n",
       "  <tbody>\n",
       "    <tr>\n",
       "      <th>0</th>\n",
       "      <td>1000</td>\n",
       "      <td>12</td>\n",
       "      <td>16</td>\n",
       "      <td>124</td>\n",
       "      <td>2</td>\n",
       "      <td>ultimate</td>\n",
       "      <td>7.750000</td>\n",
       "    </tr>\n",
       "    <tr>\n",
       "      <th>1</th>\n",
       "      <td>1006</td>\n",
       "      <td>11</td>\n",
       "      <td>2</td>\n",
       "      <td>10</td>\n",
       "      <td>3</td>\n",
       "      <td>ultimate</td>\n",
       "      <td>5.000000</td>\n",
       "    </tr>\n",
       "    <tr>\n",
       "      <th>2</th>\n",
       "      <td>1006</td>\n",
       "      <td>12</td>\n",
       "      <td>9</td>\n",
       "      <td>59</td>\n",
       "      <td>33</td>\n",
       "      <td>ultimate</td>\n",
       "      <td>6.555556</td>\n",
       "    </tr>\n",
       "    <tr>\n",
       "      <th>3</th>\n",
       "      <td>1008</td>\n",
       "      <td>10</td>\n",
       "      <td>71</td>\n",
       "      <td>476</td>\n",
       "      <td>18</td>\n",
       "      <td>ultimate</td>\n",
       "      <td>6.704225</td>\n",
       "    </tr>\n",
       "    <tr>\n",
       "      <th>4</th>\n",
       "      <td>1008</td>\n",
       "      <td>11</td>\n",
       "      <td>63</td>\n",
       "      <td>446</td>\n",
       "      <td>24</td>\n",
       "      <td>ultimate</td>\n",
       "      <td>7.079365</td>\n",
       "    </tr>\n",
       "  </tbody>\n",
       "</table>\n",
       "</div>"
      ],
      "text/plain": [
       "   user_id  month  period_calls  minutes_used  gbytes plan_name  average_call\n",
       "0     1000     12            16           124       2  ultimate      7.750000\n",
       "1     1006     11             2            10       3  ultimate      5.000000\n",
       "2     1006     12             9            59      33  ultimate      6.555556\n",
       "3     1008     10            71           476      18  ultimate      6.704225\n",
       "4     1008     11            63           446      24  ultimate      7.079365"
      ]
     },
     "execution_count": 36,
     "metadata": {},
     "output_type": "execute_result"
    }
   ],
   "source": [
    "df_used_minuts = df_total_consumption.drop(['messages_sent','mb_used', 'messages_included', \n",
    "                                            'mb_per_month_included','minutes_included','usd_monthly_pay','usd_per_gb',\n",
    "                                            'usd_per_message','usd_per_minute','total_income'], axis=1)\n",
    "df_used_minuts['average_call'] = (df_used_minuts['minutes_used']) / (df_used_minuts['period_calls'])\n",
    "\n",
    "df_used_minuts.head()"
   ]
  },
  {
   "cell_type": "code",
   "execution_count": 37,
   "metadata": {
    "id": "Jf5v5--k0q1J"
   },
   "outputs": [
    {
     "data": {
      "text/plain": [
       "<AxesSubplot:xlabel='month', ylabel='average_calls'>"
      ]
     },
     "execution_count": 37,
     "metadata": {},
     "output_type": "execute_result"
    },
    {
     "data": {
      "image/png": "[encoded data removed]",
      "text/plain": [
       "<Figure size 640x480 with 1 Axes>"
      ]
     },
     "metadata": {},
     "output_type": "display_data"
    }
   ],
   "source": [
    "# Compara la duración promedio de llamadas por cada plan y por cada mes.\n",
    "    #para ello necesito las columnas de plan_name, minutes_used y month\n",
    "# Traza un gráfico de barras para visualizarla.\n",
    "\n",
    "columns = ['month', 'plan_name']\n",
    "df_used_minuts = df_used_minuts.groupby(columns)['average_call'].agg(['sum']).reset_index()\n",
    "df_used_minuts = df_used_minuts.rename(columns={'sum': 'average_calls'})\n",
    "df_used_minuts\n",
    "\n",
    "import seaborn as sns\n",
    "from matplotlib import pyplot as plt\n",
    "\n",
    "sns.barplot(\n",
    "    data=df_used_minuts,\n",
    "    x=\"month\",\n",
    "    y=\"average_calls\",\n",
    "    hue=\"plan_name\")"
   ]
  },
  {
   "cell_type": "code",
   "execution_count": 38,
   "metadata": {
    "id": "QoLqW1S_0q1J"
   },
   "outputs": [
    {
     "name": "stdout",
     "output_type": "stream",
     "text": [
      "0        6.952381\n",
      "2       32.890386\n",
      "4      117.136896\n",
      "6      244.489051\n",
      "8      383.849484\n",
      "10     498.307923\n",
      "12     625.672254\n",
      "14     845.163778\n",
      "16    1048.777788\n",
      "18    1287.366270\n",
      "20    1562.467901\n",
      "22    1779.554081\n",
      "Name: average_calls, dtype: float64\n",
      "\n",
      "1      16.938095\n",
      "3      36.013163\n",
      "5      47.576943\n",
      "7     116.226771\n",
      "9     149.569836\n",
      "11    261.856750\n",
      "13    343.662031\n",
      "15    403.341145\n",
      "17    500.037058\n",
      "19    629.607752\n",
      "21    714.631028\n",
      "23    879.832653\n",
      "Name: average_calls, dtype: float64\n"
     ]
    },
    {
     "data": {
      "image/png": "[encoded data removed]",
      "text/plain": [
       "<Figure size 640x480 with 1 Axes>"
      ]
     },
     "metadata": {},
     "output_type": "display_data"
    }
   ],
   "source": [
    "# Compara el número de minutos mensuales que necesitan los usuarios de cada plan. Traza un histograma.\n",
    "minutes_surf = df_used_minuts[df_used_minuts['plan_name']=='surf']['average_calls']\n",
    "minutes_ultimate = df_used_minuts[df_used_minuts['plan_name']=='ultimate']['average_calls']\n",
    "\n",
    "print(minutes_surf)\n",
    "print()\n",
    "print(minutes_ultimate)\n",
    "\n",
    "minutes_surf.hist()\n",
    "minutes_ultimate.hist(alpha=0.5)\n",
    "plt.show()\n",
    "\n"
   ]
  },
  {
   "cell_type": "markdown",
   "metadata": {
    "id": "bLS9T8OH0q1K"
   },
   "source": [
    "[Calcula la media y la variable de la duración de las llamadas para averiguar si los usuarios de los distintos planes se comportan de forma diferente al realizar sus llamadas.]"
   ]
  },
  {
   "cell_type": "code",
   "execution_count": 39,
   "metadata": {
    "id": "oSndbAnt0q1K"
   },
   "outputs": [
    {
     "name": "stdout",
     "output_type": "stream",
     "text": [
      "La media de la duracion de llamadas es:  522.163392399255\n",
      "\n",
      "La desviacion standar de la duracion de llamadas es:  488.1098538882601\n",
      "\n",
      "La varianza de la duracion de llamadas es:  238251.22946281862\n"
     ]
    }
   ],
   "source": [
    "# Calcula la media, la varianza y la desviacion estandar de la duración mensual de llamadas.\n",
    "import numpy as np\n",
    "df_used_minuts\n",
    "media_llamadas = df_used_minuts['average_calls'].mean() # calcula la media aquí\n",
    "variance = np.var(df_used_minuts['average_calls']) # calcula la varianza aquí\n",
    "standard_deviation = np.std(df_used_minuts['average_calls']) # calcula la desviacion standar aqui\n",
    "print('La media de la duracion de llamadas es: ',media_llamadas)\n",
    "print()\n",
    "print('La desviacion standar de la duracion de llamadas es: ',standard_deviation)\n",
    "print()\n",
    "print('La varianza de la duracion de llamadas es: ',variance)"
   ]
  },
  {
   "cell_type": "code",
   "execution_count": 40,
   "metadata": {
    "id": "nZzoRUKc0q1K"
   },
   "outputs": [
    {
     "data": {
      "text/plain": [
       "<AxesSubplot:xlabel='average_calls'>"
      ]
     },
     "execution_count": 40,
     "metadata": {},
     "output_type": "execute_result"
    },
    {
     "data": {
      "image/png": "[encoded data removed]",
      "text/plain": [
       "<Figure size 640x480 with 1 Axes>"
      ]
     },
     "metadata": {},
     "output_type": "display_data"
    }
   ],
   "source": [
    "# Traza un diagrama de caja para visualizar la distribución de la duración mensual de llamadas\n",
    "sns.boxplot(df_used_minuts['average_calls'])\n"
   ]
  },
  {
   "cell_type": "markdown",
   "metadata": {
    "id": "r627zBO50q1K"
   },
   "source": [
    "[Elabora las conclusiones sobre el comportamiento de los usuarios con respecto a las llamadas. ¿Su comportamiento varía en función del plan?]\n",
    "\n",
    "Si, el comportamiento de los clientes varia de acuerdo al plan, el plan Surf que es mas barato y con menor limite de llamadas incluido, genera un mayor indice de llamadas, incluso en tiempo, vs el plan Ultimate"
   ]
  },
  {
   "cell_type": "markdown",
   "metadata": {
    "id": "8idKy8Wh0q1L"
   },
   "source": [
    "### Mensajes"
   ]
  },
  {
   "cell_type": "code",
   "execution_count": 41,
   "metadata": {},
   "outputs": [
    {
     "data": {
      "text/html": [
       "<div>\n",
       "<style scoped>\n",
       "    .dataframe tbody tr th:only-of-type {\n",
       "        vertical-align: middle;\n",
       "    }\n",
       "\n",
       "    .dataframe tbody tr th {\n",
       "        vertical-align: top;\n",
       "    }\n",
       "\n",
       "    .dataframe thead th {\n",
       "        text-align: right;\n",
       "    }\n",
       "</style>\n",
       "<table border=\"1\" class=\"dataframe\">\n",
       "  <thead>\n",
       "    <tr style=\"text-align: right;\">\n",
       "      <th></th>\n",
       "      <th>user_id</th>\n",
       "      <th>month</th>\n",
       "      <th>messages_sent</th>\n",
       "      <th>plan_name</th>\n",
       "    </tr>\n",
       "  </thead>\n",
       "  <tbody>\n",
       "    <tr>\n",
       "      <th>0</th>\n",
       "      <td>1000</td>\n",
       "      <td>12</td>\n",
       "      <td>11</td>\n",
       "      <td>ultimate</td>\n",
       "    </tr>\n",
       "    <tr>\n",
       "      <th>1</th>\n",
       "      <td>1006</td>\n",
       "      <td>11</td>\n",
       "      <td>15</td>\n",
       "      <td>ultimate</td>\n",
       "    </tr>\n",
       "    <tr>\n",
       "      <th>2</th>\n",
       "      <td>1006</td>\n",
       "      <td>12</td>\n",
       "      <td>139</td>\n",
       "      <td>ultimate</td>\n",
       "    </tr>\n",
       "    <tr>\n",
       "      <th>3</th>\n",
       "      <td>1008</td>\n",
       "      <td>10</td>\n",
       "      <td>21</td>\n",
       "      <td>ultimate</td>\n",
       "    </tr>\n",
       "    <tr>\n",
       "      <th>4</th>\n",
       "      <td>1008</td>\n",
       "      <td>11</td>\n",
       "      <td>37</td>\n",
       "      <td>ultimate</td>\n",
       "    </tr>\n",
       "  </tbody>\n",
       "</table>\n",
       "</div>"
      ],
      "text/plain": [
       "   user_id  month  messages_sent plan_name\n",
       "0     1000     12             11  ultimate\n",
       "1     1006     11             15  ultimate\n",
       "2     1006     12            139  ultimate\n",
       "3     1008     10             21  ultimate\n",
       "4     1008     11             37  ultimate"
      ]
     },
     "execution_count": 41,
     "metadata": {},
     "output_type": "execute_result"
    }
   ],
   "source": [
    "df_messags_sent = df_total_consumption.drop(['minutes_used','period_calls', 'mb_used', 'gbytes', 'messages_included', \n",
    "                                            'mb_per_month_included','minutes_included','usd_monthly_pay','usd_per_gb',\n",
    "                                            'usd_per_message','usd_per_minute','total_income'], axis=1)\n",
    "df_messags_sent.head()"
   ]
  },
  {
   "cell_type": "code",
   "execution_count": 42,
   "metadata": {
    "id": "NXLxiTit0q1L"
   },
   "outputs": [
    {
     "data": {
      "text/plain": [
       "<AxesSubplot:xlabel='month', ylabel='messages_sent'>"
      ]
     },
     "execution_count": 42,
     "metadata": {},
     "output_type": "execute_result"
    },
    {
     "data": {
      "image/png": "[encoded data removed]",
      "text/plain": [
       "<Figure size 640x480 with 1 Axes>"
      ]
     },
     "metadata": {},
     "output_type": "display_data"
    }
   ],
   "source": [
    "# Compara el número de mensajes que tienden a enviar cada mes los usuarios de cada plan\n",
    "# Traza un gráfico de barras para visualizarla.\n",
    "columns = ['month', 'plan_name']\n",
    "df_messags_sent = df_messags_sent.groupby(columns)['messages_sent'].agg(['sum']).reset_index()\n",
    "df_messags_sent = df_messags_sent.rename(columns={'sum': 'messages_sent'})\n",
    "df_messags_sent.head()\n",
    "\n",
    "import seaborn as sns\n",
    "from matplotlib import pyplot as plt\n",
    "\n",
    "sns.barplot(\n",
    "    data=df_messags_sent,\n",
    "    x=\"month\",\n",
    "    y=\"messages_sent\",\n",
    "    hue=\"plan_name\")"
   ]
  },
  {
   "cell_type": "code",
   "execution_count": 43,
   "metadata": {
    "id": "GRI_R7xF0q1L"
   },
   "outputs": [
    {
     "name": "stdout",
     "output_type": "stream",
     "text": [
      "0        21\n",
      "2       108\n",
      "4       351\n",
      "6       864\n",
      "8      1778\n",
      "10     2292\n",
      "12     3096\n",
      "14     4439\n",
      "16     5672\n",
      "18     7507\n",
      "20     8739\n",
      "22    11731\n",
      "Name: messages_sent, dtype: int64\n",
      "\n",
      "1       62\n",
      "3      139\n",
      "5      243\n",
      "7      463\n",
      "9      931\n",
      "11    1374\n",
      "13    1937\n",
      "15    2732\n",
      "17    3259\n",
      "19    4179\n",
      "21    4861\n",
      "23    6718\n",
      "Name: messages_sent, dtype: int64\n"
     ]
    },
    {
     "data": {
      "image/png": "[encoded data removed]",
      "text/plain": [
       "<Figure size 640x480 with 1 Axes>"
      ]
     },
     "metadata": {},
     "output_type": "display_data"
    }
   ],
   "source": [
    "# Compara la cantidad de mensajes consumidos por usuarios por los ususrios por plan por mes. Traza un histograma\n",
    "messages_surf = df_messags_sent[df_messags_sent['plan_name']=='surf']['messages_sent']\n",
    "messages_ultimate = df_messags_sent[df_messags_sent['plan_name']=='ultimate']['messages_sent']\n",
    "\n",
    "print(messages_surf)\n",
    "print()\n",
    "print(messages_ultimate)\n",
    "\n",
    "messages_surf.hist()\n",
    "messages_ultimate.hist(alpha=0.5)\n",
    "plt.show()"
   ]
  },
  {
   "cell_type": "code",
   "execution_count": 44,
   "metadata": {
    "id": "dtFwCGAp0q1M"
   },
   "outputs": [
    {
     "name": "stdout",
     "output_type": "stream",
     "text": [
      "La media de los mensajes enviados es:  3062.3333333333335\n",
      "\n",
      "La desviacion standar de los mensajes enviados es:  3076.409780716621\n",
      "\n",
      "La varianza de los mensajes enviados es:  9464297.138888886\n"
     ]
    },
    {
     "data": {
      "text/plain": [
       "<AxesSubplot:xlabel='messages_sent'>"
      ]
     },
     "execution_count": 44,
     "metadata": {},
     "output_type": "execute_result"
    },
    {
     "data": {
      "image/png": "[encoded data removed]",
      "text/plain": [
       "<Figure size 640x480 with 1 Axes>"
      ]
     },
     "metadata": {},
     "output_type": "display_data"
    }
   ],
   "source": [
    "# Calcula la media, la varianza y la desviacion estandar de los mensajes enviados por mes. y traza un diagrama de caja para visualizar \n",
    "# la distribución de los mensajes enviados por mes\n",
    "import numpy as np\n",
    "df_messags_sent\n",
    "media_llamadas = df_messags_sent['messages_sent'].mean() # calcula la media aquí\n",
    "variance = np.var(df_messags_sent['messages_sent']) # calcula la varianza aquí\n",
    "standard_deviation = np.std(df_messags_sent['messages_sent']) # calcula la desviacion standar aqui\n",
    "print('La media de los mensajes enviados es: ',media_llamadas)\n",
    "print()\n",
    "print('La desviacion standar de los mensajes enviados es: ',standard_deviation)\n",
    "print()\n",
    "print('La varianza de los mensajes enviados es: ',variance)\n",
    "sns.boxplot(df_messags_sent['messages_sent'])"
   ]
  },
  {
   "cell_type": "markdown",
   "metadata": {
    "id": "390SSL480q1M"
   },
   "source": [
    "[Elabora las conclusiones sobre el comportamiento de los usuarios con respecto a los mensajes. ¿Su comportamiento varía en función del plan?]\n",
    "Es sorprendente como los usuarios del plan surf continuan consumiendo mas que los usuarios del plan ultimate, al igual que en las llamadas, parece que el plan surf es el generador mas importante de ingresos para la compañia."
   ]
  },
  {
   "cell_type": "markdown",
   "metadata": {
    "id": "42YSypXz0q1M"
   },
   "source": [
    "### Internet"
   ]
  },
  {
   "cell_type": "code",
   "execution_count": 45,
   "metadata": {},
   "outputs": [
    {
     "data": {
      "text/html": [
       "<div>\n",
       "<style scoped>\n",
       "    .dataframe tbody tr th:only-of-type {\n",
       "        vertical-align: middle;\n",
       "    }\n",
       "\n",
       "    .dataframe tbody tr th {\n",
       "        vertical-align: top;\n",
       "    }\n",
       "\n",
       "    .dataframe thead th {\n",
       "        text-align: right;\n",
       "    }\n",
       "</style>\n",
       "<table border=\"1\" class=\"dataframe\">\n",
       "  <thead>\n",
       "    <tr style=\"text-align: right;\">\n",
       "      <th></th>\n",
       "      <th>user_id</th>\n",
       "      <th>month</th>\n",
       "      <th>mb_used</th>\n",
       "      <th>gbytes</th>\n",
       "      <th>plan_name</th>\n",
       "    </tr>\n",
       "  </thead>\n",
       "  <tbody>\n",
       "    <tr>\n",
       "      <th>0</th>\n",
       "      <td>1000</td>\n",
       "      <td>12</td>\n",
       "      <td>1901.47</td>\n",
       "      <td>2</td>\n",
       "      <td>ultimate</td>\n",
       "    </tr>\n",
       "    <tr>\n",
       "      <th>1</th>\n",
       "      <td>1006</td>\n",
       "      <td>11</td>\n",
       "      <td>2068.37</td>\n",
       "      <td>3</td>\n",
       "      <td>ultimate</td>\n",
       "    </tr>\n",
       "    <tr>\n",
       "      <th>2</th>\n",
       "      <td>1006</td>\n",
       "      <td>12</td>\n",
       "      <td>32118.82</td>\n",
       "      <td>33</td>\n",
       "      <td>ultimate</td>\n",
       "    </tr>\n",
       "    <tr>\n",
       "      <th>3</th>\n",
       "      <td>1008</td>\n",
       "      <td>10</td>\n",
       "      <td>17106.99</td>\n",
       "      <td>18</td>\n",
       "      <td>ultimate</td>\n",
       "    </tr>\n",
       "    <tr>\n",
       "      <th>4</th>\n",
       "      <td>1008</td>\n",
       "      <td>11</td>\n",
       "      <td>23676.72</td>\n",
       "      <td>24</td>\n",
       "      <td>ultimate</td>\n",
       "    </tr>\n",
       "  </tbody>\n",
       "</table>\n",
       "</div>"
      ],
      "text/plain": [
       "   user_id  month   mb_used  gbytes plan_name\n",
       "0     1000     12   1901.47       2  ultimate\n",
       "1     1006     11   2068.37       3  ultimate\n",
       "2     1006     12  32118.82      33  ultimate\n",
       "3     1008     10  17106.99      18  ultimate\n",
       "4     1008     11  23676.72      24  ultimate"
      ]
     },
     "execution_count": 45,
     "metadata": {},
     "output_type": "execute_result"
    }
   ],
   "source": [
    "df_used_mbyts =  df_total_consumption.drop(['minutes_used','period_calls', 'messages_sent', 'messages_included', \n",
    "                                            'mb_per_month_included','minutes_included','usd_monthly_pay','usd_per_gb',\n",
    "                                            'usd_per_message','usd_per_minute','total_income'], axis=1)\n",
    "df_used_mbyts.head()"
   ]
  },
  {
   "cell_type": "code",
   "execution_count": 46,
   "metadata": {
    "id": "lSuKPtjh0q1M"
   },
   "outputs": [
    {
     "data": {
      "text/plain": [
       "<AxesSubplot:xlabel='month', ylabel='mb_used'>"
      ]
     },
     "execution_count": 46,
     "metadata": {},
     "output_type": "execute_result"
    },
    {
     "data": {
      "image/png": "[encoded data removed]",
      "text/plain": [
       "<Figure size 640x480 with 1 Axes>"
      ]
     },
     "metadata": {},
     "output_type": "display_data"
    }
   ],
   "source": [
    "# Compara la cantidad de trafico de internet consumido por los usuraios por plan.\n",
    "# Traza un gráfico de barras para visualizarla.\n",
    "\n",
    "columns = ['month', 'plan_name']\n",
    "df_used_mbyts = df_used_mbyts.groupby(columns)['mb_used'].agg(['sum']).reset_index()\n",
    "df_used_mbyts = df_used_mbyts.rename(columns={'sum': 'mb_used'})\n",
    "df_used_mbyts.head()\n",
    "\n",
    "import seaborn as sns\n",
    "from matplotlib import pyplot as plt\n",
    "\n",
    "sns.barplot(\n",
    "    data=df_used_mbyts,\n",
    "    x=\"month\",\n",
    "    y=\"mb_used\",\n",
    "    hue=\"plan_name\")"
   ]
  },
  {
   "cell_type": "code",
   "execution_count": 47,
   "metadata": {
    "id": "wnh8jYXi0q1N"
   },
   "outputs": [
    {
     "name": "stdout",
     "output_type": "stream",
     "text": [
      "0        7894.79\n",
      "2       46553.82\n",
      "4      198357.48\n",
      "6      414788.20\n",
      "8      787125.24\n",
      "10    1089602.03\n",
      "12    1487064.36\n",
      "14    2042246.69\n",
      "16    2424433.25\n",
      "18    3150526.25\n",
      "20    3553434.74\n",
      "22    4420214.74\n",
      "Name: mb_used, dtype: float64\n",
      "\n",
      "1       20859.60\n",
      "3       86678.78\n",
      "5      166850.06\n",
      "7      228572.67\n",
      "9      356864.13\n",
      "11     571687.82\n",
      "13     775468.24\n",
      "15    1024688.05\n",
      "17    1165149.16\n",
      "19    1541075.29\n",
      "21    1767022.06\n",
      "23    2283410.73\n",
      "Name: mb_used, dtype: float64\n"
     ]
    },
    {
     "data": {
      "image/png": "[encoded data removed]",
      "text/plain": [
       "<Figure size 640x480 with 1 Axes>"
      ]
     },
     "metadata": {},
     "output_type": "display_data"
    }
   ],
   "source": [
    "# Compara la cantidad de tráfico de Internet consumido por usuarios por plan por mes. Traza un histograma.\n",
    "mbytes_surf = df_used_mbyts[df_used_mbyts['plan_name']=='surf']['mb_used']\n",
    "mbytes_ultimate = df_used_mbyts[df_used_mbyts['plan_name']=='ultimate']['mb_used']\n",
    "\n",
    "print(mbytes_surf)\n",
    "print()\n",
    "print(mbytes_ultimate)\n",
    "\n",
    "mbytes_surf.hist()\n",
    "mbytes_ultimate.hist(alpha=0.5)\n",
    "plt.show()"
   ]
  },
  {
   "cell_type": "code",
   "execution_count": 48,
   "metadata": {
    "id": "5VlyJ9ry0q1N"
   },
   "outputs": [
    {
     "name": "stdout",
     "output_type": "stream",
     "text": [
      "La media del trafico de internet es de:  1233773.6741666666 mbytes por mes\n",
      "\n",
      "La desviacion standar del trafico de internet es:  1192005.840750595\n",
      "\n",
      "La varianza del trafico de internet es de:  1420877924383.533\n"
     ]
    },
    {
     "data": {
      "text/plain": [
       "<AxesSubplot:xlabel='mb_used'>"
      ]
     },
     "execution_count": 48,
     "metadata": {},
     "output_type": "execute_result"
    },
    {
     "data": {
      "image/png": "[encoded data removed]",
      "text/plain": [
       "<Figure size 640x480 with 1 Axes>"
      ]
     },
     "metadata": {},
     "output_type": "display_data"
    }
   ],
   "source": [
    "# Calcula la media, la varianza y la desviacion estandar del trafico por internet por plan, por mes. Traza un diagrama de caja para visualizar \n",
    "# la distribución del trafico por intenet por mes\n",
    "import numpy as np\n",
    "df_used_mbyts\n",
    "media_trafico = df_used_mbyts['mb_used'].mean() # calcula la media aquí\n",
    "variance = np.var(df_used_mbyts['mb_used']) # calcula la varianza aquí\n",
    "standard_deviation = np.std(df_used_mbyts['mb_used']) # calcula la desviacion standar aqui\n",
    "print('La media del trafico de internet es de: ',media_trafico, 'mbytes por mes')\n",
    "print()\n",
    "print('La desviacion standar del trafico de internet es: ',standard_deviation)\n",
    "print()\n",
    "print('La varianza del trafico de internet es de: ',variance)\n",
    "sns.boxplot(df_used_mbyts['mb_used'])"
   ]
  },
  {
   "cell_type": "markdown",
   "metadata": {
    "id": "UN9zwuMP0q1N"
   },
   "source": [
    "[Elabora las conclusiones sobre cómo los usuarios tienden a consumir el tráfico de Internet. ¿Su comportamiento varía en función del plan?]\n",
    "\n",
    "Eñ tercer dato de consumo de servicios, el trafico de internet nos confirma que los usuarios del plan Surf son los mayores consumidores de y geneneradores de ingresos para la compañia."
   ]
  },
  {
   "cell_type": "markdown",
   "metadata": {
    "id": "tCijq3260q1N"
   },
   "source": [
    "## Ingreso"
   ]
  },
  {
   "cell_type": "markdown",
   "metadata": {
    "id": "9nq5IAcy0q1O"
   },
   "source": [
    "[Del mismo modo que has estudiado el comportamiento de los usuarios, describe estadísticamente los ingresos de los planes.]"
   ]
  },
  {
   "cell_type": "code",
   "execution_count": 49,
   "metadata": {
    "id": "tz-dq_V00q1O"
   },
   "outputs": [
    {
     "data": {
      "text/plain": [
       "<AxesSubplot:xlabel='month', ylabel='total_income'>"
      ]
     },
     "execution_count": 49,
     "metadata": {},
     "output_type": "execute_result"
    },
    {
     "data": {
      "image/png": "[encoded data removed]",
      "text/plain": [
       "<Figure size 640x480 with 1 Axes>"
      ]
     },
     "metadata": {},
     "output_type": "display_data"
    }
   ],
   "source": [
    "# Compara la generacion premedio de ingresos plan y por cada mes.\n",
    "# Traza un gráfico de barras para visualizarla.\n",
    "columns = ['month', 'plan_name']\n",
    "df_incomes = df_total_consumption.groupby(columns)['total_income'].agg(['sum']).reset_index()\n",
    "df_incomes = df_incomes.rename(columns={'sum': 'total_income'})\n",
    "df_incomes.head()\n",
    "\n",
    "import seaborn as sns\n",
    "from matplotlib import pyplot as plt\n",
    "\n",
    "sns.barplot(\n",
    "    data=df_incomes,\n",
    "    x=\"month\",\n",
    "    y=\"total_income\",\n",
    "    hue=\"plan_name\")"
   ]
  },
  {
   "cell_type": "code",
   "execution_count": 50,
   "metadata": {
    "id": "0Y1v8ZUz0q1P"
   },
   "outputs": [
    {
     "name": "stdout",
     "output_type": "stream",
     "text": [
      "0        20.00\n",
      "2       125.97\n",
      "4       617.85\n",
      "6      1427.50\n",
      "8      2736.23\n",
      "10     3638.87\n",
      "12     5579.97\n",
      "14     7703.19\n",
      "16     8467.54\n",
      "18    11891.27\n",
      "20    12658.62\n",
      "22    16998.08\n",
      "Name: total_income, dtype: float64\n",
      "\n",
      "1      210.00\n",
      "3      350.00\n",
      "5      544.88\n",
      "7     1170.96\n",
      "9     1485.96\n",
      "11    2663.92\n",
      "13    3405.92\n",
      "15    4135.88\n",
      "17    5066.88\n",
      "19    6356.84\n",
      "21    7359.80\n",
      "23    9110.64\n",
      "Name: total_income, dtype: float64\n"
     ]
    },
    {
     "data": {
      "image/png": "[encoded data removed]",
      "text/plain": [
       "<Figure size 640x480 with 1 Axes>"
      ]
     },
     "metadata": {},
     "output_type": "display_data"
    }
   ],
   "source": [
    "# Compara los ingresos generados por plan por mes. Traza un histograma.\n",
    "income_surf = df_incomes[df_incomes['plan_name']=='surf']['total_income']\n",
    "income_ultimate = df_incomes[df_incomes['plan_name']=='ultimate']['total_income']\n",
    "\n",
    "print(income_surf)\n",
    "print()\n",
    "print(income_ultimate)\n",
    "\n",
    "income_surf.hist()\n",
    "income_ultimate.hist(alpha=0.5)\n",
    "plt.show()"
   ]
  },
  {
   "cell_type": "code",
   "execution_count": 51,
   "metadata": {
    "id": "bYmwxyVh0q1P"
   },
   "outputs": [
    {
     "name": "stdout",
     "output_type": "stream",
     "text": [
      "La media de los ingresos es de:  4738.615416666666\n",
      "\n",
      "La desviacion standar de los ingresos es de:  4472.633807576338\n",
      "\n",
      "La varianza de los ingresos es de:  20004453.176674813\n"
     ]
    },
    {
     "data": {
      "text/plain": [
       "<AxesSubplot:xlabel='total_income'>"
      ]
     },
     "execution_count": 51,
     "metadata": {},
     "output_type": "execute_result"
    },
    {
     "data": {
      "image/png": "[encoded data removed]",
      "text/plain": [
       "<Figure size 640x480 with 1 Axes>"
      ]
     },
     "metadata": {},
     "output_type": "display_data"
    }
   ],
   "source": [
    "# Calcula la media, la varianza y la desviacion estandar de los ingresos por plan y por mes.\n",
    "# Traza un diagrama de caja para visualizar \n",
    "import numpy as np\n",
    "df_incomes\n",
    "media_income = df_incomes['total_income'].mean() # calcula la media aquí\n",
    "variance = np.var(df_incomes['total_income']) # calcula la varianza aquí\n",
    "standard_deviation = np.std(df_incomes['total_income']) # calcula la desviacion standar aqui\n",
    "print('La media de los ingresos es de: ',media_income)\n",
    "print()\n",
    "print('La desviacion standar de los ingresos es de: ',standard_deviation)\n",
    "print()\n",
    "print('La varianza de los ingresos es de: ',variance)\n",
    "sns.boxplot(df_incomes['total_income'])"
   ]
  },
  {
   "cell_type": "markdown",
   "metadata": {
    "id": "KAFidcXZ0q1P"
   },
   "source": [
    "[Elabora las conclusiones sobre cómo difiere el ingreso entre los planes.]\n",
    "    Me parece que la razon principal de la diferencia de los ingresos por plan se debe al exceso de confianza por parte de los usuarios. Todo en base a la eleccion del plan que se adquiere, el usuario Surf elige el plan en base al costo creyendo que por ser mas barato sera suficiente para el, situacion que con el paso del tiempo entendera que no y al final muchos terminan pagando mas que por el plan ultimate. Por otro lado el usuario del plan ultimate puede ser un usuario mas analitico que conoce y cuida sus consumos, ya que es probable que haya pasado por una experiencia similar a lo que hoy nos muestran los ususarios del plan surf."
   ]
  },
  {
   "cell_type": "markdown",
   "metadata": {},
   "source": [
    "\n",
    "<div class=\"alert alert-block alert-success\">\n",
    "\n",
    "<b>Comentario del revisor</b> <a class=\"tocSkip\"></a><br>\n",
    "\n",
    "<b>Éxito</b> - ¡Gran trabajo en esta sección! Has llevado a cabo un análisis estadístico completo del comportamiento del usuario segmentado por plan, incluyendo llamadas, mensajes, tráfico de internet e ingresos. Los cálculos de medidas de tendencia central y dispersión están correctamente implementados, y el uso de visualizaciones (barras, histogramas y boxplots) facilita la comparación entre los planes. También es destacable tu capacidad para interpretar los resultados y derivar hipótesis claras sobre el comportamiento del usuario, como el posible exceso de confianza en el plan Surf. Este tipo de análisis ofrece una base valiosa para decisiones estratégicas de marketing y diseño de planes.\n",
    "\n",
    "Dos sugerencias para profundizar aún más:\n",
    "\n",
    "* Considera normalizar el consumo y los ingresos por número de usuarios activos por plan y mes, lo que te permitiría evaluar de forma más justa la rentabilidad promedio por usuario.\n",
    "* Sería útil calcular la proporción de usuarios que exceden los límites incluidos en cada plan, lo cual daría soporte numérico a tus conclusiones sobre la rentabilidad del plan Surf.\n",
    "\n",
    "¡Has demostrado una excelente capacidad analítica y de comunicación de resultados! Sigue así.\n",
    "\n",
    "</div> \n"
   ]
  },
  {
   "cell_type": "markdown",
   "metadata": {
    "id": "ajJ7VKeI0q1Q"
   },
   "source": [
    "## Prueba las hipótesis estadísticas"
   ]
  },
  {
   "cell_type": "markdown",
   "metadata": {
    "id": "AdXAZ-yL0q1Q"
   },
   "source": [
    "[Prueba la hipótesis de que son diferentes los ingresos promedio procedentes de los usuarios de los planes de llamada Ultimate y Surf.]"
   ]
  },
  {
   "cell_type": "markdown",
   "metadata": {
    "id": "IQwa_hsh0q1Q"
   },
   "source": [
    "[Elabora las hipótesis nula y alternativa, escoge la prueba estadística, determina el valor alfa.]"
   ]
  },
  {
   "cell_type": "code",
   "execution_count": 70,
   "metadata": {
    "id": "nFoPNlPq0q1R"
   },
   "outputs": [
    {
     "name": "stdout",
     "output_type": "stream",
     "text": [
      "No se puede rechazar la hipotesis nula: los usuarios de los planes tienen promedios iguales\n"
     ]
    }
   ],
   "source": [
    "# Prueba las hipótesis\n",
    "# Hipotesis nula: Para la compañia, los ingresos promedio de los planes Surf y Ultimate son iguales\n",
    "# Hipotesis alternativa: Para la compañia, los ingresos promedio de los planes Surf y Ultimate son diferentes\n",
    "\n",
    "from scipy import stats as st\n",
    "import numpy as np\n",
    "\n",
    "ingresos_surf = df_incomes[df_incomes['plan_name']=='surf']['total_income']\n",
    "ingresos_ultimate = df_incomes[df_incomes['plan_name']=='ultimate']['total_income']\n",
    "\n",
    "estadistico, pvalue = st.ttest_ind(ingresos_surf, ingresos_ultimate, equal_var=False)\n",
    "alpha = 0.05\n",
    "\n",
    "if pvalue < alpha:\n",
    "    print('Se rechaza la hipotesis nula: los usuarios de los planes tienen promedios distintos')\n",
    "elif pvalue >= alpha:\n",
    "    print('No se puede rechazar la hipotesis nula: los usuarios de los planes tienen promedios iguales')"
   ]
  },
  {
   "cell_type": "markdown",
   "metadata": {
    "id": "tCcAruM60q1R"
   },
   "source": [
    "[Prueba la hipótesis de que el ingreso promedio de los usuarios del área NY-NJ es diferente al de los usuarios de otras regiones.]"
   ]
  },
  {
   "cell_type": "markdown",
   "metadata": {
    "id": "LsBgitqj0q1R"
   },
   "source": [
    "[Elabora las hipótesis nula y alternativa, escoge la prueba estadística, determina el valor alfa.]"
   ]
  },
  {
   "cell_type": "code",
   "execution_count": 65,
   "metadata": {},
   "outputs": [
    {
     "name": "stdout",
     "output_type": "stream",
     "text": [
      "['Atlanta-Sandy Springs-Roswell, GA MSA'\n",
      " 'San Francisco-Oakland-Berkeley, CA MSA'\n",
      " 'Orlando-Kissimmee-Sanford, FL MSA' 'Cleveland-Elyria, OH MSA'\n",
      " 'Knoxville, TN MSA' 'Houston-The Woodlands-Sugar Land, TX MSA'\n",
      " 'Philadelphia-Camden-Wilmington, PA-NJ-DE-MD MSA'\n",
      " 'Chicago-Naperville-Elgin, IL-IN-WI MSA'\n",
      " 'New York-Newark-Jersey City, NY-NJ-PA MSA' 'Birmingham-Hoover, AL MSA'\n",
      " 'Oklahoma City, OK MSA' 'Denver-Aurora-Lakewood, CO MSA'\n",
      " 'Seattle-Tacoma-Bellevue, WA MSA'\n",
      " 'Nashville-Davidson–Murfreesboro–Franklin, TN MSA' 'Columbus, OH MSA'\n",
      " 'Indianapolis-Carmel-Anderson, IN MSA' 'Columbia, SC MSA'\n",
      " 'San Antonio-New Braunfels, TX MSA'\n",
      " 'Charlotte-Concord-Gastonia, NC-SC MSA' 'Phoenix-Mesa-Chandler, AZ MSA'\n",
      " 'Riverside-San Bernardino-Ontario, CA MSA'\n",
      " 'Grand Rapids-Kentwood, MI MSA' 'New Haven-Milford, CT MSA'\n",
      " 'Cincinnati, OH-KY-IN MSA'\n",
      " 'Miami-Fort Lauderdale-West Palm Beach, FL MSA'\n",
      " 'Los Angeles-Long Beach-Anaheim, CA MSA'\n",
      " 'Sacramento–Roseville–Folsom, CA MSA'\n",
      " 'Las Vegas-Henderson-Paradise, NV MSA' 'Richmond, VA MSA'\n",
      " 'Virginia Beach-Norfolk-Newport News, VA-NC MSA' 'St. Louis, MO-IL MSA'\n",
      " 'San Diego-Chula Vista-Carlsbad, CA MSA'\n",
      " 'Austin-Round Rock-Georgetown, TX MSA'\n",
      " 'San Jose-Sunnyvale-Santa Clara, CA MSA'\n",
      " 'Minneapolis-St. Paul-Bloomington, MN-WI MSA'\n",
      " 'Tampa-St. Petersburg-Clearwater, FL MSA' 'Baton Rouge, LA MSA'\n",
      " 'Charleston-North Charleston, SC MSA' 'Detroit-Warren-Dearborn, MI MSA'\n",
      " 'Tucson, AZ MSA' 'Salt Lake City, UT MSA'\n",
      " 'Washington-Arlington-Alexandria, DC-VA-MD-WV MSA'\n",
      " 'Dallas-Fort Worth-Arlington, TX MSA' 'Bakersfield, CA MSA'\n",
      " 'Fresno, CA MSA' 'Pittsburgh, PA MSA'\n",
      " 'Portland-Vancouver-Hillsboro, OR-WA MSA' 'Cape Coral-Fort Myers, FL MSA'\n",
      " 'Tulsa, OK MSA' 'Jacksonville, FL MSA' 'Omaha-Council Bluffs, NE-IA MSA'\n",
      " 'Albuquerque, NM MSA' 'Boston-Cambridge-Newton, MA-NH MSA'\n",
      " 'Buffalo-Cheektowaga, NY MSA' 'Memphis, TN-MS-AR MSA'\n",
      " 'Louisville/Jefferson County, KY-IN MSA'\n",
      " 'Albany-Schenectady-Troy, NY MSA' 'Providence-Warwick, RI-MA MSA'\n",
      " 'Urban Honolulu, HI MSA' 'El Paso, TX MSA'\n",
      " 'North Port-Sarasota-Bradenton, FL MSA' 'New Orleans-Metairie, LA MSA'\n",
      " 'Milwaukee-Waukesha, WI MSA' 'Oxnard-Thousand Oaks-Ventura, CA MSA'\n",
      " 'Bridgeport-Stamford-Norwalk, CT MSA' 'Kansas City, MO-KS MSA'\n",
      " 'Dayton-Kettering, OH MSA' 'Rochester, NY MSA' 'Raleigh-Cary, NC MSA'\n",
      " 'Baltimore-Columbia-Towson, MD MSA' 'Greensboro-High Point, NC MSA'\n",
      " 'Stockton, CA MSA']\n"
     ]
    },
    {
     "data": {
      "text/html": [
       "<div>\n",
       "<style scoped>\n",
       "    .dataframe tbody tr th:only-of-type {\n",
       "        vertical-align: middle;\n",
       "    }\n",
       "\n",
       "    .dataframe tbody tr th {\n",
       "        vertical-align: top;\n",
       "    }\n",
       "\n",
       "    .dataframe thead th {\n",
       "        text-align: right;\n",
       "    }\n",
       "</style>\n",
       "<table border=\"1\" class=\"dataframe\">\n",
       "  <thead>\n",
       "    <tr style=\"text-align: right;\">\n",
       "      <th></th>\n",
       "      <th>user_id</th>\n",
       "      <th>month</th>\n",
       "      <th>plan_name</th>\n",
       "      <th>total_income</th>\n",
       "      <th>city</th>\n",
       "    </tr>\n",
       "  </thead>\n",
       "  <tbody>\n",
       "    <tr>\n",
       "      <th>0</th>\n",
       "      <td>1000</td>\n",
       "      <td>12</td>\n",
       "      <td>ultimate</td>\n",
       "      <td>70.00</td>\n",
       "      <td>Atlanta-Sandy Springs-Roswell, GA MSA</td>\n",
       "    </tr>\n",
       "    <tr>\n",
       "      <th>1</th>\n",
       "      <td>1006</td>\n",
       "      <td>11</td>\n",
       "      <td>ultimate</td>\n",
       "      <td>70.00</td>\n",
       "      <td>San Francisco-Oakland-Berkeley, CA MSA</td>\n",
       "    </tr>\n",
       "    <tr>\n",
       "      <th>2</th>\n",
       "      <td>1006</td>\n",
       "      <td>12</td>\n",
       "      <td>ultimate</td>\n",
       "      <td>85.96</td>\n",
       "      <td>San Francisco-Oakland-Berkeley, CA MSA</td>\n",
       "    </tr>\n",
       "    <tr>\n",
       "      <th>3</th>\n",
       "      <td>1008</td>\n",
       "      <td>10</td>\n",
       "      <td>ultimate</td>\n",
       "      <td>70.00</td>\n",
       "      <td>Orlando-Kissimmee-Sanford, FL MSA</td>\n",
       "    </tr>\n",
       "    <tr>\n",
       "      <th>4</th>\n",
       "      <td>1008</td>\n",
       "      <td>11</td>\n",
       "      <td>ultimate</td>\n",
       "      <td>70.00</td>\n",
       "      <td>Orlando-Kissimmee-Sanford, FL MSA</td>\n",
       "    </tr>\n",
       "  </tbody>\n",
       "</table>\n",
       "</div>"
      ],
      "text/plain": [
       "   user_id  month plan_name  total_income  \\\n",
       "0     1000     12  ultimate         70.00   \n",
       "1     1006     11  ultimate         70.00   \n",
       "2     1006     12  ultimate         85.96   \n",
       "3     1008     10  ultimate         70.00   \n",
       "4     1008     11  ultimate         70.00   \n",
       "\n",
       "                                     city  \n",
       "0   Atlanta-Sandy Springs-Roswell, GA MSA  \n",
       "1  San Francisco-Oakland-Berkeley, CA MSA  \n",
       "2  San Francisco-Oakland-Berkeley, CA MSA  \n",
       "3       Orlando-Kissimmee-Sanford, FL MSA  \n",
       "4       Orlando-Kissimmee-Sanford, FL MSA  "
      ]
     },
     "execution_count": 65,
     "metadata": {},
     "output_type": "execute_result"
    }
   ],
   "source": [
    "df_users_a = df_users[['user_id', 'city']]\n",
    "df_consumptiom_ny_nj = pd.merge(df_total_consumption, df_users_a, on=['user_id'], how='left')\n",
    "df_consumptiom_ny_nj = df_consumptiom_ny_nj.drop(['minutes_used','period_calls', 'mb_used', 'gbytes', 'messages_sent', 'messages_included', \n",
    "                                            'mb_per_month_included','minutes_included','usd_monthly_pay','usd_per_gb',\n",
    "                                            'usd_per_message','usd_per_minute'], axis=1)\n",
    "print(df_consumptiom_ny_nj['city'].unique()) #'New York-Newark-Jersey City, NY-NJ-PA MSA' 'Birmingham-Hoover, AL MSA'\n",
    "df_consumptiom_ny_nj.head()"
   ]
  },
  {
   "cell_type": "code",
   "execution_count": 69,
   "metadata": {
    "id": "Cqcj7wrZ0q1S"
   },
   "outputs": [
    {
     "name": "stdout",
     "output_type": "stream",
     "text": [
      "Se rechaza la hipotesis nula: los usuarios de los planes tienen promedios distintos\n"
     ]
    }
   ],
   "source": [
    "# Prueba las hipótesis\n",
    "# Prueba las hipótesis\n",
    "# Hipotesis nula: Para la compañia, los ingresos promedio de los planes Surf y Ultimate son iguales\n",
    "# Hipotesis alternativa: Para la compañia, los ingresos promedio de los planes Surf y Ultimate son diferentes\n",
    "\n",
    "from scipy import stats as st\n",
    "import numpy as np\n",
    "\n",
    "ingresos_ny_nj_surf = df_consumptiom_ny_nj[(df_consumptiom_ny_nj['plan_name']=='surf') & (df_consumptiom_ny_nj['city']=='New York-Newark-Jersey City, NY-NJ-PA MSA')]['total_income']\n",
    "ingresos_ny_nj_ultimate = df_consumptiom_ny_nj[(df_consumptiom_ny_nj['plan_name']=='ultimate') & (df_consumptiom_ny_nj['city']=='New York-Newark-Jersey City, NY-NJ-PA MSA')]['total_income']\n",
    "\n",
    "estadistico, pvalue = st.ttest_ind(ingresos_ny_nj_surf, ingresos_ny_nj_ultimate, equal_var=False)\n",
    "alpha = 0.05\n",
    "\n",
    "if pvalue < alpha:\n",
    "    print('Se rechaza la hipotesis nula: los usuarios de los planes tienen promedios distintos')\n",
    "elif pvalue >= alpha:\n",
    "    print('No se puede rechazar la hipotesis nula: los usuarios de los planes tienen promedios iguales')"
   ]
  },
  {
   "cell_type": "markdown",
   "metadata": {
    "id": "bbTR8UQO0q1T"
   },
   "source": [
    "## Conclusión general\n",
    "\n",
    "[En esta sección final, enumera tus conclusiones importantes. Asegúrate de que estas abarquen todas las decisiones (suposiciones) importantes que adoptaste y que determinaron la forma elegida para procesar y analizar los datos.]\n",
    "1. Es una costante que los usurios del plan surf tienen mayores consumos en todos los servicios, que los del plan ultimate \n",
    "2. Debido a ellos Los usuarios del plan sur generan mayores ingresos vs los del plan ultimate, de manera general, probablemente a nivel de estados o areas se puedan encontrar similitudes o diferencias, como lo vemos con el caso del area NY-NJ.\n",
    "3. Debido a que debi comparar dos poblaciones distintas (2 paquetes de consumo diferentes) fue que elegi usar la Hipotesis sobre la igualdad de la media de 2 poblaciones\n"
   ]
  },
  {
   "cell_type": "markdown",
   "metadata": {},
   "source": [
    "\n",
    "<div class=\"alert alert-block alert-success\">\n",
    "\n",
    "<b>Comentario del revisor</b> <a class=\"tocSkip\"></a><br>\n",
    "\n",
    "<b>Éxito</b> - Excelente trabajo en la formulación y prueba de hipótesis estadísticas. Has planteado correctamente las hipótesis nula y alternativa, elegido una prueba adecuada (`ttest_ind`) y aplicado correctamente el valor alfa. Muy bien por extender el análisis al comparar ingresos en una región específica como NY-NJ, lo que añade profundidad territorial a la evaluación. También es destacable que interpretes correctamente los resultados según el p-valor obtenido, lo que demuestra un sólido razonamiento estadístico. Además, tus conclusiones generales están bien conectadas con los hallazgos previos sobre consumo e ingresos por plan.\n",
    "\n",
    "Dos consejos para seguir fortaleciendo tus habilidades analíticas:\n",
    "\n",
    "* Siempre verifica el valor del p-valor, **aunque el resultado del `if` lo interprete por ti**, ya que te permite entender la magnitud de la diferencia y si está cerca del umbral.\n",
    "* Muy bien por identificar la ciudad correctamente como filtro en la segunda hipótesis; para futuros proyectos, podrías automatizar este tipo de pruebas para todas las regiones clave con más de cieto número de usuarios.\n",
    "\n",
    "¡Muy sólido tu enfoque de análisis, interpretación y comunicación! 🔍📈\n",
    "\n",
    "</div>\n",
    "\n"
   ]
  }
 ],
 "metadata": {
  "ExecuteTimeLog": [
   {
    "duration": 828,
    "start_time": "2021-11-16T09:21:11.304Z"
   },
   {
    "duration": 893,
    "start_time": "2021-11-16T09:21:17.728Z"
   },
   {
    "duration": 1150,
    "start_time": "2021-11-16T09:21:29.568Z"
   },
   {
    "duration": 3,
    "start_time": "2021-11-16T09:24:14.495Z"
   },
   {
    "duration": 120,
    "start_time": "2021-11-16T09:24:46.630Z"
   },
   {
    "duration": 3,
    "start_time": "2021-11-16T09:28:27.882Z"
   },
   {
    "duration": 4,
    "start_time": "2021-11-16T09:29:54.281Z"
   },
   {
    "duration": 3,
    "start_time": "2021-11-16T09:30:45.936Z"
   },
   {
    "duration": 4,
    "start_time": "2021-11-16T09:31:06.300Z"
   },
   {
    "duration": 113,
    "start_time": "2021-11-16T09:31:37.208Z"
   },
   {
    "duration": 143,
    "start_time": "2021-11-16T09:31:48.656Z"
   },
   {
    "duration": 98,
    "start_time": "2021-11-16T09:31:55.678Z"
   },
   {
    "duration": 3,
    "start_time": "2021-11-16T09:32:08.535Z"
   },
   {
    "duration": 111,
    "start_time": "2021-11-16T09:32:10.120Z"
   },
   {
    "duration": 3,
    "start_time": "2021-11-16T09:32:15.732Z"
   },
   {
    "duration": 4,
    "start_time": "2021-11-16T09:32:29.423Z"
   },
   {
    "duration": 3,
    "start_time": "2021-11-16T10:03:03.074Z"
   },
   {
    "duration": 3,
    "start_time": "2021-11-16T10:10:01.288Z"
   },
   {
    "duration": 3,
    "start_time": "2021-11-16T10:10:46.923Z"
   },
   {
    "duration": 121,
    "start_time": "2021-11-16T10:37:46.494Z"
   },
   {
    "duration": 125,
    "start_time": "2021-11-16T10:38:20.632Z"
   },
   {
    "duration": 112,
    "start_time": "2021-11-16T10:46:53.001Z"
   },
   {
    "duration": 110,
    "start_time": "2021-11-16T10:48:25.775Z"
   },
   {
    "duration": 3,
    "start_time": "2021-11-16T10:50:18.720Z"
   },
   {
    "duration": 4,
    "start_time": "2021-11-16T10:50:37.649Z"
   },
   {
    "duration": 2,
    "start_time": "2021-11-16T10:50:51.884Z"
   },
   {
    "duration": 3,
    "start_time": "2021-11-16T10:51:56.237Z"
   },
   {
    "duration": 101,
    "start_time": "2021-11-16T10:53:13.791Z"
   },
   {
    "duration": 3,
    "start_time": "2021-11-16T10:55:59.186Z"
   },
   {
    "duration": 3,
    "start_time": "2021-11-16T10:56:10.751Z"
   },
   {
    "duration": 3,
    "start_time": "2021-11-16T10:56:49.038Z"
   },
   {
    "duration": 3,
    "start_time": "2021-11-16T10:56:49.174Z"
   },
   {
    "duration": 4,
    "start_time": "2021-11-16T10:56:49.414Z"
   },
   {
    "duration": 3,
    "start_time": "2021-11-16T10:56:49.680Z"
   },
   {
    "duration": 3,
    "start_time": "2021-11-16T10:56:50.370Z"
   },
   {
    "duration": 114,
    "start_time": "2021-11-16T10:59:34.518Z"
   },
   {
    "duration": 3,
    "start_time": "2021-11-16T11:01:41.201Z"
   },
   {
    "duration": 116,
    "start_time": "2021-11-16T11:01:48.754Z"
   },
   {
    "duration": 3,
    "start_time": "2021-11-16T11:02:16.685Z"
   },
   {
    "duration": 3,
    "start_time": "2021-11-16T11:02:19.479Z"
   },
   {
    "duration": 3,
    "start_time": "2021-11-16T11:02:47.067Z"
   },
   {
    "duration": 3,
    "start_time": "2021-11-16T11:02:49.353Z"
   },
   {
    "duration": 3,
    "start_time": "2021-11-16T11:03:07.835Z"
   },
   {
    "duration": 3,
    "start_time": "2021-11-16T11:03:07.953Z"
   },
   {
    "duration": 112,
    "start_time": "2021-11-16T11:07:52.072Z"
   },
   {
    "duration": 187,
    "start_time": "2021-11-16T11:09:23.468Z"
   },
   {
    "duration": 4,
    "start_time": "2021-11-16T11:10:01.455Z"
   },
   {
    "duration": 3,
    "start_time": "2021-11-16T11:10:05.069Z"
   },
   {
    "duration": 4,
    "start_time": "2021-11-16T11:10:13.376Z"
   },
   {
    "duration": 3,
    "start_time": "2021-11-16T11:10:14.434Z"
   },
   {
    "duration": 3,
    "start_time": "2021-11-16T11:10:22.853Z"
   },
   {
    "duration": 4,
    "start_time": "2021-11-16T11:27:29.279Z"
   },
   {
    "duration": 4,
    "start_time": "2021-11-16T11:29:08.919Z"
   },
   {
    "duration": 118,
    "start_time": "2021-11-16T11:29:46.703Z"
   },
   {
    "duration": 437,
    "start_time": "2021-11-16T11:36:02.181Z"
   },
   {
    "duration": 157,
    "start_time": "2021-11-16T11:36:14.388Z"
   },
   {
    "duration": 207,
    "start_time": "2021-11-16T11:47:15.898Z"
   },
   {
    "duration": 3,
    "start_time": "2021-11-16T11:53:52.092Z"
   },
   {
    "duration": 3,
    "start_time": "2021-11-16T11:53:52.236Z"
   },
   {
    "duration": 3,
    "start_time": "2021-11-16T11:59:12.005Z"
   },
   {
    "duration": 112,
    "start_time": "2021-11-16T12:00:33.446Z"
   },
   {
    "duration": 3,
    "start_time": "2021-11-16T12:02:14.453Z"
   },
   {
    "duration": 3,
    "start_time": "2021-11-16T12:02:39.512Z"
   },
   {
    "duration": 106,
    "start_time": "2021-11-16T12:03:03.460Z"
   },
   {
    "duration": 3,
    "start_time": "2021-11-17T20:37:21.139Z"
   },
   {
    "duration": 3,
    "start_time": "2021-11-17T20:37:22.229Z"
   },
   {
    "duration": 3,
    "start_time": "2021-11-17T20:38:38.806Z"
   },
   {
    "duration": 3,
    "start_time": "2021-11-17T20:38:41.958Z"
   },
   {
    "duration": 3,
    "start_time": "2021-11-17T20:43:46.551Z"
   },
   {
    "duration": 4,
    "start_time": "2021-11-17T20:58:21.835Z"
   },
   {
    "duration": 3,
    "start_time": "2021-11-17T20:59:21.872Z"
   },
   {
    "duration": 4,
    "start_time": "2021-11-17T20:59:45.352Z"
   },
   {
    "duration": 4,
    "start_time": "2021-11-17T20:59:49.646Z"
   },
   {
    "duration": 159,
    "start_time": "2021-11-17T21:02:26.949Z"
   },
   {
    "duration": 3,
    "start_time": "2021-11-17T21:03:53.461Z"
   },
   {
    "duration": 3,
    "start_time": "2021-11-17T21:03:53.694Z"
   },
   {
    "duration": 3,
    "start_time": "2021-11-17T21:05:28.145Z"
   },
   {
    "duration": 116,
    "start_time": "2021-11-17T21:05:57.787Z"
   },
   {
    "duration": 3,
    "start_time": "2021-11-17T21:06:37.993Z"
   },
   {
    "duration": 3,
    "start_time": "2021-11-17T21:06:38.261Z"
   },
   {
    "duration": 3,
    "start_time": "2021-11-17T21:11:54.358Z"
   },
   {
    "duration": 3,
    "start_time": "2021-11-17T21:12:43.846Z"
   },
   {
    "duration": 4,
    "start_time": "2021-11-17T21:13:08.773Z"
   },
   {
    "duration": 3,
    "start_time": "2021-11-17T21:14:44.441Z"
   },
   {
    "duration": 3,
    "start_time": "2021-11-17T21:15:42.059Z"
   },
   {
    "duration": 4,
    "start_time": "2021-11-17T21:15:51.995Z"
   },
   {
    "duration": 3,
    "start_time": "2021-11-17T21:15:53.923Z"
   },
   {
    "duration": 3,
    "start_time": "2021-11-17T21:15:55.282Z"
   },
   {
    "duration": 3,
    "start_time": "2021-11-17T21:16:28.492Z"
   },
   {
    "duration": 3,
    "start_time": "2021-11-17T21:16:32.603Z"
   },
   {
    "duration": 3,
    "start_time": "2021-11-17T21:17:06.941Z"
   },
   {
    "duration": 98,
    "start_time": "2021-11-17T21:18:05.733Z"
   },
   {
    "duration": 4,
    "start_time": "2021-11-17T21:21:35.255Z"
   },
   {
    "duration": 3,
    "start_time": "2021-11-17T21:21:37.804Z"
   },
   {
    "duration": 4,
    "start_time": "2021-11-17T21:23:06.071Z"
   },
   {
    "duration": 3,
    "start_time": "2021-11-17T21:23:24.799Z"
   },
   {
    "duration": 3,
    "start_time": "2021-11-17T21:23:32.591Z"
   },
   {
    "duration": 98,
    "start_time": "2021-11-17T21:28:31.559Z"
   },
   {
    "duration": 3,
    "start_time": "2021-11-17T21:28:45.448Z"
   },
   {
    "duration": 3,
    "start_time": "2021-11-17T21:29:17.303Z"
   },
   {
    "duration": 3,
    "start_time": "2021-11-17T21:29:29.617Z"
   },
   {
    "duration": 3,
    "start_time": "2021-11-17T21:29:32.681Z"
   },
   {
    "duration": 3,
    "start_time": "2021-11-17T21:36:11.474Z"
   },
   {
    "duration": 3,
    "start_time": "2021-11-17T21:36:14.791Z"
   },
   {
    "duration": 3,
    "start_time": "2021-11-17T21:36:53.943Z"
   },
   {
    "duration": 3,
    "start_time": "2021-11-17T21:36:56.165Z"
   },
   {
    "duration": 4,
    "start_time": "2021-11-17T21:37:16.590Z"
   },
   {
    "duration": 3,
    "start_time": "2021-11-17T21:37:22.702Z"
   },
   {
    "duration": 4,
    "start_time": "2021-11-17T21:38:03.479Z"
   },
   {
    "duration": 3,
    "start_time": "2021-11-17T21:38:08.601Z"
   },
   {
    "duration": 3,
    "start_time": "2021-11-17T21:38:12.928Z"
   },
   {
    "duration": 3,
    "start_time": "2021-11-17T21:38:48.896Z"
   },
   {
    "duration": 2,
    "start_time": "2021-11-17T21:38:49.171Z"
   },
   {
    "duration": 4,
    "start_time": "2021-11-17T21:39:57.889Z"
   },
   {
    "duration": 3,
    "start_time": "2021-11-17T21:39:58.057Z"
   },
   {
    "duration": 3,
    "start_time": "2021-11-17T21:41:20.108Z"
   },
   {
    "duration": 3,
    "start_time": "2021-11-17T21:41:20.629Z"
   },
   {
    "duration": 3,
    "start_time": "2021-11-17T21:42:49.136Z"
   },
   {
    "duration": 3,
    "start_time": "2021-11-17T21:43:15.137Z"
   },
   {
    "duration": 4,
    "start_time": "2021-11-17T21:43:16.766Z"
   },
   {
    "duration": 4,
    "start_time": "2021-11-17T21:43:31.711Z"
   },
   {
    "duration": 3,
    "start_time": "2021-11-17T21:43:36.312Z"
   },
   {
    "duration": 4,
    "start_time": "2021-11-17T21:45:08.825Z"
   },
   {
    "duration": 4,
    "start_time": "2021-11-17T21:45:10.119Z"
   },
   {
    "duration": 4,
    "start_time": "2021-11-17T21:45:13.748Z"
   },
   {
    "duration": 3,
    "start_time": "2021-11-17T21:45:22.219Z"
   },
   {
    "duration": 3,
    "start_time": "2021-11-17T21:45:33.412Z"
   },
   {
    "duration": 2,
    "start_time": "2021-11-17T21:46:01.885Z"
   },
   {
    "duration": 3,
    "start_time": "2021-11-17T21:46:03.628Z"
   },
   {
    "duration": 107,
    "start_time": "2021-11-17T21:47:32.512Z"
   },
   {
    "duration": 103,
    "start_time": "2021-11-17T21:50:36.243Z"
   },
   {
    "duration": 3,
    "start_time": "2021-11-18T06:28:31.440Z"
   },
   {
    "duration": 3,
    "start_time": "2021-11-18T06:29:00.168Z"
   },
   {
    "duration": 3,
    "start_time": "2021-11-18T06:31:27.008Z"
   },
   {
    "duration": 2,
    "start_time": "2021-11-18T06:35:34.288Z"
   },
   {
    "duration": 2,
    "start_time": "2021-11-18T06:38:04.527Z"
   },
   {
    "duration": 160,
    "start_time": "2025-04-20T23:38:40.110Z"
   },
   {
    "duration": 9,
    "start_time": "2025-04-20T23:38:47.705Z"
   },
   {
    "duration": 14,
    "start_time": "2025-04-20T23:41:43.262Z"
   },
   {
    "duration": 4,
    "start_time": "2025-04-20T23:43:25.288Z"
   },
   {
    "duration": 14,
    "start_time": "2025-04-20T23:47:21.076Z"
   },
   {
    "duration": 6,
    "start_time": "2025-04-20T23:54:17.970Z"
   },
   {
    "duration": 14,
    "start_time": "2025-04-21T00:04:00.540Z"
   },
   {
    "duration": 13,
    "start_time": "2025-04-21T03:49:35.694Z"
   },
   {
    "duration": 9,
    "start_time": "2025-04-21T03:51:12.398Z"
   },
   {
    "duration": 7,
    "start_time": "2025-04-21T03:51:27.190Z"
   },
   {
    "duration": 156,
    "start_time": "2025-04-21T03:52:05.971Z"
   },
   {
    "duration": 13,
    "start_time": "2025-04-21T03:52:57.103Z"
   },
   {
    "duration": 6,
    "start_time": "2025-04-21T03:53:34.783Z"
   },
   {
    "duration": 6,
    "start_time": "2025-04-21T03:54:47.171Z"
   },
   {
    "duration": 4,
    "start_time": "2025-04-21T04:00:13.491Z"
   },
   {
    "duration": 6,
    "start_time": "2025-04-21T04:04:21.445Z"
   },
   {
    "duration": 66,
    "start_time": "2025-04-21T04:25:28.225Z"
   },
   {
    "duration": 4,
    "start_time": "2025-04-21T04:25:40.284Z"
   },
   {
    "duration": 561,
    "start_time": "2025-04-21T04:28:27.629Z"
   },
   {
    "duration": 182,
    "start_time": "2025-04-21T04:32:39.542Z"
   },
   {
    "duration": 42,
    "start_time": "2025-04-21T04:32:51.205Z"
   },
   {
    "duration": 5,
    "start_time": "2025-04-21T04:35:47.827Z"
   },
   {
    "duration": 8,
    "start_time": "2025-04-21T04:36:20.616Z"
   },
   {
    "duration": 5,
    "start_time": "2025-04-21T04:36:49.481Z"
   },
   {
    "duration": 173,
    "start_time": "2025-04-22T01:18:49.932Z"
   },
   {
    "duration": 678,
    "start_time": "2025-04-22T01:19:01.058Z"
   },
   {
    "duration": 158,
    "start_time": "2025-04-22T01:19:01.738Z"
   },
   {
    "duration": 43,
    "start_time": "2025-04-22T01:19:01.899Z"
   },
   {
    "duration": 7,
    "start_time": "2025-04-22T01:19:01.945Z"
   },
   {
    "duration": 6,
    "start_time": "2025-04-22T01:19:01.954Z"
   },
   {
    "duration": 3,
    "start_time": "2025-04-22T01:19:01.961Z"
   },
   {
    "duration": 2,
    "start_time": "2025-04-22T01:19:01.966Z"
   },
   {
    "duration": 2,
    "start_time": "2025-04-22T01:19:01.971Z"
   },
   {
    "duration": 3,
    "start_time": "2025-04-22T01:19:01.975Z"
   },
   {
    "duration": 2,
    "start_time": "2025-04-22T01:19:01.981Z"
   },
   {
    "duration": 39,
    "start_time": "2025-04-22T01:19:01.985Z"
   },
   {
    "duration": 3,
    "start_time": "2025-04-22T01:19:02.025Z"
   },
   {
    "duration": 1,
    "start_time": "2025-04-22T01:19:02.032Z"
   },
   {
    "duration": 3,
    "start_time": "2025-04-22T01:19:02.035Z"
   },
   {
    "duration": 3,
    "start_time": "2025-04-22T01:19:02.039Z"
   },
   {
    "duration": 3,
    "start_time": "2025-04-22T01:19:02.044Z"
   },
   {
    "duration": 4,
    "start_time": "2025-04-22T01:19:02.048Z"
   },
   {
    "duration": 3,
    "start_time": "2025-04-22T01:19:02.053Z"
   },
   {
    "duration": 3,
    "start_time": "2025-04-22T01:19:02.058Z"
   },
   {
    "duration": 3,
    "start_time": "2025-04-22T01:19:02.062Z"
   },
   {
    "duration": 3,
    "start_time": "2025-04-22T01:19:02.066Z"
   },
   {
    "duration": 3,
    "start_time": "2025-04-22T01:19:02.071Z"
   },
   {
    "duration": 2,
    "start_time": "2025-04-22T01:19:02.077Z"
   },
   {
    "duration": 3,
    "start_time": "2025-04-22T01:19:02.080Z"
   },
   {
    "duration": 39,
    "start_time": "2025-04-22T01:19:02.085Z"
   },
   {
    "duration": 3,
    "start_time": "2025-04-22T01:19:02.126Z"
   },
   {
    "duration": 2,
    "start_time": "2025-04-22T01:19:02.132Z"
   },
   {
    "duration": 4,
    "start_time": "2025-04-22T01:19:02.138Z"
   },
   {
    "duration": 2,
    "start_time": "2025-04-22T01:19:02.143Z"
   },
   {
    "duration": 14,
    "start_time": "2025-04-22T01:19:46.840Z"
   },
   {
    "duration": 186,
    "start_time": "2025-04-22T01:20:57.857Z"
   },
   {
    "duration": 15,
    "start_time": "2025-04-22T01:21:46.714Z"
   },
   {
    "duration": 10,
    "start_time": "2025-04-22T01:26:10.768Z"
   },
   {
    "duration": 8,
    "start_time": "2025-04-22T03:44:28.735Z"
   },
   {
    "duration": 8,
    "start_time": "2025-04-22T03:45:07.798Z"
   },
   {
    "duration": 160,
    "start_time": "2025-04-23T01:56:29.886Z"
   },
   {
    "duration": 547,
    "start_time": "2025-04-23T01:56:42.817Z"
   },
   {
    "duration": 150,
    "start_time": "2025-04-23T01:56:43.367Z"
   },
   {
    "duration": 46,
    "start_time": "2025-04-23T01:56:43.519Z"
   },
   {
    "duration": 7,
    "start_time": "2025-04-23T01:56:43.568Z"
   },
   {
    "duration": 7,
    "start_time": "2025-04-23T01:56:43.576Z"
   },
   {
    "duration": 6,
    "start_time": "2025-04-23T01:56:43.585Z"
   },
   {
    "duration": 36,
    "start_time": "2025-04-23T01:56:43.593Z"
   },
   {
    "duration": 2,
    "start_time": "2025-04-23T01:56:43.631Z"
   },
   {
    "duration": 2,
    "start_time": "2025-04-23T01:56:43.635Z"
   },
   {
    "duration": 2,
    "start_time": "2025-04-23T01:56:43.641Z"
   },
   {
    "duration": 3,
    "start_time": "2025-04-23T01:56:43.645Z"
   },
   {
    "duration": 3,
    "start_time": "2025-04-23T01:56:43.649Z"
   },
   {
    "duration": 3,
    "start_time": "2025-04-23T01:56:43.654Z"
   },
   {
    "duration": 2,
    "start_time": "2025-04-23T01:56:43.659Z"
   },
   {
    "duration": 3,
    "start_time": "2025-04-23T01:56:43.663Z"
   },
   {
    "duration": 3,
    "start_time": "2025-04-23T01:56:43.667Z"
   },
   {
    "duration": 3,
    "start_time": "2025-04-23T01:56:43.672Z"
   },
   {
    "duration": 5,
    "start_time": "2025-04-23T01:56:43.676Z"
   },
   {
    "duration": 42,
    "start_time": "2025-04-23T01:56:43.682Z"
   },
   {
    "duration": 4,
    "start_time": "2025-04-23T01:56:43.725Z"
   },
   {
    "duration": 3,
    "start_time": "2025-04-23T01:56:43.730Z"
   },
   {
    "duration": 3,
    "start_time": "2025-04-23T01:56:43.735Z"
   },
   {
    "duration": 3,
    "start_time": "2025-04-23T01:56:43.739Z"
   },
   {
    "duration": 2,
    "start_time": "2025-04-23T01:56:43.744Z"
   },
   {
    "duration": 3,
    "start_time": "2025-04-23T01:56:43.748Z"
   },
   {
    "duration": 3,
    "start_time": "2025-04-23T01:56:43.753Z"
   },
   {
    "duration": 4,
    "start_time": "2025-04-23T01:56:43.757Z"
   },
   {
    "duration": 2,
    "start_time": "2025-04-23T01:56:43.765Z"
   },
   {
    "duration": 3,
    "start_time": "2025-04-23T01:56:43.768Z"
   },
   {
    "duration": 3,
    "start_time": "2025-04-23T01:56:43.773Z"
   },
   {
    "duration": 47,
    "start_time": "2025-04-23T01:56:43.777Z"
   },
   {
    "duration": 10,
    "start_time": "2025-04-23T02:01:43.281Z"
   },
   {
    "duration": 6,
    "start_time": "2025-04-23T02:02:49.098Z"
   },
   {
    "duration": 8,
    "start_time": "2025-04-23T02:04:06.085Z"
   },
   {
    "duration": 5,
    "start_time": "2025-04-23T02:06:38.549Z"
   },
   {
    "duration": 16,
    "start_time": "2025-04-23T02:10:19.653Z"
   },
   {
    "duration": 15,
    "start_time": "2025-04-23T02:10:25.336Z"
   },
   {
    "duration": 4,
    "start_time": "2025-04-23T02:10:58.259Z"
   },
   {
    "duration": 209,
    "start_time": "2025-04-23T02:31:41.969Z"
   },
   {
    "duration": 18,
    "start_time": "2025-04-23T02:32:00.976Z"
   },
   {
    "duration": 12,
    "start_time": "2025-04-23T03:32:28.614Z"
   },
   {
    "duration": 10,
    "start_time": "2025-04-23T03:33:29.514Z"
   },
   {
    "duration": 16,
    "start_time": "2025-04-23T03:34:07.734Z"
   },
   {
    "duration": 15,
    "start_time": "2025-04-23T03:37:19.827Z"
   },
   {
    "duration": 15,
    "start_time": "2025-04-23T03:37:31.382Z"
   },
   {
    "duration": 21,
    "start_time": "2025-04-23T03:38:45.676Z"
   },
   {
    "duration": 7,
    "start_time": "2025-04-23T03:40:44.506Z"
   },
   {
    "duration": 11,
    "start_time": "2025-04-23T03:49:47.000Z"
   },
   {
    "duration": 7,
    "start_time": "2025-04-23T03:52:09.739Z"
   },
   {
    "duration": 8,
    "start_time": "2025-04-23T03:52:22.930Z"
   },
   {
    "duration": 8,
    "start_time": "2025-04-23T03:55:13.081Z"
   },
   {
    "duration": 77,
    "start_time": "2025-04-23T03:57:53.608Z"
   },
   {
    "duration": 6,
    "start_time": "2025-04-23T03:58:01.674Z"
   },
   {
    "duration": 13,
    "start_time": "2025-04-23T03:59:52.527Z"
   },
   {
    "duration": 22,
    "start_time": "2025-04-23T04:01:11.047Z"
   },
   {
    "duration": 11,
    "start_time": "2025-04-23T04:01:42.545Z"
   },
   {
    "duration": 559,
    "start_time": "2025-04-24T01:44:51.968Z"
   },
   {
    "duration": 159,
    "start_time": "2025-04-24T01:44:52.529Z"
   },
   {
    "duration": 43,
    "start_time": "2025-04-24T01:44:52.690Z"
   },
   {
    "duration": 7,
    "start_time": "2025-04-24T01:44:52.736Z"
   },
   {
    "duration": 8,
    "start_time": "2025-04-24T01:44:52.745Z"
   },
   {
    "duration": 5,
    "start_time": "2025-04-24T01:44:52.754Z"
   },
   {
    "duration": 8,
    "start_time": "2025-04-24T01:44:52.760Z"
   },
   {
    "duration": 3,
    "start_time": "2025-04-24T01:44:52.769Z"
   },
   {
    "duration": 9,
    "start_time": "2025-04-24T01:44:52.773Z"
   },
   {
    "duration": 42,
    "start_time": "2025-04-24T01:44:52.785Z"
   },
   {
    "duration": 2,
    "start_time": "2025-04-24T01:44:52.829Z"
   },
   {
    "duration": 2,
    "start_time": "2025-04-24T01:44:52.833Z"
   },
   {
    "duration": 15,
    "start_time": "2025-04-24T01:44:52.837Z"
   },
   {
    "duration": 16,
    "start_time": "2025-04-24T01:44:52.853Z"
   },
   {
    "duration": 2,
    "start_time": "2025-04-24T01:44:52.870Z"
   },
   {
    "duration": 464,
    "start_time": "2025-04-24T01:44:52.874Z"
   },
   {
    "duration": 0,
    "start_time": "2025-04-24T01:44:53.341Z"
   },
   {
    "duration": 0,
    "start_time": "2025-04-24T01:44:53.343Z"
   },
   {
    "duration": 0,
    "start_time": "2025-04-24T01:44:53.344Z"
   },
   {
    "duration": 0,
    "start_time": "2025-04-24T01:44:53.347Z"
   },
   {
    "duration": 0,
    "start_time": "2025-04-24T01:44:53.349Z"
   },
   {
    "duration": 0,
    "start_time": "2025-04-24T01:44:53.350Z"
   },
   {
    "duration": 0,
    "start_time": "2025-04-24T01:44:53.351Z"
   },
   {
    "duration": 0,
    "start_time": "2025-04-24T01:44:53.352Z"
   },
   {
    "duration": 0,
    "start_time": "2025-04-24T01:44:53.352Z"
   },
   {
    "duration": 0,
    "start_time": "2025-04-24T01:44:53.355Z"
   },
   {
    "duration": 0,
    "start_time": "2025-04-24T01:44:53.356Z"
   },
   {
    "duration": 0,
    "start_time": "2025-04-24T01:44:53.356Z"
   },
   {
    "duration": 0,
    "start_time": "2025-04-24T01:44:53.357Z"
   },
   {
    "duration": 0,
    "start_time": "2025-04-24T01:44:53.358Z"
   },
   {
    "duration": 0,
    "start_time": "2025-04-24T01:44:53.359Z"
   },
   {
    "duration": 0,
    "start_time": "2025-04-24T01:44:53.361Z"
   },
   {
    "duration": 0,
    "start_time": "2025-04-24T01:44:53.362Z"
   },
   {
    "duration": 0,
    "start_time": "2025-04-24T01:44:53.363Z"
   },
   {
    "duration": 0,
    "start_time": "2025-04-24T01:44:53.364Z"
   },
   {
    "duration": 0,
    "start_time": "2025-04-24T01:44:53.365Z"
   },
   {
    "duration": 0,
    "start_time": "2025-04-24T01:44:53.366Z"
   },
   {
    "duration": 0,
    "start_time": "2025-04-24T01:44:53.367Z"
   },
   {
    "duration": 0,
    "start_time": "2025-04-24T01:44:53.369Z"
   },
   {
    "duration": 0,
    "start_time": "2025-04-24T01:44:53.372Z"
   },
   {
    "duration": 26,
    "start_time": "2025-04-24T01:47:55.508Z"
   },
   {
    "duration": 17,
    "start_time": "2025-04-24T01:50:57.809Z"
   },
   {
    "duration": 20,
    "start_time": "2025-04-24T01:53:19.907Z"
   },
   {
    "duration": 21,
    "start_time": "2025-04-24T01:54:54.563Z"
   },
   {
    "duration": 18,
    "start_time": "2025-04-24T01:56:36.879Z"
   },
   {
    "duration": 25,
    "start_time": "2025-04-24T01:57:52.003Z"
   },
   {
    "duration": 24,
    "start_time": "2025-04-24T01:58:22.250Z"
   },
   {
    "duration": 7,
    "start_time": "2025-04-24T02:02:38.767Z"
   },
   {
    "duration": 18,
    "start_time": "2025-04-24T02:03:34.253Z"
   },
   {
    "duration": 17,
    "start_time": "2025-04-24T02:06:27.847Z"
   },
   {
    "duration": 15,
    "start_time": "2025-04-24T02:07:01.336Z"
   },
   {
    "duration": 11,
    "start_time": "2025-04-24T02:10:19.418Z"
   },
   {
    "duration": 13,
    "start_time": "2025-04-24T02:11:08.033Z"
   },
   {
    "duration": 11,
    "start_time": "2025-04-24T02:11:52.076Z"
   },
   {
    "duration": 10,
    "start_time": "2025-04-24T02:12:33.105Z"
   },
   {
    "duration": 8,
    "start_time": "2025-04-24T02:32:26.526Z"
   },
   {
    "duration": 649,
    "start_time": "2025-04-25T03:50:16.334Z"
   },
   {
    "duration": 191,
    "start_time": "2025-04-25T03:50:16.985Z"
   },
   {
    "duration": 44,
    "start_time": "2025-04-25T03:50:17.178Z"
   },
   {
    "duration": 6,
    "start_time": "2025-04-25T03:50:17.224Z"
   },
   {
    "duration": 9,
    "start_time": "2025-04-25T03:50:17.232Z"
   },
   {
    "duration": 4,
    "start_time": "2025-04-25T03:50:17.243Z"
   },
   {
    "duration": 7,
    "start_time": "2025-04-25T03:50:17.249Z"
   },
   {
    "duration": 3,
    "start_time": "2025-04-25T03:50:17.258Z"
   },
   {
    "duration": 8,
    "start_time": "2025-04-25T03:50:17.262Z"
   },
   {
    "duration": 10,
    "start_time": "2025-04-25T03:50:17.306Z"
   },
   {
    "duration": 11,
    "start_time": "2025-04-25T03:50:17.317Z"
   },
   {
    "duration": 5,
    "start_time": "2025-04-25T03:50:17.331Z"
   },
   {
    "duration": 14,
    "start_time": "2025-04-25T03:50:17.339Z"
   },
   {
    "duration": 15,
    "start_time": "2025-04-25T03:50:17.355Z"
   },
   {
    "duration": 2,
    "start_time": "2025-04-25T03:50:17.372Z"
   },
   {
    "duration": 48,
    "start_time": "2025-04-25T03:50:17.376Z"
   },
   {
    "duration": 17,
    "start_time": "2025-04-25T03:50:17.428Z"
   },
   {
    "duration": 15,
    "start_time": "2025-04-25T03:50:17.447Z"
   },
   {
    "duration": 2,
    "start_time": "2025-04-25T03:50:17.464Z"
   },
   {
    "duration": 16,
    "start_time": "2025-04-25T03:50:17.468Z"
   },
   {
    "duration": 45,
    "start_time": "2025-04-25T03:50:17.485Z"
   },
   {
    "duration": 21,
    "start_time": "2025-04-25T03:50:17.534Z"
   },
   {
    "duration": 3,
    "start_time": "2025-04-25T03:50:17.557Z"
   },
   {
    "duration": 22,
    "start_time": "2025-04-25T03:50:17.561Z"
   },
   {
    "duration": 28,
    "start_time": "2025-04-25T03:50:17.584Z"
   },
   {
    "duration": 19,
    "start_time": "2025-04-25T03:50:17.625Z"
   },
   {
    "duration": 12,
    "start_time": "2025-04-25T03:50:17.645Z"
   },
   {
    "duration": 10,
    "start_time": "2025-04-25T03:50:17.660Z"
   },
   {
    "duration": 8,
    "start_time": "2025-04-25T03:50:17.672Z"
   },
   {
    "duration": 6,
    "start_time": "2025-04-25T03:50:17.681Z"
   },
   {
    "duration": 24,
    "start_time": "2025-04-25T03:50:17.689Z"
   },
   {
    "duration": 9,
    "start_time": "2025-04-25T03:50:17.722Z"
   },
   {
    "duration": 4,
    "start_time": "2025-04-25T03:50:17.732Z"
   },
   {
    "duration": 2,
    "start_time": "2025-04-25T03:50:17.738Z"
   },
   {
    "duration": 2,
    "start_time": "2025-04-25T03:50:17.742Z"
   },
   {
    "duration": 3,
    "start_time": "2025-04-25T03:50:17.746Z"
   },
   {
    "duration": 3,
    "start_time": "2025-04-25T03:50:17.750Z"
   },
   {
    "duration": 3,
    "start_time": "2025-04-25T03:50:17.755Z"
   },
   {
    "duration": 3,
    "start_time": "2025-04-25T03:50:17.759Z"
   },
   {
    "duration": 3,
    "start_time": "2025-04-25T03:50:17.764Z"
   },
   {
    "duration": 27,
    "start_time": "2025-04-25T03:52:04.125Z"
   },
   {
    "duration": 37,
    "start_time": "2025-04-25T03:52:33.196Z"
   },
   {
    "duration": 14,
    "start_time": "2025-04-25T03:53:57.477Z"
   },
   {
    "duration": 12,
    "start_time": "2025-04-25T03:55:11.637Z"
   },
   {
    "duration": 230,
    "start_time": "2025-04-25T03:56:42.015Z"
   },
   {
    "duration": 11,
    "start_time": "2025-04-25T03:58:01.193Z"
   },
   {
    "duration": 613,
    "start_time": "2025-04-26T01:36:55.688Z"
   },
   {
    "duration": 256,
    "start_time": "2025-04-26T01:36:56.303Z"
   },
   {
    "duration": 46,
    "start_time": "2025-04-26T01:36:56.561Z"
   },
   {
    "duration": 26,
    "start_time": "2025-04-26T01:36:56.610Z"
   },
   {
    "duration": 8,
    "start_time": "2025-04-26T01:36:56.641Z"
   },
   {
    "duration": 6,
    "start_time": "2025-04-26T01:36:56.651Z"
   },
   {
    "duration": 8,
    "start_time": "2025-04-26T01:36:56.658Z"
   },
   {
    "duration": 2,
    "start_time": "2025-04-26T01:36:56.668Z"
   },
   {
    "duration": 8,
    "start_time": "2025-04-26T01:36:56.672Z"
   },
   {
    "duration": 5,
    "start_time": "2025-04-26T01:36:56.684Z"
   },
   {
    "duration": 8,
    "start_time": "2025-04-26T01:36:56.720Z"
   },
   {
    "duration": 5,
    "start_time": "2025-04-26T01:36:56.729Z"
   },
   {
    "duration": 16,
    "start_time": "2025-04-26T01:36:56.735Z"
   },
   {
    "duration": 16,
    "start_time": "2025-04-26T01:36:56.752Z"
   },
   {
    "duration": 3,
    "start_time": "2025-04-26T01:36:56.770Z"
   },
   {
    "duration": 40,
    "start_time": "2025-04-26T01:36:56.774Z"
   },
   {
    "duration": 16,
    "start_time": "2025-04-26T01:36:56.816Z"
   },
   {
    "duration": 21,
    "start_time": "2025-04-26T01:36:56.836Z"
   },
   {
    "duration": 2,
    "start_time": "2025-04-26T01:36:56.859Z"
   },
   {
    "duration": 17,
    "start_time": "2025-04-26T01:36:56.863Z"
   },
   {
    "duration": 41,
    "start_time": "2025-04-26T01:36:56.882Z"
   },
   {
    "duration": 24,
    "start_time": "2025-04-26T01:36:56.926Z"
   },
   {
    "duration": 2,
    "start_time": "2025-04-26T01:36:56.952Z"
   },
   {
    "duration": 24,
    "start_time": "2025-04-26T01:36:56.957Z"
   },
   {
    "duration": 35,
    "start_time": "2025-04-26T01:36:56.982Z"
   },
   {
    "duration": 24,
    "start_time": "2025-04-26T01:36:57.019Z"
   },
   {
    "duration": 19,
    "start_time": "2025-04-26T01:36:57.045Z"
   },
   {
    "duration": 39,
    "start_time": "2025-04-26T01:36:57.070Z"
   },
   {
    "duration": 16,
    "start_time": "2025-04-26T01:36:57.112Z"
   },
   {
    "duration": 10,
    "start_time": "2025-04-26T01:36:57.132Z"
   },
   {
    "duration": 2,
    "start_time": "2025-04-26T01:36:57.144Z"
   },
   {
    "duration": 3,
    "start_time": "2025-04-26T01:36:57.148Z"
   },
   {
    "duration": 4,
    "start_time": "2025-04-26T01:36:57.153Z"
   },
   {
    "duration": 2,
    "start_time": "2025-04-26T01:36:57.159Z"
   },
   {
    "duration": 3,
    "start_time": "2025-04-26T01:36:57.163Z"
   },
   {
    "duration": 3,
    "start_time": "2025-04-26T01:36:57.168Z"
   },
   {
    "duration": 37,
    "start_time": "2025-04-26T01:36:57.173Z"
   },
   {
    "duration": 3,
    "start_time": "2025-04-26T01:36:57.214Z"
   },
   {
    "duration": 3,
    "start_time": "2025-04-26T01:36:57.219Z"
   },
   {
    "duration": 2,
    "start_time": "2025-04-26T01:36:57.224Z"
   },
   {
    "duration": 20,
    "start_time": "2025-04-26T01:39:22.278Z"
   },
   {
    "duration": 21,
    "start_time": "2025-04-26T01:41:02.275Z"
   },
   {
    "duration": 15,
    "start_time": "2025-04-26T01:43:59.854Z"
   },
   {
    "duration": 18,
    "start_time": "2025-04-26T01:46:18.430Z"
   },
   {
    "duration": 11,
    "start_time": "2025-04-26T01:49:03.080Z"
   },
   {
    "duration": 12,
    "start_time": "2025-04-26T01:52:44.244Z"
   },
   {
    "duration": 226,
    "start_time": "2025-04-26T02:01:43.798Z"
   },
   {
    "duration": 7,
    "start_time": "2025-04-26T02:02:24.966Z"
   },
   {
    "duration": 40,
    "start_time": "2025-04-26T02:03:08.993Z"
   },
   {
    "duration": 23,
    "start_time": "2025-04-26T02:05:40.330Z"
   },
   {
    "duration": 18,
    "start_time": "2025-04-26T02:09:19.691Z"
   },
   {
    "duration": 525,
    "start_time": "2025-04-26T02:09:35.574Z"
   },
   {
    "duration": 251,
    "start_time": "2025-04-26T02:09:36.101Z"
   },
   {
    "duration": 51,
    "start_time": "2025-04-26T02:09:36.354Z"
   },
   {
    "duration": 17,
    "start_time": "2025-04-26T02:09:36.407Z"
   },
   {
    "duration": 13,
    "start_time": "2025-04-26T02:09:36.427Z"
   },
   {
    "duration": 9,
    "start_time": "2025-04-26T02:09:36.442Z"
   },
   {
    "duration": 14,
    "start_time": "2025-04-26T02:09:36.453Z"
   },
   {
    "duration": 3,
    "start_time": "2025-04-26T02:09:36.469Z"
   },
   {
    "duration": 10,
    "start_time": "2025-04-26T02:09:36.474Z"
   },
   {
    "duration": 23,
    "start_time": "2025-04-26T02:09:36.486Z"
   },
   {
    "duration": 3,
    "start_time": "2025-04-26T02:09:36.511Z"
   },
   {
    "duration": 22,
    "start_time": "2025-04-26T02:09:36.515Z"
   },
   {
    "duration": 21,
    "start_time": "2025-04-26T02:09:36.538Z"
   },
   {
    "duration": 20,
    "start_time": "2025-04-26T02:09:36.563Z"
   },
   {
    "duration": 2,
    "start_time": "2025-04-26T02:09:36.585Z"
   },
   {
    "duration": 42,
    "start_time": "2025-04-26T02:09:36.590Z"
   },
   {
    "duration": 15,
    "start_time": "2025-04-26T02:09:36.633Z"
   },
   {
    "duration": 31,
    "start_time": "2025-04-26T02:09:36.649Z"
   },
   {
    "duration": 3,
    "start_time": "2025-04-26T02:09:36.682Z"
   },
   {
    "duration": 17,
    "start_time": "2025-04-26T02:09:36.687Z"
   },
   {
    "duration": 30,
    "start_time": "2025-04-26T02:09:36.706Z"
   },
   {
    "duration": 35,
    "start_time": "2025-04-26T02:09:36.738Z"
   },
   {
    "duration": 2,
    "start_time": "2025-04-26T02:09:36.775Z"
   },
   {
    "duration": 22,
    "start_time": "2025-04-26T02:09:36.778Z"
   },
   {
    "duration": 29,
    "start_time": "2025-04-26T02:09:36.803Z"
   },
   {
    "duration": 19,
    "start_time": "2025-04-26T02:09:36.846Z"
   },
   {
    "duration": 15,
    "start_time": "2025-04-26T02:09:36.867Z"
   },
   {
    "duration": 13,
    "start_time": "2025-04-26T02:09:36.884Z"
   },
   {
    "duration": 30,
    "start_time": "2025-04-26T02:09:36.898Z"
   },
   {
    "duration": 215,
    "start_time": "2025-04-26T02:09:36.941Z"
   },
   {
    "duration": 0,
    "start_time": "2025-04-26T02:09:37.159Z"
   },
   {
    "duration": 0,
    "start_time": "2025-04-26T02:09:37.160Z"
   },
   {
    "duration": 1,
    "start_time": "2025-04-26T02:09:37.161Z"
   },
   {
    "duration": 0,
    "start_time": "2025-04-26T02:09:37.163Z"
   },
   {
    "duration": 0,
    "start_time": "2025-04-26T02:09:37.164Z"
   },
   {
    "duration": 0,
    "start_time": "2025-04-26T02:09:37.166Z"
   },
   {
    "duration": 0,
    "start_time": "2025-04-26T02:09:37.167Z"
   },
   {
    "duration": 0,
    "start_time": "2025-04-26T02:09:37.169Z"
   },
   {
    "duration": 0,
    "start_time": "2025-04-26T02:09:37.170Z"
   },
   {
    "duration": 0,
    "start_time": "2025-04-26T02:09:37.172Z"
   },
   {
    "duration": 13,
    "start_time": "2025-04-26T02:11:05.567Z"
   },
   {
    "duration": 18,
    "start_time": "2025-04-26T03:02:19.687Z"
   },
   {
    "duration": 16,
    "start_time": "2025-04-26T03:02:37.162Z"
   },
   {
    "duration": 12,
    "start_time": "2025-04-26T03:05:18.917Z"
   },
   {
    "duration": 8,
    "start_time": "2025-04-26T03:07:09.073Z"
   },
   {
    "duration": 8,
    "start_time": "2025-04-26T03:08:30.151Z"
   },
   {
    "duration": 17,
    "start_time": "2025-04-26T03:09:21.803Z"
   },
   {
    "duration": 16,
    "start_time": "2025-04-26T03:11:47.313Z"
   },
   {
    "duration": 20,
    "start_time": "2025-04-26T03:12:27.103Z"
   },
   {
    "duration": 371,
    "start_time": "2025-04-27T23:10:36.224Z"
   },
   {
    "duration": 581,
    "start_time": "2025-04-27T23:10:58.206Z"
   },
   {
    "duration": 151,
    "start_time": "2025-04-27T23:10:58.789Z"
   },
   {
    "duration": 41,
    "start_time": "2025-04-27T23:10:58.942Z"
   },
   {
    "duration": 8,
    "start_time": "2025-04-27T23:10:58.985Z"
   },
   {
    "duration": 7,
    "start_time": "2025-04-27T23:10:58.995Z"
   },
   {
    "duration": 5,
    "start_time": "2025-04-27T23:10:59.004Z"
   },
   {
    "duration": 8,
    "start_time": "2025-04-27T23:10:59.010Z"
   },
   {
    "duration": 2,
    "start_time": "2025-04-27T23:10:59.020Z"
   },
   {
    "duration": 46,
    "start_time": "2025-04-27T23:10:59.024Z"
   },
   {
    "duration": 5,
    "start_time": "2025-04-27T23:10:59.074Z"
   },
   {
    "duration": 3,
    "start_time": "2025-04-27T23:10:59.081Z"
   },
   {
    "duration": 4,
    "start_time": "2025-04-27T23:10:59.085Z"
   },
   {
    "duration": 23,
    "start_time": "2025-04-27T23:10:59.095Z"
   },
   {
    "duration": 15,
    "start_time": "2025-04-27T23:10:59.120Z"
   },
   {
    "duration": 2,
    "start_time": "2025-04-27T23:10:59.137Z"
   },
   {
    "duration": 46,
    "start_time": "2025-04-27T23:10:59.141Z"
   },
   {
    "duration": 12,
    "start_time": "2025-04-27T23:10:59.188Z"
   },
   {
    "duration": 14,
    "start_time": "2025-04-27T23:10:59.201Z"
   },
   {
    "duration": 2,
    "start_time": "2025-04-27T23:10:59.217Z"
   },
   {
    "duration": 15,
    "start_time": "2025-04-27T23:10:59.221Z"
   },
   {
    "duration": 42,
    "start_time": "2025-04-27T23:10:59.238Z"
   },
   {
    "duration": 22,
    "start_time": "2025-04-27T23:10:59.282Z"
   },
   {
    "duration": 3,
    "start_time": "2025-04-27T23:10:59.305Z"
   },
   {
    "duration": 21,
    "start_time": "2025-04-27T23:10:59.309Z"
   },
   {
    "duration": 6,
    "start_time": "2025-04-27T23:10:59.332Z"
   },
   {
    "duration": 46,
    "start_time": "2025-04-27T23:10:59.340Z"
   },
   {
    "duration": 14,
    "start_time": "2025-04-27T23:10:59.389Z"
   },
   {
    "duration": 11,
    "start_time": "2025-04-27T23:10:59.407Z"
   },
   {
    "duration": 11,
    "start_time": "2025-04-27T23:10:59.420Z"
   },
   {
    "duration": 7,
    "start_time": "2025-04-27T23:10:59.432Z"
   },
   {
    "duration": 205,
    "start_time": "2025-04-27T23:10:59.441Z"
   },
   {
    "duration": 0,
    "start_time": "2025-04-27T23:10:59.648Z"
   },
   {
    "duration": 1,
    "start_time": "2025-04-27T23:10:59.649Z"
   },
   {
    "duration": 0,
    "start_time": "2025-04-27T23:10:59.651Z"
   },
   {
    "duration": 0,
    "start_time": "2025-04-27T23:10:59.652Z"
   },
   {
    "duration": 0,
    "start_time": "2025-04-27T23:10:59.653Z"
   },
   {
    "duration": 0,
    "start_time": "2025-04-27T23:10:59.655Z"
   },
   {
    "duration": 0,
    "start_time": "2025-04-27T23:10:59.656Z"
   },
   {
    "duration": 0,
    "start_time": "2025-04-27T23:10:59.669Z"
   },
   {
    "duration": 0,
    "start_time": "2025-04-27T23:10:59.671Z"
   },
   {
    "duration": 0,
    "start_time": "2025-04-27T23:10:59.673Z"
   },
   {
    "duration": 9,
    "start_time": "2025-04-27T23:11:44.494Z"
   },
   {
    "duration": 12,
    "start_time": "2025-04-27T23:12:11.043Z"
   },
   {
    "duration": 513,
    "start_time": "2025-04-29T01:37:22.235Z"
   },
   {
    "duration": 153,
    "start_time": "2025-04-29T01:37:22.751Z"
   },
   {
    "duration": 43,
    "start_time": "2025-04-29T01:37:22.906Z"
   },
   {
    "duration": 9,
    "start_time": "2025-04-29T01:37:22.951Z"
   },
   {
    "duration": 16,
    "start_time": "2025-04-29T01:37:22.963Z"
   },
   {
    "duration": 5,
    "start_time": "2025-04-29T01:37:22.981Z"
   },
   {
    "duration": 8,
    "start_time": "2025-04-29T01:37:22.988Z"
   },
   {
    "duration": 3,
    "start_time": "2025-04-29T01:37:22.997Z"
   },
   {
    "duration": 8,
    "start_time": "2025-04-29T01:37:23.001Z"
   },
   {
    "duration": 37,
    "start_time": "2025-04-29T01:37:23.010Z"
   },
   {
    "duration": 3,
    "start_time": "2025-04-29T01:37:23.048Z"
   },
   {
    "duration": 3,
    "start_time": "2025-04-29T01:37:23.052Z"
   },
   {
    "duration": 15,
    "start_time": "2025-04-29T01:37:23.057Z"
   },
   {
    "duration": 15,
    "start_time": "2025-04-29T01:37:23.076Z"
   },
   {
    "duration": 2,
    "start_time": "2025-04-29T01:37:23.093Z"
   },
   {
    "duration": 59,
    "start_time": "2025-04-29T01:37:23.097Z"
   },
   {
    "duration": 12,
    "start_time": "2025-04-29T01:37:23.158Z"
   },
   {
    "duration": 15,
    "start_time": "2025-04-29T01:37:23.172Z"
   },
   {
    "duration": 2,
    "start_time": "2025-04-29T01:37:23.189Z"
   },
   {
    "duration": 15,
    "start_time": "2025-04-29T01:37:23.193Z"
   },
   {
    "duration": 45,
    "start_time": "2025-04-29T01:37:23.209Z"
   },
   {
    "duration": 20,
    "start_time": "2025-04-29T01:37:23.256Z"
   },
   {
    "duration": 2,
    "start_time": "2025-04-29T01:37:23.278Z"
   },
   {
    "duration": 19,
    "start_time": "2025-04-29T01:37:23.283Z"
   },
   {
    "duration": 7,
    "start_time": "2025-04-29T01:37:23.303Z"
   },
   {
    "duration": 47,
    "start_time": "2025-04-29T01:37:23.312Z"
   },
   {
    "duration": 14,
    "start_time": "2025-04-29T01:37:23.362Z"
   },
   {
    "duration": 11,
    "start_time": "2025-04-29T01:37:23.378Z"
   },
   {
    "duration": 10,
    "start_time": "2025-04-29T01:37:23.392Z"
   },
   {
    "duration": 7,
    "start_time": "2025-04-29T01:37:23.403Z"
   },
   {
    "duration": 212,
    "start_time": "2025-04-29T01:37:23.411Z"
   },
   {
    "duration": 0,
    "start_time": "2025-04-29T01:37:23.625Z"
   },
   {
    "duration": 0,
    "start_time": "2025-04-29T01:37:23.626Z"
   },
   {
    "duration": 0,
    "start_time": "2025-04-29T01:37:23.627Z"
   },
   {
    "duration": 0,
    "start_time": "2025-04-29T01:37:23.628Z"
   },
   {
    "duration": 0,
    "start_time": "2025-04-29T01:37:23.629Z"
   },
   {
    "duration": 0,
    "start_time": "2025-04-29T01:37:23.630Z"
   },
   {
    "duration": 0,
    "start_time": "2025-04-29T01:37:23.631Z"
   },
   {
    "duration": 0,
    "start_time": "2025-04-29T01:37:23.643Z"
   },
   {
    "duration": 0,
    "start_time": "2025-04-29T01:37:23.644Z"
   },
   {
    "duration": 0,
    "start_time": "2025-04-29T01:37:23.645Z"
   },
   {
    "duration": 14,
    "start_time": "2025-04-29T01:52:18.670Z"
   },
   {
    "duration": 20,
    "start_time": "2025-04-29T01:53:10.172Z"
   },
   {
    "duration": 15,
    "start_time": "2025-04-29T02:10:38.198Z"
   },
   {
    "duration": 582,
    "start_time": "2025-04-30T01:47:04.045Z"
   },
   {
    "duration": 154,
    "start_time": "2025-04-30T01:47:04.629Z"
   },
   {
    "duration": 45,
    "start_time": "2025-04-30T01:47:04.785Z"
   },
   {
    "duration": 7,
    "start_time": "2025-04-30T01:47:04.833Z"
   },
   {
    "duration": 8,
    "start_time": "2025-04-30T01:47:04.842Z"
   },
   {
    "duration": 6,
    "start_time": "2025-04-30T01:47:04.851Z"
   },
   {
    "duration": 8,
    "start_time": "2025-04-30T01:47:04.858Z"
   },
   {
    "duration": 3,
    "start_time": "2025-04-30T01:47:04.867Z"
   },
   {
    "duration": 9,
    "start_time": "2025-04-30T01:47:04.872Z"
   },
   {
    "duration": 5,
    "start_time": "2025-04-30T01:47:04.884Z"
   },
   {
    "duration": 3,
    "start_time": "2025-04-30T01:47:04.930Z"
   },
   {
    "duration": 3,
    "start_time": "2025-04-30T01:47:04.935Z"
   },
   {
    "duration": 16,
    "start_time": "2025-04-30T01:47:04.939Z"
   },
   {
    "duration": 16,
    "start_time": "2025-04-30T01:47:04.956Z"
   },
   {
    "duration": 2,
    "start_time": "2025-04-30T01:47:04.974Z"
   },
   {
    "duration": 54,
    "start_time": "2025-04-30T01:47:04.978Z"
   },
   {
    "duration": 13,
    "start_time": "2025-04-30T01:47:05.033Z"
   },
   {
    "duration": 15,
    "start_time": "2025-04-30T01:47:05.047Z"
   },
   {
    "duration": 2,
    "start_time": "2025-04-30T01:47:05.064Z"
   },
   {
    "duration": 15,
    "start_time": "2025-04-30T01:47:05.068Z"
   },
   {
    "duration": 13,
    "start_time": "2025-04-30T01:47:05.085Z"
   },
   {
    "duration": 21,
    "start_time": "2025-04-30T01:47:05.132Z"
   },
   {
    "duration": 4,
    "start_time": "2025-04-30T01:47:05.155Z"
   },
   {
    "duration": 20,
    "start_time": "2025-04-30T01:47:05.161Z"
   },
   {
    "duration": 7,
    "start_time": "2025-04-30T01:47:05.183Z"
   },
   {
    "duration": 45,
    "start_time": "2025-04-30T01:47:05.192Z"
   },
   {
    "duration": 14,
    "start_time": "2025-04-30T01:47:05.239Z"
   },
   {
    "duration": 12,
    "start_time": "2025-04-30T01:47:05.258Z"
   },
   {
    "duration": 12,
    "start_time": "2025-04-30T01:47:05.271Z"
   },
   {
    "duration": 7,
    "start_time": "2025-04-30T01:47:05.284Z"
   },
   {
    "duration": 54,
    "start_time": "2025-04-30T01:47:05.293Z"
   },
   {
    "duration": 16,
    "start_time": "2025-04-30T01:47:05.349Z"
   },
   {
    "duration": 201,
    "start_time": "2025-04-30T01:47:05.367Z"
   },
   {
    "duration": 0,
    "start_time": "2025-04-30T01:47:05.570Z"
   },
   {
    "duration": 0,
    "start_time": "2025-04-30T01:47:05.571Z"
   },
   {
    "duration": 0,
    "start_time": "2025-04-30T01:47:05.572Z"
   },
   {
    "duration": 0,
    "start_time": "2025-04-30T01:47:05.573Z"
   },
   {
    "duration": 0,
    "start_time": "2025-04-30T01:47:05.575Z"
   },
   {
    "duration": 0,
    "start_time": "2025-04-30T01:47:05.577Z"
   },
   {
    "duration": 0,
    "start_time": "2025-04-30T01:47:05.578Z"
   },
   {
    "duration": 0,
    "start_time": "2025-04-30T01:47:05.580Z"
   },
   {
    "duration": 25,
    "start_time": "2025-04-30T02:28:41.861Z"
   },
   {
    "duration": 13,
    "start_time": "2025-04-30T02:31:28.410Z"
   },
   {
    "duration": 8,
    "start_time": "2025-04-30T02:31:49.073Z"
   },
   {
    "duration": 20,
    "start_time": "2025-04-30T02:32:06.519Z"
   },
   {
    "duration": 14,
    "start_time": "2025-04-30T02:32:47.583Z"
   },
   {
    "duration": 565,
    "start_time": "2025-05-01T01:43:21.796Z"
   },
   {
    "duration": 158,
    "start_time": "2025-05-01T01:43:22.363Z"
   },
   {
    "duration": 48,
    "start_time": "2025-05-01T01:43:22.522Z"
   },
   {
    "duration": 8,
    "start_time": "2025-05-01T01:43:22.572Z"
   },
   {
    "duration": 8,
    "start_time": "2025-05-01T01:43:22.581Z"
   },
   {
    "duration": 6,
    "start_time": "2025-05-01T01:43:22.591Z"
   },
   {
    "duration": 8,
    "start_time": "2025-05-01T01:43:22.598Z"
   },
   {
    "duration": 3,
    "start_time": "2025-05-01T01:43:22.607Z"
   },
   {
    "duration": 8,
    "start_time": "2025-05-01T01:43:22.612Z"
   },
   {
    "duration": 5,
    "start_time": "2025-05-01T01:43:22.624Z"
   },
   {
    "duration": 2,
    "start_time": "2025-05-01T01:43:22.670Z"
   },
   {
    "duration": 3,
    "start_time": "2025-05-01T01:43:22.674Z"
   },
   {
    "duration": 16,
    "start_time": "2025-05-01T01:43:22.679Z"
   },
   {
    "duration": 19,
    "start_time": "2025-05-01T01:43:22.696Z"
   },
   {
    "duration": 2,
    "start_time": "2025-05-01T01:43:22.717Z"
   },
   {
    "duration": 51,
    "start_time": "2025-05-01T01:43:22.721Z"
   },
   {
    "duration": 12,
    "start_time": "2025-05-01T01:43:22.774Z"
   },
   {
    "duration": 15,
    "start_time": "2025-05-01T01:43:22.788Z"
   },
   {
    "duration": 3,
    "start_time": "2025-05-01T01:43:22.804Z"
   },
   {
    "duration": 16,
    "start_time": "2025-05-01T01:43:22.808Z"
   },
   {
    "duration": 44,
    "start_time": "2025-05-01T01:43:22.826Z"
   },
   {
    "duration": 20,
    "start_time": "2025-05-01T01:43:22.872Z"
   },
   {
    "duration": 2,
    "start_time": "2025-05-01T01:43:22.894Z"
   },
   {
    "duration": 24,
    "start_time": "2025-05-01T01:43:22.898Z"
   },
   {
    "duration": 7,
    "start_time": "2025-05-01T01:43:22.923Z"
   },
   {
    "duration": 47,
    "start_time": "2025-05-01T01:43:22.931Z"
   },
   {
    "duration": 14,
    "start_time": "2025-05-01T01:43:22.980Z"
   },
   {
    "duration": 11,
    "start_time": "2025-05-01T01:43:22.998Z"
   },
   {
    "duration": 11,
    "start_time": "2025-05-01T01:43:23.011Z"
   },
   {
    "duration": 8,
    "start_time": "2025-05-01T01:43:23.023Z"
   },
   {
    "duration": 52,
    "start_time": "2025-05-01T01:43:23.032Z"
   },
   {
    "duration": 15,
    "start_time": "2025-05-01T01:43:23.086Z"
   },
   {
    "duration": 208,
    "start_time": "2025-05-01T01:43:23.103Z"
   },
   {
    "duration": 0,
    "start_time": "2025-05-01T01:43:23.312Z"
   },
   {
    "duration": 0,
    "start_time": "2025-05-01T01:43:23.314Z"
   },
   {
    "duration": 0,
    "start_time": "2025-05-01T01:43:23.315Z"
   },
   {
    "duration": 0,
    "start_time": "2025-05-01T01:43:23.316Z"
   },
   {
    "duration": 0,
    "start_time": "2025-05-01T01:43:23.317Z"
   },
   {
    "duration": 0,
    "start_time": "2025-05-01T01:43:23.319Z"
   },
   {
    "duration": 0,
    "start_time": "2025-05-01T01:43:23.320Z"
   },
   {
    "duration": 0,
    "start_time": "2025-05-01T01:43:23.321Z"
   },
   {
    "duration": 18,
    "start_time": "2025-05-01T02:34:49.647Z"
   },
   {
    "duration": 17,
    "start_time": "2025-05-01T02:35:42.932Z"
   },
   {
    "duration": 4,
    "start_time": "2025-05-01T02:36:20.731Z"
   },
   {
    "duration": 5,
    "start_time": "2025-05-01T02:36:52.671Z"
   },
   {
    "duration": 10,
    "start_time": "2025-05-01T02:38:27.551Z"
   },
   {
    "duration": 15,
    "start_time": "2025-05-01T02:39:44.541Z"
   },
   {
    "duration": 14,
    "start_time": "2025-05-01T03:57:00.752Z"
   },
   {
    "duration": 13,
    "start_time": "2025-05-01T04:04:50.266Z"
   },
   {
    "duration": 6,
    "start_time": "2025-05-01T04:06:13.871Z"
   },
   {
    "duration": 15,
    "start_time": "2025-05-01T04:06:23.713Z"
   },
   {
    "duration": 15,
    "start_time": "2025-05-01T04:10:48.334Z"
   },
   {
    "duration": 5,
    "start_time": "2025-05-01T04:12:18.804Z"
   },
   {
    "duration": 6,
    "start_time": "2025-05-01T04:12:31.386Z"
   },
   {
    "duration": 7,
    "start_time": "2025-05-01T04:13:13.609Z"
   },
   {
    "duration": 8,
    "start_time": "2025-05-01T04:13:19.684Z"
   },
   {
    "duration": 4,
    "start_time": "2025-05-01T04:13:32.486Z"
   },
   {
    "duration": 4,
    "start_time": "2025-05-01T04:14:00.874Z"
   },
   {
    "duration": 5,
    "start_time": "2025-05-01T04:14:39.132Z"
   },
   {
    "duration": 7,
    "start_time": "2025-05-01T04:15:43.220Z"
   },
   {
    "duration": 5,
    "start_time": "2025-05-01T04:16:17.520Z"
   },
   {
    "duration": 6,
    "start_time": "2025-05-01T04:16:24.820Z"
   },
   {
    "duration": 6,
    "start_time": "2025-05-01T04:16:30.039Z"
   },
   {
    "duration": 6,
    "start_time": "2025-05-01T04:16:38.317Z"
   },
   {
    "duration": 4,
    "start_time": "2025-05-01T04:16:53.792Z"
   },
   {
    "duration": 5,
    "start_time": "2025-05-01T04:17:05.834Z"
   },
   {
    "duration": 5,
    "start_time": "2025-05-01T04:17:10.914Z"
   },
   {
    "duration": 7,
    "start_time": "2025-05-01T04:17:22.574Z"
   },
   {
    "duration": 5,
    "start_time": "2025-05-01T04:17:34.133Z"
   },
   {
    "duration": 5,
    "start_time": "2025-05-01T04:17:41.112Z"
   },
   {
    "duration": 5,
    "start_time": "2025-05-01T04:20:52.818Z"
   },
   {
    "duration": 18,
    "start_time": "2025-05-01T04:22:53.707Z"
   },
   {
    "duration": 6,
    "start_time": "2025-05-01T04:24:26.023Z"
   },
   {
    "duration": 13,
    "start_time": "2025-05-01T04:24:41.689Z"
   },
   {
    "duration": 17,
    "start_time": "2025-05-01T04:29:34.333Z"
   },
   {
    "duration": 166,
    "start_time": "2025-05-02T01:59:33.702Z"
   },
   {
    "duration": 557,
    "start_time": "2025-05-02T01:59:54.550Z"
   },
   {
    "duration": 152,
    "start_time": "2025-05-02T01:59:55.109Z"
   },
   {
    "duration": 41,
    "start_time": "2025-05-02T01:59:55.263Z"
   },
   {
    "duration": 16,
    "start_time": "2025-05-02T01:59:55.306Z"
   },
   {
    "duration": 8,
    "start_time": "2025-05-02T01:59:55.324Z"
   },
   {
    "duration": 5,
    "start_time": "2025-05-02T01:59:55.333Z"
   },
   {
    "duration": 8,
    "start_time": "2025-05-02T01:59:55.340Z"
   },
   {
    "duration": 3,
    "start_time": "2025-05-02T01:59:55.349Z"
   },
   {
    "duration": 8,
    "start_time": "2025-05-02T01:59:55.354Z"
   },
   {
    "duration": 5,
    "start_time": "2025-05-02T01:59:55.365Z"
   },
   {
    "duration": 3,
    "start_time": "2025-05-02T01:59:55.371Z"
   },
   {
    "duration": 3,
    "start_time": "2025-05-02T01:59:55.376Z"
   },
   {
    "duration": 51,
    "start_time": "2025-05-02T01:59:55.381Z"
   },
   {
    "duration": 16,
    "start_time": "2025-05-02T01:59:55.434Z"
   },
   {
    "duration": 2,
    "start_time": "2025-05-02T01:59:55.452Z"
   },
   {
    "duration": 25,
    "start_time": "2025-05-02T01:59:55.456Z"
   },
   {
    "duration": 38,
    "start_time": "2025-05-02T01:59:55.482Z"
   },
   {
    "duration": 14,
    "start_time": "2025-05-02T01:59:55.521Z"
   },
   {
    "duration": 2,
    "start_time": "2025-05-02T01:59:55.537Z"
   },
   {
    "duration": 15,
    "start_time": "2025-05-02T01:59:55.541Z"
   },
   {
    "duration": 14,
    "start_time": "2025-05-02T01:59:55.557Z"
   },
   {
    "duration": 52,
    "start_time": "2025-05-02T01:59:55.572Z"
   },
   {
    "duration": 3,
    "start_time": "2025-05-02T01:59:55.625Z"
   },
   {
    "duration": 20,
    "start_time": "2025-05-02T01:59:55.629Z"
   },
   {
    "duration": 7,
    "start_time": "2025-05-02T01:59:55.651Z"
   },
   {
    "duration": 17,
    "start_time": "2025-05-02T01:59:55.660Z"
   },
   {
    "duration": 41,
    "start_time": "2025-05-02T01:59:55.679Z"
   },
   {
    "duration": 12,
    "start_time": "2025-05-02T01:59:55.725Z"
   },
   {
    "duration": 290,
    "start_time": "2025-05-02T01:59:55.738Z"
   },
   {
    "duration": 0,
    "start_time": "2025-05-02T01:59:56.029Z"
   },
   {
    "duration": 0,
    "start_time": "2025-05-02T01:59:56.031Z"
   },
   {
    "duration": 0,
    "start_time": "2025-05-02T01:59:56.032Z"
   },
   {
    "duration": 1,
    "start_time": "2025-05-02T01:59:56.033Z"
   },
   {
    "duration": 0,
    "start_time": "2025-05-02T01:59:56.035Z"
   },
   {
    "duration": 0,
    "start_time": "2025-05-02T01:59:56.036Z"
   },
   {
    "duration": 0,
    "start_time": "2025-05-02T01:59:56.037Z"
   },
   {
    "duration": 0,
    "start_time": "2025-05-02T01:59:56.039Z"
   },
   {
    "duration": 0,
    "start_time": "2025-05-02T01:59:56.041Z"
   },
   {
    "duration": 0,
    "start_time": "2025-05-02T01:59:56.041Z"
   },
   {
    "duration": 0,
    "start_time": "2025-05-02T01:59:56.042Z"
   },
   {
    "duration": 0,
    "start_time": "2025-05-02T01:59:56.044Z"
   },
   {
    "duration": 11,
    "start_time": "2025-05-02T02:01:34.900Z"
   },
   {
    "duration": 7,
    "start_time": "2025-05-02T02:01:49.324Z"
   },
   {
    "duration": 21,
    "start_time": "2025-05-02T02:01:58.644Z"
   },
   {
    "duration": 13,
    "start_time": "2025-05-02T02:02:15.507Z"
   },
   {
    "duration": 25,
    "start_time": "2025-05-02T02:02:42.525Z"
   },
   {
    "duration": 17,
    "start_time": "2025-05-02T02:03:42.169Z"
   },
   {
    "duration": 21,
    "start_time": "2025-05-02T02:05:24.900Z"
   },
   {
    "duration": 15,
    "start_time": "2025-05-02T02:06:09.955Z"
   },
   {
    "duration": 18,
    "start_time": "2025-05-02T02:30:06.155Z"
   },
   {
    "duration": 19,
    "start_time": "2025-05-02T02:30:47.550Z"
   },
   {
    "duration": 13,
    "start_time": "2025-05-02T02:31:33.680Z"
   },
   {
    "duration": 14,
    "start_time": "2025-05-02T02:31:47.980Z"
   },
   {
    "duration": 15,
    "start_time": "2025-05-02T02:33:25.418Z"
   },
   {
    "duration": 507,
    "start_time": "2025-05-02T02:34:09.542Z"
   },
   {
    "duration": 156,
    "start_time": "2025-05-02T02:34:10.051Z"
   },
   {
    "duration": 45,
    "start_time": "2025-05-02T02:34:10.208Z"
   },
   {
    "duration": 7,
    "start_time": "2025-05-02T02:34:10.256Z"
   },
   {
    "duration": 8,
    "start_time": "2025-05-02T02:34:10.264Z"
   },
   {
    "duration": 4,
    "start_time": "2025-05-02T02:34:10.274Z"
   },
   {
    "duration": 8,
    "start_time": "2025-05-02T02:34:10.280Z"
   },
   {
    "duration": 30,
    "start_time": "2025-05-02T02:34:10.290Z"
   },
   {
    "duration": 8,
    "start_time": "2025-05-02T02:34:10.322Z"
   },
   {
    "duration": 5,
    "start_time": "2025-05-02T02:34:10.333Z"
   },
   {
    "duration": 2,
    "start_time": "2025-05-02T02:34:10.340Z"
   },
   {
    "duration": 3,
    "start_time": "2025-05-02T02:34:10.344Z"
   },
   {
    "duration": 15,
    "start_time": "2025-05-02T02:34:10.349Z"
   },
   {
    "duration": 15,
    "start_time": "2025-05-02T02:34:10.365Z"
   },
   {
    "duration": 2,
    "start_time": "2025-05-02T02:34:10.382Z"
   },
   {
    "duration": 58,
    "start_time": "2025-05-02T02:34:10.386Z"
   },
   {
    "duration": 12,
    "start_time": "2025-05-02T02:34:10.446Z"
   },
   {
    "duration": 14,
    "start_time": "2025-05-02T02:34:10.459Z"
   },
   {
    "duration": 3,
    "start_time": "2025-05-02T02:34:10.474Z"
   },
   {
    "duration": 15,
    "start_time": "2025-05-02T02:34:10.478Z"
   },
   {
    "duration": 13,
    "start_time": "2025-05-02T02:34:10.519Z"
   },
   {
    "duration": 24,
    "start_time": "2025-05-02T02:34:10.535Z"
   },
   {
    "duration": 2,
    "start_time": "2025-05-02T02:34:10.561Z"
   },
   {
    "duration": 21,
    "start_time": "2025-05-02T02:34:10.565Z"
   },
   {
    "duration": 32,
    "start_time": "2025-05-02T02:34:10.587Z"
   },
   {
    "duration": 18,
    "start_time": "2025-05-02T02:34:10.620Z"
   },
   {
    "duration": 15,
    "start_time": "2025-05-02T02:34:10.639Z"
   },
   {
    "duration": 13,
    "start_time": "2025-05-02T02:34:10.658Z"
   },
   {
    "duration": 11,
    "start_time": "2025-05-02T02:34:10.672Z"
   },
   {
    "duration": 38,
    "start_time": "2025-05-02T02:34:10.685Z"
   },
   {
    "duration": 21,
    "start_time": "2025-05-02T02:34:10.724Z"
   },
   {
    "duration": 862,
    "start_time": "2025-05-02T02:34:10.747Z"
   },
   {
    "duration": 0,
    "start_time": "2025-05-02T02:34:11.611Z"
   },
   {
    "duration": 0,
    "start_time": "2025-05-02T02:34:11.619Z"
   },
   {
    "duration": 0,
    "start_time": "2025-05-02T02:34:11.621Z"
   },
   {
    "duration": 0,
    "start_time": "2025-05-02T02:34:11.622Z"
   },
   {
    "duration": 0,
    "start_time": "2025-05-02T02:34:11.623Z"
   },
   {
    "duration": 0,
    "start_time": "2025-05-02T02:34:11.625Z"
   },
   {
    "duration": 0,
    "start_time": "2025-05-02T02:34:11.626Z"
   },
   {
    "duration": 0,
    "start_time": "2025-05-02T02:34:11.628Z"
   },
   {
    "duration": 0,
    "start_time": "2025-05-02T02:34:11.629Z"
   },
   {
    "duration": 12,
    "start_time": "2025-05-02T02:34:44.509Z"
   },
   {
    "duration": 15,
    "start_time": "2025-05-02T02:35:15.172Z"
   },
   {
    "duration": 13,
    "start_time": "2025-05-02T02:37:33.354Z"
   },
   {
    "duration": 20,
    "start_time": "2025-05-02T02:38:16.076Z"
   },
   {
    "duration": 474,
    "start_time": "2025-05-02T02:40:31.289Z"
   },
   {
    "duration": 150,
    "start_time": "2025-05-02T02:40:31.765Z"
   },
   {
    "duration": 41,
    "start_time": "2025-05-02T02:40:31.917Z"
   },
   {
    "duration": 7,
    "start_time": "2025-05-02T02:40:31.960Z"
   },
   {
    "duration": 8,
    "start_time": "2025-05-02T02:40:31.970Z"
   },
   {
    "duration": 4,
    "start_time": "2025-05-02T02:40:31.981Z"
   },
   {
    "duration": 33,
    "start_time": "2025-05-02T02:40:31.987Z"
   },
   {
    "duration": 2,
    "start_time": "2025-05-02T02:40:32.021Z"
   },
   {
    "duration": 7,
    "start_time": "2025-05-02T02:40:32.025Z"
   },
   {
    "duration": 6,
    "start_time": "2025-05-02T02:40:32.034Z"
   },
   {
    "duration": 3,
    "start_time": "2025-05-02T02:40:32.042Z"
   },
   {
    "duration": 3,
    "start_time": "2025-05-02T02:40:32.046Z"
   },
   {
    "duration": 14,
    "start_time": "2025-05-02T02:40:32.051Z"
   },
   {
    "duration": 51,
    "start_time": "2025-05-02T02:40:32.069Z"
   },
   {
    "duration": 3,
    "start_time": "2025-05-02T02:40:32.121Z"
   },
   {
    "duration": 25,
    "start_time": "2025-05-02T02:40:32.126Z"
   },
   {
    "duration": 10,
    "start_time": "2025-05-02T02:40:32.153Z"
   },
   {
    "duration": 13,
    "start_time": "2025-05-02T02:40:32.165Z"
   },
   {
    "duration": 2,
    "start_time": "2025-05-02T02:40:32.180Z"
   },
   {
    "duration": 45,
    "start_time": "2025-05-02T02:40:32.184Z"
   },
   {
    "duration": 14,
    "start_time": "2025-05-02T02:40:32.230Z"
   },
   {
    "duration": 22,
    "start_time": "2025-05-02T02:40:32.245Z"
   },
   {
    "duration": 2,
    "start_time": "2025-05-02T02:40:32.269Z"
   },
   {
    "duration": 20,
    "start_time": "2025-05-02T02:40:32.273Z"
   },
   {
    "duration": 6,
    "start_time": "2025-05-02T02:40:32.320Z"
   },
   {
    "duration": 5,
    "start_time": "2025-05-02T02:40:32.328Z"
   },
   {
    "duration": 0,
    "start_time": "2025-05-02T02:40:32.334Z"
   },
   {
    "duration": 0,
    "start_time": "2025-05-02T02:40:32.335Z"
   },
   {
    "duration": 0,
    "start_time": "2025-05-02T02:40:32.336Z"
   },
   {
    "duration": 0,
    "start_time": "2025-05-02T02:40:32.338Z"
   },
   {
    "duration": 0,
    "start_time": "2025-05-02T02:40:32.339Z"
   },
   {
    "duration": 0,
    "start_time": "2025-05-02T02:40:32.340Z"
   },
   {
    "duration": 0,
    "start_time": "2025-05-02T02:40:32.341Z"
   },
   {
    "duration": 0,
    "start_time": "2025-05-02T02:40:32.342Z"
   },
   {
    "duration": 0,
    "start_time": "2025-05-02T02:40:32.343Z"
   },
   {
    "duration": 0,
    "start_time": "2025-05-02T02:40:32.344Z"
   },
   {
    "duration": 0,
    "start_time": "2025-05-02T02:40:32.345Z"
   },
   {
    "duration": 0,
    "start_time": "2025-05-02T02:40:32.348Z"
   },
   {
    "duration": 0,
    "start_time": "2025-05-02T02:40:32.349Z"
   },
   {
    "duration": 0,
    "start_time": "2025-05-02T02:40:32.350Z"
   },
   {
    "duration": 0,
    "start_time": "2025-05-02T02:40:32.351Z"
   },
   {
    "duration": 18,
    "start_time": "2025-05-02T02:41:09.375Z"
   },
   {
    "duration": 18,
    "start_time": "2025-05-02T02:41:13.095Z"
   },
   {
    "duration": 13,
    "start_time": "2025-05-02T02:41:17.615Z"
   },
   {
    "duration": 190,
    "start_time": "2025-05-02T02:41:21.826Z"
   },
   {
    "duration": 12,
    "start_time": "2025-05-02T02:41:54.097Z"
   },
   {
    "duration": 8,
    "start_time": "2025-05-02T02:42:00.713Z"
   },
   {
    "duration": 22,
    "start_time": "2025-05-02T02:42:08.903Z"
   },
   {
    "duration": 16,
    "start_time": "2025-05-02T02:42:40.177Z"
   },
   {
    "duration": 13,
    "start_time": "2025-05-02T02:42:50.017Z"
   },
   {
    "duration": 16,
    "start_time": "2025-05-02T02:43:25.370Z"
   },
   {
    "duration": 17,
    "start_time": "2025-05-02T02:44:45.734Z"
   },
   {
    "duration": 511,
    "start_time": "2025-05-02T02:45:09.932Z"
   },
   {
    "duration": 150,
    "start_time": "2025-05-02T02:45:10.445Z"
   },
   {
    "duration": 45,
    "start_time": "2025-05-02T02:45:10.596Z"
   },
   {
    "duration": 9,
    "start_time": "2025-05-02T02:45:10.644Z"
   },
   {
    "duration": 7,
    "start_time": "2025-05-02T02:45:10.655Z"
   },
   {
    "duration": 5,
    "start_time": "2025-05-02T02:45:10.664Z"
   },
   {
    "duration": 7,
    "start_time": "2025-05-02T02:45:10.671Z"
   },
   {
    "duration": 4,
    "start_time": "2025-05-02T02:45:10.679Z"
   },
   {
    "duration": 40,
    "start_time": "2025-05-02T02:45:10.685Z"
   },
   {
    "duration": 5,
    "start_time": "2025-05-02T02:45:10.729Z"
   },
   {
    "duration": 3,
    "start_time": "2025-05-02T02:45:10.735Z"
   },
   {
    "duration": 3,
    "start_time": "2025-05-02T02:45:10.740Z"
   },
   {
    "duration": 16,
    "start_time": "2025-05-02T02:45:10.744Z"
   },
   {
    "duration": 16,
    "start_time": "2025-05-02T02:45:10.761Z"
   },
   {
    "duration": 2,
    "start_time": "2025-05-02T02:45:10.779Z"
   },
   {
    "duration": 67,
    "start_time": "2025-05-02T02:45:10.783Z"
   },
   {
    "duration": 11,
    "start_time": "2025-05-02T02:45:10.852Z"
   },
   {
    "duration": 14,
    "start_time": "2025-05-02T02:45:10.865Z"
   },
   {
    "duration": 3,
    "start_time": "2025-05-02T02:45:10.880Z"
   },
   {
    "duration": 41,
    "start_time": "2025-05-02T02:45:10.885Z"
   },
   {
    "duration": 14,
    "start_time": "2025-05-02T02:45:10.928Z"
   },
   {
    "duration": 21,
    "start_time": "2025-05-02T02:45:10.944Z"
   },
   {
    "duration": 2,
    "start_time": "2025-05-02T02:45:10.967Z"
   },
   {
    "duration": 21,
    "start_time": "2025-05-02T02:45:10.971Z"
   },
   {
    "duration": 9,
    "start_time": "2025-05-02T02:45:11.019Z"
   },
   {
    "duration": 20,
    "start_time": "2025-05-02T02:45:11.030Z"
   },
   {
    "duration": 14,
    "start_time": "2025-05-02T02:45:11.052Z"
   },
   {
    "duration": 13,
    "start_time": "2025-05-02T02:45:11.070Z"
   },
   {
    "duration": 38,
    "start_time": "2025-05-02T02:45:11.085Z"
   },
   {
    "duration": 11,
    "start_time": "2025-05-02T02:45:11.125Z"
   },
   {
    "duration": 13,
    "start_time": "2025-05-02T02:45:11.138Z"
   },
   {
    "duration": 14,
    "start_time": "2025-05-02T02:45:11.152Z"
   },
   {
    "duration": 15,
    "start_time": "2025-05-02T02:45:11.168Z"
   },
   {
    "duration": 2,
    "start_time": "2025-05-02T02:45:11.185Z"
   },
   {
    "duration": 31,
    "start_time": "2025-05-02T02:45:11.189Z"
   },
   {
    "duration": 4,
    "start_time": "2025-05-02T02:45:11.223Z"
   },
   {
    "duration": 3,
    "start_time": "2025-05-02T02:45:11.228Z"
   },
   {
    "duration": 2,
    "start_time": "2025-05-02T02:45:11.233Z"
   },
   {
    "duration": 3,
    "start_time": "2025-05-02T02:45:11.237Z"
   },
   {
    "duration": 3,
    "start_time": "2025-05-02T02:45:11.242Z"
   },
   {
    "duration": 3,
    "start_time": "2025-05-02T02:45:11.247Z"
   },
   {
    "duration": 450,
    "start_time": "2025-05-02T03:01:15.904Z"
   },
   {
    "duration": 153,
    "start_time": "2025-05-02T03:01:16.356Z"
   },
   {
    "duration": 42,
    "start_time": "2025-05-02T03:01:16.511Z"
   },
   {
    "duration": 7,
    "start_time": "2025-05-02T03:01:16.556Z"
   },
   {
    "duration": 7,
    "start_time": "2025-05-02T03:01:16.565Z"
   },
   {
    "duration": 4,
    "start_time": "2025-05-02T03:01:16.574Z"
   },
   {
    "duration": 8,
    "start_time": "2025-05-02T03:01:16.580Z"
   },
   {
    "duration": 31,
    "start_time": "2025-05-02T03:01:16.589Z"
   },
   {
    "duration": 8,
    "start_time": "2025-05-02T03:01:16.622Z"
   },
   {
    "duration": 5,
    "start_time": "2025-05-02T03:01:16.633Z"
   },
   {
    "duration": 3,
    "start_time": "2025-05-02T03:01:16.639Z"
   },
   {
    "duration": 4,
    "start_time": "2025-05-02T03:01:16.644Z"
   },
   {
    "duration": 14,
    "start_time": "2025-05-02T03:01:16.651Z"
   },
   {
    "duration": 16,
    "start_time": "2025-05-02T03:01:16.666Z"
   },
   {
    "duration": 3,
    "start_time": "2025-05-02T03:01:16.683Z"
   },
   {
    "duration": 25,
    "start_time": "2025-05-02T03:01:16.720Z"
   },
   {
    "duration": 13,
    "start_time": "2025-05-02T03:01:16.747Z"
   },
   {
    "duration": 17,
    "start_time": "2025-05-02T03:01:16.762Z"
   },
   {
    "duration": 2,
    "start_time": "2025-05-02T03:01:16.781Z"
   },
   {
    "duration": 49,
    "start_time": "2025-05-02T03:01:16.784Z"
   },
   {
    "duration": 14,
    "start_time": "2025-05-02T03:01:16.836Z"
   },
   {
    "duration": 21,
    "start_time": "2025-05-02T03:01:16.852Z"
   },
   {
    "duration": 2,
    "start_time": "2025-05-02T03:01:16.875Z"
   },
   {
    "duration": 19,
    "start_time": "2025-05-02T03:01:16.879Z"
   },
   {
    "duration": 7,
    "start_time": "2025-05-02T03:01:16.920Z"
   },
   {
    "duration": 18,
    "start_time": "2025-05-02T03:01:16.929Z"
   },
   {
    "duration": 14,
    "start_time": "2025-05-02T03:01:16.949Z"
   },
   {
    "duration": 11,
    "start_time": "2025-05-02T03:01:16.967Z"
   },
   {
    "duration": 40,
    "start_time": "2025-05-02T03:01:16.980Z"
   },
   {
    "duration": 7,
    "start_time": "2025-05-02T03:01:17.022Z"
   },
   {
    "duration": 13,
    "start_time": "2025-05-02T03:01:17.031Z"
   },
   {
    "duration": 16,
    "start_time": "2025-05-02T03:01:17.045Z"
   },
   {
    "duration": 19,
    "start_time": "2025-05-02T03:01:17.063Z"
   },
   {
    "duration": 3,
    "start_time": "2025-05-02T03:01:17.083Z"
   },
   {
    "duration": 33,
    "start_time": "2025-05-02T03:01:17.087Z"
   },
   {
    "duration": 2,
    "start_time": "2025-05-02T03:01:17.122Z"
   },
   {
    "duration": 3,
    "start_time": "2025-05-02T03:01:17.126Z"
   },
   {
    "duration": 4,
    "start_time": "2025-05-02T03:01:17.130Z"
   },
   {
    "duration": 3,
    "start_time": "2025-05-02T03:01:17.135Z"
   },
   {
    "duration": 3,
    "start_time": "2025-05-02T03:01:17.140Z"
   },
   {
    "duration": 3,
    "start_time": "2025-05-02T03:01:17.145Z"
   },
   {
    "duration": 491,
    "start_time": "2025-05-02T03:02:41.826Z"
   },
   {
    "duration": 163,
    "start_time": "2025-05-02T03:02:42.321Z"
   },
   {
    "duration": 44,
    "start_time": "2025-05-02T03:02:42.485Z"
   },
   {
    "duration": 8,
    "start_time": "2025-05-02T03:02:42.532Z"
   },
   {
    "duration": 9,
    "start_time": "2025-05-02T03:02:42.542Z"
   },
   {
    "duration": 6,
    "start_time": "2025-05-02T03:02:42.553Z"
   },
   {
    "duration": 9,
    "start_time": "2025-05-02T03:02:42.560Z"
   },
   {
    "duration": 2,
    "start_time": "2025-05-02T03:02:42.571Z"
   },
   {
    "duration": 8,
    "start_time": "2025-05-02T03:02:42.575Z"
   },
   {
    "duration": 5,
    "start_time": "2025-05-02T03:02:42.619Z"
   },
   {
    "duration": 2,
    "start_time": "2025-05-02T03:02:42.626Z"
   },
   {
    "duration": 3,
    "start_time": "2025-05-02T03:02:42.630Z"
   },
   {
    "duration": 15,
    "start_time": "2025-05-02T03:02:42.634Z"
   },
   {
    "duration": 16,
    "start_time": "2025-05-02T03:02:42.650Z"
   },
   {
    "duration": 3,
    "start_time": "2025-05-02T03:02:42.667Z"
   },
   {
    "duration": 58,
    "start_time": "2025-05-02T03:02:42.671Z"
   },
   {
    "duration": 11,
    "start_time": "2025-05-02T03:02:42.730Z"
   },
   {
    "duration": 14,
    "start_time": "2025-05-02T03:02:42.743Z"
   },
   {
    "duration": 2,
    "start_time": "2025-05-02T03:02:42.759Z"
   },
   {
    "duration": 15,
    "start_time": "2025-05-02T03:02:42.763Z"
   },
   {
    "duration": 42,
    "start_time": "2025-05-02T03:02:42.779Z"
   },
   {
    "duration": 21,
    "start_time": "2025-05-02T03:02:42.823Z"
   },
   {
    "duration": 3,
    "start_time": "2025-05-02T03:02:42.845Z"
   },
   {
    "duration": 21,
    "start_time": "2025-05-02T03:02:42.849Z"
   },
   {
    "duration": 6,
    "start_time": "2025-05-02T03:02:42.872Z"
   },
   {
    "duration": 42,
    "start_time": "2025-05-02T03:02:42.880Z"
   },
   {
    "duration": 14,
    "start_time": "2025-05-02T03:02:42.925Z"
   },
   {
    "duration": 11,
    "start_time": "2025-05-02T03:02:42.943Z"
   },
   {
    "duration": 10,
    "start_time": "2025-05-02T03:02:42.956Z"
   },
   {
    "duration": 7,
    "start_time": "2025-05-02T03:02:42.968Z"
   },
   {
    "duration": 42,
    "start_time": "2025-05-02T03:02:42.977Z"
   },
   {
    "duration": 16,
    "start_time": "2025-05-02T03:02:43.021Z"
   },
   {
    "duration": 21,
    "start_time": "2025-05-02T03:02:43.040Z"
   },
   {
    "duration": 3,
    "start_time": "2025-05-02T03:02:43.062Z"
   },
   {
    "duration": 3,
    "start_time": "2025-05-02T03:02:43.066Z"
   },
   {
    "duration": 3,
    "start_time": "2025-05-02T03:02:43.070Z"
   },
   {
    "duration": 3,
    "start_time": "2025-05-02T03:02:43.074Z"
   },
   {
    "duration": 3,
    "start_time": "2025-05-02T03:02:43.079Z"
   },
   {
    "duration": 3,
    "start_time": "2025-05-02T03:02:43.084Z"
   },
   {
    "duration": 3,
    "start_time": "2025-05-02T03:02:43.121Z"
   },
   {
    "duration": 2,
    "start_time": "2025-05-02T03:02:43.127Z"
   },
   {
    "duration": 506,
    "start_time": "2025-05-02T03:21:06.937Z"
   },
   {
    "duration": 150,
    "start_time": "2025-05-02T03:21:07.445Z"
   },
   {
    "duration": 46,
    "start_time": "2025-05-02T03:21:07.597Z"
   },
   {
    "duration": 8,
    "start_time": "2025-05-02T03:21:07.645Z"
   },
   {
    "duration": 9,
    "start_time": "2025-05-02T03:21:07.654Z"
   },
   {
    "duration": 6,
    "start_time": "2025-05-02T03:21:07.664Z"
   },
   {
    "duration": 8,
    "start_time": "2025-05-02T03:21:07.671Z"
   },
   {
    "duration": 2,
    "start_time": "2025-05-02T03:21:07.681Z"
   },
   {
    "duration": 37,
    "start_time": "2025-05-02T03:21:07.684Z"
   },
   {
    "duration": 4,
    "start_time": "2025-05-02T03:21:07.724Z"
   },
   {
    "duration": 3,
    "start_time": "2025-05-02T03:21:07.730Z"
   },
   {
    "duration": 2,
    "start_time": "2025-05-02T03:21:07.735Z"
   },
   {
    "duration": 15,
    "start_time": "2025-05-02T03:21:07.739Z"
   },
   {
    "duration": 15,
    "start_time": "2025-05-02T03:21:07.756Z"
   },
   {
    "duration": 2,
    "start_time": "2025-05-02T03:21:07.773Z"
   },
   {
    "duration": 58,
    "start_time": "2025-05-02T03:21:07.777Z"
   },
   {
    "duration": 12,
    "start_time": "2025-05-02T03:21:07.836Z"
   },
   {
    "duration": 13,
    "start_time": "2025-05-02T03:21:07.849Z"
   },
   {
    "duration": 3,
    "start_time": "2025-05-02T03:21:07.864Z"
   },
   {
    "duration": 15,
    "start_time": "2025-05-02T03:21:07.869Z"
   },
   {
    "duration": 38,
    "start_time": "2025-05-02T03:21:07.885Z"
   },
   {
    "duration": 19,
    "start_time": "2025-05-02T03:21:07.924Z"
   },
   {
    "duration": 2,
    "start_time": "2025-05-02T03:21:07.945Z"
   },
   {
    "duration": 19,
    "start_time": "2025-05-02T03:21:07.949Z"
   },
   {
    "duration": 8,
    "start_time": "2025-05-02T03:21:07.970Z"
   },
   {
    "duration": 46,
    "start_time": "2025-05-02T03:21:07.980Z"
   },
   {
    "duration": 15,
    "start_time": "2025-05-02T03:21:08.028Z"
   },
   {
    "duration": 13,
    "start_time": "2025-05-02T03:21:08.047Z"
   },
   {
    "duration": 11,
    "start_time": "2025-05-02T03:21:08.062Z"
   },
   {
    "duration": 8,
    "start_time": "2025-05-02T03:21:08.074Z"
   },
   {
    "duration": 42,
    "start_time": "2025-05-02T03:21:08.083Z"
   },
   {
    "duration": 22,
    "start_time": "2025-05-02T03:21:08.126Z"
   },
   {
    "duration": 19,
    "start_time": "2025-05-02T03:21:08.149Z"
   },
   {
    "duration": 2,
    "start_time": "2025-05-02T03:21:08.169Z"
   },
   {
    "duration": 2,
    "start_time": "2025-05-02T03:21:08.173Z"
   },
   {
    "duration": 3,
    "start_time": "2025-05-02T03:21:08.177Z"
   },
   {
    "duration": 38,
    "start_time": "2025-05-02T03:21:08.181Z"
   },
   {
    "duration": 2,
    "start_time": "2025-05-02T03:21:08.221Z"
   },
   {
    "duration": 3,
    "start_time": "2025-05-02T03:21:08.225Z"
   },
   {
    "duration": 4,
    "start_time": "2025-05-02T03:21:08.229Z"
   },
   {
    "duration": 3,
    "start_time": "2025-05-02T03:21:08.235Z"
   },
   {
    "duration": 504,
    "start_time": "2025-05-02T03:30:59.025Z"
   },
   {
    "duration": 157,
    "start_time": "2025-05-02T03:30:59.532Z"
   },
   {
    "duration": 43,
    "start_time": "2025-05-02T03:30:59.690Z"
   },
   {
    "duration": 7,
    "start_time": "2025-05-02T03:30:59.735Z"
   },
   {
    "duration": 8,
    "start_time": "2025-05-02T03:30:59.744Z"
   },
   {
    "duration": 5,
    "start_time": "2025-05-02T03:30:59.754Z"
   },
   {
    "duration": 8,
    "start_time": "2025-05-02T03:30:59.761Z"
   },
   {
    "duration": 2,
    "start_time": "2025-05-02T03:30:59.770Z"
   },
   {
    "duration": 9,
    "start_time": "2025-05-02T03:30:59.774Z"
   },
   {
    "duration": 6,
    "start_time": "2025-05-02T03:30:59.819Z"
   },
   {
    "duration": 3,
    "start_time": "2025-05-02T03:30:59.827Z"
   },
   {
    "duration": 3,
    "start_time": "2025-05-02T03:30:59.831Z"
   },
   {
    "duration": 16,
    "start_time": "2025-05-02T03:30:59.835Z"
   },
   {
    "duration": 15,
    "start_time": "2025-05-02T03:30:59.852Z"
   },
   {
    "duration": 2,
    "start_time": "2025-05-02T03:30:59.869Z"
   },
   {
    "duration": 57,
    "start_time": "2025-05-02T03:30:59.873Z"
   },
   {
    "duration": 12,
    "start_time": "2025-05-02T03:30:59.932Z"
   },
   {
    "duration": 14,
    "start_time": "2025-05-02T03:30:59.946Z"
   },
   {
    "duration": 2,
    "start_time": "2025-05-02T03:30:59.962Z"
   },
   {
    "duration": 16,
    "start_time": "2025-05-02T03:30:59.965Z"
   },
   {
    "duration": 42,
    "start_time": "2025-05-02T03:30:59.982Z"
   },
   {
    "duration": 24,
    "start_time": "2025-05-02T03:31:00.026Z"
   },
   {
    "duration": 2,
    "start_time": "2025-05-02T03:31:00.052Z"
   },
   {
    "duration": 22,
    "start_time": "2025-05-02T03:31:00.056Z"
   },
   {
    "duration": 9,
    "start_time": "2025-05-02T03:31:00.081Z"
   },
   {
    "duration": 35,
    "start_time": "2025-05-02T03:31:00.092Z"
   },
   {
    "duration": 14,
    "start_time": "2025-05-02T03:31:00.129Z"
   },
   {
    "duration": 12,
    "start_time": "2025-05-02T03:31:00.147Z"
   },
   {
    "duration": 9,
    "start_time": "2025-05-02T03:31:00.161Z"
   },
   {
    "duration": 7,
    "start_time": "2025-05-02T03:31:00.172Z"
   },
   {
    "duration": 45,
    "start_time": "2025-05-02T03:31:00.180Z"
   },
   {
    "duration": 10,
    "start_time": "2025-05-02T03:31:00.227Z"
   },
   {
    "duration": 15,
    "start_time": "2025-05-02T03:31:00.239Z"
   },
   {
    "duration": 16,
    "start_time": "2025-05-02T03:31:00.256Z"
   },
   {
    "duration": 19,
    "start_time": "2025-05-02T03:31:00.273Z"
   },
   {
    "duration": 2,
    "start_time": "2025-05-02T03:31:00.320Z"
   },
   {
    "duration": 3,
    "start_time": "2025-05-02T03:31:00.324Z"
   },
   {
    "duration": 3,
    "start_time": "2025-05-02T03:31:00.329Z"
   },
   {
    "duration": 3,
    "start_time": "2025-05-02T03:31:00.333Z"
   },
   {
    "duration": 2,
    "start_time": "2025-05-02T03:31:00.338Z"
   },
   {
    "duration": 3,
    "start_time": "2025-05-02T03:31:00.342Z"
   },
   {
    "duration": 4,
    "start_time": "2025-05-02T03:31:00.347Z"
   },
   {
    "duration": 3,
    "start_time": "2025-05-02T03:31:00.352Z"
   },
   {
    "duration": 16,
    "start_time": "2025-05-02T03:35:06.145Z"
   },
   {
    "duration": 203,
    "start_time": "2025-05-03T02:28:58.707Z"
   },
   {
    "duration": 601,
    "start_time": "2025-05-03T02:29:15.221Z"
   },
   {
    "duration": 199,
    "start_time": "2025-05-03T02:29:15.824Z"
   },
   {
    "duration": 42,
    "start_time": "2025-05-03T02:29:16.024Z"
   },
   {
    "duration": 29,
    "start_time": "2025-05-03T02:29:16.069Z"
   },
   {
    "duration": 9,
    "start_time": "2025-05-03T02:29:16.100Z"
   },
   {
    "duration": 6,
    "start_time": "2025-05-03T02:29:16.110Z"
   },
   {
    "duration": 8,
    "start_time": "2025-05-03T02:29:16.118Z"
   },
   {
    "duration": 3,
    "start_time": "2025-05-03T02:29:16.127Z"
   },
   {
    "duration": 8,
    "start_time": "2025-05-03T02:29:16.131Z"
   },
   {
    "duration": 5,
    "start_time": "2025-05-03T02:29:16.142Z"
   },
   {
    "duration": 2,
    "start_time": "2025-05-03T02:29:16.149Z"
   },
   {
    "duration": 29,
    "start_time": "2025-05-03T02:29:16.152Z"
   },
   {
    "duration": 15,
    "start_time": "2025-05-03T02:29:16.197Z"
   },
   {
    "duration": 15,
    "start_time": "2025-05-03T02:29:16.214Z"
   },
   {
    "duration": 2,
    "start_time": "2025-05-03T02:29:16.230Z"
   },
   {
    "duration": 27,
    "start_time": "2025-05-03T02:29:16.234Z"
   },
   {
    "duration": 35,
    "start_time": "2025-05-03T02:29:16.263Z"
   },
   {
    "duration": 14,
    "start_time": "2025-05-03T02:29:16.300Z"
   },
   {
    "duration": 2,
    "start_time": "2025-05-03T02:29:16.316Z"
   },
   {
    "duration": 19,
    "start_time": "2025-05-03T02:29:16.319Z"
   },
   {
    "duration": 53,
    "start_time": "2025-05-03T02:29:16.341Z"
   },
   {
    "duration": 26,
    "start_time": "2025-05-03T02:29:16.396Z"
   },
   {
    "duration": 2,
    "start_time": "2025-05-03T02:29:16.424Z"
   },
   {
    "duration": 20,
    "start_time": "2025-05-03T02:29:16.428Z"
   },
   {
    "duration": 7,
    "start_time": "2025-05-03T02:29:16.450Z"
   },
   {
    "duration": 43,
    "start_time": "2025-05-03T02:29:16.458Z"
   },
   {
    "duration": 14,
    "start_time": "2025-05-03T02:29:16.503Z"
   },
   {
    "duration": 11,
    "start_time": "2025-05-03T02:29:16.521Z"
   },
   {
    "duration": 10,
    "start_time": "2025-05-03T02:29:16.534Z"
   },
   {
    "duration": 7,
    "start_time": "2025-05-03T02:29:16.546Z"
   },
   {
    "duration": 38,
    "start_time": "2025-05-03T02:29:16.555Z"
   },
   {
    "duration": 13,
    "start_time": "2025-05-03T02:29:16.595Z"
   },
   {
    "duration": 15,
    "start_time": "2025-05-03T02:29:16.610Z"
   },
   {
    "duration": 16,
    "start_time": "2025-05-03T02:29:16.627Z"
   },
   {
    "duration": 6,
    "start_time": "2025-05-03T02:29:16.645Z"
   },
   {
    "duration": 0,
    "start_time": "2025-05-03T02:29:16.653Z"
   },
   {
    "duration": 0,
    "start_time": "2025-05-03T02:29:16.674Z"
   },
   {
    "duration": 0,
    "start_time": "2025-05-03T02:29:16.678Z"
   },
   {
    "duration": 0,
    "start_time": "2025-05-03T02:29:16.679Z"
   },
   {
    "duration": 0,
    "start_time": "2025-05-03T02:29:16.679Z"
   },
   {
    "duration": 0,
    "start_time": "2025-05-03T02:29:16.680Z"
   },
   {
    "duration": 0,
    "start_time": "2025-05-03T02:29:16.685Z"
   },
   {
    "duration": 0,
    "start_time": "2025-05-03T02:29:16.687Z"
   },
   {
    "duration": 218,
    "start_time": "2025-05-03T02:50:24.045Z"
   },
   {
    "duration": 22,
    "start_time": "2025-05-03T02:53:37.000Z"
   },
   {
    "duration": 17,
    "start_time": "2025-05-03T02:55:38.482Z"
   },
   {
    "duration": 17,
    "start_time": "2025-05-03T03:14:03.951Z"
   },
   {
    "duration": 23,
    "start_time": "2025-05-03T03:17:59.941Z"
   },
   {
    "duration": 517,
    "start_time": "2025-05-03T03:19:17.491Z"
   },
   {
    "duration": 160,
    "start_time": "2025-05-03T03:19:18.010Z"
   },
   {
    "duration": 43,
    "start_time": "2025-05-03T03:19:18.172Z"
   },
   {
    "duration": 7,
    "start_time": "2025-05-03T03:19:18.217Z"
   },
   {
    "duration": 9,
    "start_time": "2025-05-03T03:19:18.226Z"
   },
   {
    "duration": 5,
    "start_time": "2025-05-03T03:19:18.237Z"
   },
   {
    "duration": 31,
    "start_time": "2025-05-03T03:19:18.244Z"
   },
   {
    "duration": 2,
    "start_time": "2025-05-03T03:19:18.277Z"
   },
   {
    "duration": 9,
    "start_time": "2025-05-03T03:19:18.280Z"
   },
   {
    "duration": 6,
    "start_time": "2025-05-03T03:19:18.292Z"
   },
   {
    "duration": 2,
    "start_time": "2025-05-03T03:19:18.302Z"
   },
   {
    "duration": 3,
    "start_time": "2025-05-03T03:19:18.305Z"
   },
   {
    "duration": 16,
    "start_time": "2025-05-03T03:19:18.310Z"
   },
   {
    "duration": 51,
    "start_time": "2025-05-03T03:19:18.327Z"
   },
   {
    "duration": 2,
    "start_time": "2025-05-03T03:19:18.380Z"
   },
   {
    "duration": 26,
    "start_time": "2025-05-03T03:19:18.384Z"
   },
   {
    "duration": 12,
    "start_time": "2025-05-03T03:19:18.413Z"
   },
   {
    "duration": 44,
    "start_time": "2025-05-03T03:19:18.426Z"
   },
   {
    "duration": 3,
    "start_time": "2025-05-03T03:19:18.472Z"
   },
   {
    "duration": 17,
    "start_time": "2025-05-03T03:19:18.476Z"
   },
   {
    "duration": 14,
    "start_time": "2025-05-03T03:19:18.495Z"
   },
   {
    "duration": 24,
    "start_time": "2025-05-03T03:19:18.511Z"
   },
   {
    "duration": 34,
    "start_time": "2025-05-03T03:19:18.537Z"
   },
   {
    "duration": 21,
    "start_time": "2025-05-03T03:19:18.573Z"
   },
   {
    "duration": 7,
    "start_time": "2025-05-03T03:19:18.596Z"
   },
   {
    "duration": 18,
    "start_time": "2025-05-03T03:19:18.605Z"
   },
   {
    "duration": 15,
    "start_time": "2025-05-03T03:19:18.624Z"
   },
   {
    "duration": 13,
    "start_time": "2025-05-03T03:19:18.673Z"
   },
   {
    "duration": 12,
    "start_time": "2025-05-03T03:19:18.687Z"
   },
   {
    "duration": 7,
    "start_time": "2025-05-03T03:19:18.701Z"
   },
   {
    "duration": 13,
    "start_time": "2025-05-03T03:19:18.709Z"
   },
   {
    "duration": 10,
    "start_time": "2025-05-03T03:19:18.724Z"
   },
   {
    "duration": 48,
    "start_time": "2025-05-03T03:19:18.736Z"
   },
   {
    "duration": 20,
    "start_time": "2025-05-03T03:19:18.785Z"
   },
   {
    "duration": 203,
    "start_time": "2025-05-03T03:19:18.806Z"
   },
   {
    "duration": 0,
    "start_time": "2025-05-03T03:19:19.011Z"
   },
   {
    "duration": 0,
    "start_time": "2025-05-03T03:19:19.012Z"
   },
   {
    "duration": 0,
    "start_time": "2025-05-03T03:19:19.015Z"
   },
   {
    "duration": 0,
    "start_time": "2025-05-03T03:19:19.016Z"
   },
   {
    "duration": 0,
    "start_time": "2025-05-03T03:19:19.017Z"
   },
   {
    "duration": 0,
    "start_time": "2025-05-03T03:19:19.018Z"
   },
   {
    "duration": 0,
    "start_time": "2025-05-03T03:19:19.019Z"
   },
   {
    "duration": 0,
    "start_time": "2025-05-03T03:19:19.020Z"
   },
   {
    "duration": 6,
    "start_time": "2025-05-03T03:26:59.370Z"
   },
   {
    "duration": 6,
    "start_time": "2025-05-03T03:27:44.471Z"
   },
   {
    "duration": 15,
    "start_time": "2025-05-03T03:28:08.216Z"
   },
   {
    "duration": 20,
    "start_time": "2025-05-03T03:29:44.167Z"
   },
   {
    "duration": 18,
    "start_time": "2025-05-03T03:41:12.949Z"
   },
   {
    "duration": 154,
    "start_time": "2025-05-04T13:33:54.808Z"
   },
   {
    "duration": 560,
    "start_time": "2025-05-04T13:34:10.313Z"
   },
   {
    "duration": 161,
    "start_time": "2025-05-04T13:34:10.875Z"
   },
   {
    "duration": 43,
    "start_time": "2025-05-04T13:34:11.038Z"
   },
   {
    "duration": 12,
    "start_time": "2025-05-04T13:34:11.084Z"
   },
   {
    "duration": 8,
    "start_time": "2025-05-04T13:34:11.098Z"
   },
   {
    "duration": 5,
    "start_time": "2025-05-04T13:34:11.107Z"
   },
   {
    "duration": 8,
    "start_time": "2025-05-04T13:34:11.113Z"
   },
   {
    "duration": 3,
    "start_time": "2025-05-04T13:34:11.123Z"
   },
   {
    "duration": 8,
    "start_time": "2025-05-04T13:34:11.127Z"
   },
   {
    "duration": 4,
    "start_time": "2025-05-04T13:34:11.139Z"
   },
   {
    "duration": 3,
    "start_time": "2025-05-04T13:34:11.145Z"
   },
   {
    "duration": 39,
    "start_time": "2025-05-04T13:34:11.149Z"
   },
   {
    "duration": 16,
    "start_time": "2025-05-04T13:34:11.189Z"
   },
   {
    "duration": 14,
    "start_time": "2025-05-04T13:34:11.206Z"
   },
   {
    "duration": 3,
    "start_time": "2025-05-04T13:34:11.222Z"
   },
   {
    "duration": 26,
    "start_time": "2025-05-04T13:34:11.226Z"
   },
   {
    "duration": 40,
    "start_time": "2025-05-04T13:34:11.253Z"
   },
   {
    "duration": 14,
    "start_time": "2025-05-04T13:34:11.294Z"
   },
   {
    "duration": 2,
    "start_time": "2025-05-04T13:34:11.310Z"
   },
   {
    "duration": 15,
    "start_time": "2025-05-04T13:34:11.313Z"
   },
   {
    "duration": 13,
    "start_time": "2025-05-04T13:34:11.330Z"
   },
   {
    "duration": 55,
    "start_time": "2025-05-04T13:34:11.344Z"
   },
   {
    "duration": 3,
    "start_time": "2025-05-04T13:34:11.401Z"
   },
   {
    "duration": 20,
    "start_time": "2025-05-04T13:34:11.406Z"
   },
   {
    "duration": 7,
    "start_time": "2025-05-04T13:34:11.428Z"
   },
   {
    "duration": 19,
    "start_time": "2025-05-04T13:34:11.436Z"
   },
   {
    "duration": 38,
    "start_time": "2025-05-04T13:34:11.458Z"
   },
   {
    "duration": 11,
    "start_time": "2025-05-04T13:34:11.500Z"
   },
   {
    "duration": 10,
    "start_time": "2025-05-04T13:34:11.513Z"
   },
   {
    "duration": 7,
    "start_time": "2025-05-04T13:34:11.524Z"
   },
   {
    "duration": 13,
    "start_time": "2025-05-04T13:34:11.532Z"
   },
   {
    "duration": 45,
    "start_time": "2025-05-04T13:34:11.547Z"
   },
   {
    "duration": 16,
    "start_time": "2025-05-04T13:34:11.594Z"
   },
   {
    "duration": 19,
    "start_time": "2025-05-04T13:34:11.612Z"
   },
   {
    "duration": 4,
    "start_time": "2025-05-04T13:34:11.633Z"
   },
   {
    "duration": 220,
    "start_time": "2025-05-04T13:34:11.638Z"
   },
   {
    "duration": 0,
    "start_time": "2025-05-04T13:34:11.860Z"
   },
   {
    "duration": 0,
    "start_time": "2025-05-04T13:34:11.862Z"
   },
   {
    "duration": 0,
    "start_time": "2025-05-04T13:34:11.863Z"
   },
   {
    "duration": 0,
    "start_time": "2025-05-04T13:34:11.865Z"
   },
   {
    "duration": 0,
    "start_time": "2025-05-04T13:34:11.866Z"
   },
   {
    "duration": 0,
    "start_time": "2025-05-04T13:34:11.868Z"
   },
   {
    "duration": 0,
    "start_time": "2025-05-04T13:34:11.869Z"
   },
   {
    "duration": 0,
    "start_time": "2025-05-04T13:34:11.870Z"
   },
   {
    "duration": 18,
    "start_time": "2025-05-04T13:34:51.972Z"
   },
   {
    "duration": 18,
    "start_time": "2025-05-04T13:36:02.928Z"
   },
   {
    "duration": 27,
    "start_time": "2025-05-04T13:42:07.831Z"
   },
   {
    "duration": 5,
    "start_time": "2025-05-04T13:45:04.027Z"
   },
   {
    "duration": 5,
    "start_time": "2025-05-04T13:45:34.143Z"
   },
   {
    "duration": 5,
    "start_time": "2025-05-04T13:51:10.880Z"
   },
   {
    "duration": 17,
    "start_time": "2025-05-04T13:53:57.249Z"
   },
   {
    "duration": 17,
    "start_time": "2025-05-04T13:58:04.248Z"
   },
   {
    "duration": 572,
    "start_time": "2025-05-04T17:15:38.953Z"
   },
   {
    "duration": 153,
    "start_time": "2025-05-04T17:15:39.527Z"
   },
   {
    "duration": 43,
    "start_time": "2025-05-04T17:15:39.681Z"
   },
   {
    "duration": 8,
    "start_time": "2025-05-04T17:15:39.726Z"
   },
   {
    "duration": 8,
    "start_time": "2025-05-04T17:15:39.737Z"
   },
   {
    "duration": 6,
    "start_time": "2025-05-04T17:15:39.746Z"
   },
   {
    "duration": 10,
    "start_time": "2025-05-04T17:15:39.754Z"
   },
   {
    "duration": 3,
    "start_time": "2025-05-04T17:15:39.765Z"
   },
   {
    "duration": 8,
    "start_time": "2025-05-04T17:15:39.770Z"
   },
   {
    "duration": 4,
    "start_time": "2025-05-04T17:15:39.781Z"
   },
   {
    "duration": 3,
    "start_time": "2025-05-04T17:15:39.787Z"
   },
   {
    "duration": 39,
    "start_time": "2025-05-04T17:15:39.792Z"
   },
   {
    "duration": 16,
    "start_time": "2025-05-04T17:15:39.833Z"
   },
   {
    "duration": 16,
    "start_time": "2025-05-04T17:15:39.851Z"
   },
   {
    "duration": 3,
    "start_time": "2025-05-04T17:15:39.869Z"
   },
   {
    "duration": 27,
    "start_time": "2025-05-04T17:15:39.873Z"
   },
   {
    "duration": 39,
    "start_time": "2025-05-04T17:15:39.902Z"
   },
   {
    "duration": 15,
    "start_time": "2025-05-04T17:15:39.942Z"
   },
   {
    "duration": 2,
    "start_time": "2025-05-04T17:15:39.959Z"
   },
   {
    "duration": 16,
    "start_time": "2025-05-04T17:15:39.963Z"
   },
   {
    "duration": 13,
    "start_time": "2025-05-04T17:15:39.981Z"
   },
   {
    "duration": 54,
    "start_time": "2025-05-04T17:15:39.996Z"
   },
   {
    "duration": 2,
    "start_time": "2025-05-04T17:15:40.052Z"
   },
   {
    "duration": 22,
    "start_time": "2025-05-04T17:15:40.055Z"
   },
   {
    "duration": 7,
    "start_time": "2025-05-04T17:15:40.078Z"
   },
   {
    "duration": 17,
    "start_time": "2025-05-04T17:15:40.086Z"
   },
   {
    "duration": 40,
    "start_time": "2025-05-04T17:15:40.105Z"
   },
   {
    "duration": 13,
    "start_time": "2025-05-04T17:15:40.149Z"
   },
   {
    "duration": 10,
    "start_time": "2025-05-04T17:15:40.164Z"
   },
   {
    "duration": 6,
    "start_time": "2025-05-04T17:15:40.176Z"
   },
   {
    "duration": 12,
    "start_time": "2025-05-04T17:15:40.183Z"
   },
   {
    "duration": 41,
    "start_time": "2025-05-04T17:15:40.197Z"
   },
   {
    "duration": 15,
    "start_time": "2025-05-04T17:15:40.239Z"
   },
   {
    "duration": 16,
    "start_time": "2025-05-04T17:15:40.257Z"
   },
   {
    "duration": 209,
    "start_time": "2025-05-04T17:15:40.274Z"
   },
   {
    "duration": 0,
    "start_time": "2025-05-04T17:15:40.484Z"
   },
   {
    "duration": 0,
    "start_time": "2025-05-04T17:15:40.486Z"
   },
   {
    "duration": 0,
    "start_time": "2025-05-04T17:15:40.487Z"
   },
   {
    "duration": 0,
    "start_time": "2025-05-04T17:15:40.489Z"
   },
   {
    "duration": 0,
    "start_time": "2025-05-04T17:15:40.491Z"
   },
   {
    "duration": 0,
    "start_time": "2025-05-04T17:15:40.492Z"
   },
   {
    "duration": 0,
    "start_time": "2025-05-04T17:15:40.493Z"
   },
   {
    "duration": 0,
    "start_time": "2025-05-04T17:15:40.494Z"
   },
   {
    "duration": 16,
    "start_time": "2025-05-04T17:17:37.943Z"
   },
   {
    "duration": 16,
    "start_time": "2025-05-04T17:18:08.037Z"
   },
   {
    "duration": 14,
    "start_time": "2025-05-04T17:19:05.195Z"
   },
   {
    "duration": 18,
    "start_time": "2025-05-04T17:38:59.054Z"
   },
   {
    "duration": 9,
    "start_time": "2025-05-04T19:44:27.628Z"
   },
   {
    "duration": 10,
    "start_time": "2025-05-04T23:37:52.536Z"
   },
   {
    "duration": 166,
    "start_time": "2025-05-04T23:38:19.308Z"
   },
   {
    "duration": 582,
    "start_time": "2025-05-04T23:38:38.423Z"
   },
   {
    "duration": 167,
    "start_time": "2025-05-04T23:38:39.007Z"
   },
   {
    "duration": 49,
    "start_time": "2025-05-04T23:38:39.175Z"
   },
   {
    "duration": 8,
    "start_time": "2025-05-04T23:38:39.227Z"
   },
   {
    "duration": 10,
    "start_time": "2025-05-04T23:38:39.239Z"
   },
   {
    "duration": 6,
    "start_time": "2025-05-04T23:38:39.251Z"
   },
   {
    "duration": 10,
    "start_time": "2025-05-04T23:38:39.287Z"
   },
   {
    "duration": 3,
    "start_time": "2025-05-04T23:38:39.299Z"
   },
   {
    "duration": 9,
    "start_time": "2025-05-04T23:38:39.304Z"
   },
   {
    "duration": 6,
    "start_time": "2025-05-04T23:38:39.315Z"
   },
   {
    "duration": 2,
    "start_time": "2025-05-04T23:38:39.323Z"
   },
   {
    "duration": 3,
    "start_time": "2025-05-04T23:38:39.327Z"
   },
   {
    "duration": 17,
    "start_time": "2025-05-04T23:38:39.331Z"
   },
   {
    "duration": 19,
    "start_time": "2025-05-04T23:38:39.389Z"
   },
   {
    "duration": 3,
    "start_time": "2025-05-04T23:38:39.409Z"
   },
   {
    "duration": 28,
    "start_time": "2025-05-04T23:38:39.414Z"
   },
   {
    "duration": 12,
    "start_time": "2025-05-04T23:38:39.444Z"
   },
   {
    "duration": 18,
    "start_time": "2025-05-04T23:38:39.486Z"
   },
   {
    "duration": 2,
    "start_time": "2025-05-04T23:38:39.506Z"
   },
   {
    "duration": 17,
    "start_time": "2025-05-04T23:38:39.510Z"
   },
   {
    "duration": 13,
    "start_time": "2025-05-04T23:38:39.529Z"
   },
   {
    "duration": 53,
    "start_time": "2025-05-04T23:38:39.543Z"
   },
   {
    "duration": 2,
    "start_time": "2025-05-04T23:38:39.599Z"
   },
   {
    "duration": 23,
    "start_time": "2025-05-04T23:38:39.603Z"
   },
   {
    "duration": 8,
    "start_time": "2025-05-04T23:38:39.627Z"
   },
   {
    "duration": 18,
    "start_time": "2025-05-04T23:38:39.637Z"
   },
   {
    "duration": 40,
    "start_time": "2025-05-04T23:38:39.657Z"
   },
   {
    "duration": 13,
    "start_time": "2025-05-04T23:38:39.698Z"
   },
   {
    "duration": 12,
    "start_time": "2025-05-04T23:38:39.712Z"
   },
   {
    "duration": 7,
    "start_time": "2025-05-04T23:38:39.726Z"
   },
   {
    "duration": 14,
    "start_time": "2025-05-04T23:38:39.735Z"
   },
   {
    "duration": 47,
    "start_time": "2025-05-04T23:38:39.750Z"
   },
   {
    "duration": 17,
    "start_time": "2025-05-04T23:38:39.799Z"
   },
   {
    "duration": 18,
    "start_time": "2025-05-04T23:38:39.818Z"
   },
   {
    "duration": 119,
    "start_time": "2025-05-04T23:38:39.838Z"
   },
   {
    "duration": 0,
    "start_time": "2025-05-04T23:38:39.959Z"
   },
   {
    "duration": 0,
    "start_time": "2025-05-04T23:38:39.960Z"
   },
   {
    "duration": 0,
    "start_time": "2025-05-04T23:38:39.961Z"
   },
   {
    "duration": 0,
    "start_time": "2025-05-04T23:38:39.962Z"
   },
   {
    "duration": 0,
    "start_time": "2025-05-04T23:38:39.963Z"
   },
   {
    "duration": 0,
    "start_time": "2025-05-04T23:38:39.964Z"
   },
   {
    "duration": 0,
    "start_time": "2025-05-04T23:38:39.965Z"
   },
   {
    "duration": 0,
    "start_time": "2025-05-04T23:38:39.966Z"
   },
   {
    "duration": 5,
    "start_time": "2025-05-05T00:00:43.517Z"
   },
   {
    "duration": 116,
    "start_time": "2025-05-05T00:02:04.514Z"
   },
   {
    "duration": 265,
    "start_time": "2025-05-05T00:03:01.013Z"
   },
   {
    "duration": 44,
    "start_time": "2025-05-05T00:09:03.665Z"
   },
   {
    "duration": 6,
    "start_time": "2025-05-05T00:11:15.949Z"
   },
   {
    "duration": 41,
    "start_time": "2025-05-05T00:11:25.275Z"
   },
   {
    "duration": 6,
    "start_time": "2025-05-05T00:12:32.821Z"
   },
   {
    "duration": 43,
    "start_time": "2025-05-05T00:14:09.933Z"
   },
   {
    "duration": 43,
    "start_time": "2025-05-05T00:18:58.312Z"
   },
   {
    "duration": 42,
    "start_time": "2025-05-05T00:19:54.870Z"
   },
   {
    "duration": 43,
    "start_time": "2025-05-05T00:21:25.731Z"
   },
   {
    "duration": 44,
    "start_time": "2025-05-05T00:22:10.183Z"
   },
   {
    "duration": 390,
    "start_time": "2025-05-05T00:23:33.637Z"
   },
   {
    "duration": 70,
    "start_time": "2025-05-05T00:25:47.935Z"
   },
   {
    "duration": 69,
    "start_time": "2025-05-05T00:28:13.034Z"
   },
   {
    "duration": 508,
    "start_time": "2025-05-05T00:40:49.409Z"
   },
   {
    "duration": 147,
    "start_time": "2025-05-05T00:40:49.919Z"
   },
   {
    "duration": 42,
    "start_time": "2025-05-05T00:40:50.068Z"
   },
   {
    "duration": 9,
    "start_time": "2025-05-05T00:40:50.112Z"
   },
   {
    "duration": 7,
    "start_time": "2025-05-05T00:40:50.122Z"
   },
   {
    "duration": 5,
    "start_time": "2025-05-05T00:40:50.131Z"
   },
   {
    "duration": 8,
    "start_time": "2025-05-05T00:40:50.137Z"
   },
   {
    "duration": 2,
    "start_time": "2025-05-05T00:40:50.146Z"
   },
   {
    "duration": 41,
    "start_time": "2025-05-05T00:40:50.150Z"
   },
   {
    "duration": 4,
    "start_time": "2025-05-05T00:40:50.195Z"
   },
   {
    "duration": 2,
    "start_time": "2025-05-05T00:40:50.201Z"
   },
   {
    "duration": 3,
    "start_time": "2025-05-05T00:40:50.205Z"
   },
   {
    "duration": 14,
    "start_time": "2025-05-05T00:40:50.209Z"
   },
   {
    "duration": 15,
    "start_time": "2025-05-05T00:40:50.225Z"
   },
   {
    "duration": 2,
    "start_time": "2025-05-05T00:40:50.241Z"
   },
   {
    "duration": 58,
    "start_time": "2025-05-05T00:40:50.245Z"
   },
   {
    "duration": 12,
    "start_time": "2025-05-05T00:40:50.304Z"
   },
   {
    "duration": 15,
    "start_time": "2025-05-05T00:40:50.317Z"
   },
   {
    "duration": 3,
    "start_time": "2025-05-05T00:40:50.333Z"
   },
   {
    "duration": 14,
    "start_time": "2025-05-05T00:40:50.338Z"
   },
   {
    "duration": 39,
    "start_time": "2025-05-05T00:40:50.353Z"
   },
   {
    "duration": 21,
    "start_time": "2025-05-05T00:40:50.393Z"
   },
   {
    "duration": 2,
    "start_time": "2025-05-05T00:40:50.416Z"
   },
   {
    "duration": 20,
    "start_time": "2025-05-05T00:40:50.420Z"
   },
   {
    "duration": 6,
    "start_time": "2025-05-05T00:40:50.442Z"
   },
   {
    "duration": 44,
    "start_time": "2025-05-05T00:40:50.450Z"
   },
   {
    "duration": 16,
    "start_time": "2025-05-05T00:40:50.496Z"
   },
   {
    "duration": 13,
    "start_time": "2025-05-05T00:40:50.517Z"
   },
   {
    "duration": 12,
    "start_time": "2025-05-05T00:40:50.531Z"
   },
   {
    "duration": 7,
    "start_time": "2025-05-05T00:40:50.545Z"
   },
   {
    "duration": 16,
    "start_time": "2025-05-05T00:40:50.587Z"
   },
   {
    "duration": 13,
    "start_time": "2025-05-05T00:40:50.605Z"
   },
   {
    "duration": 16,
    "start_time": "2025-05-05T00:40:50.619Z"
   },
   {
    "duration": 17,
    "start_time": "2025-05-05T00:40:50.638Z"
   },
   {
    "duration": 521,
    "start_time": "2025-05-05T00:40:50.687Z"
   },
   {
    "duration": 0,
    "start_time": "2025-05-05T00:40:51.211Z"
   },
   {
    "duration": 0,
    "start_time": "2025-05-05T00:40:51.212Z"
   },
   {
    "duration": 0,
    "start_time": "2025-05-05T00:40:51.213Z"
   },
   {
    "duration": 0,
    "start_time": "2025-05-05T00:40:51.214Z"
   },
   {
    "duration": 0,
    "start_time": "2025-05-05T00:40:51.216Z"
   },
   {
    "duration": 0,
    "start_time": "2025-05-05T00:40:51.217Z"
   },
   {
    "duration": 0,
    "start_time": "2025-05-05T00:40:51.219Z"
   },
   {
    "duration": 0,
    "start_time": "2025-05-05T00:40:51.220Z"
   },
   {
    "duration": 44,
    "start_time": "2025-05-05T00:42:42.385Z"
   },
   {
    "duration": 43,
    "start_time": "2025-05-05T00:43:27.257Z"
   },
   {
    "duration": 183,
    "start_time": "2025-05-06T01:37:25.075Z"
   },
   {
    "duration": 525,
    "start_time": "2025-05-06T01:37:45.102Z"
   },
   {
    "duration": 148,
    "start_time": "2025-05-06T01:37:45.630Z"
   },
   {
    "duration": 46,
    "start_time": "2025-05-06T01:37:45.780Z"
   },
   {
    "duration": 6,
    "start_time": "2025-05-06T01:37:45.829Z"
   },
   {
    "duration": 7,
    "start_time": "2025-05-06T01:37:45.838Z"
   },
   {
    "duration": 5,
    "start_time": "2025-05-06T01:37:45.846Z"
   },
   {
    "duration": 8,
    "start_time": "2025-05-06T01:37:45.853Z"
   },
   {
    "duration": 2,
    "start_time": "2025-05-06T01:37:45.863Z"
   },
   {
    "duration": 8,
    "start_time": "2025-05-06T01:37:45.867Z"
   },
   {
    "duration": 4,
    "start_time": "2025-05-06T01:37:45.879Z"
   },
   {
    "duration": 41,
    "start_time": "2025-05-06T01:37:45.885Z"
   },
   {
    "duration": 3,
    "start_time": "2025-05-06T01:37:45.928Z"
   },
   {
    "duration": 16,
    "start_time": "2025-05-06T01:37:45.932Z"
   },
   {
    "duration": 15,
    "start_time": "2025-05-06T01:37:45.950Z"
   },
   {
    "duration": 2,
    "start_time": "2025-05-06T01:37:45.967Z"
   },
   {
    "duration": 54,
    "start_time": "2025-05-06T01:37:45.970Z"
   },
   {
    "duration": 12,
    "start_time": "2025-05-06T01:37:46.026Z"
   },
   {
    "duration": 13,
    "start_time": "2025-05-06T01:37:46.040Z"
   },
   {
    "duration": 2,
    "start_time": "2025-05-06T01:37:46.055Z"
   },
   {
    "duration": 15,
    "start_time": "2025-05-06T01:37:46.059Z"
   },
   {
    "duration": 13,
    "start_time": "2025-05-06T01:37:46.076Z"
   },
   {
    "duration": 54,
    "start_time": "2025-05-06T01:37:46.090Z"
   },
   {
    "duration": 2,
    "start_time": "2025-05-06T01:37:46.146Z"
   },
   {
    "duration": 21,
    "start_time": "2025-05-06T01:37:46.149Z"
   },
   {
    "duration": 6,
    "start_time": "2025-05-06T01:37:46.172Z"
   },
   {
    "duration": 19,
    "start_time": "2025-05-06T01:37:46.179Z"
   },
   {
    "duration": 13,
    "start_time": "2025-05-06T01:37:46.224Z"
   },
   {
    "duration": 11,
    "start_time": "2025-05-06T01:37:46.241Z"
   },
   {
    "duration": 9,
    "start_time": "2025-05-06T01:37:46.254Z"
   },
   {
    "duration": 8,
    "start_time": "2025-05-06T01:37:46.265Z"
   },
   {
    "duration": 25,
    "start_time": "2025-05-06T01:37:46.276Z"
   },
   {
    "duration": 33,
    "start_time": "2025-05-06T01:37:46.302Z"
   },
   {
    "duration": 17,
    "start_time": "2025-05-06T01:37:46.337Z"
   },
   {
    "duration": 19,
    "start_time": "2025-05-06T01:37:46.357Z"
   },
   {
    "duration": 448,
    "start_time": "2025-05-06T01:37:46.378Z"
   },
   {
    "duration": 0,
    "start_time": "2025-05-06T01:37:46.828Z"
   },
   {
    "duration": 0,
    "start_time": "2025-05-06T01:37:46.829Z"
   },
   {
    "duration": 0,
    "start_time": "2025-05-06T01:37:46.830Z"
   },
   {
    "duration": 0,
    "start_time": "2025-05-06T01:37:46.832Z"
   },
   {
    "duration": 0,
    "start_time": "2025-05-06T01:37:46.834Z"
   },
   {
    "duration": 0,
    "start_time": "2025-05-06T01:37:46.835Z"
   },
   {
    "duration": 0,
    "start_time": "2025-05-06T01:37:46.837Z"
   },
   {
    "duration": 0,
    "start_time": "2025-05-06T01:37:46.838Z"
   },
   {
    "duration": 64,
    "start_time": "2025-05-06T01:40:26.322Z"
   },
   {
    "duration": 62,
    "start_time": "2025-05-06T01:41:44.577Z"
   },
   {
    "duration": 63,
    "start_time": "2025-05-06T01:54:24.944Z"
   },
   {
    "duration": 10,
    "start_time": "2025-05-06T03:23:57.377Z"
   },
   {
    "duration": 9,
    "start_time": "2025-05-06T03:25:15.062Z"
   },
   {
    "duration": 7,
    "start_time": "2025-05-06T03:25:32.957Z"
   },
   {
    "duration": 17,
    "start_time": "2025-05-06T03:26:33.745Z"
   },
   {
    "duration": 569,
    "start_time": "2025-05-06T03:27:03.137Z"
   },
   {
    "duration": 170,
    "start_time": "2025-05-06T03:27:03.708Z"
   },
   {
    "duration": 45,
    "start_time": "2025-05-06T03:27:03.884Z"
   },
   {
    "duration": 8,
    "start_time": "2025-05-06T03:27:03.933Z"
   },
   {
    "duration": 10,
    "start_time": "2025-05-06T03:27:03.942Z"
   },
   {
    "duration": 5,
    "start_time": "2025-05-06T03:27:03.954Z"
   },
   {
    "duration": 8,
    "start_time": "2025-05-06T03:27:03.960Z"
   },
   {
    "duration": 3,
    "start_time": "2025-05-06T03:27:03.970Z"
   },
   {
    "duration": 10,
    "start_time": "2025-05-06T03:27:03.975Z"
   },
   {
    "duration": 8,
    "start_time": "2025-05-06T03:27:04.026Z"
   },
   {
    "duration": 3,
    "start_time": "2025-05-06T03:27:04.036Z"
   },
   {
    "duration": 3,
    "start_time": "2025-05-06T03:27:04.041Z"
   },
   {
    "duration": 17,
    "start_time": "2025-05-06T03:27:04.046Z"
   },
   {
    "duration": 16,
    "start_time": "2025-05-06T03:27:04.065Z"
   },
   {
    "duration": 3,
    "start_time": "2025-05-06T03:27:04.083Z"
   },
   {
    "duration": 61,
    "start_time": "2025-05-06T03:27:04.087Z"
   },
   {
    "duration": 13,
    "start_time": "2025-05-06T03:27:04.149Z"
   },
   {
    "duration": 16,
    "start_time": "2025-05-06T03:27:04.164Z"
   },
   {
    "duration": 2,
    "start_time": "2025-05-06T03:27:04.182Z"
   },
   {
    "duration": 41,
    "start_time": "2025-05-06T03:27:04.188Z"
   },
   {
    "duration": 14,
    "start_time": "2025-05-06T03:27:04.231Z"
   },
   {
    "duration": 26,
    "start_time": "2025-05-06T03:27:04.247Z"
   },
   {
    "duration": 2,
    "start_time": "2025-05-06T03:27:04.275Z"
   },
   {
    "duration": 47,
    "start_time": "2025-05-06T03:27:04.279Z"
   },
   {
    "duration": 7,
    "start_time": "2025-05-06T03:27:04.328Z"
   },
   {
    "duration": 19,
    "start_time": "2025-05-06T03:27:04.338Z"
   },
   {
    "duration": 16,
    "start_time": "2025-05-06T03:27:04.359Z"
   },
   {
    "duration": 12,
    "start_time": "2025-05-06T03:27:04.379Z"
   },
   {
    "duration": 43,
    "start_time": "2025-05-06T03:27:04.393Z"
   },
   {
    "duration": 6,
    "start_time": "2025-05-06T03:27:04.438Z"
   },
   {
    "duration": 14,
    "start_time": "2025-05-06T03:27:04.446Z"
   },
   {
    "duration": 11,
    "start_time": "2025-05-06T03:27:04.464Z"
   },
   {
    "duration": 12,
    "start_time": "2025-05-06T03:27:04.477Z"
   },
   {
    "duration": 20,
    "start_time": "2025-05-06T03:27:04.524Z"
   },
   {
    "duration": 82,
    "start_time": "2025-05-06T03:27:04.546Z"
   },
   {
    "duration": 6,
    "start_time": "2025-05-06T03:27:04.629Z"
   },
   {
    "duration": 3,
    "start_time": "2025-05-06T03:27:04.637Z"
   },
   {
    "duration": 3,
    "start_time": "2025-05-06T03:27:04.642Z"
   },
   {
    "duration": 4,
    "start_time": "2025-05-06T03:27:04.646Z"
   },
   {
    "duration": 3,
    "start_time": "2025-05-06T03:27:04.651Z"
   },
   {
    "duration": 2,
    "start_time": "2025-05-06T03:27:04.657Z"
   },
   {
    "duration": 3,
    "start_time": "2025-05-06T03:27:04.661Z"
   },
   {
    "duration": 3,
    "start_time": "2025-05-06T03:27:04.665Z"
   },
   {
    "duration": 3,
    "start_time": "2025-05-06T03:27:04.670Z"
   },
   {
    "duration": 6,
    "start_time": "2025-05-06T03:45:21.157Z"
   },
   {
    "duration": 10,
    "start_time": "2025-05-06T03:45:43.364Z"
   },
   {
    "duration": 10,
    "start_time": "2025-05-06T03:49:17.580Z"
   },
   {
    "duration": 13,
    "start_time": "2025-05-06T03:51:29.597Z"
   },
   {
    "duration": 10,
    "start_time": "2025-05-06T03:52:06.700Z"
   },
   {
    "duration": 8,
    "start_time": "2025-05-06T03:52:27.467Z"
   },
   {
    "duration": 8,
    "start_time": "2025-05-06T03:52:38.507Z"
   },
   {
    "duration": 185,
    "start_time": "2025-05-07T02:06:42.554Z"
   },
   {
    "duration": 12,
    "start_time": "2025-05-07T02:07:21.662Z"
   },
   {
    "duration": 571,
    "start_time": "2025-05-07T02:07:41.927Z"
   },
   {
    "duration": 159,
    "start_time": "2025-05-07T02:07:42.500Z"
   },
   {
    "duration": 43,
    "start_time": "2025-05-07T02:07:42.661Z"
   },
   {
    "duration": 8,
    "start_time": "2025-05-07T02:07:42.707Z"
   },
   {
    "duration": 15,
    "start_time": "2025-05-07T02:07:42.716Z"
   },
   {
    "duration": 6,
    "start_time": "2025-05-07T02:07:42.733Z"
   },
   {
    "duration": 8,
    "start_time": "2025-05-07T02:07:42.741Z"
   },
   {
    "duration": 4,
    "start_time": "2025-05-07T02:07:42.751Z"
   },
   {
    "duration": 9,
    "start_time": "2025-05-07T02:07:42.757Z"
   },
   {
    "duration": 5,
    "start_time": "2025-05-07T02:07:42.770Z"
   },
   {
    "duration": 3,
    "start_time": "2025-05-07T02:07:42.777Z"
   },
   {
    "duration": 3,
    "start_time": "2025-05-07T02:07:42.782Z"
   },
   {
    "duration": 53,
    "start_time": "2025-05-07T02:07:42.786Z"
   },
   {
    "duration": 17,
    "start_time": "2025-05-07T02:07:42.841Z"
   },
   {
    "duration": 2,
    "start_time": "2025-05-07T02:07:42.860Z"
   },
   {
    "duration": 28,
    "start_time": "2025-05-07T02:07:42.863Z"
   },
   {
    "duration": 39,
    "start_time": "2025-05-07T02:07:42.892Z"
   },
   {
    "duration": 17,
    "start_time": "2025-05-07T02:07:42.933Z"
   },
   {
    "duration": 2,
    "start_time": "2025-05-07T02:07:42.952Z"
   },
   {
    "duration": 17,
    "start_time": "2025-05-07T02:07:42.956Z"
   },
   {
    "duration": 14,
    "start_time": "2025-05-07T02:07:42.974Z"
   },
   {
    "duration": 52,
    "start_time": "2025-05-07T02:07:42.990Z"
   },
   {
    "duration": 2,
    "start_time": "2025-05-07T02:07:43.044Z"
   },
   {
    "duration": 22,
    "start_time": "2025-05-07T02:07:43.048Z"
   },
   {
    "duration": 8,
    "start_time": "2025-05-07T02:07:43.072Z"
   },
   {
    "duration": 18,
    "start_time": "2025-05-07T02:07:43.082Z"
   },
   {
    "duration": 17,
    "start_time": "2025-05-07T02:07:43.132Z"
   },
   {
    "duration": 16,
    "start_time": "2025-05-07T02:07:43.154Z"
   },
   {
    "duration": 12,
    "start_time": "2025-05-07T02:07:43.172Z"
   },
   {
    "duration": 7,
    "start_time": "2025-05-07T02:07:43.185Z"
   },
   {
    "duration": 43,
    "start_time": "2025-05-07T02:07:43.194Z"
   },
   {
    "duration": 11,
    "start_time": "2025-05-07T02:07:43.239Z"
   },
   {
    "duration": 13,
    "start_time": "2025-05-07T02:07:43.252Z"
   },
   {
    "duration": 17,
    "start_time": "2025-05-07T02:07:43.268Z"
   },
   {
    "duration": 100,
    "start_time": "2025-05-07T02:07:43.287Z"
   },
   {
    "duration": 9,
    "start_time": "2025-05-07T02:07:43.389Z"
   },
   {
    "duration": 11,
    "start_time": "2025-05-07T02:07:43.400Z"
   },
   {
    "duration": 19,
    "start_time": "2025-05-07T02:07:43.413Z"
   },
   {
    "duration": 3,
    "start_time": "2025-05-07T02:07:43.434Z"
   },
   {
    "duration": 2,
    "start_time": "2025-05-07T02:07:43.440Z"
   },
   {
    "duration": 8,
    "start_time": "2025-05-07T02:07:43.444Z"
   },
   {
    "duration": 2,
    "start_time": "2025-05-07T02:07:43.454Z"
   },
   {
    "duration": 5,
    "start_time": "2025-05-07T02:07:43.458Z"
   },
   {
    "duration": 8,
    "start_time": "2025-05-07T02:07:43.464Z"
   },
   {
    "duration": 2,
    "start_time": "2025-05-07T02:07:43.474Z"
   },
   {
    "duration": 3,
    "start_time": "2025-05-07T02:07:43.478Z"
   },
   {
    "duration": 14,
    "start_time": "2025-05-07T02:08:24.233Z"
   },
   {
    "duration": 12,
    "start_time": "2025-05-07T02:08:47.214Z"
   },
   {
    "duration": 11,
    "start_time": "2025-05-07T02:10:53.766Z"
   },
   {
    "duration": 16,
    "start_time": "2025-05-07T02:12:02.949Z"
   },
   {
    "duration": 6,
    "start_time": "2025-05-07T02:43:44.966Z"
   },
   {
    "duration": 2469,
    "start_time": "2025-05-07T02:43:59.918Z"
   },
   {
    "duration": 217,
    "start_time": "2025-05-07T02:46:56.115Z"
   },
   {
    "duration": 199,
    "start_time": "2025-05-07T02:47:16.069Z"
   },
   {
    "duration": 191,
    "start_time": "2025-05-07T02:51:37.487Z"
   },
   {
    "duration": 267,
    "start_time": "2025-05-07T03:07:28.538Z"
   },
   {
    "duration": 190,
    "start_time": "2025-05-07T03:09:09.610Z"
   },
   {
    "duration": 293,
    "start_time": "2025-05-07T03:23:24.292Z"
   },
   {
    "duration": 203,
    "start_time": "2025-05-07T03:26:19.324Z"
   },
   {
    "duration": 184,
    "start_time": "2025-05-07T03:26:53.602Z"
   },
   {
    "duration": 844,
    "start_time": "2025-05-07T03:39:01.900Z"
   },
   {
    "duration": 133,
    "start_time": "2025-05-07T03:40:58.613Z"
   },
   {
    "duration": 124,
    "start_time": "2025-05-07T03:42:38.618Z"
   },
   {
    "duration": 118,
    "start_time": "2025-05-07T03:42:58.145Z"
   },
   {
    "duration": 182,
    "start_time": "2025-05-07T03:46:41.409Z"
   },
   {
    "duration": 133,
    "start_time": "2025-05-07T03:49:34.862Z"
   },
   {
    "duration": 195,
    "start_time": "2025-05-07T03:50:34.687Z"
   },
   {
    "duration": 196,
    "start_time": "2025-05-07T03:51:28.877Z"
   },
   {
    "duration": 196,
    "start_time": "2025-05-07T03:51:51.201Z"
   },
   {
    "duration": 15,
    "start_time": "2025-05-07T03:55:48.376Z"
   },
   {
    "duration": 274,
    "start_time": "2025-05-07T03:56:16.539Z"
   },
   {
    "duration": 275,
    "start_time": "2025-05-07T04:00:26.658Z"
   },
   {
    "duration": 525,
    "start_time": "2025-05-07T04:02:41.407Z"
   },
   {
    "duration": 63,
    "start_time": "2025-05-07T04:04:04.254Z"
   },
   {
    "duration": 196,
    "start_time": "2025-05-07T04:05:08.080Z"
   },
   {
    "duration": 190,
    "start_time": "2025-05-07T04:05:53.710Z"
   },
   {
    "duration": 4,
    "start_time": "2025-05-07T04:16:03.614Z"
   },
   {
    "duration": 6,
    "start_time": "2025-05-07T04:16:32.427Z"
   },
   {
    "duration": 541,
    "start_time": "2025-05-09T01:43:51.832Z"
   },
   {
    "duration": 150,
    "start_time": "2025-05-09T01:43:52.375Z"
   },
   {
    "duration": 41,
    "start_time": "2025-05-09T01:43:52.527Z"
   },
   {
    "duration": 7,
    "start_time": "2025-05-09T01:43:52.571Z"
   },
   {
    "duration": 8,
    "start_time": "2025-05-09T01:43:52.587Z"
   },
   {
    "duration": 4,
    "start_time": "2025-05-09T01:43:52.597Z"
   },
   {
    "duration": 8,
    "start_time": "2025-05-09T01:43:52.603Z"
   },
   {
    "duration": 3,
    "start_time": "2025-05-09T01:43:52.612Z"
   },
   {
    "duration": 8,
    "start_time": "2025-05-09T01:43:52.617Z"
   },
   {
    "duration": 4,
    "start_time": "2025-05-09T01:43:52.628Z"
   },
   {
    "duration": 2,
    "start_time": "2025-05-09T01:43:52.634Z"
   },
   {
    "duration": 3,
    "start_time": "2025-05-09T01:43:52.638Z"
   },
   {
    "duration": 56,
    "start_time": "2025-05-09T01:43:52.643Z"
   },
   {
    "duration": 14,
    "start_time": "2025-05-09T01:43:52.701Z"
   },
   {
    "duration": 2,
    "start_time": "2025-05-09T01:43:52.718Z"
   },
   {
    "duration": 25,
    "start_time": "2025-05-09T01:43:52.722Z"
   },
   {
    "duration": 12,
    "start_time": "2025-05-09T01:43:52.748Z"
   },
   {
    "duration": 15,
    "start_time": "2025-05-09T01:43:52.787Z"
   },
   {
    "duration": 2,
    "start_time": "2025-05-09T01:43:52.804Z"
   },
   {
    "duration": 15,
    "start_time": "2025-05-09T01:43:52.808Z"
   },
   {
    "duration": 13,
    "start_time": "2025-05-09T01:43:52.825Z"
   },
   {
    "duration": 20,
    "start_time": "2025-05-09T01:43:52.839Z"
   },
   {
    "duration": 2,
    "start_time": "2025-05-09T01:43:52.887Z"
   },
   {
    "duration": 25,
    "start_time": "2025-05-09T01:43:52.891Z"
   },
   {
    "duration": 10,
    "start_time": "2025-05-09T01:43:52.919Z"
   },
   {
    "duration": 21,
    "start_time": "2025-05-09T01:43:52.931Z"
   },
   {
    "duration": 40,
    "start_time": "2025-05-09T01:43:52.954Z"
   },
   {
    "duration": 12,
    "start_time": "2025-05-09T01:43:52.999Z"
   },
   {
    "duration": 10,
    "start_time": "2025-05-09T01:43:53.012Z"
   },
   {
    "duration": 7,
    "start_time": "2025-05-09T01:43:53.024Z"
   },
   {
    "duration": 13,
    "start_time": "2025-05-09T01:43:53.033Z"
   },
   {
    "duration": 40,
    "start_time": "2025-05-09T01:43:53.048Z"
   },
   {
    "duration": 12,
    "start_time": "2025-05-09T01:43:53.089Z"
   },
   {
    "duration": 19,
    "start_time": "2025-05-09T01:43:53.103Z"
   },
   {
    "duration": 84,
    "start_time": "2025-05-09T01:43:53.124Z"
   },
   {
    "duration": 10,
    "start_time": "2025-05-09T01:43:53.209Z"
   },
   {
    "duration": 12,
    "start_time": "2025-05-09T01:43:53.220Z"
   },
   {
    "duration": 563,
    "start_time": "2025-05-09T01:43:53.234Z"
   },
   {
    "duration": 0,
    "start_time": "2025-05-09T01:43:53.799Z"
   },
   {
    "duration": 0,
    "start_time": "2025-05-09T01:43:53.800Z"
   },
   {
    "duration": 0,
    "start_time": "2025-05-09T01:43:53.801Z"
   },
   {
    "duration": 0,
    "start_time": "2025-05-09T01:43:53.803Z"
   },
   {
    "duration": 0,
    "start_time": "2025-05-09T01:43:53.805Z"
   },
   {
    "duration": 0,
    "start_time": "2025-05-09T01:43:53.806Z"
   },
   {
    "duration": 0,
    "start_time": "2025-05-09T01:43:53.808Z"
   },
   {
    "duration": 0,
    "start_time": "2025-05-09T01:43:53.809Z"
   },
   {
    "duration": 0,
    "start_time": "2025-05-09T01:43:53.810Z"
   },
   {
    "duration": 110,
    "start_time": "2025-05-09T01:45:09.724Z"
   },
   {
    "duration": 24,
    "start_time": "2025-05-09T01:47:40.066Z"
   },
   {
    "duration": 10,
    "start_time": "2025-05-09T01:48:04.145Z"
   },
   {
    "duration": 12,
    "start_time": "2025-05-09T01:53:05.597Z"
   },
   {
    "duration": 23,
    "start_time": "2025-05-09T01:53:59.269Z"
   },
   {
    "duration": 23,
    "start_time": "2025-05-09T01:54:23.592Z"
   },
   {
    "duration": 524,
    "start_time": "2025-05-09T01:54:47.502Z"
   },
   {
    "duration": 157,
    "start_time": "2025-05-09T01:54:48.028Z"
   },
   {
    "duration": 42,
    "start_time": "2025-05-09T01:54:48.187Z"
   },
   {
    "duration": 8,
    "start_time": "2025-05-09T01:54:48.230Z"
   },
   {
    "duration": 8,
    "start_time": "2025-05-09T01:54:48.240Z"
   },
   {
    "duration": 5,
    "start_time": "2025-05-09T01:54:48.249Z"
   },
   {
    "duration": 34,
    "start_time": "2025-05-09T01:54:48.255Z"
   },
   {
    "duration": 2,
    "start_time": "2025-05-09T01:54:48.291Z"
   },
   {
    "duration": 8,
    "start_time": "2025-05-09T01:54:48.295Z"
   },
   {
    "duration": 5,
    "start_time": "2025-05-09T01:54:48.306Z"
   },
   {
    "duration": 3,
    "start_time": "2025-05-09T01:54:48.312Z"
   },
   {
    "duration": 3,
    "start_time": "2025-05-09T01:54:48.317Z"
   },
   {
    "duration": 15,
    "start_time": "2025-05-09T01:54:48.321Z"
   },
   {
    "duration": 48,
    "start_time": "2025-05-09T01:54:48.339Z"
   },
   {
    "duration": 3,
    "start_time": "2025-05-09T01:54:48.389Z"
   },
   {
    "duration": 25,
    "start_time": "2025-05-09T01:54:48.394Z"
   },
   {
    "duration": 13,
    "start_time": "2025-05-09T01:54:48.420Z"
   },
   {
    "duration": 14,
    "start_time": "2025-05-09T01:54:48.434Z"
   },
   {
    "duration": 2,
    "start_time": "2025-05-09T01:54:48.450Z"
   },
   {
    "duration": 46,
    "start_time": "2025-05-09T01:54:48.453Z"
   },
   {
    "duration": 13,
    "start_time": "2025-05-09T01:54:48.501Z"
   },
   {
    "duration": 23,
    "start_time": "2025-05-09T01:54:48.516Z"
   },
   {
    "duration": 2,
    "start_time": "2025-05-09T01:54:48.541Z"
   },
   {
    "duration": 48,
    "start_time": "2025-05-09T01:54:48.545Z"
   },
   {
    "duration": 6,
    "start_time": "2025-05-09T01:54:48.595Z"
   },
   {
    "duration": 18,
    "start_time": "2025-05-09T01:54:48.603Z"
   },
   {
    "duration": 13,
    "start_time": "2025-05-09T01:54:48.623Z"
   },
   {
    "duration": 12,
    "start_time": "2025-05-09T01:54:48.638Z"
   },
   {
    "duration": 39,
    "start_time": "2025-05-09T01:54:48.651Z"
   },
   {
    "duration": 8,
    "start_time": "2025-05-09T01:54:48.691Z"
   },
   {
    "duration": 12,
    "start_time": "2025-05-09T01:54:48.700Z"
   },
   {
    "duration": 11,
    "start_time": "2025-05-09T01:54:48.714Z"
   },
   {
    "duration": 11,
    "start_time": "2025-05-09T01:54:48.726Z"
   },
   {
    "duration": 49,
    "start_time": "2025-05-09T01:54:48.738Z"
   },
   {
    "duration": 63,
    "start_time": "2025-05-09T01:54:48.788Z"
   },
   {
    "duration": 10,
    "start_time": "2025-05-09T01:54:48.852Z"
   },
   {
    "duration": 26,
    "start_time": "2025-05-09T01:54:48.864Z"
   },
   {
    "duration": 542,
    "start_time": "2025-05-09T01:54:48.892Z"
   },
   {
    "duration": 0,
    "start_time": "2025-05-09T01:54:49.437Z"
   },
   {
    "duration": 0,
    "start_time": "2025-05-09T01:54:49.439Z"
   },
   {
    "duration": 0,
    "start_time": "2025-05-09T01:54:49.440Z"
   },
   {
    "duration": 0,
    "start_time": "2025-05-09T01:54:49.441Z"
   },
   {
    "duration": 0,
    "start_time": "2025-05-09T01:54:49.442Z"
   },
   {
    "duration": 0,
    "start_time": "2025-05-09T01:54:49.444Z"
   },
   {
    "duration": 0,
    "start_time": "2025-05-09T01:54:49.445Z"
   },
   {
    "duration": 0,
    "start_time": "2025-05-09T01:54:49.446Z"
   },
   {
    "duration": 0,
    "start_time": "2025-05-09T01:54:49.447Z"
   },
   {
    "duration": 132,
    "start_time": "2025-05-09T01:55:56.158Z"
   },
   {
    "duration": 479,
    "start_time": "2025-05-09T01:56:27.532Z"
   },
   {
    "duration": 163,
    "start_time": "2025-05-09T01:56:28.014Z"
   },
   {
    "duration": 43,
    "start_time": "2025-05-09T01:56:28.179Z"
   },
   {
    "duration": 7,
    "start_time": "2025-05-09T01:56:28.223Z"
   },
   {
    "duration": 8,
    "start_time": "2025-05-09T01:56:28.233Z"
   },
   {
    "duration": 4,
    "start_time": "2025-05-09T01:56:28.243Z"
   },
   {
    "duration": 8,
    "start_time": "2025-05-09T01:56:28.248Z"
   },
   {
    "duration": 31,
    "start_time": "2025-05-09T01:56:28.257Z"
   },
   {
    "duration": 8,
    "start_time": "2025-05-09T01:56:28.290Z"
   },
   {
    "duration": 5,
    "start_time": "2025-05-09T01:56:28.300Z"
   },
   {
    "duration": 3,
    "start_time": "2025-05-09T01:56:28.307Z"
   },
   {
    "duration": 3,
    "start_time": "2025-05-09T01:56:28.312Z"
   },
   {
    "duration": 15,
    "start_time": "2025-05-09T01:56:28.317Z"
   },
   {
    "duration": 15,
    "start_time": "2025-05-09T01:56:28.336Z"
   },
   {
    "duration": 2,
    "start_time": "2025-05-09T01:56:28.386Z"
   },
   {
    "duration": 27,
    "start_time": "2025-05-09T01:56:28.390Z"
   },
   {
    "duration": 12,
    "start_time": "2025-05-09T01:56:28.419Z"
   },
   {
    "duration": 14,
    "start_time": "2025-05-09T01:56:28.432Z"
   },
   {
    "duration": 2,
    "start_time": "2025-05-09T01:56:28.448Z"
   },
   {
    "duration": 50,
    "start_time": "2025-05-09T01:56:28.451Z"
   },
   {
    "duration": 13,
    "start_time": "2025-05-09T01:56:28.504Z"
   },
   {
    "duration": 26,
    "start_time": "2025-05-09T01:56:28.519Z"
   },
   {
    "duration": 5,
    "start_time": "2025-05-09T01:56:28.547Z"
   },
   {
    "duration": 49,
    "start_time": "2025-05-09T01:56:28.554Z"
   },
   {
    "duration": 6,
    "start_time": "2025-05-09T01:56:28.605Z"
   },
   {
    "duration": 18,
    "start_time": "2025-05-09T01:56:28.614Z"
   },
   {
    "duration": 15,
    "start_time": "2025-05-09T01:56:28.633Z"
   },
   {
    "duration": 41,
    "start_time": "2025-05-09T01:56:28.650Z"
   },
   {
    "duration": 10,
    "start_time": "2025-05-09T01:56:28.693Z"
   },
   {
    "duration": 7,
    "start_time": "2025-05-09T01:56:28.705Z"
   },
   {
    "duration": 13,
    "start_time": "2025-05-09T01:56:28.713Z"
   },
   {
    "duration": 13,
    "start_time": "2025-05-09T01:56:28.727Z"
   },
   {
    "duration": 45,
    "start_time": "2025-05-09T01:56:28.741Z"
   },
   {
    "duration": 20,
    "start_time": "2025-05-09T01:56:28.788Z"
   },
   {
    "duration": 64,
    "start_time": "2025-05-09T01:56:28.809Z"
   },
   {
    "duration": 11,
    "start_time": "2025-05-09T01:56:28.887Z"
   },
   {
    "duration": 12,
    "start_time": "2025-05-09T01:56:28.900Z"
   },
   {
    "duration": 578,
    "start_time": "2025-05-09T01:56:28.913Z"
   },
   {
    "duration": 0,
    "start_time": "2025-05-09T01:56:29.493Z"
   },
   {
    "duration": 0,
    "start_time": "2025-05-09T01:56:29.495Z"
   },
   {
    "duration": 0,
    "start_time": "2025-05-09T01:56:29.496Z"
   },
   {
    "duration": 0,
    "start_time": "2025-05-09T01:56:29.498Z"
   },
   {
    "duration": 0,
    "start_time": "2025-05-09T01:56:29.499Z"
   },
   {
    "duration": 0,
    "start_time": "2025-05-09T01:56:29.501Z"
   },
   {
    "duration": 0,
    "start_time": "2025-05-09T01:56:29.502Z"
   },
   {
    "duration": 0,
    "start_time": "2025-05-09T01:56:29.504Z"
   },
   {
    "duration": 0,
    "start_time": "2025-05-09T01:56:29.505Z"
   },
   {
    "duration": 118,
    "start_time": "2025-05-09T01:57:29.003Z"
   },
   {
    "duration": 502,
    "start_time": "2025-05-09T01:57:43.024Z"
   },
   {
    "duration": 157,
    "start_time": "2025-05-09T01:57:43.528Z"
   },
   {
    "duration": 43,
    "start_time": "2025-05-09T01:57:43.687Z"
   },
   {
    "duration": 7,
    "start_time": "2025-05-09T01:57:43.732Z"
   },
   {
    "duration": 8,
    "start_time": "2025-05-09T01:57:43.741Z"
   },
   {
    "duration": 5,
    "start_time": "2025-05-09T01:57:43.750Z"
   },
   {
    "duration": 33,
    "start_time": "2025-05-09T01:57:43.757Z"
   },
   {
    "duration": 3,
    "start_time": "2025-05-09T01:57:43.791Z"
   },
   {
    "duration": 8,
    "start_time": "2025-05-09T01:57:43.795Z"
   },
   {
    "duration": 5,
    "start_time": "2025-05-09T01:57:43.805Z"
   },
   {
    "duration": 2,
    "start_time": "2025-05-09T01:57:43.812Z"
   },
   {
    "duration": 3,
    "start_time": "2025-05-09T01:57:43.816Z"
   },
   {
    "duration": 15,
    "start_time": "2025-05-09T01:57:43.821Z"
   },
   {
    "duration": 52,
    "start_time": "2025-05-09T01:57:43.839Z"
   },
   {
    "duration": 2,
    "start_time": "2025-05-09T01:57:43.893Z"
   },
   {
    "duration": 26,
    "start_time": "2025-05-09T01:57:43.897Z"
   },
   {
    "duration": 12,
    "start_time": "2025-05-09T01:57:43.924Z"
   },
   {
    "duration": 13,
    "start_time": "2025-05-09T01:57:43.938Z"
   },
   {
    "duration": 2,
    "start_time": "2025-05-09T01:57:43.953Z"
   },
   {
    "duration": 44,
    "start_time": "2025-05-09T01:57:43.957Z"
   },
   {
    "duration": 13,
    "start_time": "2025-05-09T01:57:44.003Z"
   },
   {
    "duration": 21,
    "start_time": "2025-05-09T01:57:44.017Z"
   },
   {
    "duration": 2,
    "start_time": "2025-05-09T01:57:44.040Z"
   },
   {
    "duration": 45,
    "start_time": "2025-05-09T01:57:44.044Z"
   },
   {
    "duration": 7,
    "start_time": "2025-05-09T01:57:44.091Z"
   },
   {
    "duration": 18,
    "start_time": "2025-05-09T01:57:44.099Z"
   },
   {
    "duration": 14,
    "start_time": "2025-05-09T01:57:44.121Z"
   },
   {
    "duration": 12,
    "start_time": "2025-05-09T01:57:44.137Z"
   },
   {
    "duration": 48,
    "start_time": "2025-05-09T01:57:44.150Z"
   },
   {
    "duration": 7,
    "start_time": "2025-05-09T01:57:44.200Z"
   },
   {
    "duration": 13,
    "start_time": "2025-05-09T01:57:44.209Z"
   },
   {
    "duration": 10,
    "start_time": "2025-05-09T01:57:44.224Z"
   },
   {
    "duration": 11,
    "start_time": "2025-05-09T01:57:44.236Z"
   },
   {
    "duration": 44,
    "start_time": "2025-05-09T01:57:44.248Z"
   },
   {
    "duration": 63,
    "start_time": "2025-05-09T01:57:44.294Z"
   },
   {
    "duration": 28,
    "start_time": "2025-05-09T01:57:44.359Z"
   },
   {
    "duration": 2440,
    "start_time": "2025-05-09T01:57:44.389Z"
   },
   {
    "duration": 632,
    "start_time": "2025-05-09T01:57:46.831Z"
   },
   {
    "duration": 0,
    "start_time": "2025-05-09T01:57:47.465Z"
   },
   {
    "duration": 0,
    "start_time": "2025-05-09T01:57:47.466Z"
   },
   {
    "duration": 0,
    "start_time": "2025-05-09T01:57:47.468Z"
   },
   {
    "duration": 0,
    "start_time": "2025-05-09T01:57:47.470Z"
   },
   {
    "duration": 0,
    "start_time": "2025-05-09T01:57:47.471Z"
   },
   {
    "duration": 0,
    "start_time": "2025-05-09T01:57:47.473Z"
   },
   {
    "duration": 0,
    "start_time": "2025-05-09T01:57:47.486Z"
   },
   {
    "duration": 0,
    "start_time": "2025-05-09T01:57:47.487Z"
   },
   {
    "duration": 0,
    "start_time": "2025-05-09T01:57:47.488Z"
   },
   {
    "duration": 124,
    "start_time": "2025-05-09T01:59:09.318Z"
   },
   {
    "duration": 182,
    "start_time": "2025-05-09T02:09:52.415Z"
   },
   {
    "duration": 5,
    "start_time": "2025-05-09T02:39:36.278Z"
   },
   {
    "duration": 5,
    "start_time": "2025-05-09T02:41:56.775Z"
   },
   {
    "duration": 4,
    "start_time": "2025-05-09T02:42:08.836Z"
   },
   {
    "duration": 5,
    "start_time": "2025-05-09T02:42:20.381Z"
   },
   {
    "duration": 4,
    "start_time": "2025-05-09T02:44:31.885Z"
   },
   {
    "duration": 25,
    "start_time": "2025-05-09T02:46:41.938Z"
   },
   {
    "duration": 93,
    "start_time": "2025-05-09T02:47:34.260Z"
   },
   {
    "duration": 122,
    "start_time": "2025-05-09T03:47:45.649Z"
   },
   {
    "duration": 238,
    "start_time": "2025-05-09T04:16:20.693Z"
   },
   {
    "duration": 115,
    "start_time": "2025-05-09T04:16:50.259Z"
   },
   {
    "duration": 115,
    "start_time": "2025-05-09T04:17:42.023Z"
   },
   {
    "duration": 152,
    "start_time": "2025-05-09T04:21:34.152Z"
   },
   {
    "duration": 518,
    "start_time": "2025-05-10T01:46:53.276Z"
   },
   {
    "duration": 151,
    "start_time": "2025-05-10T01:46:53.796Z"
   },
   {
    "duration": 41,
    "start_time": "2025-05-10T01:46:53.948Z"
   },
   {
    "duration": 7,
    "start_time": "2025-05-10T01:46:53.991Z"
   },
   {
    "duration": 20,
    "start_time": "2025-05-10T01:46:54.000Z"
   },
   {
    "duration": 5,
    "start_time": "2025-05-10T01:46:54.021Z"
   },
   {
    "duration": 10,
    "start_time": "2025-05-10T01:46:54.028Z"
   },
   {
    "duration": 2,
    "start_time": "2025-05-10T01:46:54.040Z"
   },
   {
    "duration": 11,
    "start_time": "2025-05-10T01:46:54.043Z"
   },
   {
    "duration": 6,
    "start_time": "2025-05-10T01:46:54.058Z"
   },
   {
    "duration": 3,
    "start_time": "2025-05-10T01:46:54.065Z"
   },
   {
    "duration": 3,
    "start_time": "2025-05-10T01:46:54.069Z"
   },
   {
    "duration": 52,
    "start_time": "2025-05-10T01:46:54.074Z"
   },
   {
    "duration": 16,
    "start_time": "2025-05-10T01:46:54.127Z"
   },
   {
    "duration": 3,
    "start_time": "2025-05-10T01:46:54.144Z"
   },
   {
    "duration": 27,
    "start_time": "2025-05-10T01:46:54.148Z"
   },
   {
    "duration": 14,
    "start_time": "2025-05-10T01:46:54.177Z"
   },
   {
    "duration": 40,
    "start_time": "2025-05-10T01:46:54.193Z"
   },
   {
    "duration": 2,
    "start_time": "2025-05-10T01:46:54.235Z"
   },
   {
    "duration": 16,
    "start_time": "2025-05-10T01:46:54.239Z"
   },
   {
    "duration": 14,
    "start_time": "2025-05-10T01:46:54.256Z"
   },
   {
    "duration": 48,
    "start_time": "2025-05-10T01:46:54.271Z"
   },
   {
    "duration": 2,
    "start_time": "2025-05-10T01:46:54.321Z"
   },
   {
    "duration": 20,
    "start_time": "2025-05-10T01:46:54.325Z"
   },
   {
    "duration": 6,
    "start_time": "2025-05-10T01:46:54.347Z"
   },
   {
    "duration": 18,
    "start_time": "2025-05-10T01:46:54.355Z"
   },
   {
    "duration": 13,
    "start_time": "2025-05-10T01:46:54.375Z"
   },
   {
    "duration": 11,
    "start_time": "2025-05-10T01:46:54.421Z"
   },
   {
    "duration": 11,
    "start_time": "2025-05-10T01:46:54.434Z"
   },
   {
    "duration": 6,
    "start_time": "2025-05-10T01:46:54.447Z"
   },
   {
    "duration": 12,
    "start_time": "2025-05-10T01:46:54.456Z"
   },
   {
    "duration": 11,
    "start_time": "2025-05-10T01:46:54.470Z"
   },
   {
    "duration": 42,
    "start_time": "2025-05-10T01:46:54.483Z"
   },
   {
    "duration": 17,
    "start_time": "2025-05-10T01:46:54.527Z"
   },
   {
    "duration": 78,
    "start_time": "2025-05-10T01:46:54.546Z"
   },
   {
    "duration": 11,
    "start_time": "2025-05-10T01:46:54.626Z"
   },
   {
    "duration": 2412,
    "start_time": "2025-05-10T01:46:54.639Z"
   },
   {
    "duration": 129,
    "start_time": "2025-05-10T01:46:57.053Z"
   },
   {
    "duration": 5,
    "start_time": "2025-05-10T01:46:57.183Z"
   },
   {
    "duration": 93,
    "start_time": "2025-05-10T01:46:57.190Z"
   },
   {
    "duration": 7,
    "start_time": "2025-05-10T01:46:57.286Z"
   },
   {
    "duration": 26,
    "start_time": "2025-05-10T01:46:57.295Z"
   },
   {
    "duration": 2,
    "start_time": "2025-05-10T01:46:57.323Z"
   },
   {
    "duration": 7,
    "start_time": "2025-05-10T01:46:57.327Z"
   },
   {
    "duration": 10,
    "start_time": "2025-05-10T01:46:57.336Z"
   },
   {
    "duration": 2,
    "start_time": "2025-05-10T01:46:57.348Z"
   },
   {
    "duration": 3,
    "start_time": "2025-05-10T01:46:57.351Z"
   },
   {
    "duration": 44,
    "start_time": "2025-05-10T01:59:41.444Z"
   },
   {
    "duration": 14,
    "start_time": "2025-05-10T02:01:11.284Z"
   },
   {
    "duration": 13,
    "start_time": "2025-05-10T02:16:46.855Z"
   },
   {
    "duration": 16,
    "start_time": "2025-05-10T02:17:49.641Z"
   },
   {
    "duration": 7,
    "start_time": "2025-05-10T02:19:31.891Z"
   },
   {
    "duration": 13,
    "start_time": "2025-05-10T02:19:55.432Z"
   },
   {
    "duration": 11,
    "start_time": "2025-05-10T02:20:35.021Z"
   },
   {
    "duration": 7,
    "start_time": "2025-05-10T02:20:49.231Z"
   },
   {
    "duration": 12,
    "start_time": "2025-05-10T02:21:06.060Z"
   },
   {
    "duration": 17,
    "start_time": "2025-05-10T02:21:16.283Z"
   },
   {
    "duration": 20,
    "start_time": "2025-05-10T03:27:59.831Z"
   },
   {
    "duration": 797,
    "start_time": "2025-05-10T03:29:16.597Z"
   },
   {
    "duration": 529,
    "start_time": "2025-05-10T03:30:00.021Z"
   },
   {
    "duration": 195,
    "start_time": "2025-05-10T03:30:00.552Z"
   },
   {
    "duration": 61,
    "start_time": "2025-05-10T03:30:00.750Z"
   },
   {
    "duration": 16,
    "start_time": "2025-05-10T03:30:00.814Z"
   },
   {
    "duration": 9,
    "start_time": "2025-05-10T03:30:00.832Z"
   },
   {
    "duration": 6,
    "start_time": "2025-05-10T03:30:00.843Z"
   },
   {
    "duration": 8,
    "start_time": "2025-05-10T03:30:00.850Z"
   },
   {
    "duration": 2,
    "start_time": "2025-05-10T03:30:00.860Z"
   },
   {
    "duration": 8,
    "start_time": "2025-05-10T03:30:00.864Z"
   },
   {
    "duration": 5,
    "start_time": "2025-05-10T03:30:00.875Z"
   },
   {
    "duration": 3,
    "start_time": "2025-05-10T03:30:00.881Z"
   },
   {
    "duration": 3,
    "start_time": "2025-05-10T03:30:00.920Z"
   },
   {
    "duration": 17,
    "start_time": "2025-05-10T03:30:00.926Z"
   },
   {
    "duration": 15,
    "start_time": "2025-05-10T03:30:00.944Z"
   },
   {
    "duration": 2,
    "start_time": "2025-05-10T03:30:00.961Z"
   },
   {
    "duration": 75,
    "start_time": "2025-05-10T03:30:00.965Z"
   },
   {
    "duration": 12,
    "start_time": "2025-05-10T03:30:01.042Z"
   },
   {
    "duration": 15,
    "start_time": "2025-05-10T03:30:01.055Z"
   },
   {
    "duration": 3,
    "start_time": "2025-05-10T03:30:01.072Z"
   },
   {
    "duration": 46,
    "start_time": "2025-05-10T03:30:01.077Z"
   },
   {
    "duration": 16,
    "start_time": "2025-05-10T03:30:01.125Z"
   },
   {
    "duration": 27,
    "start_time": "2025-05-10T03:30:01.144Z"
   },
   {
    "duration": 2,
    "start_time": "2025-05-10T03:30:01.174Z"
   },
   {
    "duration": 51,
    "start_time": "2025-05-10T03:30:01.178Z"
   },
   {
    "duration": 12,
    "start_time": "2025-05-10T03:30:01.234Z"
   },
   {
    "duration": 22,
    "start_time": "2025-05-10T03:30:01.248Z"
   },
   {
    "duration": 15,
    "start_time": "2025-05-10T03:30:01.271Z"
   },
   {
    "duration": 11,
    "start_time": "2025-05-10T03:30:01.290Z"
   },
   {
    "duration": 30,
    "start_time": "2025-05-10T03:30:01.303Z"
   },
   {
    "duration": 7,
    "start_time": "2025-05-10T03:30:01.334Z"
   },
   {
    "duration": 15,
    "start_time": "2025-05-10T03:30:01.343Z"
   },
   {
    "duration": 7,
    "start_time": "2025-05-10T03:30:01.361Z"
   },
   {
    "duration": 12,
    "start_time": "2025-05-10T03:30:01.369Z"
   },
   {
    "duration": 47,
    "start_time": "2025-05-10T03:30:01.382Z"
   },
   {
    "duration": 68,
    "start_time": "2025-05-10T03:30:01.430Z"
   },
   {
    "duration": 22,
    "start_time": "2025-05-10T03:30:01.499Z"
   },
   {
    "duration": 716,
    "start_time": "2025-05-10T03:30:01.523Z"
   },
   {
    "duration": 133,
    "start_time": "2025-05-10T03:30:02.242Z"
   },
   {
    "duration": 4,
    "start_time": "2025-05-10T03:30:02.377Z"
   },
   {
    "duration": 153,
    "start_time": "2025-05-10T03:30:02.384Z"
   },
   {
    "duration": 9,
    "start_time": "2025-05-10T03:30:02.539Z"
   },
   {
    "duration": 12,
    "start_time": "2025-05-10T03:30:02.549Z"
   },
   {
    "duration": 3,
    "start_time": "2025-05-10T03:30:02.563Z"
   },
   {
    "duration": 8,
    "start_time": "2025-05-10T03:30:02.568Z"
   },
   {
    "duration": 10,
    "start_time": "2025-05-10T03:30:02.578Z"
   },
   {
    "duration": 2,
    "start_time": "2025-05-10T03:30:02.620Z"
   },
   {
    "duration": 3,
    "start_time": "2025-05-10T03:30:02.624Z"
   },
   {
    "duration": 7,
    "start_time": "2025-05-10T03:44:19.659Z"
   },
   {
    "duration": 370,
    "start_time": "2025-05-10T03:47:29.206Z"
   },
   {
    "duration": 190,
    "start_time": "2025-05-10T03:48:02.261Z"
   },
   {
    "duration": 121,
    "start_time": "2025-05-10T03:48:29.083Z"
   },
   {
    "duration": 144,
    "start_time": "2025-05-10T03:52:19.079Z"
   },
   {
    "duration": 77,
    "start_time": "2025-05-10T03:53:07.127Z"
   },
   {
    "duration": 180,
    "start_time": "2025-05-10T03:58:54.661Z"
   },
   {
    "duration": 124,
    "start_time": "2025-05-10T04:11:00.997Z"
   },
   {
    "duration": 118,
    "start_time": "2025-05-10T04:13:16.917Z"
   },
   {
    "duration": 72,
    "start_time": "2025-05-10T04:23:56.907Z"
   },
   {
    "duration": 73,
    "start_time": "2025-05-10T04:24:55.322Z"
   },
   {
    "duration": 600,
    "start_time": "2025-05-11T01:45:05.032Z"
   },
   {
    "duration": 177,
    "start_time": "2025-05-11T01:45:05.635Z"
   },
   {
    "duration": 43,
    "start_time": "2025-05-11T01:45:05.814Z"
   },
   {
    "duration": 7,
    "start_time": "2025-05-11T01:45:05.859Z"
   },
   {
    "duration": 7,
    "start_time": "2025-05-11T01:45:05.868Z"
   },
   {
    "duration": 4,
    "start_time": "2025-05-11T01:45:05.877Z"
   },
   {
    "duration": 10,
    "start_time": "2025-05-11T01:45:05.909Z"
   },
   {
    "duration": 3,
    "start_time": "2025-05-11T01:45:05.921Z"
   },
   {
    "duration": 10,
    "start_time": "2025-05-11T01:45:05.926Z"
   },
   {
    "duration": 6,
    "start_time": "2025-05-11T01:45:05.940Z"
   },
   {
    "duration": 2,
    "start_time": "2025-05-11T01:45:05.948Z"
   },
   {
    "duration": 3,
    "start_time": "2025-05-11T01:45:05.952Z"
   },
   {
    "duration": 53,
    "start_time": "2025-05-11T01:45:05.957Z"
   },
   {
    "duration": 17,
    "start_time": "2025-05-11T01:45:06.011Z"
   },
   {
    "duration": 2,
    "start_time": "2025-05-11T01:45:06.030Z"
   },
   {
    "duration": 75,
    "start_time": "2025-05-11T01:45:06.034Z"
   },
   {
    "duration": 16,
    "start_time": "2025-05-11T01:45:06.111Z"
   },
   {
    "duration": 15,
    "start_time": "2025-05-11T01:45:06.129Z"
   },
   {
    "duration": 3,
    "start_time": "2025-05-11T01:45:06.146Z"
   },
   {
    "duration": 17,
    "start_time": "2025-05-11T01:45:06.150Z"
   },
   {
    "duration": 41,
    "start_time": "2025-05-11T01:45:06.168Z"
   },
   {
    "duration": 23,
    "start_time": "2025-05-11T01:45:06.212Z"
   },
   {
    "duration": 2,
    "start_time": "2025-05-11T01:45:06.237Z"
   },
   {
    "duration": 31,
    "start_time": "2025-05-11T01:45:06.241Z"
   },
   {
    "duration": 37,
    "start_time": "2025-05-11T01:45:06.274Z"
   },
   {
    "duration": 18,
    "start_time": "2025-05-11T01:45:06.313Z"
   },
   {
    "duration": 20,
    "start_time": "2025-05-11T01:45:06.334Z"
   },
   {
    "duration": 12,
    "start_time": "2025-05-11T01:45:06.358Z"
   },
   {
    "duration": 38,
    "start_time": "2025-05-11T01:45:06.371Z"
   },
   {
    "duration": 8,
    "start_time": "2025-05-11T01:45:06.410Z"
   },
   {
    "duration": 13,
    "start_time": "2025-05-11T01:45:06.420Z"
   },
   {
    "duration": 7,
    "start_time": "2025-05-11T01:45:06.434Z"
   },
   {
    "duration": 15,
    "start_time": "2025-05-11T01:45:06.442Z"
   },
   {
    "duration": 55,
    "start_time": "2025-05-11T01:45:06.459Z"
   },
   {
    "duration": 69,
    "start_time": "2025-05-11T01:45:06.516Z"
   },
   {
    "duration": 22,
    "start_time": "2025-05-11T01:45:06.589Z"
   },
   {
    "duration": 2643,
    "start_time": "2025-05-11T01:45:06.613Z"
   },
   {
    "duration": 132,
    "start_time": "2025-05-11T01:45:09.258Z"
   },
   {
    "duration": 4,
    "start_time": "2025-05-11T01:45:09.391Z"
   },
   {
    "duration": 80,
    "start_time": "2025-05-11T01:45:09.408Z"
   },
   {
    "duration": 19,
    "start_time": "2025-05-11T01:45:09.491Z"
   },
   {
    "duration": 203,
    "start_time": "2025-05-11T01:45:09.512Z"
   },
   {
    "duration": 195,
    "start_time": "2025-05-11T01:45:09.717Z"
   },
   {
    "duration": 80,
    "start_time": "2025-05-11T01:45:09.914Z"
   },
   {
    "duration": 20,
    "start_time": "2025-05-11T01:45:09.996Z"
   },
   {
    "duration": 200,
    "start_time": "2025-05-11T01:45:10.018Z"
   },
   {
    "duration": 136,
    "start_time": "2025-05-11T01:45:10.220Z"
   },
   {
    "duration": 84,
    "start_time": "2025-05-11T01:45:10.359Z"
   },
   {
    "duration": 4,
    "start_time": "2025-05-11T01:45:10.445Z"
   },
   {
    "duration": 4,
    "start_time": "2025-05-11T01:45:10.452Z"
   },
   {
    "duration": 4,
    "start_time": "2025-05-11T01:53:57.315Z"
   },
   {
    "duration": 81,
    "start_time": "2025-05-11T01:59:30.673Z"
   },
   {
    "duration": 71,
    "start_time": "2025-05-11T02:00:14.433Z"
   },
   {
    "duration": 522,
    "start_time": "2025-05-11T16:41:24.509Z"
   },
   {
    "duration": 163,
    "start_time": "2025-05-11T16:41:25.033Z"
   },
   {
    "duration": 47,
    "start_time": "2025-05-11T16:41:25.197Z"
   },
   {
    "duration": 8,
    "start_time": "2025-05-11T16:41:25.246Z"
   },
   {
    "duration": 7,
    "start_time": "2025-05-11T16:41:25.256Z"
   },
   {
    "duration": 6,
    "start_time": "2025-05-11T16:41:25.265Z"
   },
   {
    "duration": 7,
    "start_time": "2025-05-11T16:41:25.273Z"
   },
   {
    "duration": 2,
    "start_time": "2025-05-11T16:41:25.282Z"
   },
   {
    "duration": 40,
    "start_time": "2025-05-11T16:41:25.286Z"
   },
   {
    "duration": 5,
    "start_time": "2025-05-11T16:41:25.329Z"
   },
   {
    "duration": 3,
    "start_time": "2025-05-11T16:41:25.335Z"
   },
   {
    "duration": 3,
    "start_time": "2025-05-11T16:41:25.340Z"
   },
   {
    "duration": 14,
    "start_time": "2025-05-11T16:41:25.345Z"
   },
   {
    "duration": 16,
    "start_time": "2025-05-11T16:41:25.360Z"
   },
   {
    "duration": 3,
    "start_time": "2025-05-11T16:41:25.377Z"
   },
   {
    "duration": 83,
    "start_time": "2025-05-11T16:41:25.381Z"
   },
   {
    "duration": 12,
    "start_time": "2025-05-11T16:41:25.466Z"
   },
   {
    "duration": 15,
    "start_time": "2025-05-11T16:41:25.480Z"
   },
   {
    "duration": 23,
    "start_time": "2025-05-11T16:41:25.497Z"
   },
   {
    "duration": 15,
    "start_time": "2025-05-11T16:41:25.522Z"
   },
   {
    "duration": 14,
    "start_time": "2025-05-11T16:41:25.538Z"
   },
   {
    "duration": 21,
    "start_time": "2025-05-11T16:41:25.554Z"
   },
   {
    "duration": 3,
    "start_time": "2025-05-11T16:41:25.576Z"
   },
   {
    "duration": 43,
    "start_time": "2025-05-11T16:41:25.581Z"
   },
   {
    "duration": 6,
    "start_time": "2025-05-11T16:41:25.626Z"
   },
   {
    "duration": 18,
    "start_time": "2025-05-11T16:41:25.633Z"
   },
   {
    "duration": 14,
    "start_time": "2025-05-11T16:41:25.653Z"
   },
   {
    "duration": 11,
    "start_time": "2025-05-11T16:41:25.671Z"
   },
   {
    "duration": 41,
    "start_time": "2025-05-11T16:41:25.684Z"
   },
   {
    "duration": 7,
    "start_time": "2025-05-11T16:41:25.727Z"
   },
   {
    "duration": 13,
    "start_time": "2025-05-11T16:41:25.736Z"
   },
   {
    "duration": 6,
    "start_time": "2025-05-11T16:41:25.750Z"
   },
   {
    "duration": 12,
    "start_time": "2025-05-11T16:41:25.758Z"
   },
   {
    "duration": 48,
    "start_time": "2025-05-11T16:41:25.771Z"
   },
   {
    "duration": 65,
    "start_time": "2025-05-11T16:41:25.820Z"
   },
   {
    "duration": 9,
    "start_time": "2025-05-11T16:41:25.887Z"
   },
   {
    "duration": 2446,
    "start_time": "2025-05-11T16:41:25.897Z"
   },
   {
    "duration": 153,
    "start_time": "2025-05-11T16:41:28.345Z"
   },
   {
    "duration": 4,
    "start_time": "2025-05-11T16:41:28.500Z"
   },
   {
    "duration": 90,
    "start_time": "2025-05-11T16:41:28.505Z"
   },
   {
    "duration": 8,
    "start_time": "2025-05-11T16:41:28.596Z"
   },
   {
    "duration": 191,
    "start_time": "2025-05-11T16:41:28.619Z"
   },
   {
    "duration": 136,
    "start_time": "2025-05-11T16:41:28.812Z"
   },
   {
    "duration": 89,
    "start_time": "2025-05-11T16:41:28.950Z"
   },
   {
    "duration": 9,
    "start_time": "2025-05-11T16:41:29.041Z"
   },
   {
    "duration": 196,
    "start_time": "2025-05-11T16:41:29.052Z"
   },
   {
    "duration": 188,
    "start_time": "2025-05-11T16:41:29.250Z"
   },
   {
    "duration": 85,
    "start_time": "2025-05-11T16:41:29.440Z"
   },
   {
    "duration": 4,
    "start_time": "2025-05-11T16:41:29.526Z"
   },
   {
    "duration": 3,
    "start_time": "2025-05-11T16:41:29.531Z"
   },
   {
    "duration": 2,
    "start_time": "2025-05-11T16:41:29.537Z"
   },
   {
    "duration": 3,
    "start_time": "2025-05-11T16:41:29.540Z"
   },
   {
    "duration": 3,
    "start_time": "2025-05-11T16:41:29.545Z"
   },
   {
    "duration": 383,
    "start_time": "2025-05-11T16:55:59.902Z"
   },
   {
    "duration": 199,
    "start_time": "2025-05-11T16:57:27.922Z"
   },
   {
    "duration": 225,
    "start_time": "2025-05-11T16:58:59.699Z"
   },
   {
    "duration": 80,
    "start_time": "2025-05-11T16:59:23.529Z"
   },
   {
    "duration": 81,
    "start_time": "2025-05-11T17:00:24.230Z"
   },
   {
    "duration": 82,
    "start_time": "2025-05-11T17:00:59.132Z"
   },
   {
    "duration": 5,
    "start_time": "2025-05-11T17:16:33.430Z"
   },
   {
    "duration": 79,
    "start_time": "2025-05-11T17:17:35.858Z"
   },
   {
    "duration": 78,
    "start_time": "2025-05-11T17:18:13.492Z"
   },
   {
    "duration": 75,
    "start_time": "2025-05-11T17:19:00.078Z"
   },
   {
    "duration": 98,
    "start_time": "2025-05-11T17:19:55.138Z"
   },
   {
    "duration": 6,
    "start_time": "2025-05-11T17:49:41.953Z"
   },
   {
    "duration": 18,
    "start_time": "2025-05-11T17:50:30.845Z"
   },
   {
    "duration": 18,
    "start_time": "2025-05-11T17:57:44.897Z"
   },
   {
    "duration": 17,
    "start_time": "2025-05-11T18:00:14.532Z"
   },
   {
    "duration": 18,
    "start_time": "2025-05-11T18:01:04.104Z"
   },
   {
    "duration": 18,
    "start_time": "2025-05-11T18:08:31.231Z"
   },
   {
    "duration": 6,
    "start_time": "2025-05-11T18:09:05.380Z"
   },
   {
    "duration": 509,
    "start_time": "2025-05-11T18:45:25.641Z"
   },
   {
    "duration": 153,
    "start_time": "2025-05-11T18:45:26.152Z"
   },
   {
    "duration": 45,
    "start_time": "2025-05-11T18:45:26.307Z"
   },
   {
    "duration": 8,
    "start_time": "2025-05-11T18:45:26.355Z"
   },
   {
    "duration": 8,
    "start_time": "2025-05-11T18:45:26.364Z"
   },
   {
    "duration": 5,
    "start_time": "2025-05-11T18:45:26.374Z"
   },
   {
    "duration": 8,
    "start_time": "2025-05-11T18:45:26.382Z"
   },
   {
    "duration": 30,
    "start_time": "2025-05-11T18:45:26.391Z"
   },
   {
    "duration": 8,
    "start_time": "2025-05-11T18:45:26.422Z"
   },
   {
    "duration": 4,
    "start_time": "2025-05-11T18:45:26.434Z"
   },
   {
    "duration": 2,
    "start_time": "2025-05-11T18:45:26.440Z"
   },
   {
    "duration": 4,
    "start_time": "2025-05-11T18:45:26.443Z"
   },
   {
    "duration": 15,
    "start_time": "2025-05-11T18:45:26.448Z"
   },
   {
    "duration": 17,
    "start_time": "2025-05-11T18:45:26.465Z"
   },
   {
    "duration": 36,
    "start_time": "2025-05-11T18:45:26.484Z"
   },
   {
    "duration": 50,
    "start_time": "2025-05-11T18:45:26.522Z"
   },
   {
    "duration": 18,
    "start_time": "2025-05-11T18:45:26.574Z"
   },
   {
    "duration": 32,
    "start_time": "2025-05-11T18:45:26.594Z"
   },
   {
    "duration": 2,
    "start_time": "2025-05-11T18:45:26.627Z"
   },
   {
    "duration": 15,
    "start_time": "2025-05-11T18:45:26.631Z"
   },
   {
    "duration": 12,
    "start_time": "2025-05-11T18:45:26.648Z"
   },
   {
    "duration": 25,
    "start_time": "2025-05-11T18:45:26.662Z"
   },
   {
    "duration": 7,
    "start_time": "2025-05-11T18:45:26.689Z"
   },
   {
    "duration": 21,
    "start_time": "2025-05-11T18:45:26.719Z"
   },
   {
    "duration": 6,
    "start_time": "2025-05-11T18:45:26.742Z"
   },
   {
    "duration": 18,
    "start_time": "2025-05-11T18:45:26.750Z"
   },
   {
    "duration": 13,
    "start_time": "2025-05-11T18:45:26.770Z"
   },
   {
    "duration": 40,
    "start_time": "2025-05-11T18:45:26.788Z"
   },
   {
    "duration": 14,
    "start_time": "2025-05-11T18:45:26.830Z"
   },
   {
    "duration": 8,
    "start_time": "2025-05-11T18:45:26.845Z"
   },
   {
    "duration": 13,
    "start_time": "2025-05-11T18:45:26.855Z"
   },
   {
    "duration": 7,
    "start_time": "2025-05-11T18:45:26.869Z"
   },
   {
    "duration": 44,
    "start_time": "2025-05-11T18:45:26.877Z"
   },
   {
    "duration": 17,
    "start_time": "2025-05-11T18:45:26.922Z"
   },
   {
    "duration": 62,
    "start_time": "2025-05-11T18:45:26.940Z"
   },
   {
    "duration": 9,
    "start_time": "2025-05-11T18:45:27.020Z"
   },
   {
    "duration": 695,
    "start_time": "2025-05-11T18:45:27.030Z"
   },
   {
    "duration": 128,
    "start_time": "2025-05-11T18:45:27.727Z"
   },
   {
    "duration": 5,
    "start_time": "2025-05-11T18:45:27.857Z"
   },
   {
    "duration": 139,
    "start_time": "2025-05-11T18:45:27.864Z"
   },
   {
    "duration": 16,
    "start_time": "2025-05-11T18:45:28.005Z"
   },
   {
    "duration": 201,
    "start_time": "2025-05-11T18:45:28.022Z"
   },
   {
    "duration": 130,
    "start_time": "2025-05-11T18:45:28.225Z"
   },
   {
    "duration": 91,
    "start_time": "2025-05-11T18:45:28.357Z"
   },
   {
    "duration": 9,
    "start_time": "2025-05-11T18:45:28.451Z"
   },
   {
    "duration": 207,
    "start_time": "2025-05-11T18:45:28.462Z"
   },
   {
    "duration": 136,
    "start_time": "2025-05-11T18:45:28.671Z"
   },
   {
    "duration": 81,
    "start_time": "2025-05-11T18:45:28.808Z"
   },
   {
    "duration": 209,
    "start_time": "2025-05-11T18:45:28.891Z"
   },
   {
    "duration": 133,
    "start_time": "2025-05-11T18:45:29.102Z"
   },
   {
    "duration": 154,
    "start_time": "2025-05-11T18:45:29.237Z"
   },
   {
    "duration": 6,
    "start_time": "2025-05-11T18:45:29.393Z"
   },
   {
    "duration": 19,
    "start_time": "2025-05-11T18:45:29.401Z"
   },
   {
    "duration": 16,
    "start_time": "2025-05-11T18:52:14.051Z"
   },
   {
    "duration": 13,
    "start_time": "2025-05-11T19:02:33.288Z"
   },
   {
    "duration": 492,
    "start_time": "2025-05-11T19:04:17.862Z"
   },
   {
    "duration": 177,
    "start_time": "2025-05-11T19:04:18.356Z"
   },
   {
    "duration": 45,
    "start_time": "2025-05-11T19:04:18.535Z"
   },
   {
    "duration": 8,
    "start_time": "2025-05-11T19:04:18.582Z"
   },
   {
    "duration": 9,
    "start_time": "2025-05-11T19:04:18.593Z"
   },
   {
    "duration": 22,
    "start_time": "2025-05-11T19:04:18.603Z"
   },
   {
    "duration": 8,
    "start_time": "2025-05-11T19:04:18.627Z"
   },
   {
    "duration": 3,
    "start_time": "2025-05-11T19:04:18.637Z"
   },
   {
    "duration": 9,
    "start_time": "2025-05-11T19:04:18.641Z"
   },
   {
    "duration": 7,
    "start_time": "2025-05-11T19:04:18.652Z"
   },
   {
    "duration": 4,
    "start_time": "2025-05-11T19:04:18.660Z"
   },
   {
    "duration": 3,
    "start_time": "2025-05-11T19:04:18.665Z"
   },
   {
    "duration": 58,
    "start_time": "2025-05-11T19:04:18.670Z"
   },
   {
    "duration": 18,
    "start_time": "2025-05-11T19:04:18.732Z"
   },
   {
    "duration": 3,
    "start_time": "2025-05-11T19:04:18.751Z"
   },
   {
    "duration": 72,
    "start_time": "2025-05-11T19:04:18.756Z"
   },
   {
    "duration": 13,
    "start_time": "2025-05-11T19:04:18.829Z"
   },
   {
    "duration": 16,
    "start_time": "2025-05-11T19:04:18.844Z"
   },
   {
    "duration": 3,
    "start_time": "2025-05-11T19:04:18.861Z"
   },
   {
    "duration": 16,
    "start_time": "2025-05-11T19:04:18.865Z"
   },
   {
    "duration": 42,
    "start_time": "2025-05-11T19:04:18.883Z"
   },
   {
    "duration": 24,
    "start_time": "2025-05-11T19:04:18.927Z"
   },
   {
    "duration": 2,
    "start_time": "2025-05-11T19:04:18.953Z"
   },
   {
    "duration": 21,
    "start_time": "2025-05-11T19:04:18.957Z"
   },
   {
    "duration": 7,
    "start_time": "2025-05-11T19:04:18.980Z"
   },
   {
    "duration": 47,
    "start_time": "2025-05-11T19:04:18.989Z"
   },
   {
    "duration": 16,
    "start_time": "2025-05-11T19:04:19.039Z"
   },
   {
    "duration": 12,
    "start_time": "2025-05-11T19:04:19.057Z"
   },
   {
    "duration": 15,
    "start_time": "2025-05-11T19:04:19.071Z"
   },
   {
    "duration": 37,
    "start_time": "2025-05-11T19:04:19.088Z"
   },
   {
    "duration": 14,
    "start_time": "2025-05-11T19:04:19.127Z"
   },
   {
    "duration": 7,
    "start_time": "2025-05-11T19:04:19.142Z"
   },
   {
    "duration": 12,
    "start_time": "2025-05-11T19:04:19.151Z"
   },
   {
    "duration": 16,
    "start_time": "2025-05-11T19:04:19.165Z"
   },
   {
    "duration": 99,
    "start_time": "2025-05-11T19:04:19.183Z"
   },
   {
    "duration": 10,
    "start_time": "2025-05-11T19:04:19.284Z"
   },
   {
    "duration": 765,
    "start_time": "2025-05-11T19:04:19.296Z"
   },
   {
    "duration": 171,
    "start_time": "2025-05-11T19:04:20.064Z"
   },
   {
    "duration": 5,
    "start_time": "2025-05-11T19:04:20.236Z"
   },
   {
    "duration": 95,
    "start_time": "2025-05-11T19:04:20.243Z"
   },
   {
    "duration": 8,
    "start_time": "2025-05-11T19:04:20.343Z"
   },
   {
    "duration": 202,
    "start_time": "2025-05-11T19:04:20.353Z"
   },
   {
    "duration": 132,
    "start_time": "2025-05-11T19:04:20.557Z"
   },
   {
    "duration": 93,
    "start_time": "2025-05-11T19:04:20.691Z"
   },
   {
    "duration": 8,
    "start_time": "2025-05-11T19:04:20.786Z"
   },
   {
    "duration": 213,
    "start_time": "2025-05-11T19:04:20.796Z"
   },
   {
    "duration": 132,
    "start_time": "2025-05-11T19:04:21.011Z"
   },
   {
    "duration": 92,
    "start_time": "2025-05-11T19:04:21.145Z"
   },
   {
    "duration": 211,
    "start_time": "2025-05-11T19:04:21.239Z"
   },
   {
    "duration": 196,
    "start_time": "2025-05-11T19:04:21.452Z"
   },
   {
    "duration": 93,
    "start_time": "2025-05-11T19:04:21.650Z"
   },
   {
    "duration": 6,
    "start_time": "2025-05-11T19:04:21.744Z"
   },
   {
    "duration": 15,
    "start_time": "2025-05-11T19:04:21.752Z"
   },
   {
    "duration": 3,
    "start_time": "2025-05-11T19:04:21.768Z"
   },
   {
    "duration": 15,
    "start_time": "2025-05-11T19:05:37.892Z"
   },
   {
    "duration": 15,
    "start_time": "2025-05-11T19:06:17.557Z"
   },
   {
    "duration": 4,
    "start_time": "2025-05-11T19:07:18.581Z"
   },
   {
    "duration": 135,
    "start_time": "2025-05-11T19:07:26.513Z"
   },
   {
    "duration": 11,
    "start_time": "2025-05-11T19:08:08.573Z"
   },
   {
    "duration": 14,
    "start_time": "2025-05-11T19:16:05.393Z"
   },
   {
    "duration": 14,
    "start_time": "2025-05-11T19:17:39.467Z"
   },
   {
    "duration": 5,
    "start_time": "2025-05-11T19:18:59.755Z"
   },
   {
    "duration": 15,
    "start_time": "2025-05-11T19:20:45.087Z"
   },
   {
    "duration": 536,
    "start_time": "2025-05-11T19:45:22.986Z"
   },
   {
    "duration": 14,
    "start_time": "2025-05-11T19:46:23.375Z"
   },
   {
    "duration": 7,
    "start_time": "2025-05-11T19:49:50.741Z"
   },
   {
    "duration": 7,
    "start_time": "2025-05-11T19:52:59.034Z"
   },
   {
    "duration": 6,
    "start_time": "2025-05-11T19:53:16.275Z"
   },
   {
    "duration": 7,
    "start_time": "2025-05-11T19:53:27.121Z"
   },
   {
    "duration": 5,
    "start_time": "2025-05-11T19:53:51.342Z"
   }
  ],
  "colab": {
   "provenance": []
  },
  "kernelspec": {
   "display_name": "Python 3 (ipykernel)",
   "language": "python",
   "name": "python3"
  },
  "language_info": {
   "codemirror_mode": {
    "name": "ipython",
    "version": 3
   },
   "file_extension": ".py",
   "mimetype": "text/x-python",
   "name": "python",
   "nbconvert_exporter": "python",
   "pygments_lexer": "ipython3",
   "version": "3.9.22"
  },
  "toc": {
   "base_numbering": 1,
   "nav_menu": {},
   "number_sections": true,
   "sideBar": true,
   "skip_h1_title": false,
   "title_cell": "Table of Contents",
   "title_sidebar": "Contents",
   "toc_cell": false,
   "toc_position": {
    "height": "calc(100% - 180px)",
    "left": "10px",
    "top": "150px",
    "width": "165px"
   },
   "toc_section_display": true,
   "toc_window_display": true
  }
 },
 "nbformat": 4,
 "nbformat_minor": 4
}
