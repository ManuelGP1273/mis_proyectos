{
 "cells": [
  {
   "cell_type": "markdown",
   "id": "2ca80b76",
   "metadata": {},
   "source": [
    "#Como parte del equipo de análisis, lo primero que debes hacer es evaluar la calidad de una muestra de datos recopilados y prepararla para analizarla posteriormente. Después, en la segunda parte de este proyecto en el segundo sprint, desarrollarás más tus habilidades y harás tu primer análisis completo, respondiendo a las necesidades del cliente.\n",
    "#Estos son los datos que el cliente nos proporcionó. Tienen el formato de una lista de Python, con las siguientes columnas de datos:\n",
    "#•\tuser_id: Identificador único para cada usuario.\n",
    "#•\tuser_name: El nombre del usuario.\n",
    "#•\tuser_age: La edad del usuario.\n",
    "#•\tfav_categories: Categorías favoritas de los artículos que compró el usuario, como 'ELECTRONICS', 'SPORT' y 'BOOKS' (ELECTRÓNICOS, DEPORTES y LIBROS), etc.\n",
    "#•\ttotal_spendings: Una lista de números enteros que indican la cantidad total gastada en cada una de las categorías favoritas."
   ]
  },
  {
   "cell_type": "code",
   "execution_count": 1,
   "id": "e153469d",
   "metadata": {},
   "outputs": [],
   "source": [
    "users = [\n",
    "    ['32415', ' mike_reed ', 32.0, ['ELECTRONICS', 'SPORT', 'BOOKS'], [894, 213, 173]],\n",
    "    ['31980', 'kate morgan', 24.0, ['CLOTHES', 'BOOKS'], [439, 390]],\n",
    "    ['32156', ' john doe ', 37.0, ['ELECTRONICS', 'HOME', 'FOOD'], [459, 120, 99]],\n",
    "    ['32761', 'SAMANTHA SMITH', 29.0, ['CLOTHES', 'ELECTRONICS', 'BEAUTY'], [299, 679, 85]],\n",
    "    ['32984', 'David White', 41.0, ['BOOKS', 'HOME', 'SPORT'], [234, 329, 243]],\n",
    "    ['33001', 'emily brown', 26.0, ['BEAUTY', 'HOME', 'FOOD'], [213, 659, 79]],\n",
    "    ['33767', ' Maria Garcia', 33.0, ['CLOTHES', 'FOOD', 'BEAUTY'], [499, 189, 63]],\n",
    "    ['33912', 'JOSE MARTINEZ', 22.0, ['SPORT', 'ELECTRONICS', 'HOME'], [259, 549, 109]],\n",
    "    ['34009', 'lisa wilson ', 35.0, ['HOME', 'BOOKS', 'CLOTHES'], [329, 189, 329]],\n",
    "    ['34278', 'James Lee', 28.0, ['BEAUTY', 'CLOTHES', 'ELECTRONICS'], [189, 299, 579]],\n",
    "]"
   ]
  },
  {
   "cell_type": "markdown",
   "id": "38f23189",
   "metadata": {},
   "source": [
    "### Paso 1"
   ]
  },
  {
   "cell_type": "markdown",
   "id": "2a782366",
   "metadata": {},
   "source": [
    "Store 1 tiene como objetivo garantizar la coherencia en la recopilación de datos. \n",
    "Como parte de esta iniciativa, se debe evaluar la calidad de los datos recopilados sobre los usuarios y las usuarias. \n",
    "Te han pedido que revises los datos recopilados y propongas cambios. \n",
    "A continuación verás datos sobre un usuario o una usuaria en particular; \n",
    "revisa los datos e identifica cualquier posible problema.\n",
    "user_id = '32415'\n",
    "user_name = ' mike_reed '\n",
    "user_age = 32.0\n",
    "fav_categories = ['ELECTRONICS', 'SPORT', 'BOOKS']\n",
    "Escribe tu respuesta y explica tu argumentación: \n",
    "user_name, incorrecta. se identifican espacios de mas en la informacion, es necesario la eliminacion de dichos espacios \n",
    "user_age, incorrecta. el valor se identifica como un flotante y al ser un dato relacionado con la edad se debe convertir en un entero\n",
    "fav_categories, incorrecta, no es necesario utilizar mayusculas, debemos cambiarlas a minusculas"
   ]
  },
  {
   "cell_type": "markdown",
   "id": "8725127b",
   "metadata": {},
   "source": [
    "### Paso 2"
   ]
  },
  {
   "cell_type": "code",
   "execution_count": null,
   "id": "5a974b1f",
   "metadata": {},
   "outputs": [
    {
     "name": "stdout",
     "output_type": "stream",
     "text": [
      "mike reed\n"
     ]
    }
   ],
   "source": [
    "# Vamos a implementar los cambios que identificamos. Primero, necesitamos corregir los problemas de la variable\n",
    "# user_name Como vimos, tiene espacios innecesarios y un guion bajo como separador entre el nombre y el apellido; \n",
    "# tu objetivo es eliminar los espacios y luego reemplazar el guion bajo con el espacio.\n",
    "\n",
    "user_name = ' mike_reed '\n",
    "user_name = user_name.strip()\n",
    "user_name = user_name.replace('_', ' ')\n",
    "\n",
    "print(user_name)\n",
    "\n",
    "# Existe un método, strip(), que puede eliminar espacios al principio y al final de una cadena. \n",
    "# Además, el método replace() se puede usar para reemplazar una parte de una cadena. En este caso, queremos reemplazar\n",
    "# los guiones bajos (_) con espacios."
   ]
  },
  {
   "cell_type": "markdown",
   "id": "0197042c",
   "metadata": {},
   "source": [
    "### Paso 3\n",
    "Luego, debemos dividir el user_name (nombre de usuario o usuaria) actualizado en dos subcadenas para obtener una lista que contenga dos valores: la cadena para el nombre y la cadena para el apellido."
   ]
  },
  {
   "cell_type": "code",
   "execution_count": null,
   "id": "1a6bc06e",
   "metadata": {},
   "outputs": [
    {
     "name": "stdout",
     "output_type": "stream",
     "text": [
      "['mike', 'reed']\n"
     ]
    }
   ],
   "source": [
    "user_name = 'mike reed'\n",
    "name_split = user_name.split(' ')\n",
    "\n",
    "print(name_split)\n",
    "\n",
    "# El método split() se utiliza para dividir una cadena. Por defecto, utiliza un espacio como separador."
   ]
  },
  {
   "cell_type": "markdown",
   "id": "23d342e3",
   "metadata": {},
   "source": [
    "### Paso 4\n",
    "¡Genial! Ahora debemos trabajar con la variable user_age. Como ya mencionamos, esta tiene un tipo de datos incorrecto.\n",
    "Arreglemos este problema transformando el tipo de datos y mostrando el resultado final.\n"
   ]
  },
  {
   "cell_type": "code",
   "execution_count": null,
   "id": "7e642dc2",
   "metadata": {},
   "outputs": [
    {
     "name": "stdout",
     "output_type": "stream",
     "text": [
      "32\n"
     ]
    }
   ],
   "source": [
    "user_age = 32.0\n",
    "user_age = int(user_age)\n",
    "\n",
    "print(user_age)\n",
    "\n",
    "#¿Qué tipo de datos eliminará la parte de coma flotante? int()"
   ]
  },
  {
   "cell_type": "markdown",
   "id": "32bde288",
   "metadata": {},
   "source": [
    "### Paso 5\n",
    "Como sabemos, los datos no siempre son perfectos. Debemos considerar escenarios en los que el valor de user_age no se pueda convertir en un número entero. Para evitar que nuestro sistema se bloquee, debemos tomar medidas con anticipación.\n",
    "Escribe un código que intente convertir la variable user_age en un número entero y asigna el valor transformado a user_age_int. Si el intento falla, mostramos un mensaje pidiendo al usuario o la usuaria que proporcione su edad como un valor numérico con el mensaje: Please provide your age as a numerical value. (Proporcione su edad como un valor numérico.)"
   ]
  },
  {
   "cell_type": "code",
   "execution_count": null,
   "id": "144912d5",
   "metadata": {},
   "outputs": [
    {
     "name": "stdout",
     "output_type": "stream",
     "text": [
      "Please provide your age as a numerical value.\n"
     ]
    }
   ],
   "source": [
    "user_age = 'treinta y dos'\n",
    "\n",
    "try:\n",
    "  print(int.user_age)\n",
    "except:\n",
    "  print('Please provide your age as a numerical value.')\n",
    "\n",
    "#"
   ]
  },
  {
   "cell_type": "markdown",
   "id": "0dc1b441",
   "metadata": {},
   "source": [
    "### Paso 6\n",
    "El equipo de dirección de Store 1 te pidió ayudarles a organizar los datos de sus clientes para analizarlos y gestionarlos mejor.\n",
    "Tu tarea es ordenar esta lista por ID de usuario de forma ascendente para que sea más fácil acceder a ella y analizarla.\n"
   ]
  },
  {
   "cell_type": "code",
   "execution_count": 10,
   "id": "29fb8c5c",
   "metadata": {},
   "outputs": [
    {
     "name": "stdout",
     "output_type": "stream",
     "text": [
      "[['31980', 'kate morgan', 24.0, ['CLOTHES', 'BOOKS'], [439, 390]], ['32156', ' john doe ', 37.0, ['ELECTRONICS', 'HOME', 'FOOD'], [459, 120, 99]], ['32415', ' mike_reed ', 32.0, ['ELECTRONICS', 'SPORT', 'BOOKS'], [894, 213, 173]], ['32761', 'SAMANTHA SMITH', 29.0, ['CLOTHES', 'ELECTRONICS', 'BEAUTY'], [299, 679, 85]], ['32984', 'David White', 41.0, ['BOOKS', 'HOME', 'SPORT'], [234, 329, 243]], ['33001', 'emily brown', 26.0, ['BEAUTY', 'HOME', 'FOOD'], [213, 659, 79]], ['33767', ' Maria Garcia', 33.0, ['CLOTHES', 'FOOD', 'BEAUTY'], [499, 189, 63]], ['33912', 'JOSE MARTINEZ', 22.0, ['SPORT', 'ELECTRONICS', 'HOME'], [259, 549, 109]], ['34009', 'lisa wilson ', 35.0, ['HOME', 'BOOKS', 'CLOTHES'], [329, 189, 329]], ['34278', 'James Lee', 28.0, ['BEAUTY', 'CLOTHES', 'ELECTRONICS'], [189, 299, 579]]]\n"
     ]
    }
   ],
   "source": [
    "users = [\n",
    "    ['32415', ' mike_reed ', 32.0, ['ELECTRONICS', 'SPORT', 'BOOKS'], [894, 213, 173]],\n",
    "    ['31980', 'kate morgan', 24.0, ['CLOTHES', 'BOOKS'], [439, 390]],\n",
    "    ['32156', ' john doe ', 37.0, ['ELECTRONICS', 'HOME', 'FOOD'], [459, 120, 99]],\n",
    "    ['32761', 'SAMANTHA SMITH', 29.0, ['CLOTHES', 'ELECTRONICS', 'BEAUTY'], [299, 679, 85]],\n",
    "    ['32984', 'David White', 41.0, ['BOOKS', 'HOME', 'SPORT'], [234, 329, 243]],\n",
    "    ['33001', 'emily brown', 26.0, ['BEAUTY', 'HOME', 'FOOD'], [213, 659, 79]],\n",
    "    ['33767', ' Maria Garcia', 33.0, ['CLOTHES', 'FOOD', 'BEAUTY'], [499, 189, 63]],\n",
    "    ['33912', 'JOSE MARTINEZ', 22.0, ['SPORT', 'ELECTRONICS', 'HOME'], [259, 549, 109]],\n",
    "    ['34009', 'lisa wilson ', 35.0, ['HOME', 'BOOKS', 'CLOTHES'], [329, 189, 329]],\n",
    "    ['34278', 'James Lee', 28.0, ['BEAUTY', 'CLOTHES', 'ELECTRONICS'], [189, 299, 579]],\n",
    "]\n",
    "\n",
    "users.sort()\n",
    "print(users)"
   ]
  },
  {
   "cell_type": "markdown",
   "id": "e1f3e0d4",
   "metadata": {},
   "source": [
    "### Paso 7\n",
    "Tenemos la información de los hábitos de consumo de nuestros usuarios, incluyendo la cantidad gastada en cada una de sus categorías favoritas. La dirección está interesada en conocer la cantidad total gastada por el usuario.\n"
   ]
  },
  {
   "cell_type": "code",
   "execution_count": null,
   "id": "d4c95e53",
   "metadata": {},
   "outputs": [
    {
     "name": "stdout",
     "output_type": "stream",
     "text": [
      "1280\n"
     ]
    }
   ],
   "source": [
    "# Calculemos este valor y despleguémoslo.\n",
    "fav_categories_low = ['electronics', 'sport', 'books']\n",
    "spendings_per_category = [894, 213, 173]\n",
    "total_amount = spendings_per_category[0] + spendings_per_category[1] + spendings_per_category[2]\n",
    "print(total_amount)\n",
    "\n",
    "# ¿Cuáles son los tres métodos que se pueden aplicar a una lista para calcular sus valores mínimo, máximo y total?\n",
    "# max(), min() y sum()"
   ]
  },
  {
   "cell_type": "markdown",
   "id": "0171ba01",
   "metadata": {},
   "source": [
    "### Paso 8\n",
    "La dirección de la empresa nos pidió pensar en una manera de resumir toda la información de un usuario. Tu objetivo es crear una cadena formateada que utilice información de las variables user_id, user_name y user_age.\n",
    "Esta es la cadena final que queremos crear: User 32415 is mike who is 32 years old. (El usuario 32415 es Mike, quien tiene 32 años).\n"
   ]
  },
  {
   "cell_type": "code",
   "execution_count": null,
   "id": "9d2e99cb",
   "metadata": {},
   "outputs": [
    {
     "name": "stdout",
     "output_type": "stream",
     "text": [
      "User 32415 is mike is 32 years old.\n"
     ]
    }
   ],
   "source": [
    "user_id = '32415'\n",
    "user_name = ['mike', 'reed']\n",
    "user_age = 32\n",
    "\n",
    "user_info = \"User {} is {} is {} years old.\".format(user_id, user_name[0], user_age)\n",
    "print(user_info)\n",
    "\n",
    "# Para crear una cadena, puedes utilizar el método format() o f-string. \n",
    "# Para extraer el nombre de la lista user_name, puedes utilizar la segmentación."
   ]
  },
  {
   "cell_type": "markdown",
   "id": "0d16d314",
   "metadata": {},
   "source": [
    "### Paso 9\n",
    "La dirección también quiere una forma fácil de conocer la cantidad de clientes con cuyos datos contamos. Tu objetivo es crear una cadena formateada que muestre la cantidad de datos de clientes registrados.\n"
   ]
  },
  {
   "cell_type": "code",
   "execution_count": null,
   "id": "1889b15f",
   "metadata": {},
   "outputs": [
    {
     "name": "stdout",
     "output_type": "stream",
     "text": [
      "We have registered data on 10 clients.\n"
     ]
    }
   ],
   "source": [
    "#Esta es la cadena final que queremos crear: Hemos registrado datos de X clientes.\n",
    "\n",
    "users = [\n",
    "    ['32415', ' mike_reed ', 32.0, ['ELECTRONICS', 'SPORT', 'BOOKS'], [894, 213, 173]],\n",
    "    ['31980', 'kate morgan', 24.0, ['CLOTHES', 'BOOKS'], [439, 390]],\n",
    "    ['32156', ' john doe ', 37.0, ['ELECTRONICS', 'HOME', 'FOOD'], [459, 120, 99]],\n",
    "    ['32761', 'SAMANTHA SMITH', 29.0, ['CLOTHES', 'ELECTRONICS', 'BEAUTY'], [299, 679, 85]],\n",
    "    ['32984', 'David White', 41.0, ['BOOKS', 'HOME', 'SPORT'], [234, 329, 243]],\n",
    "    ['33001', 'emily brown', 26.0, ['BEAUTY', 'HOME', 'FOOD'], [213, 659, 79]],\n",
    "    ['33767', ' Maria Garcia', 33.0, ['CLOTHES', 'FOOD', 'BEAUTY'], [499, 189, 63]],\n",
    "    ['33912', 'JOSE MARTINEZ', 22.0, ['SPORT', 'ELECTRONICS', 'HOME'], [259, 549, 109]],\n",
    "    ['34009', 'lisa wilson ', 35.0, ['HOME', 'BOOKS', 'CLOTHES'], [329, 189, 329]],\n",
    "    ['34278', 'James Lee', 28.0, ['BEAUTY', 'CLOTHES', 'ELECTRONICS'], [189, 299, 579]],\n",
    "]\n",
    "\n",
    "user_info = 'We have registered data on {} clients.'.format(len(users))\n",
    "print(user_info)\n",
    "\n",
    "# Para crear una cadena, puedes utilizar el método format() o f-string. Para extraer la cantidad de clientes en la\n",
    "# lista, puedes utilizar la función que devuelve la longitud de la lista len()."
   ]
  },
  {
   "cell_type": "markdown",
   "id": "5b042491",
   "metadata": {},
   "source": [
    "### Paso 10\n",
    "Apliquemos ahora todos los cambios a la lista de clientes. Para simplificar las cosas, te proporcionaremos una más corta. Debes:\n",
    "1.\tEliminar todos los espacios iniciales y finales de los nombres, así como cualquier guion bajo.\n",
    "2.\tConvertir todas las edades en números enteros.\n",
    "3.\tSeparar todos los nombres y apellidos en una sublista.\n",
    "Guarda la lista modificada como una nueva lista llamada users_clean y muéstrala en la pantalla.\n"
   ]
  },
  {
   "cell_type": "code",
   "execution_count": null,
   "id": "f4ff8edb",
   "metadata": {},
   "outputs": [
    {
     "name": "stdout",
     "output_type": "stream",
     "text": [
      "['32415', ['mike', 'reed'], 32, ['ELECTRONICS', 'SPORT', 'BOOKS'], [894, 213, 173], '31980', ['kate', 'morgan'], 24, ['CLOTHES', 'BOOKS'], [439, 390], '32156', ['john', 'doe'], 37, ['ELECTRONICS', 'HOME', 'FOOD'], [459, 120, 99]]\n"
     ]
    }
   ],
   "source": [
    "users = [\n",
    "    ['32415', ' mike_reed ', 32.0, ['ELECTRONICS', 'SPORT', 'BOOKS'], [894, 213, 173]],\n",
    "    ['31980', 'kate morgan', 24.0, ['CLOTHES', 'BOOKS'], [439, 390]],\n",
    "    ['32156', ' john doe ', 37.0, ['ELECTRONICS', 'HOME', 'FOOD'], [459, 120, 99]],\n",
    "]\n",
    "\n",
    "users_clean = []\n",
    "\n",
    "\n",
    "# Procesa al primer usuario\n",
    "user_name_1 = users[0][1].strip()\n",
    "user_name_1 = users[0][1].replace('_', ' ')\n",
    "user_age_1 = int(users[0][2])\n",
    "user_name_1 = user_name_1.split()\n",
    "users_clean.append(users[0][0])\n",
    "users_clean.append(user_name_1)\n",
    "users_clean.append(user_age_1)\n",
    "users_clean.append(users[0][3])\n",
    "users_clean.append(users[0][4])\n",
    "\n",
    "# Procesa al segundo usuario\n",
    "user_name_2 = users[1][1].strip()\n",
    "user_age_2 = int(users[1][2])\n",
    "user_name_2 = users[1][1].split()\n",
    "users_clean.append(users[1][0])\n",
    "users_clean.append(user_name_2)\n",
    "users_clean.append(user_age_2)\n",
    "users_clean.append(users[1][3])\n",
    "users_clean.append(users[1][4])\n",
    "\n",
    "# Procesa al tercer usuario\n",
    "user_name_3 = users[2][1].strip()\n",
    "user_age_3 = int(users[2][2])\n",
    "user_name_3 = users[2][1].split()\n",
    "users_clean.append(users[2][0])\n",
    "users_clean.append(user_name_3)\n",
    "users_clean.append(user_age_3)\n",
    "users_clean.append(users[2][3])\n",
    "users_clean.append(users[2][4])\n",
    "\n",
    "print(users_clean)"
   ]
  },
  {
   "cell_type": "code",
   "execution_count": null,
   "id": "7bfdf1a3",
   "metadata": {},
   "outputs": [],
   "source": []
  }
 ],
 "metadata": {
  "kernelspec": {
   "display_name": "Python 3",
   "language": "python",
   "name": "python3"
  },
  "language_info": {
   "codemirror_mode": {
    "name": "ipython",
    "version": 3
   },
   "file_extension": ".py",
   "mimetype": "text/x-python",
   "name": "python",
   "nbconvert_exporter": "python",
   "pygments_lexer": "ipython3",
   "version": "3.11.9"
  }
 },
 "nbformat": 4,
 "nbformat_minor": 5
}
